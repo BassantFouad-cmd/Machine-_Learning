{
 "cells": [
  {
   "cell_type": "code",
   "execution_count": 9,
   "id": "c1eeea40-31d2-4f77-8a19-0b974ebea5c2",
   "metadata": {},
   "outputs": [
    {
     "name": "stdin",
     "output_type": "stream",
     "text": [
      "Please enter today's date:  sunday\n"
     ]
    },
    {
     "name": "stdout",
     "output_type": "stream",
     "text": [
      "[]\n"
     ]
    }
   ],
   "source": [
    "weekdays = [\"sunday\", \"monday\", \"tuesday\", \"wednesday\", \"thursday\", \"friday\", \"saturday\"]\n",
    "\n",
    "\n",
    "def get_the_following_five_days(today):\n",
    "    the_following_five_days = []\n",
    "    if today in weekdays:\n",
    "        today_index = weekdays.index(today)  \n",
    "        the_following_five_days = weekdays.remove(weekdays.index(today) , weekdays.index(today -1))\n",
    "        \n",
    "    else:\n",
    "        return \"Invalid input, please enter a valid weekday.\"\n",
    "\n",
    "today = input(\"Please enter today's date: \").lower()\n",
    "print(the_following_five_days)"
   ]
  },
  {
   "cell_type": "code",
   "execution_count": 13,
   "id": "61d3e949-0b78-45f9-b48b-e3542d615ae4",
   "metadata": {},
   "outputs": [
    {
     "name": "stdin",
     "output_type": "stream",
     "text": [
      "Please enter today's date:  monday\n"
     ]
    },
    {
     "name": "stdout",
     "output_type": "stream",
     "text": [
      "['tuesday', 'wednesday', 'thursday', 'friday', 'saturday']\n"
     ]
    }
   ],
   "source": [
    "\n",
    "weekdays = [\"sunday\", \"monday\", \"tuesday\", \"wednesday\", \"thursday\", \"friday\", \"saturday\"]\n",
    "\n",
    "def get_the_following_five_days(today):\n",
    "    # List to store the following five days\n",
    "    following_days = []\n",
    "    \n",
    "    if today in weekdays:\n",
    "        today_index = weekdays.index(today)\n",
    "        for i in range(1, 6):\n",
    "            following_days.append(weekdays[(today_index + i) % len(weekdays)])\n",
    "        \n",
    "        return following_days\n",
    "    else:\n",
    "        return \"Invalid input, please enter a valid weekday.\"\n",
    "\n",
    "today = input(\"Please enter today's date: \").lower()\n",
    "result = get_the_following_five_days(today)\n",
    "print(result)"
   ]
  },
  {
   "cell_type": "code",
   "execution_count": 21,
   "id": "d78fa767-ea85-44b3-9784-cd5d916240f2",
   "metadata": {},
   "outputs": [
    {
     "name": "stdout",
     "output_type": "stream",
     "text": [
      "[7, 9, 8, 5, 1]\n"
     ]
    }
   ],
   "source": [
    "## <p style=\"color:green;\">Q.01 Write a Python program to select a random element from a list. Use random.choice()</p>\n",
    "\n",
    "listed = [1, 7, 8, 5, 9]\n",
    "\n",
    "import random \n",
    "random.shuffle(listed)\n",
    "print(listed)"
   ]
  },
  {
   "cell_type": "code",
   "execution_count": 27,
   "id": "0c106083-8ea1-453f-8341-fabd0b29e4fc",
   "metadata": {},
   "outputs": [
    {
     "name": "stdin",
     "output_type": "stream",
     "text": [
      "Please enter today's date:  414\n"
     ]
    },
    {
     "ename": "NameError",
     "evalue": "name 'the_Three_days' is not defined",
     "output_type": "error",
     "traceback": [
      "\u001b[1;31m---------------------------------------------------------------------------\u001b[0m",
      "\u001b[1;31mNameError\u001b[0m                                 Traceback (most recent call last)",
      "Cell \u001b[1;32mIn[27], line 17\u001b[0m\n\u001b[0;32m     14\u001b[0m         \u001b[38;5;28;01mreturn\u001b[39;00m \u001b[38;5;124m\"\u001b[39m\u001b[38;5;124mInvalid input, please enter a valid weekday.\u001b[39m\u001b[38;5;124m\"\u001b[39m\n\u001b[0;32m     16\u001b[0m today \u001b[38;5;241m=\u001b[39m \u001b[38;5;28minput\u001b[39m(\u001b[38;5;124m\"\u001b[39m\u001b[38;5;124mPlease enter today\u001b[39m\u001b[38;5;124m'\u001b[39m\u001b[38;5;124ms date: \u001b[39m\u001b[38;5;124m\"\u001b[39m)\u001b[38;5;241m.\u001b[39mlower()\n\u001b[1;32m---> 17\u001b[0m result \u001b[38;5;241m=\u001b[39m \u001b[43mthe_Three_days\u001b[49m(today)\n\u001b[0;32m     18\u001b[0m \u001b[38;5;28mprint\u001b[39m(result)\n",
      "\u001b[1;31mNameError\u001b[0m: name 'the_Three_days' is not defined"
     ]
    }
   ],
   "source": [
    "weekdays = [\"sunday\", \"monday\", \"tuesday\", \"wednesday\", \"thursday\", \"friday\", \"saturday\"]\n",
    "\n",
    "\n",
    "def Three_days_in_row (today):\n",
    "    the_Three_days =[]\n",
    "\n",
    "    \n",
    "    if today in weekdays:\n",
    "        today_index=weekdays.index(today)\n",
    "        for i in range (0,6):\n",
    "            the_Three_days =  the_Three_day.append(weekdays[today_index] ,weekdays[today_index -1] ,weekdays[today_index +1])\n",
    "        return the_Three_days\n",
    "    else:\n",
    "        return \"Invalid input, please enter a valid weekday.\"\n",
    "        \n",
    "today = input(\"Please enter today's date: \").lower()\n",
    "result = the_Three_days(today)\n",
    "print(result)"
   ]
  },
  {
   "cell_type": "code",
   "execution_count": 28,
   "id": "afd2b0a4-8240-48eb-9c19-43e3cef29361",
   "metadata": {},
   "outputs": [
    {
     "name": "stdin",
     "output_type": "stream",
     "text": [
      "Please enter today's date:  monday\n"
     ]
    },
    {
     "name": "stdout",
     "output_type": "stream",
     "text": [
      "['monday', 'tuesday', 'sunday']\n"
     ]
    }
   ],
   "source": [
    "weekdays = [\"sunday\", \"monday\", \"tuesday\", \"wednesday\", \"thursday\", \"friday\", \"saturday\"]\n",
    "\n",
    "def Three_days_in_row(today):\n",
    "    the_Three_days = []\n",
    "    \n",
    "    if today in weekdays:\n",
    "        today_index = weekdays.index(today)\n",
    "        \n",
    "        the_Three_days.append(weekdays[(today_index - 1) % len(weekdays)])  \n",
    "        the_Three_days.append(weekdays[today_index])  # Today\n",
    "        the_Three_days.append(weekdays[(today_index + 1) % len(weekdays)]) \n",
    "        \n",
    "        \n",
    "        return the_Three_days\n",
    "    else:\n",
    "        return \"Invalid input, please enter a valid weekday.\"\n",
    "        \n",
    "today = input(\"Please enter today's date: \").lower()\n",
    "\n",
    "result = Three_days_in_row(today)\n",
    "print(result)"
   ]
  },
  {
   "cell_type": "code",
   "execution_count": 29,
   "id": "113ccfdf-7ec0-421f-9694-8f9ba8ee9867",
   "metadata": {},
   "outputs": [
    {
     "name": "stdin",
     "output_type": "stream",
     "text": [
      "Please enter today's date:  monday\n"
     ]
    },
    {
     "name": "stdout",
     "output_type": "stream",
     "text": [
      "['tuesday', 'tuesday', 'tuesday', 'tuesday', 'tuesday']\n"
     ]
    }
   ],
   "source": [
    "weekdays = [\"sunday\", \"monday\", \"tuesday\", \"wednesday\", \"thursday\", \"friday\", \"saturday\"]\n",
    "\n",
    "def get_the_following_five_days(today):\n",
    "    # List to store the following five days\n",
    "    following_days = []\n",
    "    \n",
    "    if today in weekdays:\n",
    "        today_index = weekdays.index(today)\n",
    "        for i in range(1, 6):\n",
    "            following_days.append(weekdays[(today_index + i) % len(weekdays)])\n",
    "        \n",
    "        return following_days\n",
    "    else:\n",
    "        return \"Invalid input, please enter a valid weekday.\"\n",
    "\n",
    "today = input(\"Please enter today's date: \").lower()\n",
    "result = get_the_following_five_days(today)\n",
    "print(result)"
   ]
  },
  {
   "cell_type": "code",
   "execution_count": 35,
   "id": "49efde75-5035-4ccf-a0ec-1bc00157b9d0",
   "metadata": {},
   "outputs": [
    {
     "name": "stdin",
     "output_type": "stream",
     "text": [
      "Please enter the current time in 24 Format splitting it by . for example 12.45 13.15\n"
     ]
    },
    {
     "name": "stdout",
     "output_type": "stream",
     "text": [
      "47340000.0\n"
     ]
    }
   ],
   "source": [
    "\n",
    "def current_time_in_milliseconds (Hours):\n",
    "    current_time_in_milliseconds = (Hours *3600000)\n",
    "    return  current_time_in_milliseconds\n",
    "\n",
    "Hours = float(input(\"Please enter the current time in 24 Format splitting it by . for example 12.45\"))\n",
    "result = current_time_in_milliseconds( Hours)\n",
    "print(result)"
   ]
  },
  {
   "cell_type": "code",
   "execution_count": 34,
   "id": "9000d38c-c2e5-43cb-92e5-47685348766f",
   "metadata": {},
   "outputs": [
    {
     "name": "stdin",
     "output_type": "stream",
     "text": [
      "Please enter the current time in 24-hour format, splitting hours and minutes by a decimal (e.g., 12.45):  14.20\n"
     ]
    },
    {
     "name": "stdout",
     "output_type": "stream",
     "text": [
      "The current time in milliseconds is: 51599999.99999999\n"
     ]
    }
   ],
   "source": [
    "def current_time_in_milliseconds(hours):\n",
    "    # Extract hours and minutes\n",
    "    whole_hours = int(hours)  # Get the whole number part (hours)\n",
    "    minutes = (hours - whole_hours) * 100  # Get the fractional part (minutes)\n",
    "    \n",
    "    # Convert the time into milliseconds\n",
    "    milliseconds = (whole_hours * 3600000) + (minutes * 60000)\n",
    "    \n",
    "    return milliseconds\n",
    "\n",
    "# Get user input (hours in 24-hour format)\n",
    "hours = float(input(\"Please enter the current time in 24-hour format, splitting hours and minutes by a decimal (e.g., 12.45): \"))\n",
    "\n",
    "result = current_time_in_milliseconds(hours)\n",
    "print(f\"The current time in milliseconds is: {result}\")"
   ]
  },
  {
   "cell_type": "code",
   "execution_count": null,
   "id": "64c583d5-d095-478f-9d12-877e86289b4d",
   "metadata": {},
   "outputs": [],
   "source": [
    "import os\n",
    "\n",
    "current_directory = os.getcwd()\n",
    "\n",
    "print(\"Current Working Directory:\", current_directory)"
   ]
  },
  {
   "cell_type": "code",
   "execution_count": null,
   "id": "b2dbe1ae-d156-48ac-80de-08fa18046b51",
   "metadata": {},
   "outputs": [],
   "source": [
    "## <p style=\"color:green;\">Q.01 Write a function takes a two-word string and returns True if both words begin with same letter</p>\n",
    "> ('Levelheaded Llama') → True\n",
    "\n",
    "> ('Crazy Kangaroo') → False"
   ]
  },
  {
   "cell_type": "code",
   "execution_count": 50,
   "id": "24ac4678-57b3-4313-b75f-4c9b0a20383c",
   "metadata": {},
   "outputs": [
    {
     "name": "stdin",
     "output_type": "stream",
     "text": [
      "Please entre a two word string Seperated by space passant fouad\n"
     ]
    },
    {
     "name": "stdout",
     "output_type": "stream",
     "text": [
      "false\n"
     ]
    }
   ],
   "source": [
    "old_word_string = input(\"Please entre a two word string Seperated by space\")\n",
    "seperation = old_word_string.split()\n",
    "\n",
    "for i in range(0,1):\n",
    "    if seperation[i][0].lower() == seperation[i+1][0].lower():\n",
    "        print(\"True\")\n",
    "    else:\n",
    "        print(\"false\")\n",
    "\n"
   ]
  },
  {
   "cell_type": "code",
   "execution_count": 79,
   "id": "1bd30343-bf79-48c9-8e09-7c897941beed",
   "metadata": {},
   "outputs": [
    {
     "name": "stdin",
     "output_type": "stream",
     "text": [
      "enter number1 5\n",
      "enter number2 2\n"
     ]
    },
    {
     "name": "stdout",
     "output_type": "stream",
     "text": [
      "5\n"
     ]
    }
   ],
   "source": [
    "number1= int(input(\"enter number1\"))\n",
    "number2 =int(input(\"enter number2\"))\n",
    "    \n",
    "if number1 % 2 == 0 and number2 % 2 == 0:\n",
    "    result = min ([number1 ,number2])\n",
    "elif number1 % 2 == 1 or number2 % 2 == 1:\n",
    "    result = max ([number1 ,number2])\n",
    "print(result)\n"
   ]
  },
  {
   "cell_type": "code",
   "execution_count": 72,
   "id": "ca0a4192-e55b-4912-98a8-bbe2e1e47fe9",
   "metadata": {},
   "outputs": [
    {
     "data": {
      "text/plain": [
       "4"
      ]
     },
     "execution_count": 72,
     "metadata": {},
     "output_type": "execute_result"
    }
   ],
   "source": [
    "number1 = 2\n",
    "number2 = 4\n",
    "result = max ([number1 ,number2])\n",
    "result"
   ]
  },
  {
   "cell_type": "code",
   "execution_count": 73,
   "id": "d00440f2-a8c3-45de-b69e-72da96db162d",
   "metadata": {},
   "outputs": [
    {
     "data": {
      "text/plain": [
       "4"
      ]
     },
     "execution_count": 73,
     "metadata": {},
     "output_type": "execute_result"
    }
   ],
   "source": [
    "number1 = 5\n",
    "number2 = 4\n",
    "result = min ([number1 ,number2])\n",
    "result"
   ]
  },
  {
   "cell_type": "code",
   "execution_count": 86,
   "id": "67c5bca1-6875-4727-9811-20ffc9032a8d",
   "metadata": {},
   "outputs": [
    {
     "data": {
      "text/plain": [
       "'AhmEd'"
      ]
     },
     "execution_count": 86,
     "metadata": {},
     "output_type": "execute_result"
    }
   ],
   "source": [
    "name = (\"ahmed\")\n",
    "New_Name = name[0].capitalize() + name[1:3:] + name[3].capitalize()+ name [4: ]\n",
    "New_Name"
   ]
  },
  {
   "cell_type": "code",
   "execution_count": 97,
   "id": "d1d22fdc-fbfe-4b20-a858-cee931b808be",
   "metadata": {},
   "outputs": [
    {
     "data": {
      "text/plain": [
       "'home am i'"
      ]
     },
     "execution_count": 97,
     "metadata": {},
     "output_type": "execute_result"
    }
   ],
   "source": [
    "Sentence = (\"i am home\")\n",
    "Words= Sentence.split()\n",
    "\n",
    "reserved_Sentence_List = Words[ : :-1]\n",
    "reserved_Sentence_in_one_sentence = \" \".join(reserved_Sentence_List)\n",
    "\n",
    "reserved_Sentence_in_one_sentence"
   ]
  },
  {
   "cell_type": "code",
   "execution_count": 14,
   "id": "b1e27940-4bca-474c-bacb-3d005b20a853",
   "metadata": {},
   "outputs": [],
   "source": [
    "\n",
    "def has_3_in_array(numbers):\n",
    "    for i in range(len(numbers)):\n",
    "       if numbers[i] and numbers[i+1] == 3 :\n",
    "           return True \n",
    "       else:\n",
    "           return False\n",
    "        \n",
    "        "
   ]
  },
  {
   "cell_type": "code",
   "execution_count": 16,
   "id": "7a777a18-7a46-4e43-81ad-79038b8ee6a5",
   "metadata": {},
   "outputs": [
    {
     "data": {
      "text/plain": [
       "False"
      ]
     },
     "execution_count": 16,
     "metadata": {},
     "output_type": "execute_result"
    }
   ],
   "source": [
    "numbers = [1,5,3]\n",
    "has_3_in_array(numbers)"
   ]
  },
  {
   "cell_type": "markdown",
   "id": "0348fb1b-e5d9-4211-aec6-88b2d7ecd6ad",
   "metadata": {},
   "source": [
    "###### "
   ]
  },
  {
   "cell_type": "code",
   "execution_count": 31,
   "id": "288c01ea-cf6b-42e9-a01c-6c7a620edf57",
   "metadata": {},
   "outputs": [
    {
     "name": "stdin",
     "output_type": "stream",
     "text": [
      "Please entre Number1 between 1 and 11 9\n",
      "Please entre Number2  between 1 and 11 9\n",
      "Please entre Number3  between 1 and 11 11\n"
     ]
    },
    {
     "name": "stdout",
     "output_type": "stream",
     "text": [
      "21\n"
     ]
    }
   ],
   "source": [
    "\n",
    "##blackjack(5,6,7) → 18\n",
    "\n",
    "##blackjack(9,9,9) → 'BUST'\n",
    "\n",
    "##blackjack(9,9,11) → 19\n",
    "\n",
    "Number1= int(input(\"Please entre Number1 between 1 and 11\"))\n",
    "Number2=int(input(\"Please entre Number2  between 1 and 11\"))\n",
    "Number2=int(input(\"Please entre Number3  between 1 and 11\"))\n",
    "result = []\n",
    "\n",
    "List_of_numbers =[Number1,Number2,Number2]\n",
    "\n",
    "if sum(List_of_numbers) <= 21 :\n",
    "    result = sum(List_of_numbers)\n",
    "\n",
    "elif sum(List_of_numbers) > 21  and set(List_of_numbers).intersection({11}) == {11}:\n",
    "    result = sum(List_of_numbers) -10\n",
    "\n",
    "elif  sum(List_of_numbers) > 21:\n",
    "    result = [\"BUST\"]\n",
    "\n",
    "\n",
    "print (result)"
   ]
  },
  {
   "cell_type": "code",
   "execution_count": 12,
   "id": "1cb4d374-707e-4384-9ad2-e780c23d0a8e",
   "metadata": {},
   "outputs": [
    {
     "name": "stdin",
     "output_type": "stream",
     "text": [
      "Please entre list of numbers 1 ,2, 3\n"
     ]
    },
    {
     "ename": "ValueError",
     "evalue": "invalid literal for int() with base 10: ' '",
     "output_type": "error",
     "traceback": [
      "\u001b[1;31m---------------------------------------------------------------------------\u001b[0m",
      "\u001b[1;31mValueError\u001b[0m                                Traceback (most recent call last)",
      "Cell \u001b[1;32mIn[12], line 11\u001b[0m\n\u001b[0;32m      8\u001b[0m Numbers \u001b[38;5;241m=\u001b[39m \u001b[38;5;28mlist\u001b[39m(\u001b[38;5;28minput\u001b[39m(\u001b[38;5;124m\"\u001b[39m\u001b[38;5;124mPlease entre list of numbers\u001b[39m\u001b[38;5;124m\"\u001b[39m))\n\u001b[0;32m     10\u001b[0m \u001b[38;5;28;01mfor\u001b[39;00m i \u001b[38;5;129;01min\u001b[39;00m \u001b[38;5;28mrange\u001b[39m(\u001b[38;5;28mlen\u001b[39m(Numbers)):\n\u001b[1;32m---> 11\u001b[0m     Numbers[i] \u001b[38;5;241m=\u001b[39m \u001b[38;5;28;43mint\u001b[39;49m\u001b[43m(\u001b[49m\u001b[43mNumbers\u001b[49m\u001b[43m[\u001b[49m\u001b[43mi\u001b[49m\u001b[43m]\u001b[49m\u001b[43m)\u001b[49m\n\u001b[0;32m     13\u001b[0m     \u001b[38;5;28;01mif\u001b[39;00m \u001b[38;5;28mint\u001b[39m(Numbers[i]) \u001b[38;5;241m==\u001b[39m \u001b[38;5;241m6\u001b[39m:\n\u001b[0;32m     14\u001b[0m         \u001b[38;5;28;01mbreak\u001b[39;00m\n",
      "\u001b[1;31mValueError\u001b[0m: invalid literal for int() with base 10: ' '"
     ]
    }
   ],
   "source": [
    "## <p style=\"color:red;\">Q.07 SUMMER OF '69: Return the sum of the numbers in the array, except ignore sections of numbers starting with a 6 and extending to the next 9 (every 6 will be followed by at least one 9). Return 0 for no numbers.</p>\n",
    "##summer_69([1, 3, 5]) → 9\n",
    "\n",
    "##summer_69([4, 5, 6, 7, 8, 9]) → 9\n",
    "\n",
    "##summer_69([2, 1, 6, 9, 11]) → 14\n",
    "\n",
    "\n",
    "\n",
    "Counter = 0\n",
    "while True:\n",
    "    Number = int(input(\"Please entre a number\"))\n",
    "    Counter= Counter+1\n",
    "    if Counter == 10:\n",
    "        break \n",
    "\n",
    "Numbers_List = list(Numbers)\n",
    "for i in range(len(Numbers)):\n",
    "    Numbers[i] = int(Numbers[i])\n",
    "    \n",
    "    if int(Numbers[i]) == 6:\n",
    "        break\n",
    "    elif int(Numbers[i]) == 9:\n",
    "        continue \n",
    "\n",
    "sum(Numbers_List)"
   ]
  },
  {
   "cell_type": "code",
   "execution_count": 15,
   "id": "4f34f848-441c-417e-a2e1-093521829603",
   "metadata": {},
   "outputs": [
    {
     "name": "stdin",
     "output_type": "stream",
     "text": [
      "Please entre a number 1\n",
      "Please entre a number 2\n",
      "Please entre a number 3\n",
      "Please entre a number 4\n",
      "Please entre a number 5\n",
      "Please entre a number 6\n",
      "Please entre a number 7\n",
      "Please entre a number 8\n",
      "Please entre a number 9\n",
      "Please entre a number 10\n"
     ]
    },
    {
     "ename": "TypeError",
     "evalue": "'int' object is not iterable",
     "output_type": "error",
     "traceback": [
      "\u001b[1;31m---------------------------------------------------------------------------\u001b[0m",
      "\u001b[1;31mTypeError\u001b[0m                                 Traceback (most recent call last)",
      "Cell \u001b[1;32mIn[15], line 8\u001b[0m\n\u001b[0;32m      5\u001b[0m     \u001b[38;5;28;01mif\u001b[39;00m Counter \u001b[38;5;241m==\u001b[39m \u001b[38;5;241m10\u001b[39m:\n\u001b[0;32m      6\u001b[0m         \u001b[38;5;28;01mbreak\u001b[39;00m \n\u001b[1;32m----> 8\u001b[0m Numbers_List \u001b[38;5;241m=\u001b[39m \u001b[38;5;28;43mlist\u001b[39;49m\u001b[43m(\u001b[49m\u001b[43mNumber\u001b[49m\u001b[43m)\u001b[49m\n\u001b[0;32m      9\u001b[0m \u001b[38;5;28mprint\u001b[39m(Numbers_List)\n",
      "\u001b[1;31mTypeError\u001b[0m: 'int' object is not iterable"
     ]
    }
   ],
   "source": [
    "Counter = 0\n",
    "while True:\n",
    "    Number = int(input(\"Please entre a number\"))\n",
    "    Counter= Counter+1\n",
    "    if Counter == 10:\n",
    "        break \n",
    "\n",
    "Numbers_List = list(Number)\n",
    "print(Numbers_List)"
   ]
  },
  {
   "cell_type": "code",
   "execution_count": 19,
   "id": "bd58f8fc-818c-460f-9811-32cd5962f143",
   "metadata": {},
   "outputs": [
    {
     "name": "stdout",
     "output_type": "stream",
     "text": [
      "-24\n"
     ]
    }
   ],
   "source": [
    "Listed = [1, 2, 3, -4]\n",
    "multiply = 1\n",
    "\n",
    "for i in range(len(Listed)):\n",
    "    multiply = multiply * Listed[i]\n",
    "\n",
    "\n",
    "print(multiply)"
   ]
  },
  {
   "cell_type": "code",
   "execution_count": 25,
   "id": "f0603d04-2c2c-4f5d-8223-d51fd07e7fab",
   "metadata": {},
   "outputs": [],
   "source": [
    "Names = [ \"asser\",\"passant\",\"ahmed\",\"malek\"]\n",
    "ages=[ 5,4,15,12]\n",
    "grades= [ \"Q\" , \"D\", \"M\",\"P\"]\n",
    "\n",
    "with open(\"data_listed.csv\", mode = \"w\" , encoding = \"utf-8\") as fd:\n",
    "    fd.write(\"Names,Age,Grades\\n\")\n",
    "    \n",
    "    for i in range(len(Names)):\n",
    "        fd.write(f\"{Names[i]},{ages[i]},{grades[i]}\\n\")                 \n",
    "    "
   ]
  },
  {
   "cell_type": "code",
   "execution_count": 22,
   "id": "1bf49f31-7bd5-4422-8992-095b5660517e",
   "metadata": {},
   "outputs": [],
   "source": [
    "\n",
    "def Append_new_number(numbers , Number):\n",
    "    numbers_list  = list(numbers)\n",
    "    numbers_list.append(Number)\n",
    "    numbers = tuple(numbers_list )\n",
    "    return numbers"
   ]
  },
  {
   "cell_type": "code",
   "execution_count": 27,
   "id": "6bcb02dd-f942-46a7-8ca3-66064048ca3c",
   "metadata": {},
   "outputs": [
    {
     "name": "stdout",
     "output_type": "stream",
     "text": [
      "(1, 2, 3, 4)\n"
     ]
    }
   ],
   "source": [
    "numbers = (1, 2, 3)\n",
    "new_number = 4\n",
    "updated_numbers = Append_new_number(numbers, new_number)\n",
    "print(updated_numbers)"
   ]
  },
  {
   "cell_type": "code",
   "execution_count": null,
   "id": "514b9233-5425-45d2-ae94-6f48d336cd39",
   "metadata": {},
   "outputs": [],
   "source": []
  },
  {
   "cell_type": "code",
   "execution_count": 26,
   "id": "4f72f5c3-bbe0-4cc4-8e8a-4c0bb4757fa7",
   "metadata": {},
   "outputs": [
    {
     "name": "stdout",
     "output_type": "stream",
     "text": [
      "(1, 2, 3, 4)\n"
     ]
    }
   ],
   "source": [
    "def Append_new_number(numbers, Number):\n",
    "    numbers_list = list(numbers)\n",
    "    numbers_list.append(Number)\n",
    "    numbers = tuple(numbers_list)\n",
    "    return numbers\n",
    "\n",
    "\n",
    "numbers = (1, 2, 3)\n",
    "new_number = 4\n",
    "updated_numbers = Append_new_number(numbers, new_number)\n",
    "print(updated_numbers)"
   ]
  },
  {
   "cell_type": "code",
   "execution_count": null,
   "id": "aae7209a-99cb-4e87-94bc-c0200eee389d",
   "metadata": {},
   "outputs": [],
   "source": [
    "## <p style=\"color:green;\">Q.18 Using filter() function filter the list so that only negative numbers are left.</p>\n",
    "> lst1  [12,-1,9,8,-.5,-.2,-100]\n"
   ]
  },
  {
   "cell_type": "code",
   "execution_count": null,
   "id": "2282d3ad-e8b9-4a1c-9952-ee6c58d6507d",
   "metadata": {},
   "outputs": [],
   "source": []
  },
  {
   "cell_type": "code",
   "execution_count": null,
   "id": "d329e03c-c9e0-42cc-8896-cadb9e952985",
   "metadata": {},
   "outputs": [],
   "source": []
  },
  {
   "cell_type": "code",
   "execution_count": null,
   "id": "c20edd1a-f89f-48c2-9a49-cb522e56842f",
   "metadata": {},
   "outputs": [],
   "source": []
  },
  {
   "cell_type": "code",
   "execution_count": null,
   "id": "8c2ff758-8461-41be-a5a1-131015090898",
   "metadata": {},
   "outputs": [],
   "source": [
    "## <p style=\"color:orange;\">Q.17 Write a Python program to square the elements of a list using map() function.</p>\n"
   ]
  },
  {
   "cell_type": "code",
   "execution_count": 35,
   "id": "46897f2f-e16d-4022-be46-107ca9509885",
   "metadata": {},
   "outputs": [
    {
     "data": {
      "text/plain": [
       "[1, 4, 9, 16]"
      ]
     },
     "execution_count": 35,
     "metadata": {},
     "output_type": "execute_result"
    }
   ],
   "source": [
    "listed = [1,2,3,4]\n",
    "\n",
    "def Squared_List(arg):\n",
    "    return arg ** 2\n",
    "list(map(Squared_List, listed))"
   ]
  },
  {
   "cell_type": "code",
   "execution_count": 36,
   "id": "8e366f48-7cea-4432-97cb-17f433afd092",
   "metadata": {},
   "outputs": [
    {
     "data": {
      "text/plain": [
       "[1, 8, 27, 64, 125, 343]"
      ]
     },
     "execution_count": 36,
     "metadata": {},
     "output_type": "execute_result"
    }
   ],
   "source": [
    "listed_New = [1,2,3,4 ,5 ,7]\n",
    "\n",
    "\n",
    "def triple_numbers (arg):\n",
    "    return arg*arg*arg\n",
    "\n",
    "list(map (triple_numbers ,listed_New ))"
   ]
  },
  {
   "cell_type": "code",
   "execution_count": 49,
   "id": "8623bc6a-c95e-45b6-bb24-8a5175dcab02",
   "metadata": {},
   "outputs": [],
   "source": [
    "numbers = [10 , 11, 12]\n",
    "\n",
    "def add_two_for_each_number(numbers):\n",
    "    for i in range(len(numbers)):\n",
    "        numbers[i] = numbers[i]+2\n",
    "    return numbers\n",
    "       \n"
   ]
  },
  {
   "cell_type": "code",
   "execution_count": 50,
   "id": "bf466210-9333-4f4f-8a00-3277dc9545b3",
   "metadata": {},
   "outputs": [
    {
     "data": {
      "text/plain": [
       "[12, 13, 14]"
      ]
     },
     "execution_count": 50,
     "metadata": {},
     "output_type": "execute_result"
    }
   ],
   "source": [
    "numbers = [10 , 11, 12]\n",
    "add_two_for_each_number(numbers)"
   ]
  },
  {
   "cell_type": "code",
   "execution_count": 53,
   "id": "04e02c81-4c0e-4bb3-adb4-7a0deb96c84f",
   "metadata": {},
   "outputs": [
    {
     "data": {
      "text/plain": [
       "[12, 13, 14]"
      ]
     },
     "execution_count": 53,
     "metadata": {},
     "output_type": "execute_result"
    }
   ],
   "source": [
    "\n",
    "numbers = [10 , 11, 12]\n",
    "def two_adding (number):\n",
    "   return number+2\n",
    "\n",
    "list(map(two_adding , numbers))"
   ]
  },
  {
   "cell_type": "code",
   "execution_count": null,
   "id": "02f6e72a-3da6-4584-8c91-d16db3cd63d1",
   "metadata": {},
   "outputs": [],
   "source": [
    "> \n"
   ]
  },
  {
   "cell_type": "code",
   "execution_count": 57,
   "id": "fb8054ac-4761-46bf-9b05-f7a9c06c78ba",
   "metadata": {},
   "outputs": [
    {
     "data": {
      "text/plain": [
       "[-1, -0.5, -0.2, -100]"
      ]
     },
     "execution_count": 57,
     "metadata": {},
     "output_type": "execute_result"
    }
   ],
   "source": [
    "lst1 = [12,-1,9,8,-.5,-.2,-100]\n",
    "\n",
    "def pos_numbers (arg):\n",
    "    if arg < 0:\n",
    "        return True \n",
    "    else:\n",
    "        return False\n",
    "\n",
    "list(filter(pos_numbers,lst1))"
   ]
  },
  {
   "cell_type": "code",
   "execution_count": 59,
   "id": "3973a5c9-311a-4618-9dac-714ee0862105",
   "metadata": {},
   "outputs": [
    {
     "data": {
      "text/plain": [
       "[19, 13, 11, 1]"
      ]
     },
     "execution_count": 59,
     "metadata": {},
     "output_type": "execute_result"
    }
   ],
   "source": [
    " lst2 =  [22,100,19,13,11,1,4,66]\n",
    "\n",
    "\n",
    "\n",
    "def odd_numbers(arg):\n",
    "    if arg %2 == 1:\n",
    "        return True \n",
    "    else:\n",
    "        return False \n",
    "\n",
    "list(filter(odd_numbers,lst2))"
   ]
  },
  {
   "cell_type": "code",
   "execution_count": 63,
   "id": "10cfa076-5c3d-4892-a71b-fbec4de160a8",
   "metadata": {},
   "outputs": [
    {
     "data": {
      "text/plain": [
       "[3000, 2500, 2600, 2700, 7000]"
      ]
     },
     "execution_count": 63,
     "metadata": {},
     "output_type": "execute_result"
    }
   ],
   "source": [
    " lst = [1000,500,600,700,5000,90000,17500]\n",
    "\n",
    "def below_8000 (arg):\n",
    "    if arg <8000:\n",
    "        return arg\n",
    "\n",
    "New_List = (list(filter(below_8000,lst)))\n",
    "\n",
    "def add_2000 (arg):\n",
    "    return arg +2000\n",
    "\n",
    "Final_list = list( map (add_2000,New_List))\n",
    "\n",
    "Final_list\n"
   ]
  },
  {
   "cell_type": "code",
   "execution_count": 66,
   "id": "d3c22a86-ca7a-4734-bd34-7de7aea0987d",
   "metadata": {},
   "outputs": [
    {
     "data": {
      "text/plain": [
       "15"
      ]
     },
     "execution_count": 66,
     "metadata": {},
     "output_type": "execute_result"
    }
   ],
   "source": [
    "\n",
    "from functools import reduce\n",
    "def multiplation ( arg1, arg2):\n",
    "    return arg1*arg2\n",
    "Variables = [ 5 , 3]\n",
    "reduce (multiplation ,Variables)\n",
    "\n"
   ]
  },
  {
   "cell_type": "code",
   "execution_count": 77,
   "id": "531b994e-830d-4b57-a1bf-71c8143110db",
   "metadata": {},
   "outputs": [
    {
     "data": {
      "text/plain": [
       "[None, None, None, None, None, None, None, None, None, None]"
      ]
     },
     "execution_count": 77,
     "metadata": {},
     "output_type": "execute_result"
    }
   ],
   "source": [
    "Original_list=[1, 2, 3, 4, 5, 6, 7, 8, 9, 10]\n",
    "Even_result = []\n",
    "Odd_result = []\n",
    "        \n",
    "list (map(lambda arg : Odd_result.append(arg) if  arg % 2 == 1 else Even_result.append(arg) , Original_list))"
   ]
  },
  {
   "cell_type": "code",
   "execution_count": 73,
   "id": "8678c6bf-f22f-4752-9f70-3d10781fe2ac",
   "metadata": {},
   "outputs": [
    {
     "name": "stdout",
     "output_type": "stream",
     "text": [
      "[0, 2, 4, 6, 8]\n",
      "[1, 3, 5, 7, 9]\n"
     ]
    }
   ],
   "source": [
    " Original_list=[1, 2, 3, 4, 5, 6, 7, 8, 9, 10]\n",
    "\n",
    "\n",
    "Even_result = []\n",
    "Odd_result = []\n",
    "\n",
    "for i in range(len(Original_list)):\n",
    "    if i % 2 == 1:\n",
    "        Odd_result.append(i)\n",
    "    else:\n",
    "        Even_result.append(i)\n",
    "\n",
    "print(Even_result)\n",
    "print(Odd_result)"
   ]
  },
  {
   "cell_type": "code",
   "execution_count": 80,
   "id": "9799c587-cbcc-4b88-87b7-42e8a3fcf1ce",
   "metadata": {},
   "outputs": [
    {
     "name": "stdout",
     "output_type": "stream",
     "text": [
      "[2, 4, 6, 8, 10]\n",
      "[1, 3, 5, 7, 9]\n"
     ]
    }
   ],
   "source": [
    "Original_list=[1, 2, 3, 4, 5, 6, 7, 8, 9, 10]\n",
    "\n",
    "Even_result = list(filter(lambda arg: arg % 2 == 0, Original_list))\n",
    "Odd_result = list(filter(lambda arg: arg % 2 == 1, Original_list))\n",
    "\n",
    "print(Even_result)\n",
    "print(Odd_result)"
   ]
  },
  {
   "cell_type": "code",
   "execution_count": 82,
   "id": "af397027-604b-4baa-9c19-3b492cfb6b07",
   "metadata": {},
   "outputs": [
    {
     "ename": "SyntaxError",
     "evalue": "invalid syntax (1588192408.py, line 8)",
     "output_type": "error",
     "traceback": [
      "\u001b[1;36m  Cell \u001b[1;32mIn[82], line 8\u001b[1;36m\u001b[0m\n\u001b[1;33m    list(map(lambda Original_list[i] , Even_result[i], Odd_result[i] : Original_list[i]+Even_result[i]+Odd_result[i],Original_list ,Even_result,Odd_result))\u001b[0m\n\u001b[1;37m                                 ^\u001b[0m\n\u001b[1;31mSyntaxError\u001b[0m\u001b[1;31m:\u001b[0m invalid syntax\n"
     ]
    }
   ],
   "source": [
    "## Write a Python program to add three given lists using Python map and lambda.\n",
    "\n",
    "\n",
    "Original_list=[1, 2, 3, 4, 5]\n",
    "Even_result = [2, 4, 6, 8, 10]\n",
    "Odd_result = [1, 3, 5, 7, 9]\n",
    "\n",
    "list(map(lambda Original_list[i] , Even_result[i], Odd_result[i] : Original_list[i]+Even_result[i]+Odd_result[i],Original_list ,Even_result,Odd_result))\n",
    "\n"
   ]
  },
  {
   "cell_type": "code",
   "execution_count": 83,
   "id": "d6e6fbc0-8bcb-4d52-9355-98b3db933d98",
   "metadata": {},
   "outputs": [
    {
     "name": "stdout",
     "output_type": "stream",
     "text": [
      "Result: [12, 15, 18]\n"
     ]
    }
   ],
   "source": [
    "# Given lists\n",
    "list1 = [1, 2, 3]\n",
    "list2 = [4, 5, 6]\n",
    "list3 = [7, 8, 9]\n",
    "\n",
    "# Use map and lambda to add the corresponding elements\n",
    "result = list(map(lambda x, y, z: x + y + z, list1, list2, list3))\n",
    "\n",
    "print(\"Result:\", result)"
   ]
  },
  {
   "cell_type": "code",
   "execution_count": 85,
   "id": "39dff1e7-dff4-45a0-9d95-00fd42784608",
   "metadata": {},
   "outputs": [
    {
     "data": {
      "text/plain": [
       "[16, 17, 18]"
      ]
     },
     "execution_count": 85,
     "metadata": {},
     "output_type": "execute_result"
    }
   ],
   "source": [
    "##e a Python program to create a lambda function that adds 15 to a given number passed in as an argument\n",
    "list1 = [1, 2, 3]\n",
    "\n",
    "list(map(lambda arg: arg+15 , list1))\n",
    "\n",
    "\n"
   ]
  },
  {
   "cell_type": "code",
   "execution_count": 97,
   "id": "d24bdf73-eba8-4a69-99c9-81fbc25127e8",
   "metadata": {},
   "outputs": [],
   "source": [
    "\n",
    "def is_palindrome (Name):\n",
    "    if Name == Name [::-1]:\n",
    "        return True \n",
    "    else:\n",
    "        return False \n"
   ]
  },
  {
   "cell_type": "code",
   "execution_count": 98,
   "id": "a0c49177-6e14-4853-b0d9-3d4d639f751d",
   "metadata": {},
   "outputs": [
    {
     "data": {
      "text/plain": [
       "True"
      ]
     },
     "execution_count": 98,
     "metadata": {},
     "output_type": "execute_result"
    }
   ],
   "source": [
    "Name =\"ama\"\n",
    "\n",
    "is_palindrome (Name)"
   ]
  },
  {
   "cell_type": "code",
   "execution_count": 92,
   "id": "bb5fab32-4ac4-429a-bc97-7865d3788632",
   "metadata": {},
   "outputs": [
    {
     "name": "stdin",
     "output_type": "stream",
     "text": [
      "Please enter an input:  ama\n"
     ]
    },
    {
     "name": "stdout",
     "output_type": "stream",
     "text": [
      "Is the input a palindrome? True\n"
     ]
    }
   ],
   "source": [
    "def is_palindrome(Name):\n",
    "    # Check if the string is equal to its reverse\n",
    "    if Name == Name[::-1]:\n",
    "        return True\n",
    "    else:\n",
    "        return False\n",
    "\n",
    "# Example usage\n",
    "Name = input(\"Please enter an input: \")\n",
    "result = is_palindrome(Name)\n",
    "print(\"Is the input a palindrome?\", result)"
   ]
  },
  {
   "cell_type": "code",
   "execution_count": null,
   "id": "49cc6ebe-6916-42de-9119-59dc4e73d23a",
   "metadata": {},
   "outputs": [],
   "source": [
    "##Write a function that checks whether a number is in a given range (inclusive of high and low)</p>\n"
   ]
  }
 ],
 "metadata": {
  "kernelspec": {
   "display_name": "Python 3 (ipykernel)",
   "language": "python",
   "name": "python3"
  },
  "language_info": {
   "codemirror_mode": {
    "name": "ipython",
    "version": 3
   },
   "file_extension": ".py",
   "mimetype": "text/x-python",
   "name": "python",
   "nbconvert_exporter": "python",
   "pygments_lexer": "ipython3",
   "version": "3.9.19"
  }
 },
 "nbformat": 4,
 "nbformat_minor": 5
}
