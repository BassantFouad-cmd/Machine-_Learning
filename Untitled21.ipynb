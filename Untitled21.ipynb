{
 "cells": [
  {
   "cell_type": "code",
   "execution_count": 2,
   "id": "d6b20e40-e8d7-4a6e-9b1e-e58eff6099dc",
   "metadata": {},
   "outputs": [
    {
     "name": "stdin",
     "output_type": "stream",
     "text": [
      "Please write an integer number:  15.6\n"
     ]
    },
    {
     "name": "stdout",
     "output_type": "stream",
     "text": [
      "please make sure it is  an integer number\n",
      "the process is done\n"
     ]
    },
    {
     "name": "stdin",
     "output_type": "stream",
     "text": [
      "Please write an integer number:  kgjf\n"
     ]
    },
    {
     "name": "stdout",
     "output_type": "stream",
     "text": [
      "please make sure it is  an integer number\n",
      "the process is done\n"
     ]
    },
    {
     "name": "stdin",
     "output_type": "stream",
     "text": [
      "Please write an integer number:  155\n"
     ]
    },
    {
     "name": "stdout",
     "output_type": "stream",
     "text": [
      "the process is done\n"
     ]
    }
   ],
   "source": [
    "while True:\n",
    "    try:\n",
    "        number = int(input(\"Please write an integer number: \"))\n",
    "        break \n",
    "    except TypeError:\n",
    "        print(\" the Str can't be powered\")\n",
    "    except ValueError:\n",
    "        print( \"please make sure it is  an integer number\")\n",
    "    else:\n",
    "        print(number**2)\n",
    "    finally:\n",
    "        print(\"the process is done\")"
   ]
  },
  {
   "cell_type": "code",
   "execution_count": null,
   "id": "2c446200-a567-46ed-b57f-6b5a396de405",
   "metadata": {},
   "outputs": [],
   "source": [
    "def counting_number(numbers, num):\n",
    "    counter = 0\n",
    "    for e in numbers:\n",
    "        if e > num:\n",
    "            counter += 1\n",
    "    return counter"
   ]
  },
  {
   "cell_type": "code",
   "execution_count": 31,
   "id": "81b8f342-0680-453d-a389-60c6e7d973ec",
   "metadata": {},
   "outputs": [
    {
     "data": {
      "text/plain": [
       "6"
      ]
     },
     "execution_count": 31,
     "metadata": {},
     "output_type": "execute_result"
    }
   ],
   "source": [
    "numbers = [1, 2, 3, 2, 2, 1, 3, 4, 5, 5, 2, 1]\n",
    "counting_number(numbers, 5)"
   ]
  },
  {
   "cell_type": "code",
   "execution_count": 39,
   "id": "6896fd5a-48b7-4bef-a6cb-e7d879142752",
   "metadata": {},
   "outputs": [],
   "source": [
    "def Multiply_each_elemant(numbers , num=3):\n",
    "    multiplation_list=[]\n",
    "    for e in range(len(numbers)):\n",
    "        multiplation = e*num\n",
    "        multiplation_list= numbers.append[multiplation]\n",
    "\n",
    "    return  multiplation_list\n"
   ]
  },
  {
   "cell_type": "code",
   "execution_count": 40,
   "id": "7c30ceee-9fd5-45db-8f88-4222070b3139",
   "metadata": {},
   "outputs": [
    {
     "ename": "TypeError",
     "evalue": "'builtin_function_or_method' object is not subscriptable",
     "output_type": "error",
     "traceback": [
      "\u001b[1;31m---------------------------------------------------------------------------\u001b[0m",
      "\u001b[1;31mTypeError\u001b[0m                                 Traceback (most recent call last)",
      "Cell \u001b[1;32mIn[40], line 3\u001b[0m\n\u001b[0;32m      1\u001b[0m numbers \u001b[38;5;241m=\u001b[39m [\u001b[38;5;241m1\u001b[39m, \u001b[38;5;241m2\u001b[39m, \u001b[38;5;241m3\u001b[39m, \u001b[38;5;241m4\u001b[39m, \u001b[38;5;241m5\u001b[39m, \u001b[38;5;241m6\u001b[39m]\n\u001b[1;32m----> 3\u001b[0m \u001b[43mMultiply_each_elemant\u001b[49m\u001b[43m \u001b[49m\u001b[43m(\u001b[49m\u001b[43m \u001b[49m\u001b[43mnumbers\u001b[49m\u001b[43m \u001b[49m\u001b[43m,\u001b[49m\u001b[43m \u001b[49m\u001b[38;5;241;43m5\u001b[39;49m\u001b[43m)\u001b[49m\n",
      "Cell \u001b[1;32mIn[39], line 5\u001b[0m, in \u001b[0;36mMultiply_each_elemant\u001b[1;34m(numbers, num)\u001b[0m\n\u001b[0;32m      3\u001b[0m \u001b[38;5;28;01mfor\u001b[39;00m e \u001b[38;5;129;01min\u001b[39;00m \u001b[38;5;28mrange\u001b[39m(\u001b[38;5;28mlen\u001b[39m(numbers)):\n\u001b[0;32m      4\u001b[0m     multiplation \u001b[38;5;241m=\u001b[39m e\u001b[38;5;241m*\u001b[39mnum\n\u001b[1;32m----> 5\u001b[0m     multiplation_list\u001b[38;5;241m=\u001b[39m \u001b[43mnumbers\u001b[49m\u001b[38;5;241;43m.\u001b[39;49m\u001b[43mappend\u001b[49m\u001b[43m[\u001b[49m\u001b[43mmultiplation\u001b[49m\u001b[43m]\u001b[49m\n\u001b[0;32m      7\u001b[0m \u001b[38;5;28;01mreturn\u001b[39;00m  multiplation_list\n",
      "\u001b[1;31mTypeError\u001b[0m: 'builtin_function_or_method' object is not subscriptable"
     ]
    }
   ],
   "source": [
    "numbers = [1, 2, 3, 4, 5, 6]\n",
    "\n",
    "Multiply_each_elemant ( numbers , 5)"
   ]
  },
  {
   "cell_type": "code",
   "execution_count": 43,
   "id": "5fb40bb9-969c-43db-a9f0-b2c5c8d4afd8",
   "metadata": {},
   "outputs": [
    {
     "name": "stdout",
     "output_type": "stream",
     "text": [
      "1\n",
      "None\n"
     ]
    }
   ],
   "source": [
    "numbers = [1, 2, 3, 4, 5, 1, 2, 1, 1]\n",
    "count = 0\n",
    "indicies=[]\n",
    "for e in range(len(numbers)):\n",
    "    if e == 1:\n",
    "        count+=1\n",
    "        indicies = indicies.append(e)\n",
    "        \n",
    "print(count) \n",
    "print(indicies)"
   ]
  },
  {
   "cell_type": "code",
   "execution_count": 51,
   "id": "3bdf6726-28a2-476a-953a-b39b6f98b402",
   "metadata": {},
   "outputs": [],
   "source": [
    "def values_indices(numbers, num =1):\n",
    "    counter = 0\n",
    "    indicies=[]\n",
    "    for e in range(len(numbers)):\n",
    "        if numbers[e] == num:\n",
    "            counter=+1\n",
    "            indicies.append(e)\n",
    "    return (counter , indicies) "
   ]
  },
  {
   "cell_type": "code",
   "execution_count": 54,
   "id": "1759c961-1b06-4792-b440-a5747975ed27",
   "metadata": {},
   "outputs": [],
   "source": [
    "def values_indices(numbers, num=1):\n",
    "    counter = 0\n",
    "    indices = []\n",
    "    for e in range(len(numbers)):\n",
    "        if numbers[e] == num:\n",
    "            counter = counter + 1\n",
    "            indices.append(e)\n",
    "    return counter, indices"
   ]
  },
  {
   "cell_type": "code",
   "execution_count": 55,
   "id": "7e5c85ca-4cb8-4d20-98d6-eef8392dc6c6",
   "metadata": {},
   "outputs": [
    {
     "data": {
      "text/plain": [
       "(4, [1, 3, 4, 10])"
      ]
     },
     "execution_count": 55,
     "metadata": {},
     "output_type": "execute_result"
    }
   ],
   "source": [
    "numbers = [1, 2, 3, 2, 2, 1, 3, 4, 5, 5, 2, 1]\n",
    "values_indices(numbers, 2)"
   ]
  },
  {
   "cell_type": "code",
   "execution_count": null,
   "id": "61eb0cf9-28ec-4b3e-9a9e-3997c946ca6a",
   "metadata": {},
   "outputs": [],
   "source": [
    "Q5: add each element by 2 for following list\n",
    "numbers = [10, 11, 12]\n",
    "\n",
    "\n"
   ]
  },
  {
   "cell_type": "code",
   "execution_count": 57,
   "id": "ac10f251-9fe0-439a-a25c-9faad7351075",
   "metadata": {},
   "outputs": [
    {
     "data": {
      "text/plain": [
       "[10, 11, 12, 20, 22, 24]"
      ]
     },
     "execution_count": 57,
     "metadata": {},
     "output_type": "execute_result"
    }
   ],
   "source": [
    "numbers = [10, 11, 12]\n",
    "\n"
   ]
  },
  {
   "cell_type": "code",
   "execution_count": 109,
   "id": "1d9a1a7f-d919-4fa5-8f35-f4dc6551c709",
   "metadata": {},
   "outputs": [],
   "source": [
    "def add_each_element_by( numbers , num =2):\n",
    "    new_list=[]\n",
    "    for i in range(len(numbers)):\n",
    "        new_list.append(numbers[i] * num)\n",
    "        \n",
    "    return new_list"
   ]
  },
  {
   "cell_type": "code",
   "execution_count": 110,
   "id": "1cf5bd99-5de9-4794-97be-d62f2e7869b0",
   "metadata": {},
   "outputs": [
    {
     "data": {
      "text/plain": [
       "[50, 55, 60]"
      ]
     },
     "execution_count": 110,
     "metadata": {},
     "output_type": "execute_result"
    }
   ],
   "source": [
    "numbers = [10, 11, 12]\n",
    "add_each_element_by(numbers, 5)"
   ]
  },
  {
   "cell_type": "code",
   "execution_count": 95,
   "id": "7094c99b-f0b7-4609-9f76-debd8681a89a",
   "metadata": {},
   "outputs": [
    {
     "data": {
      "text/plain": [
       "[20, 22, 24, 100, 110, 120]"
      ]
     },
     "execution_count": 95,
     "metadata": {},
     "output_type": "execute_result"
    }
   ],
   "source": [
    "def multiply_by_2(arg):\n",
    "    return arg*2\n",
    "list(map( multiply_by_2, numbers.copy()))\n"
   ]
  },
  {
   "cell_type": "code",
   "execution_count": 107,
   "id": "971bb868-5062-4bf9-9a6f-919047bb9070",
   "metadata": {},
   "outputs": [
    {
     "ename": "SyntaxError",
     "evalue": "'return' outside function (815620109.py, line 6)",
     "output_type": "error",
     "traceback": [
      "\u001b[1;36m  Cell \u001b[1;32mIn[107], line 6\u001b[1;36m\u001b[0m\n\u001b[1;33m    return new_list\u001b[0m\n\u001b[1;37m    ^\u001b[0m\n\u001b[1;31mSyntaxError\u001b[0m\u001b[1;31m:\u001b[0m 'return' outside function\n"
     ]
    }
   ],
   "source": [
    "numbers = [10, 11, 12]\n",
    "\n"
   ]
  },
  {
   "cell_type": "code",
   "execution_count": null,
   "id": "2d7613f2-faca-4830-a1ff-1c69b52fe03d",
   "metadata": {},
   "outputs": [],
   "source": [
    "def multiply_elements(numbers, num):\n",
    "    new_list = []\n",
    "    for i in range(len(numbers)):\n",
    "        new_list.append(numbers[i] * num)\n",
    "    return new_list"
   ]
  },
  {
   "cell_type": "code",
   "execution_count": null,
   "id": "020b967e-2949-4375-90f1-ae63f646e723",
   "metadata": {},
   "outputs": [],
   "source": [
    "# Q6: Find postive numbers from this list\n",
    "numbers = [-5, 2, 1, 0, 5, 6, 7, -8, 9, 10, -2]"
   ]
  },
  {
   "cell_type": "code",
   "execution_count": 115,
   "id": "e07178e2-dc5c-4440-b7f8-dc837f597a1e",
   "metadata": {},
   "outputs": [
    {
     "data": {
      "text/plain": [
       "[2, 1, 5, 6, 7, 9, 10]"
      ]
     },
     "execution_count": 115,
     "metadata": {},
     "output_type": "execute_result"
    }
   ],
   "source": [
    "New_numbers = [-5, 2, 1, 0, 5, 6, 7, -8, 9, 10, -2]\n",
    "\n",
    "def pos_num(arg):\n",
    "    if arg > 0:\n",
    "        return True\n",
    "    else:\n",
    "        return False\n",
    "\n",
    "list(filter(pos_num  , numbers ))"
   ]
  },
  {
   "cell_type": "code",
   "execution_count": 120,
   "id": "50b2b530-68e8-46be-b174-e5debbb1ac14",
   "metadata": {},
   "outputs": [],
   "source": [
    "def multiply_all_elements( numbers):\n",
    "    multiplation=1\n",
    "    for i in range(len(numbers)):\n",
    "        multiplation = multiplation *numbers[i]\n",
    "    return multiplation"
   ]
  },
  {
   "cell_type": "code",
   "execution_count": 121,
   "id": "c38fa22f-3884-45c7-ac94-2e0355ca2457",
   "metadata": {},
   "outputs": [
    {
     "data": {
      "text/plain": [
       "-3024000"
      ]
     },
     "execution_count": 121,
     "metadata": {},
     "output_type": "execute_result"
    }
   ],
   "source": [
    "numbers = [-5, 2, 1, 1, 5, 6, 7, -8, 9, 10, -2]\n",
    "multiply_all_elements( numbers)"
   ]
  },
  {
   "cell_type": "code",
   "execution_count": 124,
   "id": "5b9a6a8d-3207-4976-a418-f34236a8a3a0",
   "metadata": {},
   "outputs": [
    {
     "data": {
      "text/plain": [
       "-3024000"
      ]
     },
     "execution_count": 124,
     "metadata": {},
     "output_type": "execute_result"
    }
   ],
   "source": [
    "from functools import reduce \n",
    "numbers = [-5, 2, 1, 1, 5, 6, 7, -8, 9, 10, -2]\n",
    "multiplation=1\n",
    "def multiply( arg1 , arg2):\n",
    "    return arg1*arg2\n",
    "\n",
    "reduce(multiply , numbers)\n",
    "\n",
    "\n",
    "    "
   ]
  },
  {
   "cell_type": "code",
   "execution_count": 125,
   "id": "072ec4c2-0aaf-4b95-be73-bebe70e7bd96",
   "metadata": {},
   "outputs": [
    {
     "ename": "SyntaxError",
     "evalue": "invalid syntax (1124257927.py, line 1)",
     "output_type": "error",
     "traceback": [
      "\u001b[1;36m  Cell \u001b[1;32mIn[125], line 1\u001b[1;36m\u001b[0m\n\u001b[1;33m    Q8: add each element by 2 for following list\u001b[0m\n\u001b[1;37m            ^\u001b[0m\n\u001b[1;31mSyntaxError\u001b[0m\u001b[1;31m:\u001b[0m invalid syntax\n"
     ]
    }
   ],
   "source": [
    " Q8: add each element by 2 for following list\n",
    "numbers = [10, 20, 30]"
   ]
  },
  {
   "cell_type": "code",
   "execution_count": 129,
   "id": "70d47988-3183-497d-8ad4-6ab5732d0036",
   "metadata": {},
   "outputs": [
    {
     "data": {
      "text/plain": [
       "(<function __main__.<lambda>(arg1)>, [-5, 2, 1, 1, 5, 6, 7, -8, 9, 10, -2])"
      ]
     },
     "execution_count": 129,
     "metadata": {},
     "output_type": "execute_result"
    }
   ],
   "source": [
    "(lambda arg1:arg1 *2 , numbers)"
   ]
  },
  {
   "cell_type": "code",
   "execution_count": 132,
   "id": "73c89f3f-83f3-4f2a-b848-3594025deabd",
   "metadata": {},
   "outputs": [
    {
     "data": {
      "text/plain": [
       "[20, 40, 60]"
      ]
     },
     "execution_count": 132,
     "metadata": {},
     "output_type": "execute_result"
    }
   ],
   "source": [
    "numbers = [10, 20, 30]\n",
    "\n",
    "list(map(lambda arg : arg *2 , numbers))"
   ]
  },
  {
   "cell_type": "code",
   "execution_count": 133,
   "id": "18ae0c59-782e-45ca-8b0f-39d26da46a08",
   "metadata": {},
   "outputs": [],
   "source": [
    "numbers = [-5, 2, 1, 0, 5, 6, 7, -8, 9, 10, -2]"
   ]
  },
  {
   "cell_type": "code",
   "execution_count": 134,
   "id": "ba97d0cc-baf5-457b-8bfb-0261aabd9281",
   "metadata": {},
   "outputs": [
    {
     "data": {
      "text/plain": [
       "[-5, -8, -2]"
      ]
     },
     "execution_count": 134,
     "metadata": {},
     "output_type": "execute_result"
    }
   ],
   "source": [
    "list(filter(lambda arg : True if (arg < 0) else False , numbers))"
   ]
  },
  {
   "cell_type": "code",
   "execution_count": 138,
   "id": "0a40f171-2111-49b7-afa7-82c6caae892d",
   "metadata": {},
   "outputs": [
    {
     "name": "stdout",
     "output_type": "stream",
     "text": [
      "5\n"
     ]
    }
   ],
   "source": [
    "Name = \"Ahmed\"\n",
    "Counter=len(Name)\n",
    "print(Counter)"
   ]
  },
  {
   "cell_type": "code",
   "execution_count": null,
   "id": "ac7a1f12-7d12-4848-84e4-c42682976a38",
   "metadata": {},
   "outputs": [],
   "source": []
  }
 ],
 "metadata": {
  "kernelspec": {
   "display_name": "Python 3 (ipykernel)",
   "language": "python",
   "name": "python3"
  },
  "language_info": {
   "codemirror_mode": {
    "name": "ipython",
    "version": 3
   },
   "file_extension": ".py",
   "mimetype": "text/x-python",
   "name": "python",
   "nbconvert_exporter": "python",
   "pygments_lexer": "ipython3",
   "version": "3.9.19"
  }
 },
 "nbformat": 4,
 "nbformat_minor": 5
}
