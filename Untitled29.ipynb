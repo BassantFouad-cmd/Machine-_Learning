{
 "cells": [
  {
   "cell_type": "code",
   "execution_count": null,
   "id": "aa312146-8292-46ea-ba0c-9988ba46351b",
   "metadata": {},
   "outputs": [],
   "source": [
    "class Customer:\n",
    "    customer_balance = 0\n",
    "    def __init__(self, name , age ):\n",
    "        self.__name = name\n",
    "        self.__age = age \n",
    "def\n",
    "\n",
    "    "
   ]
  }
 ],
 "metadata": {
  "kernelspec": {
   "display_name": "Python 3 (ipykernel)",
   "language": "python",
   "name": "python3"
  },
  "language_info": {
   "codemirror_mode": {
    "name": "ipython",
    "version": 3
   },
   "file_extension": ".py",
   "mimetype": "text/x-python",
   "name": "python",
   "nbconvert_exporter": "python",
   "pygments_lexer": "ipython3",
   "version": "3.9.19"
  }
 },
 "nbformat": 4,
 "nbformat_minor": 5
}
