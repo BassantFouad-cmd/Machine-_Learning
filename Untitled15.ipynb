{
 "cells": [
  {
   "cell_type": "code",
   "execution_count": 5,
   "id": "f68a6f93-2c93-48f8-ba1d-adca45d0d5e8",
   "metadata": {},
   "outputs": [
    {
     "data": {
      "text/plain": [
       "31"
      ]
     },
     "execution_count": 5,
     "metadata": {},
     "output_type": "execute_result"
    }
   ],
   "source": [
    "country_salaries = {\n",
    "    'Egypt': 20000,\n",
    "    'US': 597032,\n",
    "    'KSA': 407032,\n",
    "    'Canada': 500000,\n",
    "    'Australia': 450000,\n",
    "    'UK': 550000,\n",
    "    'Germany': 600000,\n",
    "    'France': 550000,\n",
    "    'Italy': 450000,\n",
    "    'Spain': 420000,\n",
    "    'Japan': 620000,\n",
    "    'South Korea': 580000,\n",
    "    'China': 540000,\n",
    "    'India': 150000,\n",
    "    'Brazil': 220000,\n",
    "    'Argentina': 200000,\n",
    "    'Russia': 300000,\n",
    "    'South Africa': 180000,\n",
    "    'Nigeria': 100000,\n",
    "    'Mexico': 240000,\n",
    "    'Chile': 190000,\n",
    "    'Colombia': 180000,\n",
    "    'Peru': 170000,\n",
    "    'Turkey': 250000,\n",
    "    'Greece': 180000,\n",
    "    'Sweden': 500000,\n",
    "    'Norway': 550000,\n",
    "    'Denmark': 520000,\n",
    "    'Finland': 480000,\n",
    "    'Netherlands': 530000,\n",
    "    'Belgium': 510000,\n",
    "    'Switzerland': 600000}\n",
    "\n",
    "counter=0\n",
    "\n",
    "for k, v in country_salaries.items():\n",
    "    if v > 30000:\n",
    "        counter+=1\n",
    "\n",
    "counter"
   ]
  },
  {
   "cell_type": "code",
   "execution_count": 19,
   "id": "91c15c35-8f31-4c2a-b56a-55d87f535158",
   "metadata": {},
   "outputs": [
    {
     "ename": "NameError",
     "evalue": "name 'i' is not defined",
     "output_type": "error",
     "traceback": [
      "\u001b[1;31m---------------------------------------------------------------------------\u001b[0m",
      "\u001b[1;31mNameError\u001b[0m                                 Traceback (most recent call last)",
      "Cell \u001b[1;32mIn[19], line 5\u001b[0m\n\u001b[0;32m      3\u001b[0m updated_list\u001b[38;5;241m=\u001b[39m[]\n\u001b[0;32m      4\u001b[0m \u001b[38;5;28;01mfor\u001b[39;00m e \u001b[38;5;129;01min\u001b[39;00m \u001b[38;5;28mrange\u001b[39m(\u001b[38;5;28mlen\u001b[39m(list3)):\n\u001b[1;32m----> 5\u001b[0m     \u001b[38;5;28;01mfor\u001b[39;00m i \u001b[38;5;129;01min\u001b[39;00m \u001b[38;5;28mrange\u001b[39m(\u001b[38;5;28mlen\u001b[39m(list3[\u001b[43mi\u001b[49m])):\n\u001b[0;32m      6\u001b[0m         \u001b[38;5;28;01mif\u001b[39;00m list3[e][i] \u001b[38;5;241m==\u001b[39m \u001b[38;5;124m\"\u001b[39m\u001b[38;5;124mhello\u001b[39m\u001b[38;5;124m\"\u001b[39m:\n\u001b[0;32m      7\u001b[0m             updated_list\u001b[38;5;241m=\u001b[39m list3\u001b[38;5;241m.\u001b[39mremove(\u001b[38;5;124m\"\u001b[39m\u001b[38;5;124mhello\u001b[39m\u001b[38;5;124m\"\u001b[39m) \u001b[38;5;241m+\u001b[39m [\u001b[38;5;124m\"\u001b[39m\u001b[38;5;124mgoodbye\u001b[39m\u001b[38;5;124m\"\u001b[39m]\n",
      "\u001b[1;31mNameError\u001b[0m: name 'i' is not defined"
     ]
    }
   ],
   "source": [
    "## <p style=\"color:green;\">Q.05 Reassign 'hello' in this nested list to say 'goodbye' instead</p>\n",
    "list3 = [1,2,[3,4,'hello']]\n",
    "updated_list=[]\n",
    "for e in range(len(list3)):\n",
    "    for i in range(len(list3[i])):\n",
    "        if list3[e][i] == \"hello\":\n",
    "            updated_list= list3.remove(\"hello\") + [\"goodbye\"]\n",
    "\n",
    "updated_list"
   ]
  },
  {
   "cell_type": "code",
   "execution_count": 20,
   "id": "69de7e0b-68da-45db-8c2a-950684feecfa",
   "metadata": {},
   "outputs": [
    {
     "ename": "ValueError",
     "evalue": "list.remove(x): x not in list",
     "output_type": "error",
     "traceback": [
      "\u001b[1;31m---------------------------------------------------------------------------\u001b[0m",
      "\u001b[1;31mValueError\u001b[0m                                Traceback (most recent call last)",
      "Cell \u001b[1;32mIn[20], line 2\u001b[0m\n\u001b[0;32m      1\u001b[0m list3 \u001b[38;5;241m=\u001b[39m [\u001b[38;5;241m1\u001b[39m,\u001b[38;5;241m2\u001b[39m,[\u001b[38;5;241m3\u001b[39m,\u001b[38;5;241m4\u001b[39m,\u001b[38;5;124m'\u001b[39m\u001b[38;5;124mhello\u001b[39m\u001b[38;5;124m'\u001b[39m]]\n\u001b[1;32m----> 2\u001b[0m updated_list\u001b[38;5;241m=\u001b[39m \u001b[43mlist3\u001b[49m\u001b[38;5;241;43m.\u001b[39;49m\u001b[43mremove\u001b[49m\u001b[43m(\u001b[49m\u001b[38;5;124;43m'\u001b[39;49m\u001b[38;5;124;43mhello\u001b[39;49m\u001b[38;5;124;43m'\u001b[39;49m\u001b[43m)\u001b[49m \n\u001b[0;32m      3\u001b[0m updated_list\u001b[38;5;241m=\u001b[39mupdated_list\u001b[38;5;241m+\u001b[39m[\u001b[38;5;124m\"\u001b[39m\u001b[38;5;124mgoodbye\u001b[39m\u001b[38;5;124m\"\u001b[39m]\n",
      "\u001b[1;31mValueError\u001b[0m: list.remove(x): x not in list"
     ]
    }
   ],
   "source": [
    "list3 = [1,2,[3,4,'hello']]\n",
    "updated_list= list3.remove('hello') \n",
    "updated_list=updated_list+[\"goodbye\"]"
   ]
  },
  {
   "cell_type": "code",
   "execution_count": 25,
   "id": "88a231d0-9ba9-4e52-938b-b60b7a8d49f7",
   "metadata": {},
   "outputs": [
    {
     "data": {
      "text/plain": [
       "[1, 3, 4, 5, 6]"
      ]
     },
     "execution_count": 25,
     "metadata": {},
     "output_type": "execute_result"
    }
   ],
   "source": [
    "list4 = [5,3,4,6,1]\n",
    "list4.sort()\n",
    "list4"
   ]
  },
  {
   "cell_type": "code",
   "execution_count": 30,
   "id": "2daa822f-f9d3-4f2a-bae4-0909ad512147",
   "metadata": {},
   "outputs": [
    {
     "data": {
      "text/plain": [
       "19"
      ]
     },
     "execution_count": 30,
     "metadata": {},
     "output_type": "execute_result"
    }
   ],
   "source": [
    "list4 = [5,3,4,6,1]\n",
    "\n",
    "Summation= 0\n",
    "for e in (list4):\n",
    "    Summation += e\n",
    "\n",
    "Summation"
   ]
  },
  {
   "cell_type": "code",
   "execution_count": 29,
   "id": "92fc8c5b-2c14-48d7-af91-f37d05a409db",
   "metadata": {},
   "outputs": [
    {
     "name": "stdout",
     "output_type": "stream",
     "text": [
      "19\n"
     ]
    }
   ],
   "source": [
    "list4 = [5, 3, 4, 6, 1]\n",
    "\n",
    "Summation = 0\n",
    "for e in list4:\n",
    "    Summation += e\n",
    "\n",
    "print(Summation)"
   ]
  },
  {
   "cell_type": "code",
   "execution_count": 34,
   "id": "51139865-ab2d-4bac-95dd-ccce8bf62551",
   "metadata": {},
   "outputs": [
    {
     "data": {
      "text/plain": [
       "6"
      ]
     },
     "execution_count": 34,
     "metadata": {},
     "output_type": "execute_result"
    }
   ],
   "source": [
    "list4 = [5, 3, 4, 6, 1]\n",
    "\n",
    "max(list4)"
   ]
  },
  {
   "cell_type": "code",
   "execution_count": 35,
   "id": "362a34a4-ae11-4099-acf3-422a24813606",
   "metadata": {},
   "outputs": [
    {
     "data": {
      "text/plain": [
       "1"
      ]
     },
     "execution_count": 35,
     "metadata": {},
     "output_type": "execute_result"
    }
   ],
   "source": [
    "min(list4)"
   ]
  },
  {
   "cell_type": "code",
   "execution_count": 43,
   "id": "21004598-d738-4539-a035-8fd3b2a2ac17",
   "metadata": {},
   "outputs": [
    {
     "data": {
      "text/plain": [
       "{'a', 'b', 'c', 'd'}"
      ]
     },
     "execution_count": 43,
     "metadata": {},
     "output_type": "execute_result"
    }
   ],
   "source": [
    "mylist = [\"a\", \"b\", \"a\", \"c\", \"c\" , \"d\" , \"b\"]\n",
    "New_data= set(mylist)\n",
    "New_data"
   ]
  },
  {
   "cell_type": "code",
   "execution_count": 54,
   "id": "64fecb40-c78e-4cd4-8e17-b99e2ec03f74",
   "metadata": {},
   "outputs": [
    {
     "ename": "TypeError",
     "evalue": "'builtin_function_or_method' object is not iterable",
     "output_type": "error",
     "traceback": [
      "\u001b[1;31m---------------------------------------------------------------------------\u001b[0m",
      "\u001b[1;31mTypeError\u001b[0m                                 Traceback (most recent call last)",
      "Cell \u001b[1;32mIn[54], line 3\u001b[0m\n\u001b[0;32m      1\u001b[0m d \u001b[38;5;241m=\u001b[39m {\u001b[38;5;124m'\u001b[39m\u001b[38;5;124mk1\u001b[39m\u001b[38;5;124m'\u001b[39m:{\u001b[38;5;124m'\u001b[39m\u001b[38;5;124mk2\u001b[39m\u001b[38;5;124m'\u001b[39m:\u001b[38;5;124m'\u001b[39m\u001b[38;5;124mhello\u001b[39m\u001b[38;5;124m'\u001b[39m}}\n\u001b[1;32m----> 3\u001b[0m \u001b[38;5;28;01mfor\u001b[39;00m k,v \u001b[38;5;129;01min\u001b[39;00m d\u001b[38;5;241m.\u001b[39mitems:\n\u001b[0;32m      4\u001b[0m     \u001b[38;5;28;01mif\u001b[39;00m v \u001b[38;5;241m==\u001b[39m \u001b[38;5;124m'\u001b[39m\u001b[38;5;124mhello\u001b[39m\u001b[38;5;124m'\u001b[39m:\n\u001b[0;32m      5\u001b[0m         \u001b[38;5;28mprint\u001b[39m(v)\n",
      "\u001b[1;31mTypeError\u001b[0m: 'builtin_function_or_method' object is not iterable"
     ]
    }
   ],
   "source": [
    "d = {'k1':{'k2':'hello'}}\n",
    "\n",
    "for k,v in d.items:\n",
    "    if v == 'hello':\n",
    "        print(v)\n",
    "        "
   ]
  },
  {
   "cell_type": "code",
   "execution_count": null,
   "id": "8c49a2e0-f662-44d1-8f2c-ca268713683d",
   "metadata": {},
   "outputs": [],
   "source": [
    "## <p style=\"color:green;\">Q.14 Write a Python script to add a key to a dictionary.</p>\n",
    "> Sample Dictionary : {0: 10, 1: 20}\n",
    "\n",
    "> Expected Result : {0: 10, 1: 20, 2: 30}\n",
    "\n",
    "\n"
   ]
  },
  {
   "cell_type": "code",
   "execution_count": 56,
   "id": "84c8e9ae-f5b8-4e83-be87-7a11165e3110",
   "metadata": {},
   "outputs": [
    {
     "data": {
      "text/plain": [
       "{0: 10, 1: 20, 2: 30}"
      ]
     },
     "execution_count": 56,
     "metadata": {},
     "output_type": "execute_result"
    }
   ],
   "source": [
    "Sample_dictionary = {0: 10, 1: 20}\n",
    "\n",
    "Sample_dictionary.update({2: 30})\n",
    "\n",
    "Sample_dictionary"
   ]
  },
  {
   "cell_type": "code",
   "execution_count": 62,
   "id": "740f82de-7a0b-477d-bd6a-ab0388125dff",
   "metadata": {},
   "outputs": [
    {
     "data": {
      "text/plain": [
       "60"
      ]
     },
     "execution_count": 62,
     "metadata": {},
     "output_type": "execute_result"
    }
   ],
   "source": [
    "example_dictionary = {\"Ahmed\": 10, \"Asser\": 20,\"Malek\": 30}\n",
    "\n",
    "sum(example_dictionary.values())"
   ]
  },
  {
   "cell_type": "code",
   "execution_count": 65,
   "id": "58d8a10b-2db8-4fc2-a3c6-c3dc6109cc8e",
   "metadata": {},
   "outputs": [
    {
     "name": "stdout",
     "output_type": "stream",
     "text": [
      "('Salma', 'Mohamed', 'ibrahim', 'Dalia', 'shady')\n"
     ]
    }
   ],
   "source": [
    "test= (\"Salma\" , \"Mohamed\", \"ibrahim\", \"Dalia\")\n",
    "test=list(test)\n",
    "test.append(\"shady\")\n",
    "test=tuple(test)\n",
    "print(test)"
   ]
  },
  {
   "cell_type": "code",
   "execution_count": 73,
   "id": "ca72eb9d-62af-45ed-81fa-7cbacacd2655",
   "metadata": {},
   "outputs": [
    {
     "data": {
      "text/plain": [
       "str"
      ]
     },
     "execution_count": 73,
     "metadata": {},
     "output_type": "execute_result"
    }
   ],
   "source": [
    "test = (\"Salma\", \"Mohamed\", \"ibrahim\", \"Dalia\")\n",
    "test = str(test)\n",
    "type(test)"
   ]
  },
  {
   "cell_type": "code",
   "execution_count": 72,
   "id": "e1831067-6f45-411d-8757-9fe1a2a51531",
   "metadata": {},
   "outputs": [
    {
     "data": {
      "text/plain": [
       "str"
      ]
     },
     "execution_count": 72,
     "metadata": {},
     "output_type": "execute_result"
    }
   ],
   "source": [
    "test = (\"Salma\", \"Mohamed\", \"ibrahim\", \"Dalia\")\n",
    "test = str(test)\n",
    "type(test)"
   ]
  },
  {
   "cell_type": "code",
   "execution_count": 75,
   "id": "219e3f60-f8f9-4e5c-9fe3-5ddcf567637e",
   "metadata": {},
   "outputs": [
    {
     "data": {
      "text/plain": [
       "{1, 2, 6, 8}"
      ]
     },
     "execution_count": 75,
     "metadata": {},
     "output_type": "execute_result"
    }
   ],
   "source": [
    "set_example = { 1 , 2, 4 ,8 , 6}\n",
    "\n",
    "set_example.discard(4)\n",
    "\n",
    "set_example"
   ]
  },
  {
   "cell_type": "code",
   "execution_count": 77,
   "id": "d0481c8a-48d5-4652-ba74-b843c5c74cb8",
   "metadata": {},
   "outputs": [
    {
     "data": {
      "text/plain": [
       "{1, 2, 3, 4, 5, 6, 8, 9}"
      ]
     },
     "execution_count": 77,
     "metadata": {},
     "output_type": "execute_result"
    }
   ],
   "source": [
    "set_first = { 2,4,5, 6, 8, 9}\n",
    "set_second = { 1,4, 6, 3, 9}\n",
    "\n",
    "set_first.union(set_second)"
   ]
  },
  {
   "cell_type": "code",
   "execution_count": 78,
   "id": "d6a3ec69-c421-4e4d-b51b-feac2c977f8d",
   "metadata": {},
   "outputs": [
    {
     "name": "stdout",
     "output_type": "stream",
     "text": [
      "[1, 2, [3, 4, 'goodbye']]\n"
     ]
    }
   ],
   "source": [
    "list3 = str( [1,2,[3,4,'hello']])\n",
    "list3 = list3.replace('hello', 'goodbye')\n",
    "print(list3)"
   ]
  },
  {
   "cell_type": "code",
   "execution_count": 79,
   "id": "e831efdd-9126-478e-bb6a-035028a3c5fd",
   "metadata": {},
   "outputs": [
    {
     "name": "stdout",
     "output_type": "stream",
     "text": [
      "['k1']\n"
     ]
    }
   ],
   "source": [
    "d = {'k1':{'k2':'hello'}}\n",
    "\n",
    "d=list({'k1':{'k2':'hello'}})\n",
    "\n",
    "for e in range(len(d)):\n",
    "    if e == 'hello':\n",
    "        e=='goodbye' \n",
    "\n",
    "print(d)\n",
    "\n"
   ]
  },
  {
   "cell_type": "code",
   "execution_count": 83,
   "id": "6dbd03be-1407-41b5-933c-aff98e03e467",
   "metadata": {},
   "outputs": [
    {
     "data": {
      "text/plain": [
       "'hello'"
      ]
     },
     "execution_count": 83,
     "metadata": {},
     "output_type": "execute_result"
    }
   ],
   "source": [
    "d = {'k1':{'k2':'hello'}}\n",
    "\n",
    "nested_dict = d.get('k1')\n",
    "value = nested_dict.get('k2')\n",
    "\n",
    "value"
   ]
  },
  {
   "cell_type": "code",
   "execution_count": null,
   "id": "7834e7c7-9bc5-4da5-af3a-1e2e77934d49",
   "metadata": {},
   "outputs": [],
   "source": [
    "## <p style=\"color:orange;\">Q.12 Using keys and indexing, grab the 'hello' from the following dictionaries:</p>\n",
    "> d = {'k1':[{'nest_key':['this is deep',['hello']]}]}\n",
    "\n",
    "nested_dict = d.get('k1')\n",
    "value = nested_dict.get('k2')\n",
    "\n",
    "value"
   ]
  },
  {
   "cell_type": "code",
   "execution_count": 88,
   "id": "f06bcb16-a249-46ac-ac38-48bd3174aae8",
   "metadata": {},
   "outputs": [
    {
     "data": {
      "text/plain": [
       "''"
      ]
     },
     "execution_count": 88,
     "metadata": {},
     "output_type": "execute_result"
    }
   ],
   "source": [
    "st = 'Print only the words that start with s in this sentence'\n",
    "words = st.split()\n",
    "\n",
    "New_Phrase= \"\"\n",
    "for word in words:\n",
    "    if [e][0] == \"s\":\n",
    "        New_Phrase =+ word\n",
    "\n",
    "New_Phrase"
   ]
  },
  {
   "cell_type": "code",
   "execution_count": 1,
   "id": "7964b8dc-01e9-4a91-990d-0635a7b24261",
   "metadata": {},
   "outputs": [
    {
     "data": {
      "text/plain": [
       "{4, 6, 9}"
      ]
     },
     "execution_count": 1,
     "metadata": {},
     "output_type": "execute_result"
    }
   ],
   "source": [
    "set_first = { 2,4,5, 6, 8, 9}\n",
    "set_second = { 1,4, 6, 3, 9}\n",
    "\n",
    "set_first.intersection(set_second)"
   ]
  },
  {
   "cell_type": "code",
   "execution_count": null,
   "id": "5b631139-491c-4191-915d-18cc18f95c7b",
   "metadata": {},
   "outputs": [],
   "source": []
  }
 ],
 "metadata": {
  "kernelspec": {
   "display_name": "Python 3 (ipykernel)",
   "language": "python",
   "name": "python3"
  },
  "language_info": {
   "codemirror_mode": {
    "name": "ipython",
    "version": 3
   },
   "file_extension": ".py",
   "mimetype": "text/x-python",
   "name": "python",
   "nbconvert_exporter": "python",
   "pygments_lexer": "ipython3",
   "version": "3.9.19"
  }
 },
 "nbformat": 4,
 "nbformat_minor": 5
}
