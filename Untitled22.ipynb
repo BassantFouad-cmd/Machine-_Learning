{
 "cells": [
  {
   "cell_type": "code",
   "execution_count": 10,
   "id": "819057ca-6a3a-4495-b1be-7c6dfb067fff",
   "metadata": {},
   "outputs": [],
   "source": [
    "name1= 'Levelheaded Llama'\n",
    "name2= 'Crazy Kangaroo'\n",
    "List_words_name1 = name1.split()\n",
    "List_words_name2 = name2.split()\n",
    "\n",
    "def begining_with_same_Letter(List_words_name1):\n",
    "    if name1[i][0] == name1[e][0] or name2[i][0] == name2[e][0]:\n",
    "        return(\"True\")\n",
    "    else:\n",
    "        return(\"false\")\n",
    "\n"
   ]
  },
  {
   "cell_type": "code",
   "execution_count": null,
   "id": "710796ce-715f-4abe-bab0-7e57de810001",
   "metadata": {},
   "outputs": [],
   "source": [
    "List_words_name1.begining_with_same_Letter("
   ]
  },
  {
   "cell_type": "code",
   "execution_count": 11,
   "id": "73e818f5-bcea-4e8c-9c36-0d634136b220",
   "metadata": {},
   "outputs": [
    {
     "data": {
      "text/plain": [
       "['Levelheaded', 'Llama']"
      ]
     },
     "execution_count": 11,
     "metadata": {},
     "output_type": "execute_result"
    }
   ],
   "source": [
    "\n",
    "\n",
    "\n",
    "name1= 'Levelheaded Llama'\n",
    "name2= 'Crazy Kangaroo'\n",
    "name1.split()\n"
   ]
  },
  {
   "cell_type": "code",
   "execution_count": null,
   "id": "9a901f73-def2-4632-8c8a-fce36e620009",
   "metadata": {},
   "outputs": [],
   "source": []
  }
 ],
 "metadata": {
  "kernelspec": {
   "display_name": "Python 3 (ipykernel)",
   "language": "python",
   "name": "python3"
  },
  "language_info": {
   "codemirror_mode": {
    "name": "ipython",
    "version": 3
   },
   "file_extension": ".py",
   "mimetype": "text/x-python",
   "name": "python",
   "nbconvert_exporter": "python",
   "pygments_lexer": "ipython3",
   "version": "3.9.19"
  }
 },
 "nbformat": 4,
 "nbformat_minor": 5
}
