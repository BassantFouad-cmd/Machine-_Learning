{
 "cells": [
  {
   "cell_type": "code",
   "execution_count": 3,
   "id": "240eb864-3a6b-450b-8003-67162e66a78a",
   "metadata": {},
   "outputs": [
    {
     "name": "stdin",
     "output_type": "stream",
     "text": [
      "enter the readius of the circele 10.3\n"
     ]
    },
    {
     "name": "stdout",
     "output_type": "stream",
     "text": [
      " the area is  454.0652000000001\n",
      "the Circumentance of the circle is  64.68400000000001\n"
     ]
    }
   ],
   "source": [
    "r= float(input(\"enter the readius of the circele\"))\n",
    "c = 2*3.14*r\n",
    "area= 2*2.14*r**2\n",
    "print(\" the area is \" , area)\n",
    "print(\"the Circumentance of the circle is \" , c)"
   ]
  },
  {
   "cell_type": "code",
   "execution_count": 4,
   "id": "38720d31-a801-445b-a539-fbc79be19f2b",
   "metadata": {},
   "outputs": [
    {
     "data": {
      "text/plain": [
       "3.141592653589793"
      ]
     },
     "execution_count": 4,
     "metadata": {},
     "output_type": "execute_result"
    }
   ],
   "source": [
    "import math\n",
    "math.pi\n"
   ]
  },
  {
   "cell_type": "code",
   "execution_count": 5,
   "id": "19e26f61-3d3a-4ff0-a4f3-5723c6753835",
   "metadata": {},
   "outputs": [
    {
     "name": "stdin",
     "output_type": "stream",
     "text": [
      "Please write your name Passat\n"
     ]
    },
    {
     "name": "stdout",
     "output_type": "stream",
     "text": [
      "hello Passat\n"
     ]
    }
   ],
   "source": [
    "name = str(input(\"Please write your name\"))\n",
    "print(\"hello\", name)"
   ]
  },
  {
   "cell_type": "code",
   "execution_count": 7,
   "id": "399d3393-c6da-468f-93a7-67067b6ae33c",
   "metadata": {},
   "outputs": [
    {
     "ename": "SyntaxError",
     "evalue": "invalid syntax (3244980984.py, line 1)",
     "output_type": "error",
     "traceback": [
      "\u001b[1;36m  Cell \u001b[1;32mIn[7], line 1\u001b[1;36m\u001b[0m\n\u001b[1;33m    var1,var2, var3, var4 = input().splint(,)\u001b[0m\n\u001b[1;37m                                           ^\u001b[0m\n\u001b[1;31mSyntaxError\u001b[0m\u001b[1;31m:\u001b[0m invalid syntax\n"
     ]
    }
   ],
   "source": [
    "var1,var2, var3, var4 = input().splint(,)"
   ]
  },
  {
   "cell_type": "code",
   "execution_count": 8,
   "id": "618c8d3a-9896-476a-8b46-2cd43f157c07",
   "metadata": {},
   "outputs": [
    {
     "data": {
      "text/plain": [
       "(10, 20, 30, 40)"
      ]
     },
     "execution_count": 8,
     "metadata": {},
     "output_type": "execute_result"
    }
   ],
   "source": [
    "10,20,30,40"
   ]
  },
  {
   "cell_type": "code",
   "execution_count": 12,
   "id": "23cde9b3-f406-4d17-b324-9a880bcdbe0b",
   "metadata": {},
   "outputs": [
    {
     "name": "stdin",
     "output_type": "stream",
     "text": [
      " 5,6,7,8\n"
     ]
    }
   ],
   "source": [
    "var1,var2, var3, var4 = str(input()).split(\",\")"
   ]
  },
  {
   "cell_type": "code",
   "execution_count": 13,
   "id": "d451307f-ac1c-41f9-9a84-63c7cafb6f41",
   "metadata": {},
   "outputs": [
    {
     "data": {
      "text/plain": [
       "'5'"
      ]
     },
     "execution_count": 13,
     "metadata": {},
     "output_type": "execute_result"
    }
   ],
   "source": [
    "var1"
   ]
  },
  {
   "cell_type": "code",
   "execution_count": 19,
   "id": "7a514a96-7a0c-4560-8e90-04de20c96b9f",
   "metadata": {},
   "outputs": [
    {
     "name": "stdin",
     "output_type": "stream",
     "text": [
      "please write a number 885\n"
     ]
    },
    {
     "name": "stdout",
     "output_type": "stream",
     "text": [
      "5\n"
     ]
    }
   ],
   "source": [
    "number= (input(\"please write a number\"))\n",
    "New_Number = number[-1]\n",
    "print(New_Number)"
   ]
  },
  {
   "cell_type": "code",
   "execution_count": 23,
   "id": "a5b68527-3371-4091-8e16-bb7834f80ed9",
   "metadata": {},
   "outputs": [
    {
     "name": "stdin",
     "output_type": "stream",
     "text": [
      "please write a number 885\n",
      "please write a number 774\n"
     ]
    },
    {
     "name": "stdout",
     "output_type": "stream",
     "text": [
      "9\n"
     ]
    }
   ],
   "source": [
    "number1= int(input(\"please write a number\"))\n",
    "number2= int(input(\"please write a number\"))\n",
    "\n",
    "print(int(number1%10) + int(number2%10))"
   ]
  },
  {
   "cell_type": "code",
   "execution_count": 39,
   "id": "48d93efe-5b9f-48af-84b1-950ff873edcb",
   "metadata": {},
   "outputs": [
    {
     "ename": "SyntaxError",
     "evalue": "invalid syntax (1543891188.py, line 7)",
     "output_type": "error",
     "traceback": [
      "\u001b[1;36m  Cell \u001b[1;32mIn[39], line 7\u001b[1;36m\u001b[0m\n\u001b[1;33m    print( \"it has \" years , \"and\" months , \"and\" days)\u001b[0m\n\u001b[1;37m                     ^\u001b[0m\n\u001b[1;31mSyntaxError\u001b[0m\u001b[1;31m:\u001b[0m invalid syntax\n"
     ]
    }
   ],
   "source": [
    "days = int(input(\"Please write the days\"))\n",
    "years = int(days // 365 )\n",
    "remaining_months = days % 360\n",
    "months = int(remaining_months // 30)\n",
    "days = int(months % 30)\n",
    "\n",
    "print( \"it has \" years , \"and\" months , \"and\" days)"
   ]
  },
  {
   "cell_type": "code",
   "execution_count": null,
   "id": "a4a07cfc-2887-4d45-a110-d329ed5dfd8b",
   "metadata": {},
   "outputs": [],
   "source": []
  }
 ],
 "metadata": {
  "kernelspec": {
   "display_name": "Python 3 (ipykernel)",
   "language": "python",
   "name": "python3"
  },
  "language_info": {
   "codemirror_mode": {
    "name": "ipython",
    "version": 3
   },
   "file_extension": ".py",
   "mimetype": "text/x-python",
   "name": "python",
   "nbconvert_exporter": "python",
   "pygments_lexer": "ipython3",
   "version": "3.9.19"
  }
 },
 "nbformat": 4,
 "nbformat_minor": 5
}
