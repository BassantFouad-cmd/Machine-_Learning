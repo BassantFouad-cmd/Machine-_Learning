{
 "cells": [
  {
   "cell_type": "code",
   "execution_count": 16,
   "id": "493e8171-f1bd-4343-8c3d-276d93c85993",
   "metadata": {},
   "outputs": [
    {
     "name": "stdout",
     "output_type": "stream",
     "text": [
      "Counter_odd = {5}  ,Counter_even =  {4}\n"
     ]
    }
   ],
   "source": [
    "msg = \"1g23A456b7c8Ahmed9\" # even odd\n",
    "\n",
    "Counter_odd= 0\n",
    "Counter_even=0\n",
    "\n",
    "for i in range(len(msg)):\n",
    "    if (msg[i]).isnumeric() == True :\n",
    "        if int(msg[i]) % 2 == 0 :\n",
    "            Counter_even += 1 \n",
    "        elif int(msg[i]) % 2 == 1:\n",
    "            Counter_odd += 1\n",
    "\n",
    "print(\"Counter_odd =\", {Counter_odd}  ,\" ,Counter_even = \" , {Counter_even})"
   ]
  },
  {
   "cell_type": "code",
   "execution_count": null,
   "id": "fd0ab357-f731-40ed-9e6a-a0e566753679",
   "metadata": {},
   "outputs": [],
   "source": []
  },
  {
   "cell_type": "code",
   "execution_count": 15,
   "id": "18634649-88ff-41b2-a3ad-fd80e848bc58",
   "metadata": {},
   "outputs": [
    {
     "name": "stdout",
     "output_type": "stream",
     "text": [
      "Counter_odd = 5, Counter_even = 4\n"
     ]
    }
   ],
   "source": [
    "msg = \"1g23A456b7c8Ahmed9\"\n",
    "\n",
    "Counter_odd = 0\n",
    "Counter_even = 0\n",
    "\n",
    "for e in range(len(msg)):\n",
    "    if msg[e].isdigit():  # Check if the character is a digit\n",
    "        if int(msg[e]) % 2 == 0:\n",
    "            Counter_even += 1\n",
    "        elif int(msg[e]) % 2 == 1:\n",
    "            Counter_odd += 1\n",
    "\n",
    "print(\"Counter_odd = \" + str(Counter_odd) + \", Counter_even = \" + str(Counter_even))"
   ]
  },
  {
   "cell_type": "code",
   "execution_count": 19,
   "id": "ecead877-16c7-421e-9ab3-8abdde580b75",
   "metadata": {},
   "outputs": [
    {
     "data": {
      "text/plain": [
       "4"
      ]
     },
     "execution_count": 19,
     "metadata": {},
     "output_type": "execute_result"
    }
   ],
   "source": [
    "numbers = [1, 2, 3, 4, 5, 6, 7, 8, 9]\n",
    "count_big = 0\n",
    "for e in range(len(numbers)):\n",
    "    if numbers[e] >= 6:\n",
    "        count_big += 1\n",
    "        \n",
    "count_big\n"
   ]
  },
  {
   "cell_type": "code",
   "execution_count": 40,
   "id": "f298f080-0470-4e2d-b20b-c18cf3d791ba",
   "metadata": {},
   "outputs": [
    {
     "data": {
      "text/plain": [
       "2"
      ]
     },
     "execution_count": 40,
     "metadata": {},
     "output_type": "execute_result"
    }
   ],
   "source": [
    "objects = ['Ahmed', 1, 2, 5, 8, 9, True, 6.0, '$', \"Mohamed\", \"Youssef\", 3, 4, \"$\", 0.0, 0, 4, 2, 0]\n",
    "even_count = 0\n",
    "for e in range(len(objects)):\n",
    "    if objects[e] == '$':\n",
    "        break\n",
    "    if type(objects[e]) == int and objects[e] % 2 == 0:\n",
    "        even_count+= 1\n",
    "        \n",
    "\n",
    "even_count"
   ]
  },
  {
   "cell_type": "code",
   "execution_count": 53,
   "id": "432647d5-c9aa-4afc-b9b3-bcb505dd532c",
   "metadata": {},
   "outputs": [
    {
     "data": {
      "text/plain": [
       "0"
      ]
     },
     "execution_count": 53,
     "metadata": {},
     "output_type": "execute_result"
    }
   ],
   "source": [
    "objects = ['Ahmed', 1, 2, 5, 8, 9, '$', True, 6.0, '$', \"Mohamed\", \"Youssef\", 3, 4, \"$\", 0.0, 0, 4, 2, 0]\n",
    "\n",
    "string_count = 0\n",
    "\n",
    "for e in range(len(objects)):\n",
    "        if type(objects[e]) == str and len(objects[e]) % 2 == 0  and  objects[e][0] != '$':\n",
    "            string_count += 1\n",
    "        \n",
    "string_count\n"
   ]
  },
  {
   "cell_type": "code",
   "execution_count": 54,
   "id": "36d9e9da-3e80-4aa0-8210-f8415dff0c0a",
   "metadata": {},
   "outputs": [
    {
     "name": "stdout",
     "output_type": "stream",
     "text": [
      "alpha_count = 1\n"
     ]
    }
   ],
   "source": [
    "objects = ['Ahmed', 1, 2, 5, 8, 9, '$', True, 6.0, '$', \"Mohamed\", \"Youssef\", 3, 4, \"$\", 0.0, 0, 4, 2, 0]\n",
    "\n",
    "alpha_count = 0\n",
    "for e in range(len(objects)):\n",
    "    if objects[e] == '$':\n",
    "        break\n",
    "    if isinstance(objects[e], str):\n",
    "        alpha_count += 1\n",
    "\n",
    "print(\"alpha_count =\", alpha_count)"
   ]
  },
  {
   "cell_type": "code",
   "execution_count": 56,
   "id": "c9e0bc34-7a71-4587-80f6-f114dd607e99",
   "metadata": {},
   "outputs": [
    {
     "data": {
      "text/plain": [
       "[6, 8]"
      ]
     },
     "execution_count": 56,
     "metadata": {},
     "output_type": "execute_result"
    }
   ],
   "source": [
    "objects = ['Ahmed', \"Mohamed\", \"Yara\", 1, 3, 5, 6, 7, 8]\n",
    "result = []\n",
    "\n",
    "for e in range(len(objects)):\n",
    "    if type(objects[e]) == int and objects[e] % 2 == 0 :\n",
    "        result.append(objects[e])\n",
    "\n",
    "\n",
    "result"
   ]
  },
  {
   "cell_type": "code",
   "execution_count": 65,
   "id": "790cfb28-8c99-4251-979b-974f9d10c37f",
   "metadata": {},
   "outputs": [
    {
     "data": {
      "text/plain": [
       "[1, 3, 5]"
      ]
     },
     "execution_count": 65,
     "metadata": {},
     "output_type": "execute_result"
    }
   ],
   "source": [
    "numbers = [1, 2, 3, 4, 5]\n",
    "new_numbers = []\n",
    "\n",
    "for e in range(len(numbers)):\n",
    "    if type(numbers[e]) == int and numbers[e] % 2 == 1:\n",
    "        new_numbers.append(numbers[e])\n",
    "new_numbers"
   ]
  },
  {
   "cell_type": "code",
   "execution_count": 66,
   "id": "a5c8eb4b-d1c7-4936-b84d-d472126046d5",
   "metadata": {},
   "outputs": [
    {
     "data": {
      "text/plain": [
       "[2, 4]"
      ]
     },
     "execution_count": 66,
     "metadata": {},
     "output_type": "execute_result"
    }
   ],
   "source": [
    "numbers = [1, 2, 3, 4, 5]\n",
    "new_numbers = []\n",
    "\n",
    "for e in range(len(numbers)):\n",
    "    if type(numbers[e]) == int and numbers[e] % 2 != 1:\n",
    "        new_numbers.append(numbers[e])\n",
    "new_numbers"
   ]
  },
  {
   "cell_type": "code",
   "execution_count": 22,
   "id": "7a7eb6c1-850b-4ce4-bfc4-131b7104faec",
   "metadata": {},
   "outputs": [
    {
     "data": {
      "text/plain": [
       "('mohamed', 'youssef', 'yara')"
      ]
     },
     "execution_count": 22,
     "metadata": {},
     "output_type": "execute_result"
    }
   ],
   "source": [
    "names = ('AhMed', \"MOHamed\", \"AsmmA\", \"Youssef\", \"Abd-Elrahman\", \"YARa\")\n",
    "\n",
    "\n",
    "names= list(names)\n",
    "\n",
    "new_names= []\n",
    "\n",
    "for e in range(len(names)):\n",
    "    if names[e][0].lower() != \"a\" :\n",
    "        new_names.append(names[e].lower())\n",
    "        \n",
    "new_names= tuple(new_names)     \n",
    "new_names"
   ]
  },
  {
   "cell_type": "code",
   "execution_count": 16,
   "id": "bcfd8703-653e-4eff-bc68-751e942ccb30",
   "metadata": {},
   "outputs": [
    {
     "ename": "AttributeError",
     "evalue": "'dict' object has no attribute 'itemes'",
     "output_type": "error",
     "traceback": [
      "\u001b[1;31m---------------------------------------------------------------------------\u001b[0m",
      "\u001b[1;31mAttributeError\u001b[0m                            Traceback (most recent call last)",
      "Cell \u001b[1;32mIn[16], line 36\u001b[0m\n\u001b[0;32m      1\u001b[0m country_salaries \u001b[38;5;241m=\u001b[39m {\n\u001b[0;32m      2\u001b[0m     \u001b[38;5;124m'\u001b[39m\u001b[38;5;124mEgypt\u001b[39m\u001b[38;5;124m'\u001b[39m: \u001b[38;5;241m20000\u001b[39m,\n\u001b[0;32m      3\u001b[0m     \u001b[38;5;124m'\u001b[39m\u001b[38;5;124mUS\u001b[39m\u001b[38;5;124m'\u001b[39m: \u001b[38;5;241m597032\u001b[39m,\n\u001b[1;32m   (...)\u001b[0m\n\u001b[0;32m     32\u001b[0m     \u001b[38;5;124m'\u001b[39m\u001b[38;5;124mBelgium\u001b[39m\u001b[38;5;124m'\u001b[39m: \u001b[38;5;241m510000\u001b[39m,\n\u001b[0;32m     33\u001b[0m     \u001b[38;5;124m'\u001b[39m\u001b[38;5;124mSwitzerland\u001b[39m\u001b[38;5;124m'\u001b[39m: \u001b[38;5;241m600000\u001b[39m}\n\u001b[0;32m     35\u001b[0m counter\u001b[38;5;241m=\u001b[39m\u001b[38;5;241m0\u001b[39m\n\u001b[1;32m---> 36\u001b[0m \u001b[38;5;28;01mfor\u001b[39;00m k, v \u001b[38;5;129;01min\u001b[39;00m \u001b[43mcountry_salaries\u001b[49m\u001b[38;5;241;43m.\u001b[39;49m\u001b[43mitemes\u001b[49m():\n\u001b[0;32m     37\u001b[0m     \u001b[38;5;28;01mif\u001b[39;00m v \u001b[38;5;241m>\u001b[39m \u001b[38;5;241m30000\u001b[39m:\n\u001b[0;32m     38\u001b[0m         counter\u001b[38;5;241m+\u001b[39m\u001b[38;5;241m=\u001b[39m\u001b[38;5;241m1\u001b[39m\n",
      "\u001b[1;31mAttributeError\u001b[0m: 'dict' object has no attribute 'itemes'"
     ]
    }
   ],
   "source": [
    "country_salaries = {\n",
    "    'Egypt': 20000,\n",
    "    'US': 597032,\n",
    "    'KSA': 407032,\n",
    "    'Canada': 500000,\n",
    "    'Australia': 450000,\n",
    "    'UK': 550000,\n",
    "    'Germany': 600000,\n",
    "    'France': 550000,\n",
    "    'Italy': 450000,\n",
    "    'Spain': 420000,\n",
    "    'Japan': 620000,\n",
    "    'South Korea': 580000,\n",
    "    'China': 540000,\n",
    "    'India': 150000,\n",
    "    'Brazil': 220000,\n",
    "    'Argentina': 200000,\n",
    "    'Russia': 300000,\n",
    "    'South Africa': 180000,\n",
    "    'Nigeria': 100000,\n",
    "    'Mexico': 240000,\n",
    "    'Chile': 190000,\n",
    "    'Colombia': 180000,\n",
    "    'Peru': 170000,\n",
    "    'Turkey': 250000,\n",
    "    'Greece': 180000,\n",
    "    'Sweden': 500000,\n",
    "    'Norway': 550000,\n",
    "    'Denmark': 520000,\n",
    "    'Finland': 480000,\n",
    "    'Netherlands': 530000,\n",
    "    'Belgium': 510000,\n",
    "    'Switzerland': 600000}\n",
    "\n",
    "counter=0\n",
    "for k, v in country_salaries.itemes():\n",
    "    if v > 30000:\n",
    "        counter+=1\n",
    "\n",
    "counter"
   ]
  },
  {
   "cell_type": "code",
   "execution_count": null,
   "id": "e4efe7b1-917c-42be-9d2d-7020ce4a7a09",
   "metadata": {},
   "outputs": [],
   "source": []
  },
  {
   "cell_type": "code",
   "execution_count": null,
   "id": "f275a475-6f0e-4fcf-b04e-2426aa3fe9dd",
   "metadata": {},
   "outputs": [],
   "source": []
  }
 ],
 "metadata": {
  "kernelspec": {
   "display_name": "Python 3 (ipykernel)",
   "language": "python",
   "name": "python3"
  },
  "language_info": {
   "codemirror_mode": {
    "name": "ipython",
    "version": 3
   },
   "file_extension": ".py",
   "mimetype": "text/x-python",
   "name": "python",
   "nbconvert_exporter": "python",
   "pygments_lexer": "ipython3",
   "version": "3.9.19"
  }
 },
 "nbformat": 4,
 "nbformat_minor": 5
}
