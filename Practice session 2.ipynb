{
 "cells": [
  {
   "cell_type": "code",
   "execution_count": 2,
   "id": "c68abaf3-455b-43c6-837e-130e27230032",
   "metadata": {},
   "outputs": [
    {
     "data": {
      "text/plain": [
       "'Ahmed $li'"
      ]
     },
     "execution_count": 2,
     "metadata": {},
     "output_type": "execute_result"
    }
   ],
   "source": [
    "name=\"Ahmed ali\" \n",
    "name.replace(name[-3],\"$\")\n"
   ]
  },
  {
   "cell_type": "code",
   "execution_count": 6,
   "id": "dca0f197-5c41-4491-9f64-3874013dbfd4",
   "metadata": {},
   "outputs": [
    {
     "data": {
      "text/plain": [
       "'ah$ed $oha$ed'"
      ]
     },
     "execution_count": 6,
     "metadata": {},
     "output_type": "execute_result"
    }
   ],
   "source": [
    "test=\"ahmed mohamed\"\n",
    "test.replace(\"m\",\"$\")"
   ]
  },
  {
   "cell_type": "code",
   "execution_count": 12,
   "id": "5b3daf56-ac7f-4669-9d0d-f09e02970ada",
   "metadata": {},
   "outputs": [
    {
     "name": "stdout",
     "output_type": "stream",
     "text": [
      "xyc\n",
      "abz\n"
     ]
    }
   ],
   "source": [
    "name1=\"xyz\"\n",
    "name2=\"abc\"\n",
    "### XYC\n",
    "### abz\n",
    "name1_New=name1[:-1]+name2[-1]\n",
    "name2_New=name2[:-1]+name1[-1]\n",
    "print(name1_New)\n",
    "print(name2_New)"
   ]
  },
  {
   "cell_type": "code",
   "execution_count": 14,
   "id": "c7b59e93-6bee-4490-849c-8653523725d3",
   "metadata": {},
   "outputs": [
    {
     "data": {
      "text/plain": [
       "10"
      ]
     },
     "execution_count": 14,
     "metadata": {},
     "output_type": "execute_result"
    }
   ],
   "source": [
    "additional=\"pythonread\"\n",
    "len(additional)\n"
   ]
  },
  {
   "cell_type": "code",
   "execution_count": 16,
   "id": "8f6415a2-1ee2-4e27-9be8-0eb5a3582b47",
   "metadata": {},
   "outputs": [
    {
     "name": "stdout",
     "output_type": "stream",
     "text": [
      "pythoread\n"
     ]
    }
   ],
   "source": [
    "additional=\"pythonread\"\n",
    "additional_new = additional[0:5] + additional[6:]\n",
    "\n",
    "print(additional_new)"
   ]
  },
  {
   "cell_type": "code",
   "execution_count": 19,
   "id": "5b424289-5671-4cc3-be78-ad9514f36ce2",
   "metadata": {},
   "outputs": [
    {
     "name": "stdin",
     "output_type": "stream",
     "text": [
      "Please write your speed 80\n"
     ]
    },
    {
     "name": "stdout",
     "output_type": "stream",
     "text": [
      "you are good to go\n"
     ]
    }
   ],
   "source": [
    "limit_speed=100\n",
    "User_speed= int(input(\"Please write your speed\"))\n",
    "\n",
    "if User_speed > limit_speed :\n",
    "    print(\"you are exceeding the limit of the speed\")\n",
    "else:\n",
    "    print(\"you are good to go\")\n",
    "    "
   ]
  },
  {
   "cell_type": "code",
   "execution_count": 32,
   "id": "efc6b403-2691-4d76-aca9-eee296464067",
   "metadata": {},
   "outputs": [
    {
     "name": "stdin",
     "output_type": "stream",
     "text": [
      "Please entre four numbers sperated by a space: 10 20 30 40\n"
     ]
    },
    {
     "name": "stdout",
     "output_type": "stream",
     "text": [
      "No\n"
     ]
    }
   ],
   "source": [
    "num1 , num2, num3, num4=input(\"Please entre four numbers sperated by a space:\").split()\n",
    "if int(num1)* int(num2) > int(num3)*int(num4):\n",
    " print(\"yes\")\n",
    "else:\n",
    "    print(\"No\")       \n",
    "                         "
   ]
  },
  {
   "cell_type": "code",
   "execution_count": 41,
   "id": "e62321a7-73c6-4dc2-a5f0-da6b8c38f039",
   "metadata": {},
   "outputs": [
    {
     "name": "stdin",
     "output_type": "stream",
     "text": [
      "Please entre a number 35\n"
     ]
    },
    {
     "name": "stdout",
     "output_type": "stream",
     "text": [
      "the number is deavisble by 7\n"
     ]
    }
   ],
   "source": [
    "number=int(input(\"Please entre a number\"))\n",
    "if int(number)% 7== 0:\n",
    "           print(\"the number is deavisble by 7\")\n",
    "elif int(number)% 5== 0:\n",
    "           print(\"the number is deavisble by 5\")\n",
    "else:\n",
    "  print(\"Not available\")"
   ]
  },
  {
   "cell_type": "code",
   "execution_count": null,
   "id": "e152e461-ac18-4109-bdd0-0142e2d74764",
   "metadata": {},
   "outputs": [],
   "source": []
  },
  {
   "cell_type": "code",
   "execution_count": null,
   "id": "53dbac84-f670-4794-afae-f4ca44231e5b",
   "metadata": {},
   "outputs": [],
   "source": []
  }
 ],
 "metadata": {
  "kernelspec": {
   "display_name": "Python 3 (ipykernel)",
   "language": "python",
   "name": "python3"
  },
  "language_info": {
   "codemirror_mode": {
    "name": "ipython",
    "version": 3
   },
   "file_extension": ".py",
   "mimetype": "text/x-python",
   "name": "python",
   "nbconvert_exporter": "python",
   "pygments_lexer": "ipython3",
   "version": "3.9.19"
  }
 },
 "nbformat": 4,
 "nbformat_minor": 5
}
