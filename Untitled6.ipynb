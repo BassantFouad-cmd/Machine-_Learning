{
 "cells": [
  {
   "cell_type": "code",
   "execution_count": null,
   "id": "a98cf248-e9f4-4ccf-859c-2863e8e9d95a",
   "metadata": {},
   "outputs": [],
   "source": [
    "## Task-5:\n",
    "# sum numeric values from this string 'Ahm123456784$###2#1#'\n",
    "# ignore numbers after '$'. also ignore any values > 6 EX:(7, 8, 9)\n",
    "# your result should be: 25"
   ]
  },
  {
   "cell_type": "code",
   "execution_count": 30,
   "id": "0b4bdee3-6400-4cc1-a4e7-a6d2e281329c",
   "metadata": {},
   "outputs": [
    {
     "ename": "IndentationError",
     "evalue": "unexpected indent (3458886377.py, line 3)",
     "output_type": "error",
     "traceback": [
      "\u001b[1;36m  Cell \u001b[1;32mIn[30], line 3\u001b[1;36m\u001b[0m\n\u001b[1;33m    for i in range(len(name)):\u001b[0m\n\u001b[1;37m    ^\u001b[0m\n\u001b[1;31mIndentationError\u001b[0m\u001b[1;31m:\u001b[0m unexpected indent\n"
     ]
    }
   ],
   "source": [
    "name ='Ahm123456784$###2#1#'\n",
    "Summation =0\n",
    " for i in range(len(name)):\n",
    "     if name[i] == \"$\":\n",
    "         break \n",
    "     elif name[i].isnumeric == True and int(name[i]) < 6 :\n",
    "         continue\n",
    "     elif name[i].isnumeric() == True:\n",
    "         Summation=Summation+1"
   ]
  },
  {
   "cell_type": "code",
   "execution_count": 34,
   "id": "b2413202-09a5-4c30-aa40-e0e21c25a9ae",
   "metadata": {},
   "outputs": [
    {
     "ename": "NameError",
     "evalue": "name 'summation' is not defined",
     "output_type": "error",
     "traceback": [
      "\u001b[1;31m---------------------------------------------------------------------------\u001b[0m",
      "\u001b[1;31mNameError\u001b[0m                                 Traceback (most recent call last)",
      "Cell \u001b[1;32mIn[34], line 10\u001b[0m\n\u001b[0;32m      8\u001b[0m         \u001b[38;5;28;01mcontinue\u001b[39;00m\n\u001b[0;32m      9\u001b[0m     \u001b[38;5;28;01melif\u001b[39;00m name[i]\u001b[38;5;241m.\u001b[39misnumeric():\n\u001b[1;32m---> 10\u001b[0m         Summation_New \u001b[38;5;241m=\u001b[39m \u001b[43msummation\u001b[49m \u001b[38;5;241m+\u001b[39m \u001b[38;5;28mint\u001b[39m( name[i])\n\u001b[0;32m     12\u001b[0m \u001b[38;5;28mprint\u001b[39m(Summation)\n",
      "\u001b[1;31mNameError\u001b[0m: name 'summation' is not defined"
     ]
    }
   ],
   "source": [
    "name = 'Ahm123456784$###2#1#'\n",
    "Summation = 0\n",
    "\n",
    "for i in range(len(name)):\n",
    "    if name[i] == \"$\":\n",
    "        break\n",
    "    elif name[i].isnumeric() and int(name[i]) < 6:\n",
    "        continue\n",
    "    elif name[i].isnumeric():\n",
    "        Summation_New = summation + int( name[i])\n",
    "\n",
    "print(Summation)"
   ]
  },
  {
   "cell_type": "code",
   "execution_count": 70,
   "id": "22b89deb-bed8-492e-9042-82ddf5098012",
   "metadata": {},
   "outputs": [
    {
     "name": "stdout",
     "output_type": "stream",
     "text": [
      "19\n"
     ]
    }
   ],
   "source": [
    "name = 'Ahm123456784$###2#1#'\n",
    "Summation = 0\n",
    "\n",
    "for i in range(len(name)):\n",
    "    if name[i] == \"$\":\n",
    "        break\n",
    "    elif name[i].isnumeric() and int(name[i]) < 6:\n",
    "        Summation +=int(name[i])\n",
    "\n",
    "print(Summation)"
   ]
  },
  {
   "cell_type": "code",
   "execution_count": 67,
   "id": "c44388ec-7b22-4c39-8b5e-2a1dbec118b8",
   "metadata": {},
   "outputs": [
    {
     "name": "stdout",
     "output_type": "stream",
     "text": [
      "19\n"
     ]
    }
   ],
   "source": [
    "name = 'Ahm123456784$###2#1#'\n",
    "Summation = 0\n",
    "\n",
    "for i in range(len(name)):\n",
    "    if name[i] == \"$\":\n",
    "        break\n",
    "    elif name[i].isnumeric() and int(name[i]) < 6:\n",
    "        Summation += int(name[i])\n",
    "\n",
    "print(Summation)"
   ]
  },
  {
   "cell_type": "code",
   "execution_count": null,
   "id": "2eff4fc6-be73-413c-b5ed-07142d1dc772",
   "metadata": {},
   "outputs": [],
   "source": [
    "# Answer here \n",
    "# circumfrance = 2 * 3.14 * r\n",
    "# area 3.14 * r**2"
   ]
  },
  {
   "cell_type": "code",
   "execution_count": null,
   "id": "66bcd19c-6396-4bfe-a654-4bb24c6deb92",
   "metadata": {},
   "outputs": [],
   "source": [
    "# Q.1 Given the radius of circle, print circumference and area of circle\n"
   ]
  },
  {
   "cell_type": "code",
   "execution_count": 73,
   "id": "159ac863-dd9e-4472-8dbd-e3c71cebe611",
   "metadata": {},
   "outputs": [
    {
     "name": "stdout",
     "output_type": "stream",
     "text": [
      "31.400000000000002\n",
      "78.5\n"
     ]
    }
   ],
   "source": [
    "r = 5\n",
    "circumfrance= 2*3.14* r\n",
    "area= 3.14* r**2\n",
    "print(circumfrance)\n",
    "print(area)\n"
   ]
  },
  {
   "cell_type": "code",
   "execution_count": 97,
   "id": "bac744ed-462c-4b9a-b6ff-c952ddb36eeb",
   "metadata": {},
   "outputs": [
    {
     "ename": "AttributeError",
     "evalue": "'str' object has no attribute 'isunmeric'",
     "output_type": "error",
     "traceback": [
      "\u001b[1;31m---------------------------------------------------------------------------\u001b[0m",
      "\u001b[1;31mAttributeError\u001b[0m                            Traceback (most recent call last)",
      "Cell \u001b[1;32mIn[97], line 4\u001b[0m\n\u001b[0;32m      2\u001b[0m new_check \u001b[38;5;241m=\u001b[39m\u001b[38;5;124m\"\u001b[39m\u001b[38;5;124m\"\u001b[39m\n\u001b[0;32m      3\u001b[0m \u001b[38;5;28;01mfor\u001b[39;00m i \u001b[38;5;129;01min\u001b[39;00m \u001b[38;5;28mrange\u001b[39m(\u001b[38;5;28mlen\u001b[39m(check)):\n\u001b[1;32m----> 4\u001b[0m     \u001b[38;5;28;01mif\u001b[39;00m check[i] \u001b[38;5;241m==\u001b[39m \u001b[38;5;124m\"\u001b[39m\u001b[38;5;124mk\u001b[39m\u001b[38;5;124m\"\u001b[39m \u001b[38;5;129;01mor\u001b[39;00m \u001b[38;5;28mint\u001b[39m(\u001b[43mcheck\u001b[49m\u001b[43m[\u001b[49m\u001b[43mi\u001b[49m\u001b[43m]\u001b[49m\u001b[38;5;241;43m.\u001b[39;49m\u001b[43misunmeric\u001b[49m()) \u001b[38;5;241m==\u001b[39m \u001b[38;5;28;01mTrue\u001b[39;00m:\n\u001b[0;32m      5\u001b[0m         \u001b[38;5;28;01mbreak\u001b[39;00m \n\u001b[0;32m      6\u001b[0m     \u001b[38;5;28;01melif\u001b[39;00m check[i]\u001b[38;5;241m.\u001b[39misalpha() \u001b[38;5;241m==\u001b[39m \u001b[38;5;28;01mTrue\u001b[39;00m:\n",
      "\u001b[1;31mAttributeError\u001b[0m: 'str' object has no attribute 'isunmeric'"
     ]
    }
   ],
   "source": [
    "check =\"'k1':{'k2':'hello'}\"\n",
    "new_check =\"\"\n",
    "for i in range(len(check)):\n",
    "    if check[i] == \"k\" or check[i].isunmeric() == True:\n",
    "        break \n",
    "    elif check[i].isalpha() == True:\n",
    "        new_check += check[i]\n",
    "print (new_check)"
   ]
  },
  {
   "cell_type": "code",
   "execution_count": 106,
   "id": "1572568a-750c-4939-b1d8-3199246baf1c",
   "metadata": {},
   "outputs": [
    {
     "name": "stdout",
     "output_type": "stream",
     "text": [
      "hello\n"
     ]
    }
   ],
   "source": [
    "check = \"'k1':{'k2':'hello'}\"\n",
    "new_check =\"\"\n",
    "\n",
    "for i in range(len(check)):\n",
    "    if check[i] == \"k\" or check[i].isnumeric():\n",
    "        continue\n",
    "    elif check[i].isalpha():\n",
    "        new_check += check[i]\n",
    "\n",
    "print(new_check)"
   ]
  },
  {
   "cell_type": "code",
   "execution_count": 105,
   "id": "53f5389b-40be-43e6-8d89-6694eb50d3b5",
   "metadata": {},
   "outputs": [
    {
     "name": "stdout",
     "output_type": "stream",
     "text": [
      "hello\n"
     ]
    }
   ],
   "source": [
    "check ='k1k2hello'\n",
    "new_check =\"\"\n",
    "\n",
    "for i in range(len(check)):\n",
    "    if check[i] == \"k\" or check[i].isnumeric():\n",
    "        continue\n",
    "    elif check[i].isalpha():\n",
    "        new_check =new_check + check[i]\n",
    "\n",
    "print(new_check)"
   ]
  },
  {
   "cell_type": "code",
   "execution_count": 104,
   "id": "498aaa51-e33d-4123-93d3-daf480a82662",
   "metadata": {},
   "outputs": [
    {
     "name": "stdout",
     "output_type": "stream",
     "text": [
      "hello\n"
     ]
    }
   ],
   "source": [
    "check = 'k1k2hello'\n",
    "new_check = \"\"\n",
    "\n",
    "for i in range(len(check)):\n",
    "    if check[i] == \"k\" or check[i].isnumeric():\n",
    "        continue  # Skip 'k' and numeric characters\n",
    "    elif check[i].isalpha():\n",
    "        new_check += check[i]\n",
    "\n",
    "print(new_check)"
   ]
  },
  {
   "cell_type": "code",
   "execution_count": null,
   "id": "bde2964e-5a87-4700-b1ed-9d703e9257df",
   "metadata": {},
   "outputs": [],
   "source": [
    "test = {'k1':[1,2,{'k2':['this is tricky',{'tough':[1,2,['hello']]}]}]}"
   ]
  },
  {
   "cell_type": "code",
   "execution_count": null,
   "id": "8fe4fc69-eef5-4d18-b4a1-df8362f6afa5",
   "metadata": {},
   "outputs": [],
   "source": []
  },
  {
   "cell_type": "code",
   "execution_count": null,
   "id": "37bfb418-2228-439b-bf16-83e94cf3d1d6",
   "metadata": {},
   "outputs": [],
   "source": [
    "## <p style=\"color:red;\">Q.13 Using keys and indexing, grab the 'hello' from the following dictionaries:</p>\n",
    "d = {'k1':[1,2,{'k2':['this is tricky',{'tough':[1,2,['hello']]}]}]}"
   ]
  },
  {
   "cell_type": "code",
   "execution_count": 110,
   "id": "8e1a79e0-54da-46aa-a631-98db0d8f13fe",
   "metadata": {},
   "outputs": [
    {
     "data": {
      "text/plain": [
       "40"
      ]
     },
     "execution_count": 110,
     "metadata": {},
     "output_type": "execute_result"
    }
   ],
   "source": [
    "name = 'Ahm123456784$###2#1#'\n",
    "Summation = 0\n",
    "\n",
    "for i in range(len(name)):\n",
    "     if name[i] == \"$\":\n",
    "        break \n",
    "     elif name[i].isalpha() == True:\n",
    "        continue \n",
    "     elif name[i].isnumeric() == True:\n",
    "        Summation+= int(name[i])\n",
    "Summation"
   ]
  },
  {
   "cell_type": "code",
   "execution_count": null,
   "id": "405c76b3-40f6-4b48-b409-0e9b6812c821",
   "metadata": {},
   "outputs": [],
   "source": [
    "sum numeric values from this string 'Ahm12345678$###2#1#'\n",
    "ignore numbers after '$'. also ignore any values > 6 EX:(7, 8, 9)\n",
    "your result should be: 21"
   ]
  },
  {
   "cell_type": "code",
   "execution_count": 119,
   "id": "4477660e-0750-4bcd-8c17-80edd2b7ddca",
   "metadata": {},
   "outputs": [
    {
     "data": {
      "text/plain": [
       "15"
      ]
     },
     "execution_count": 119,
     "metadata": {},
     "output_type": "execute_result"
    }
   ],
   "source": [
    "string='Ahm12345678$###2#1#'\n",
    "Summation=0\n",
    "\n",
    "for i in range(len(string)):\n",
    "    if string[i]== \"$\":\n",
    "        break \n",
    "    elif string[i].isnumeric() and int(string[i]) >= 6:\n",
    "        continue \n",
    "    elif string[i].isnumeric():\n",
    "        Summation+=int(string[i])\n",
    "\n",
    "Summation"
   ]
  },
  {
   "cell_type": "code",
   "execution_count": null,
   "id": "82afb91c-f5eb-45a4-9cc7-b8c6a87494e6",
   "metadata": {},
   "outputs": [],
   "source": []
  },
  {
   "cell_type": "code",
   "execution_count": null,
   "id": "148fb7a8-a829-4d63-a858-ecfda7018659",
   "metadata": {},
   "outputs": [],
   "source": []
  }
 ],
 "metadata": {
  "kernelspec": {
   "display_name": "Python 3 (ipykernel)",
   "language": "python",
   "name": "python3"
  },
  "language_info": {
   "codemirror_mode": {
    "name": "ipython",
    "version": 3
   },
   "file_extension": ".py",
   "mimetype": "text/x-python",
   "name": "python",
   "nbconvert_exporter": "python",
   "pygments_lexer": "ipython3",
   "version": "3.9.19"
  }
 },
 "nbformat": 4,
 "nbformat_minor": 5
}
