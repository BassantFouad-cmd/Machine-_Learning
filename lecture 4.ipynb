{
 "cells": [
  {
   "cell_type": "code",
   "execution_count": null,
   "id": "7055e04f-08f5-4674-82fb-85d9de5fc9ea",
   "metadata": {},
   "outputs": [],
   "source": [
    "number=float(input(\"Please write the number\"))\n",
    "\n",
    "if number > 0 and number % 2 == 0:\n",
    "    print(\"the number is Positive even\")\n",
    "elif number < 0 and number % 2 == 0:\n",
    "    print(\"the number is Negative even\")\n",
    "else:\n",
    "    print(\"the number is odd\")"
   ]
  },
  {
   "cell_type": "code",
   "execution_count": 1,
   "id": "ba876dba-93c5-49e2-a359-211022b2db3a",
   "metadata": {},
   "outputs": [
    {
     "data": {
      "text/plain": [
       "'tassanp'"
      ]
     },
     "execution_count": 1,
     "metadata": {},
     "output_type": "execute_result"
    }
   ],
   "source": [
    "name=\"passant\"\n",
    "name[-1 ]+name[1:-1] + name[0]"
   ]
  },
  {
   "cell_type": "code",
   "execution_count": 25,
   "id": "de87198c-8d8e-43b2-8416-eb5c53431666",
   "metadata": {},
   "outputs": [
    {
     "name": "stdout",
     "output_type": "stream",
     "text": [
      "2 3 0 3\n"
     ]
    }
   ],
   "source": [
    "# msg = 'A123%^&☺️☻♥️' (calc each type of char exists how many times)\n",
    "\n",
    "msg ='AB123%^&*☻♥️' \n",
    "alpha_counter= 0\n",
    "numeric_counter=0\n",
    "special_counter=0\n",
    "alt_counter=0\n",
    "\n",
    "for e in msg :\n",
    "    if e.isalpha()== True:\n",
    "        alpha_counter=alpha_counter+1\n",
    "    elif e.isnumeric() == True:\n",
    "        numeric_counter = numeric_counter+1\n",
    "    elif e.isascii() == True and not not(e.isalnum()) :\n",
    "        special_counter=special_counter=+1\n",
    "    elif e.isascii() == False:\n",
    "        alt_counter=alt_counter+1\n",
    "\n",
    "print (alpha_counter ,numeric_counter,special_counter,alt_counter)\n"
   ]
  },
  {
   "cell_type": "code",
   "execution_count": 26,
   "id": "8d753e95-b18d-4561-a7dc-da0fc3d950ad",
   "metadata": {},
   "outputs": [
    {
     "data": {
      "text/plain": [
       "'️'"
      ]
     },
     "execution_count": 26,
     "metadata": {},
     "output_type": "execute_result"
    }
   ],
   "source": [
    "msg[-1]"
   ]
  },
  {
   "cell_type": "code",
   "execution_count": 27,
   "id": "f8ca5c4a-a717-427b-97d0-4a6b2ea78fae",
   "metadata": {},
   "outputs": [
    {
     "name": "stdout",
     "output_type": "stream",
     "text": [
      "2 3 4 3\n"
     ]
    }
   ],
   "source": [
    "msg = 'AB123%^&*☻♥️' # (calc each type of char exsist how many times)\n",
    "\n",
    "alpha_counter = 0\n",
    "num_counter = 0\n",
    "special_counter = 0\n",
    "alt_counter = 0\n",
    "\n",
    "for e in msg:\n",
    "    if e.isalpha():\n",
    "        alpha_counter += 1\n",
    "    elif e.isnumeric():\n",
    "        num_counter += 1\n",
    "    elif not(e.isalnum()) and e.isascii():\n",
    "        special_counter += 1\n",
    "    elif not(e.isascii()):\n",
    "        alt_counter += 1\n",
    "\n",
    "print(alpha_counter, num_counter, special_counter, alt_counter)"
   ]
  },
  {
   "cell_type": "code",
   "execution_count": 21,
   "id": "08c65f8e-aca4-4cd7-bcc8-68745fd7bfdb",
   "metadata": {},
   "outputs": [
    {
     "data": {
      "text/plain": [
       "'️'"
      ]
     },
     "execution_count": 21,
     "metadata": {},
     "output_type": "execute_result"
    }
   ],
   "source": [
    "msg[-1]\n"
   ]
  },
  {
   "cell_type": "code",
   "execution_count": 37,
   "id": "820693c9-a08d-4336-8bc4-009270852e97",
   "metadata": {},
   "outputs": [
    {
     "data": {
      "text/plain": [
       "'Shmed Syman'"
      ]
     },
     "execution_count": 37,
     "metadata": {},
     "output_type": "execute_result"
    }
   ],
   "source": [
    "# task-4:\n",
    "# make function replace(\"A\", \"S\") on next variable without using function .replace()\n",
    "name = 'Ahmed Ayman'\n",
    "result=\"\"\n",
    "\n",
    "for i in range(len(name)):\n",
    "    if name[i] ==\"A\":\n",
    "        result = result+\"S\"\n",
    "    else:\n",
    "        result=result+name[i]\n",
    "\n",
    "result\n"
   ]
  },
  {
   "cell_type": "code",
   "execution_count": null,
   "id": "7a797204-d343-4207-b979-a0cab259a07f",
   "metadata": {},
   "outputs": [],
   "source": [
    "# Task-5:\n",
    "# sum numeric values from this string 'Ahm12345678$###2#1#'\n",
    "# ignore numbers after '$'. also ignore any values > 6 EX:(7, 8, 9)\n",
    "# your result should be: 21"
   ]
  },
  {
   "cell_type": "code",
   "execution_count": 51,
   "id": "293020ed-1214-45e4-9a6c-273fdbae0f98",
   "metadata": {},
   "outputs": [
    {
     "ename": "SyntaxError",
     "evalue": "invalid syntax (2007301928.py, line 6)",
     "output_type": "error",
     "traceback": [
      "\u001b[1;36m  Cell \u001b[1;32mIn[51], line 6\u001b[1;36m\u001b[0m\n\u001b[1;33m    if name[i].isnumeric() == True and if int(name[i]) < 6:\u001b[0m\n\u001b[1;37m                                       ^\u001b[0m\n\u001b[1;31mSyntaxError\u001b[0m\u001b[1;31m:\u001b[0m invalid syntax\n"
     ]
    }
   ],
   "source": [
    "name = 'Ahm12345678$###2#1#'\n",
    "test_sum = 0\n",
    "for i in range(len(name)):\n",
    "    if name[i] == \"$\":\n",
    "        break \n",
    "        if name[i].isnumeric() == True and if int(name[i]) < 6:\n",
    "           continue\n",
    "        if name[i].isnumeric() == True:\n",
    "           test_sum = test_sum + int(test_sum[i])\n",
    "(test_sum)"
   ]
  },
  {
   "cell_type": "code",
   "execution_count": null,
   "id": "37f13826-f874-4b5b-809e-05c40c70c7e8",
   "metadata": {},
   "outputs": [],
   "source": []
  },
  {
   "cell_type": "code",
   "execution_count": null,
   "id": "700692ad-18bf-4d70-bde4-d6febeb2571a",
   "metadata": {},
   "outputs": [],
   "source": []
  }
 ],
 "metadata": {
  "kernelspec": {
   "display_name": "machine_learning",
   "language": "python",
   "name": "python3"
  },
  "language_info": {
   "codemirror_mode": {
    "name": "ipython",
    "version": 3
   },
   "file_extension": ".py",
   "mimetype": "text/x-python",
   "name": "python",
   "nbconvert_exporter": "python",
   "pygments_lexer": "ipython3",
   "version": "3.9.19"
  }
 },
 "nbformat": 4,
 "nbformat_minor": 5
}
