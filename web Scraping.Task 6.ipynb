{
 "cells": [
  {
   "cell_type": "code",
   "execution_count": 42,
   "metadata": {},
   "outputs": [],
   "source": [
    "import requests\n",
    "from bs4 import BeautifulSoup\n",
    "\n",
    "BASE_URL = \"https://jsonplaceholder.typicode.com/users\"\n",
    "res = requests.get(BASE_URL)\n",
    "Python_format = res.json()\n",
    "\n",
    "with open(\"Users_List.csv\", mode=\"w\", encoding=\"utf-8\") as fd:\n",
    "    \n",
    "    fd.write(\"user_id, name, username, email, Street_name ,suite ,city ,zipcode,geo_lat,geo_lng,phone,website \\n\")\n",
    "   \n",
    "    for i in range(len(Python_format)):\n",
    "\n",
    "        user_id = Python_format[i]['id']\n",
    "        name = Python_format[i]['name']\n",
    "        username = Python_format[i]['username']\n",
    "        email = Python_format[i]['email']\n",
    "        Street_name = Python_format[i]['address']['street']\n",
    "        suite = Python_format[i]['address']['suite']\n",
    "        city = Python_format[i]['address']['city']\n",
    "        zipcode = Python_format[i]['address']['zipcode']\n",
    "        geo_lat = Python_format[i]['address']['geo']['lat']\n",
    "        geo_lng = Python_format[i]['address']['geo']['lng']\n",
    "        phone = Python_format[i]['phone']\n",
    "        website = Python_format[i]['website']\n",
    "        fd.write(f\"\\\"{user_id}\\\",\\\"{ name}\\\",\\\"{username}\\\", \\\"{email}\\\" ,\\\"{Street_name}\\\",\\\"{suite}\\\" ,\\\"{city}\\\" ,\\\"{zipcode}\\\",\\\"{geo_lat}\\\",\\\"{geo_lng}\\\",\\\"{phone}\\\",\\\"{website}\\\" \\n\")\n",
    "    "
   ]
  },
  {
   "cell_type": "code",
   "execution_count": null,
   "metadata": {},
   "outputs": [],
   "source": []
  }
 ],
 "metadata": {
  "kernelspec": {
   "display_name": "Python 3",
   "language": "python",
   "name": "python3"
  },
  "language_info": {
   "codemirror_mode": {
    "name": "ipython",
    "version": 3
   },
   "file_extension": ".py",
   "mimetype": "text/x-python",
   "name": "python",
   "nbconvert_exporter": "python",
   "pygments_lexer": "ipython3",
   "version": "3.7.6"
  }
 },
 "nbformat": 4,
 "nbformat_minor": 4
}
