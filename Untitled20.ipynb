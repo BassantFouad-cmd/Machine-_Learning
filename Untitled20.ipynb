{
 "cells": [
  {
   "cell_type": "code",
   "execution_count": 16,
   "id": "c8e591b0-1ce8-418c-80a0-2566a7551bcb",
   "metadata": {},
   "outputs": [
    {
     "name": "stdin",
     "output_type": "stream",
     "text": [
      "Please entre an index 5\n",
      "Please entre an element 2\n"
     ]
    },
    {
     "name": "stdout",
     "output_type": "stream",
     "text": [
      "Please enter index within range\n",
      "[1, 2, 3]\n"
     ]
    }
   ],
   "source": [
    "\n",
    "numbers = [1, 2, 3]\n",
    "\n",
    "\n",
    "\n",
    "try:\n",
    "    Index_user = int(input(\"Please entre an index\"))\n",
    "    Elemnt_User = int(input(\"Please entre an element\"))\n",
    "\n",
    "    print(numbers[Index_user])\n",
    "    numbers.remove(Elemnt_User)\n",
    "    \n",
    "    Index_user > 2 == True\n",
    "    type(Elemnt_User) or type(Elemnt_User) == str\n",
    "\n",
    "except IndexError :\n",
    "    print(\"Please enter index within range\")\n",
    "except ValueError:\n",
    "    print(\"Please entre an integer number\")\n",
    "except TypeError:\n",
    "    print(\"Please enter a number\")\n",
    "print(numbers)\n"
   ]
  },
  {
   "cell_type": "code",
   "execution_count": 28,
   "id": "12755853-4c60-4305-8e87-b732491fcf20",
   "metadata": {},
   "outputs": [
    {
     "name": "stdin",
     "output_type": "stream",
     "text": [
      "Please enter an index 1\n"
     ]
    },
    {
     "name": "stdout",
     "output_type": "stream",
     "text": [
      "1 is a correct number with in the rane of length of numbers list\n",
      "[1, 2, 3]\n"
     ]
    }
   ],
   "source": [
    "numbers = [1, 2, 3]\n",
    "\n",
    "\n",
    "try:\n",
    "    Index_user = int(input(\"Please enter an index\"))\n",
    "    (numbers[Index_user])\n",
    "   \n",
    "\n",
    "except ValueError:\n",
    "    print(\"Please enter an number not a text\")\n",
    "\n",
    "except IndexError:\n",
    "    print(f\"Please enter an number within range  0: {len(numbers)-1 }\")\n",
    "\n",
    "else:\n",
    "    print(f\"{Index_user} is a correct number with in the rane of length of numbers list\")\n",
    "\n",
    "\n",
    "finally:\n",
    "    print(numbers)\n",
    "\n",
    "\n",
    " \n",
    " "
   ]
  },
  {
   "cell_type": "code",
   "execution_count": 40,
   "id": "d4cc6c01-8595-4e00-bda8-fc22df5dc0df",
   "metadata": {},
   "outputs": [
    {
     "ename": "TypeError",
     "evalue": "'int' object is not iterable",
     "output_type": "error",
     "traceback": [
      "\u001b[1;31m---------------------------------------------------------------------------\u001b[0m",
      "\u001b[1;31mTypeError\u001b[0m                                 Traceback (most recent call last)",
      "Cell \u001b[1;32mIn[40], line 4\u001b[0m\n\u001b[0;32m      1\u001b[0m fd \u001b[38;5;241m=\u001b[39m \u001b[38;5;28mopen\u001b[39m(\u001b[38;5;124m\"\u001b[39m\u001b[38;5;124mdata_collected.txt\u001b[39m\u001b[38;5;124m\"\u001b[39m , mode \u001b[38;5;241m=\u001b[39m \u001b[38;5;124m'\u001b[39m\u001b[38;5;124mw\u001b[39m\u001b[38;5;124m'\u001b[39m)\n\u001b[1;32m----> 4\u001b[0m Students_list \u001b[38;5;241m=\u001b[39m \u001b[38;5;28;43mlist\u001b[39;49m\u001b[43m(\u001b[49m\u001b[43mfd\u001b[49m\u001b[38;5;241;43m.\u001b[39;49m\u001b[43mwrite\u001b[49m\u001b[43m(\u001b[49m\u001b[43m \u001b[49m\u001b[38;5;124;43m\"\u001b[39;49m\u001b[38;5;124;43mMy Students are:\u001b[39;49m\u001b[38;5;130;43;01m\\n\u001b[39;49;00m\u001b[38;5;124;43m Ahmed \u001b[39;49m\u001b[38;5;130;43;01m\\n\u001b[39;49;00m\u001b[38;5;124;43m Mohamed \u001b[39;49m\u001b[38;5;130;43;01m\\n\u001b[39;49;00m\u001b[38;5;124;43m Youssef \u001b[39;49m\u001b[38;5;130;43;01m\\n\u001b[39;49;00m\u001b[38;5;124;43m\"\u001b[39;49m\u001b[43m)\u001b[49m\u001b[43m)\u001b[49m\n\u001b[0;32m      6\u001b[0m \u001b[38;5;28;01mfor\u001b[39;00m i \u001b[38;5;129;01min\u001b[39;00m fd \u001b[38;5;129;01min\u001b[39;00m \u001b[38;5;28mrange\u001b[39m(\u001b[38;5;241m1\u001b[39m,\u001b[38;5;28mlen\u001b[39m(Students_list)):\n\u001b[0;32m      7\u001b[0m     i\u001b[38;5;241m.\u001b[39mlower()\n",
      "\u001b[1;31mTypeError\u001b[0m: 'int' object is not iterable"
     ]
    }
   ],
   "source": [
    "fd = open(\"data_collected.txt\" , mode = 'w')\n",
    "\n",
    "\n",
    "Students_list = list(fd.write( \"My Students are:\\n Ahmed \\n Mohamed \\n Youssef \\n\"))\n",
    "\n",
    "for i in fd in range(1,len(Students_list)):\n",
    "    i.lower()\n"
   ]
  },
  {
   "cell_type": "code",
   "execution_count": 36,
   "id": "c3ed403e-90f4-44ed-b614-5e18329ef620",
   "metadata": {},
   "outputs": [],
   "source": [
    "fd.close()"
   ]
  },
  {
   "cell_type": "code",
   "execution_count": 43,
   "id": "e2c978a9-bad5-46e3-bfc2-ef92a1a58317",
   "metadata": {},
   "outputs": [],
   "source": [
    "fd = open(\"data_collected.txt\" , mode = 'a')\n",
    "New_fd = fd.write(\"\\n Asser\")\n",
    "fd.close()"
   ]
  },
  {
   "cell_type": "code",
   "execution_count": 44,
   "id": "a61276ca-3545-4b75-b486-768944163409",
   "metadata": {},
   "outputs": [
    {
     "data": {
      "text/plain": [
       "<_io.TextIOWrapper name='test.txt' mode='w' encoding='ascii'>"
      ]
     },
     "execution_count": 44,
     "metadata": {},
     "output_type": "execute_result"
    }
   ],
   "source": [
    "with open (\"test.txt\" , mode = 'w' , encoding= \"ascii\") as fd:\n",
    "    \n",
    "    fd.write(\"hello\\n\" *5)\n",
    "fd"
   ]
  },
  {
   "cell_type": "code",
   "execution_count": 68,
   "id": "e77c5dd1-f846-4e7c-a829-40f2f68b3541",
   "metadata": {},
   "outputs": [
    {
     "ename": "UnsupportedOperation",
     "evalue": "not writable",
     "output_type": "error",
     "traceback": [
      "\u001b[1;31m---------------------------------------------------------------------------\u001b[0m",
      "\u001b[1;31mUnsupportedOperation\u001b[0m                      Traceback (most recent call last)",
      "Cell \u001b[1;32mIn[68], line 9\u001b[0m\n\u001b[0;32m      6\u001b[0m modified_content \u001b[38;5;241m=\u001b[39m \u001b[38;5;124m\"\u001b[39m\u001b[38;5;130;01m\\n\u001b[39;00m\u001b[38;5;124m\"\u001b[39m\u001b[38;5;241m.\u001b[39mjoin(lines)\n\u001b[0;32m      8\u001b[0m \u001b[38;5;28;01mwith\u001b[39;00m \u001b[38;5;28mopen\u001b[39m (\u001b[38;5;124m\"\u001b[39m\u001b[38;5;124mtest.txt\u001b[39m\u001b[38;5;124m\"\u001b[39m , mode \u001b[38;5;241m=\u001b[39m \u001b[38;5;124m'\u001b[39m\u001b[38;5;124mr\u001b[39m\u001b[38;5;124m'\u001b[39m , encoding\u001b[38;5;241m=\u001b[39m \u001b[38;5;124m\"\u001b[39m\u001b[38;5;124mascii\u001b[39m\u001b[38;5;124m\"\u001b[39m) \u001b[38;5;28;01mas\u001b[39;00m fd:\n\u001b[1;32m----> 9\u001b[0m     \u001b[43mfd\u001b[49m\u001b[38;5;241;43m.\u001b[39;49m\u001b[43mwrite\u001b[49m\u001b[43m(\u001b[49m\u001b[43mmodified_content\u001b[49m\u001b[43m)\u001b[49m\n",
      "\u001b[1;31mUnsupportedOperation\u001b[0m: not writable"
     ]
    }
   ],
   "source": [
    "with open (\"test.txt\" , mode = 'r' , encoding= \"ascii\") as fd:\n",
    "   content = fd.read()\n",
    "\n",
    "lines = content.upper().split(\"\\n\")\n",
    "modified_content = \"\\n\".join(lines)\n",
    "\n",
    "with open (\"test.txt\" , mode = 'r' , encoding= \"ascii\") as fd:\n",
    "    fd.write(modified_content)"
   ]
  },
  {
   "cell_type": "code",
   "execution_count": 66,
   "id": "d8c125ca-311a-4295-b2ac-89baf0319ed4",
   "metadata": {},
   "outputs": [],
   "source": [
    "# Read the content from the file\n",
    "with open(\"test.txt\", mode='r', encoding=\"ascii\") as fd:\n",
    "    content = fd.read()\n",
    "\n",
    "\n",
    "modified_content = \"\\n\".join(lines)\n",
    "\n",
    "with open(\"test.txt\", mode='w', encoding=\"ascii\") as fd:\n",
    "    fd.write(modified_content)"
   ]
  },
  {
   "cell_type": "code",
   "execution_count": 71,
   "id": "07c6c186-abba-4c6e-a344-e474685b4a91",
   "metadata": {},
   "outputs": [
    {
     "ename": "TypeError",
     "evalue": "'str' object does not support item assignment",
     "output_type": "error",
     "traceback": [
      "\u001b[1;31m---------------------------------------------------------------------------\u001b[0m",
      "\u001b[1;31mTypeError\u001b[0m                                 Traceback (most recent call last)",
      "Cell \u001b[1;32mIn[71], line 6\u001b[0m\n\u001b[0;32m      2\u001b[0m     content \u001b[38;5;241m=\u001b[39m fd\u001b[38;5;241m.\u001b[39mread()\n\u001b[0;32m      4\u001b[0m lines \u001b[38;5;241m=\u001b[39m content\u001b[38;5;241m.\u001b[39msplit(\u001b[38;5;124m\"\u001b[39m\u001b[38;5;130;01m\\n\u001b[39;00m\u001b[38;5;124m\"\u001b[39m)\n\u001b[1;32m----> 6\u001b[0m content[\u001b[38;5;241m2\u001b[39m] \u001b[38;5;241m=\u001b[39m content[\u001b[38;5;241m2\u001b[39m]\u001b[38;5;241m.\u001b[39mcapitalize\n\u001b[0;32m      8\u001b[0m modified_content \u001b[38;5;241m=\u001b[39m \u001b[38;5;124m\"\u001b[39m\u001b[38;5;130;01m\\n\u001b[39;00m\u001b[38;5;124m\"\u001b[39m\u001b[38;5;241m.\u001b[39mjoin(lines)\n\u001b[0;32m     10\u001b[0m \u001b[38;5;28;01mwith\u001b[39;00m \u001b[38;5;28mopen\u001b[39m(\u001b[38;5;124m\"\u001b[39m\u001b[38;5;124mtest.txt\u001b[39m\u001b[38;5;124m\"\u001b[39m, mode\u001b[38;5;241m=\u001b[39m\u001b[38;5;124m'\u001b[39m\u001b[38;5;124mw\u001b[39m\u001b[38;5;124m'\u001b[39m, encoding\u001b[38;5;241m=\u001b[39m\u001b[38;5;124m\"\u001b[39m\u001b[38;5;124mascii\u001b[39m\u001b[38;5;124m\"\u001b[39m) \u001b[38;5;28;01mas\u001b[39;00m fd:\n",
      "\u001b[1;31mTypeError\u001b[0m: 'str' object does not support item assignment"
     ]
    }
   ],
   "source": [
    "with open(\"test.txt\", mode='r', encoding=\"ascii\") as fd:\n",
    "    content = fd.read()\n",
    "    \n",
    "lines = content.split(\"\\n\")\n",
    "\n",
    "content[2] = content[2].capitalize\n",
    "    \n",
    "modified_content = \"\\n\".join(lines)\n",
    "\n",
    "with open(\"test.txt\", mode='w', encoding=\"ascii\") as fd:\n",
    "    fd.write(modified_content)  "
   ]
  },
  {
   "cell_type": "code",
   "execution_count": 72,
   "id": "3944560e-c86d-46b9-b1a6-99b855451774",
   "metadata": {},
   "outputs": [],
   "source": [
    "with open(\"test.txt\", mode='r', encoding=\"ascii\") as fd:\n",
    "    content = fd.read()"
   ]
  },
  {
   "cell_type": "code",
   "execution_count": 77,
   "id": "af989552-cbfe-41e1-abd3-5eb16ada5f48",
   "metadata": {},
   "outputs": [],
   "source": [
    "fd = open(\"test.txt\", mode='r', encoding=\"ascii\")\n",
    "content = fd.read()\n",
    "fd.close()\n",
    "\n",
    "if len(lines) == 2:\n",
    "    lines = content.split(\"\\n\")\n",
    "\n",
    "lines[2] = lines[2].capitalize()\n",
    "\n",
    "modified_content = \"\\n\".join(lines)\n",
    "\n",
    "# Open the file in write mode and write the modified content back to the file\n",
    "fd = open(\"test.txt\", mode='w', encoding=\"ascii\")\n",
    "fd.write(modified_content)\n",
    "fd.close()"
   ]
  },
  {
   "cell_type": "code",
   "execution_count": null,
   "id": "68b64a1a-ffd5-4153-af1e-b8a35550d38f",
   "metadata": {},
   "outputs": [],
   "source": [
    "# Open the file in read mode and read its content\n",
    "fd = open(\"test.txt\", mode='r', encoding=\"ascii\")\n",
    "content = fd.read()\n",
    "fd.close()\n",
    "\n",
    "# Split the content into lines\n",
    "lines = content.split(\"\\n\")\n",
    "\n",
    "# Ensure there are at least three lines before accessing lines[2]\n",
    "if len(lines) > 2:\n",
    "    lines[2] = lines[2].capitalize()\n",
    "\n",
    "# Join the lines back into a single string with newline characters\n",
    "modified_content = \"\\n\".join(lines)\n",
    "\n",
    "# Open the file in write mode and write the modified content back to the file\n",
    "fd = open(\"test.txt\", mode='w', encoding=\"ascii\")\n",
    "fd.write(modif"
   ]
  },
  {
   "cell_type": "code",
   "execution_count": 80,
   "id": "06b82b93-40f3-4bc8-be2d-1469888f224e",
   "metadata": {},
   "outputs": [],
   "source": [
    "fd = open(\"test.txt\", mode='a', encoding=\"ascii\")\n",
    "fd.write(\"i love python\")\n",
    "fd.close()\n"
   ]
  },
  {
   "cell_type": "code",
   "execution_count": 21,
   "id": "a40603e6-1b9e-46c5-b505-e7caab21d787",
   "metadata": {},
   "outputs": [
    {
     "name": "stdin",
     "output_type": "stream",
     "text": [
      "Please write an integer number 1564\n"
     ]
    },
    {
     "name": "stdout",
     "output_type": "stream",
     "text": [
      "2446096\n",
      "the process is done\n"
     ]
    },
    {
     "ename": "TypeError",
     "evalue": "unsupported operand type(s) for ** or pow(): 'str' and 'int'",
     "output_type": "error",
     "traceback": [
      "\u001b[1;31m---------------------------------------------------------------------------\u001b[0m",
      "\u001b[1;31mTypeError\u001b[0m                                 Traceback (most recent call last)",
      "Cell \u001b[1;32mIn[21], line 7\u001b[0m\n\u001b[0;32m      5\u001b[0m     \u001b[38;5;28mprint\u001b[39m(\u001b[38;5;124m\"\u001b[39m\u001b[38;5;124m the Str can\u001b[39m\u001b[38;5;124m'\u001b[39m\u001b[38;5;124mt be powered\u001b[39m\u001b[38;5;124m\"\u001b[39m)\n\u001b[0;32m      6\u001b[0m \u001b[38;5;28;01melse\u001b[39;00m:\n\u001b[1;32m----> 7\u001b[0m     \u001b[38;5;28mprint\u001b[39m(\u001b[43mi\u001b[49m\u001b[38;5;241;43m*\u001b[39;49m\u001b[38;5;241;43m*\u001b[39;49m\u001b[38;5;241;43m2\u001b[39;49m)\n\u001b[0;32m      8\u001b[0m \u001b[38;5;28;01mfinally\u001b[39;00m:\n\u001b[0;32m      9\u001b[0m     \u001b[38;5;28mprint\u001b[39m(\u001b[38;5;124m\"\u001b[39m\u001b[38;5;124mthe process is done\u001b[39m\u001b[38;5;124m\"\u001b[39m)\n",
      "\u001b[1;31mTypeError\u001b[0m: unsupported operand type(s) for ** or pow(): 'str' and 'int'"
     ]
    }
   ],
   "source": [
    "\n",
    "    try:\n",
    "        number= int(input(\"Please write an integer number\"))\n",
    "        print( number **2)\n",
    "    except TypeError:\n",
    "        print(\" the Str can't be powered\")\n",
    "    except ValueError:\n",
    "        print(\"Please entre \n",
    "    else:\n",
    "        print(i**2)\n",
    "    finally:\n",
    "        print(\"the process is done\")\n",
    "    \n",
    "\n"
   ]
  },
  {
   "cell_type": "code",
   "execution_count": null,
   "id": "4cbd263c-8563-4ae6-8f51-4307033be835",
   "metadata": {},
   "outputs": [],
   "source": [
    "while True:\n",
    "    try:\n",
    "        number = int(input(\"Please write an integer number: \"))\n",
    "        print(f\"{number} ** 2 = {number ** 2}\")\n",
    "        break  # Exit the loop if a valid integer is entered\n",
    "    except ValueError:\n",
    "        print(\"Please write an integer number\")\n",
    "    finally:\n",
    "        print(\"The process is done\")"
   ]
  }
 ],
 "metadata": {
  "kernelspec": {
   "display_name": "Python 3 (ipykernel)",
   "language": "python",
   "name": "python3"
  },
  "language_info": {
   "codemirror_mode": {
    "name": "ipython",
    "version": 3
   },
   "file_extension": ".py",
   "mimetype": "text/x-python",
   "name": "python",
   "nbconvert_exporter": "python",
   "pygments_lexer": "ipython3",
   "version": "3.9.19"
  }
 },
 "nbformat": 4,
 "nbformat_minor": 5
}
