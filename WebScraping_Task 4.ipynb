{
 "cells": [
  {
   "cell_type": "code",
   "execution_count": 30,
   "metadata": {},
   "outputs": [],
   "source": [
    "import requests\n",
    "from bs4 import BeautifulSoup\n",
    "\n",
    "BASE_URL = \"https://www.scrapethissite.com/pages/simple/\"\n",
    "res = requests.get(BASE_URL)\n",
    "soup = BeautifulSoup(res.text, \"html.parser\")\n",
    "\n",
    "Listed_Countries = soup.find_all(\"div\", class_=\"country\")\n",
    "\n",
    "with open(\"Countries_List.csv\", mode=\"w\", encoding=\"utf-8\") as fd:\n",
    "    fd.write(\"Country_Name, Country_Capital, Country_Population, Country_Area\\n\")\n",
    "    \n",
    "    for Country in Listed_Countries:\n",
    "        Country_Name = Country.find(\"h3\", class_=\"country-name\").text.strip()\n",
    "        Country_Capital = Country.find(\"span\", class_=\"country-capital\").text.strip()\n",
    "        Country_Population = Country.find(\"span\", class_=\"country-population\").text.strip()\n",
    "        Country_Area = Country.find(\"span\", class_=\"country-area\").text.strip()\n",
    "        \n",
    "        fd.write(f\"\\\"{Country_Name}\\\", \\\"{Country_Capital}\\\", \\\"{Country_Population}\\\", \\\"{Country_Area}\\\"\\n\")\n"
   ]
  },
  {
   "cell_type": "code",
   "execution_count": null,
   "metadata": {},
   "outputs": [],
   "source": []
  }
 ],
 "metadata": {
  "kernelspec": {
   "display_name": "Python 3",
   "language": "python",
   "name": "python3"
  },
  "language_info": {
   "codemirror_mode": {
    "name": "ipython",
    "version": 3
   },
   "file_extension": ".py",
   "mimetype": "text/x-python",
   "name": "python",
   "nbconvert_exporter": "python",
   "pygments_lexer": "ipython3",
   "version": "3.7.6"
  }
 },
 "nbformat": 4,
 "nbformat_minor": 4
}
