{
 "cells": [
  {
   "cell_type": "code",
   "execution_count": 11,
   "id": "d6c990f5-960c-4b73-8752-155d985bcacc",
   "metadata": {},
   "outputs": [
    {
     "name": "stdin",
     "output_type": "stream",
     "text": [
      "Please entre two word string Ahmed Hamed\n"
     ]
    },
    {
     "name": "stdout",
     "output_type": "stream",
     "text": [
      "they aren't the same\n"
     ]
    }
   ],
   "source": [
    "\n",
    "\n",
    "\n",
    "def both_starts_with_same_letter(Two_words):\n",
    "    Two_word_String = input(\"Please entre two word string\")\n",
    "\n",
    "    Two_words = Two_word_String.split()\n",
    "    \n",
    "    if Two_words[0][0] == Two_words[1][0]:\n",
    "        print(\"they are same\")\n",
    "    else:\n",
    "        print(\"they aren't the same\")\n",
    "\n",
    "\n",
    "both_starts_with_same_letter(Two_words)"
   ]
  },
  {
   "cell_type": "code",
   "execution_count": 15,
   "id": "91aa0e12-fedb-42d7-8680-2f75cb1af2ac",
   "metadata": {},
   "outputs": [
    {
     "data": {
      "text/plain": [
       "5"
      ]
     },
     "execution_count": 15,
     "metadata": {},
     "output_type": "execute_result"
    }
   ],
   "source": [
    "\n",
    "def Check_lesser_and_greatwe (Number1, Number2):\n",
    "    if Number1 % 2 == 0 and Number2 % 2 == 0 :\n",
    "        return min (Number1, Number2)\n",
    "        \n",
    "    elif Number1 % 1 == 0 and Number2 % 1 == 0 :\n",
    "        return max (Number1, Number2)\n",
    "        \n",
    "Check_lesser_and_greatwe (2, 5)      "
   ]
  },
  {
   "cell_type": "code",
   "execution_count": 20,
   "id": "7a3bf57b-fceb-4428-a004-5d39b42d58ca",
   "metadata": {},
   "outputs": [],
   "source": [
    "\n",
    "def capitlize_the_first_and_the_forth_letters (Name):\n",
    "    for i in range(len(Name)):\n",
    "        Name = Name[0].capitalize() +Name[1:3]+Name[3].capitalize()+Name[4:]\n",
    "        return Name\n"
   ]
  },
  {
   "cell_type": "code",
   "execution_count": 22,
   "id": "ad5aac81-b5f4-426d-8e62-f283b59abf7a",
   "metadata": {},
   "outputs": [
    {
     "data": {
      "text/plain": [
       "'MacDonald'"
      ]
     },
     "execution_count": 22,
     "metadata": {},
     "output_type": "execute_result"
    }
   ],
   "source": [
    "capitlize_the_first_and_the_forth_letters (\"macdonald\")"
   ]
  },
  {
   "cell_type": "code",
   "execution_count": 39,
   "id": "c4d9c231-4a22-4ca8-ad97-3d89ac8996b3",
   "metadata": {},
   "outputs": [],
   "source": [
    "def sentence_with_the_words_reversed (Sentence):\n",
    "    List_words = Sentence.split()\n",
    "    List_words_reversed = List_words[::-1]\n",
    "    Final_Sentence = \" \".join(List_words_reversed)\n",
    "    return Final_Sentence"
   ]
  },
  {
   "cell_type": "code",
   "execution_count": 40,
   "id": "72a23c62-8747-43f5-a82d-eab0c1a0c216",
   "metadata": {},
   "outputs": [
    {
     "data": {
      "text/plain": [
       "'home am i'"
      ]
     },
     "execution_count": 40,
     "metadata": {},
     "output_type": "execute_result"
    }
   ],
   "source": [
    "sentence_with_the_words_reversed (\"i am home\")"
   ]
  },
  {
   "cell_type": "code",
   "execution_count": null,
   "id": "a9686799-e071-4188-81fc-53787999e350",
   "metadata": {},
   "outputs": [],
   "source": [
    "Here's the corrected version of your function:\n",
    "\n",
    "\n",
    "def sentence_with_the_words_reversed(Sentence):\n",
    "    # Split the sentence into a list of words\n",
    "    List_words = Sentence.split()\n",
    "\n",
    "    # Reverse the list of words\n",
    "    List_words_reversed = List_words[::-1]\n",
    "    Final_Sentence = \" \".join(List_words_reversed)\n",
    "    return Final_Sentence\n",
    "\n",
    "# Example usage\n",
    "Sentence = \"hello world this is a test\"\n",
    "reversed_sentence = sentence_with_the_words_reversed(Sentence)\n",
    "print(reversed_sentence)"
   ]
  },
  {
   "cell_type": "code",
   "execution_count": 38,
   "id": "2eb5a191-4b75-4b13-9d72-242df5e35ee7",
   "metadata": {},
   "outputs": [],
   "source": [
    "Sentence = \" i am home\"\n",
    "List_words = Sentence.split()\n",
    "List_words_reversed = List_words.reverse()\n",
    "List_words_reversed\n"
   ]
  },
  {
   "cell_type": "code",
   "execution_count": 78,
   "id": "ad0b5218-6db8-46aa-a3ce-a6851f012b6f",
   "metadata": {},
   "outputs": [],
   "source": [
    "def has_Three_Three(Numbers_list):\n",
    "    for i in range(len(Numbers_list)):\n",
    "        if Numbers_list[i] == 3 and Numbers_list[i+1] == 3:\n",
    "            return True\n",
    "        else:\n",
    "            return False \n"
   ]
  },
  {
   "cell_type": "code",
   "execution_count": 79,
   "id": "aa38e21c-7bb8-408c-b46e-704353bc3701",
   "metadata": {},
   "outputs": [
    {
     "data": {
      "text/plain": [
       "False"
      ]
     },
     "execution_count": 79,
     "metadata": {},
     "output_type": "execute_result"
    }
   ],
   "source": [
    "has_Three_Three([1,2,3,3,3,4])"
   ]
  },
  {
   "cell_type": "code",
   "execution_count": 72,
   "id": "65e558f0-2f46-4986-872c-d689721c765f",
   "metadata": {},
   "outputs": [],
   "source": [
    "def has_Three_Three(Numbers_list):\n",
    "    for i in range(len(Numbers_list) - 1):\n",
    "        if Numbers_list[i] == 3 and Numbers_list[i+1] == 3:\n",
    "            return True\n",
    "    return False"
   ]
  },
  {
   "cell_type": "code",
   "execution_count": 73,
   "id": "7132b1c3-1f1b-4a41-b526-98f3fd7a5a75",
   "metadata": {},
   "outputs": [
    {
     "data": {
      "text/plain": [
       "True"
      ]
     },
     "execution_count": 73,
     "metadata": {},
     "output_type": "execute_result"
    }
   ],
   "source": [
    "has_Three_Three([1,2,3,3,3,4])"
   ]
  },
  {
   "cell_type": "code",
   "execution_count": 94,
   "id": "edf4de1c-f5e4-4060-97eb-21b2febf0cb5",
   "metadata": {},
   "outputs": [],
   "source": [
    "\n",
    "def blackjack (Numbers_list_two):\n",
    "    Summation = sum(Numbers_list_two)\n",
    "    for i in range(1,12):        \n",
    "        if Summation <= 21:\n",
    "            return Summation\n",
    "        elif Summation >= 21 and set(Numbers_list_two).intersection({11,}) == {11,}:\n",
    "            return Summation -10\n",
    "        elif Summation > 21 :\n",
    "            return \"Bust\""
   ]
  },
  {
   "cell_type": "code",
   "execution_count": 96,
   "id": "580a0413-773f-4738-8546-bbc0f4fc6d45",
   "metadata": {},
   "outputs": [
    {
     "data": {
      "text/plain": [
       "19"
      ]
     },
     "execution_count": 96,
     "metadata": {},
     "output_type": "execute_result"
    }
   ],
   "source": [
    "blackjack ([9,9,11])"
   ]
  },
  {
   "cell_type": "code",
   "execution_count": 149,
   "id": "793f4dcd-dc6e-4305-b361-e63b675926d6",
   "metadata": {},
   "outputs": [],
   "source": [
    "def summer_69 (Numbers_list_three):\n",
    "    for i in range(len(Numbers_list_three)):\n",
    "        if Numbers_list_three[i] == 6:\n",
    "            index_6 = Numbers_list_three.index(6)\n",
    "            index_9 = Numbers_list_three.index(9)\n",
    "            remaining_first_list = Numbers_list_three[0:index_6]\n",
    "            remaining_second_list = Numbers_list_three[index_9::]\n",
    "            Summation =sum (remaining_first_list) + sum (remaining_second_list)\n",
    "            return Summation\n",
    "\n",
    "        else:\n",
    "            return sum (Numbers_list_three)"
   ]
  },
  {
   "cell_type": "code",
   "execution_count": 150,
   "id": "1be42509-6b6c-417b-af32-2644a5f1ddc8",
   "metadata": {},
   "outputs": [
    {
     "data": {
      "text/plain": [
       "12"
      ]
     },
     "execution_count": 150,
     "metadata": {},
     "output_type": "execute_result"
    }
   ],
   "source": [
    "summer_69 ([1,6,5])"
   ]
  },
  {
   "cell_type": "code",
   "execution_count": 151,
   "id": "fdce68a7-25ae-42e7-bd96-36e2bfa3b2e8",
   "metadata": {},
   "outputs": [
    {
     "data": {
      "text/plain": [
       "39"
      ]
     },
     "execution_count": 151,
     "metadata": {},
     "output_type": "execute_result"
    }
   ],
   "source": [
    "summer_69 ([4, 5, 6, 7, 8, 9])"
   ]
  },
  {
   "cell_type": "code",
   "execution_count": 152,
   "id": "e67e7dfd-5517-47dd-b9cf-2015e6cb710c",
   "metadata": {},
   "outputs": [],
   "source": [
    "def summer_69(Numbers_list_three):\n",
    "    add = True\n",
    "    total = 0\n",
    "\n",
    "    for num in Numbers_list_three:\n",
    "        if num == 6:\n",
    "            add = False\n",
    "        elif num == 9:\n",
    "            add = True\n",
    "        elif add:\n",
    "            total += num\n",
    "\n",
    "    return total"
   ]
  },
  {
   "cell_type": "code",
   "execution_count": 156,
   "id": "7fe5af94-8425-43aa-9dec-63b75159ffaa",
   "metadata": {},
   "outputs": [
    {
     "data": {
      "text/plain": [
       "14"
      ]
     },
     "execution_count": 156,
     "metadata": {},
     "output_type": "execute_result"
    }
   ],
   "source": [
    "summer_69 ([2, 1, 6, 9, 11])"
   ]
  },
  {
   "cell_type": "code",
   "execution_count": null,
   "id": "27b95164-31f0-4c84-b4c2-6817ef31df9d",
   "metadata": {},
   "outputs": [],
   "source": []
  }
 ],
 "metadata": {
  "kernelspec": {
   "display_name": "Python 3 (ipykernel)",
   "language": "python",
   "name": "python3"
  },
  "language_info": {
   "codemirror_mode": {
    "name": "ipython",
    "version": 3
   },
   "file_extension": ".py",
   "mimetype": "text/x-python",
   "name": "python",
   "nbconvert_exporter": "python",
   "pygments_lexer": "ipython3",
   "version": "3.9.19"
  }
 },
 "nbformat": 4,
 "nbformat_minor": 5
}
