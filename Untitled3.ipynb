{
 "cells": [
  {
   "cell_type": "code",
   "execution_count": null,
   "id": "27867c40-8d97-42c3-9a33-053ee79db73d",
   "metadata": {},
   "outputs": [],
   "source": [
    "var = 'Hello'\n",
    "var[1]\n"
   ]
  },
  {
   "cell_type": "code",
   "execution_count": null,
   "id": "bf5d3bcc-80a2-4d28-a345-e5f048ebe29a",
   "metadata": {},
   "outputs": [],
   "source": [
    "var[ : :-1]\n"
   ]
  },
  {
   "cell_type": "code",
   "execution_count": null,
   "id": "7efa4b10-9ac2-4af3-ad55-cd9a03d6c604",
   "metadata": {},
   "outputs": [],
   "source": [
    "name = (\"Passant\")\n",
    "\n",
    "name = \"t\" + name[1:6] + \"P\"\n",
    "\n",
    "print (name)\n"
   ]
  },
  {
   "cell_type": "code",
   "execution_count": null,
   "id": "a03e59b1-61d9-4c86-a643-ada2fa4f1602",
   "metadata": {},
   "outputs": [],
   "source": [
    "name = (\"Passant\")\n",
    "Counter = 0\n",
    "if name.isalpha()== True :\n",
    "Counter = Counter + 1"
   ]
  },
  {
   "cell_type": "code",
   "execution_count": null,
   "id": "9cb66a74-fa77-422b-b68f-e7067e3cb87f",
   "metadata": {},
   "outputs": [],
   "source": [
    "name = (\"Passant\")\n",
    "alpha_Counter = 0\n",
    "for e in name:\n",
    "if name.isalpha()== True\n",
    "alpha_Counter  = alpha_Counter +1"
   ]
  },
  {
   "cell_type": "code",
   "execution_count": 6,
   "id": "971d990e-2ce5-4a9a-a90a-317a9ba7641e",
   "metadata": {},
   "outputs": [
    {
     "ename": "IndentationError",
     "evalue": "expected an indented block (3181460992.py, line 4)",
     "output_type": "error",
     "traceback": [
      "\u001b[1;36m  Cell \u001b[1;32mIn[6], line 4\u001b[1;36m\u001b[0m\n\u001b[1;33m    if name.isalpha() == True:\u001b[0m\n\u001b[1;37m    ^\u001b[0m\n\u001b[1;31mIndentationError\u001b[0m\u001b[1;31m:\u001b[0m expected an indented block\n"
     ]
    }
   ],
   "source": [
    "name = \"Passant\"\n",
    "alpha_Counter = 0\n",
    "for e in name:\n",
    "if name.isalpha() == True:\n",
    "alpha_Counter  = alpha_Counter +1"
   ]
  },
  {
   "cell_type": "code",
   "execution_count": 12,
   "id": "4a8d54b7-ad26-42bb-9081-e9ab66e7ef0f",
   "metadata": {},
   "outputs": [
    {
     "name": "stdout",
     "output_type": "stream",
     "text": [
      "7\n"
     ]
    }
   ],
   "source": [
    "name = \"Passant\"\n",
    "alpha_Counter = 0\n",
    "for e in name:\n",
    "    if name.isalpha() == True:\n",
    "        alpha_Counter  = alpha_Counter +1\n",
    "print(alpha_Counter)"
   ]
  },
  {
   "cell_type": "code",
   "execution_count": 19,
   "id": "811a2acc-3bd5-4922-9a3c-bbfc1a69b419",
   "metadata": {},
   "outputs": [
    {
     "name": "stdout",
     "output_type": "stream",
     "text": [
      "k1':{'k2':'hello\n"
     ]
    }
   ],
   "source": [
    "d = \"{'k1':{'k2':'hello'}}\"\n",
    "d = d.strip()\n",
    "d = d.strip(\"}\")\n",
    "d = d.strip(\"{\")\n",
    "d = d.strip(\":\")\n",
    "d = d.strip(\"'\")\n",
    "print(d)"
   ]
  },
  {
   "cell_type": "code",
   "execution_count": 32,
   "id": "1dc8f120-f696-44bb-861f-2c289e9c4f7a",
   "metadata": {},
   "outputs": [
    {
     "name": "stdout",
     "output_type": "stream",
     "text": [
      "hello\n"
     ]
    }
   ],
   "source": [
    "d = \"{'k1':{'k2':'hello'}}\"\n",
    "\n",
    "d = d.replace(\"}\",\"\")\n",
    "d = d.replace(\"{\",\"\")\n",
    "d = d.replace(\":\",\"\")\n",
    "d = d.replace(\"'\",\"\")\n",
    "d = d.replace(\"k\",\"\")\n",
    "d = d.replace(\"1\",\"\")\n",
    "d = d.replace(\"2\",\"\")\n",
    "d = d.strip()\n",
    "print(d)"
   ]
  },
  {
   "cell_type": "code",
   "execution_count": 35,
   "id": "8a776b55-5aa5-46a5-9106-60fc31ce5cd2",
   "metadata": {},
   "outputs": [
    {
     "ename": "SyntaxError",
     "evalue": "invalid syntax (647009933.py, line 3)",
     "output_type": "error",
     "traceback": [
      "\u001b[1;36m  Cell \u001b[1;32mIn[35], line 3\u001b[1;36m\u001b[0m\n\u001b[1;33m    union = \" \" + .join(list1 + list2)\u001b[0m\n\u001b[1;37m                  ^\u001b[0m\n\u001b[1;31mSyntaxError\u001b[0m\u001b[1;31m:\u001b[0m invalid syntax\n"
     ]
    }
   ],
   "source": [
    "List1 = {..., -3, -2, -1, 0, 1, 2, 3, ...}\n",
    "List2 =  {0, 1, 2, 3, ...}\n",
    "union = \" \" + .join(list1 + list2) \n",
    "print(union)"
   ]
  },
  {
   "cell_type": "code",
   "execution_count": 4,
   "id": "627b66e3-539b-43dc-8b9f-99eeb54564b8",
   "metadata": {},
   "outputs": [
    {
     "ename": "IndexError",
     "evalue": "string index out of range",
     "output_type": "error",
     "traceback": [
      "\u001b[1;31m---------------------------------------------------------------------------\u001b[0m",
      "\u001b[1;31mIndexError\u001b[0m                                Traceback (most recent call last)",
      "Cell \u001b[1;32mIn[4], line 3\u001b[0m\n\u001b[0;32m      1\u001b[0m name \u001b[38;5;241m=\u001b[39m \u001b[38;5;124m\"\u001b[39m\u001b[38;5;124mPassant\u001b[39m\u001b[38;5;124m\"\u001b[39m\n\u001b[1;32m----> 3\u001b[0m name \u001b[38;5;241m=\u001b[39m \u001b[43mname\u001b[49m\u001b[43m[\u001b[49m\u001b[38;5;241;43m7\u001b[39;49m\u001b[43m]\u001b[49m \u001b[38;5;241m+\u001b[39m name[\u001b[38;5;241m1\u001b[39m:\u001b[38;5;241m6\u001b[39m] \u001b[38;5;241m+\u001b[39m name[\u001b[38;5;241m0\u001b[39m] \n\u001b[0;32m      5\u001b[0m \u001b[38;5;28mprint\u001b[39m (name)\n",
      "\u001b[1;31mIndexError\u001b[0m: string index out of range"
     ]
    }
   ],
   "source": [
    "name = \"Passant\"\n",
    "\n",
    "name = name[7] + name[1:6] + name[0] \n",
    "\n",
    "print (name)"
   ]
  },
  {
   "cell_type": "code",
   "execution_count": null,
   "id": "55d0bfa7-7bd7-4722-8309-4f2f584da343",
   "metadata": {},
   "outputs": [],
   "source": []
  },
  {
   "cell_type": "code",
   "execution_count": null,
   "id": "56be344d-5a21-4877-ada1-768ca876a83b",
   "metadata": {},
   "outputs": [],
   "source": []
  }
 ],
 "metadata": {
  "kernelspec": {
   "display_name": "Python 3 (ipykernel)",
   "language": "python",
   "name": "python3"
  },
  "language_info": {
   "codemirror_mode": {
    "name": "ipython",
    "version": 3
   },
   "file_extension": ".py",
   "mimetype": "text/x-python",
   "name": "python",
   "nbconvert_exporter": "python",
   "pygments_lexer": "ipython3",
   "version": "3.9.19"
  }
 },
 "nbformat": 4,
 "nbformat_minor": 5
}
