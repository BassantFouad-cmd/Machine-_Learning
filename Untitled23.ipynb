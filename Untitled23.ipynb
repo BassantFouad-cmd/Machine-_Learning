{
 "cells": [
  {
   "cell_type": "code",
   "execution_count": null,
   "id": "35f3fffe-12cb-48aa-8e5e-433bc89b09e9",
   "metadata": {},
   "outputs": [],
   "source": [
    "weekdays = [ \"sunday\" , \"monday\", \"tuesday\" , \"wednesday\" , \"Thursday\" , \"friday\" , \"saturday\"]\n",
    "result =  []\n",
    "\n",
    "while True:\n",
    "    Today = input(\"please entre today's date\")\n",
    "    for i in range(len(weekdays)):\n",
    "        if weekdays[i] == Today.lower():\n",
    "            result = [ weekdays [i+1] , weekdays [i+2], weekdays [i+3], weekdays [i+4], weekdays [i+5]]"
   ]
  },
  {
   "cell_type": "code",
   "execution_count": null,
   "id": "4ffcdd0f-74b4-41ed-b3d4-0fe65b4c853f",
   "metadata": {},
   "outputs": [],
   "source": [
    "weekdays = [ \"sunday\" , \"monday\", \"tuesday\" , \"wednesday\" , \"Thursday\" , \"friday\" , \"saturday\"]\n",
    "result =  []\n",
    "today = input(\"Please enter today's date: \").lower()\n",
    "\n",
    "def get_five_days_later (today):\n",
    "    for i in range(len(weekdays)):\n",
    "        if today = weekdays[i]:\n",
    "    return ({weekdays.remove(weekdays[i] ,weekdays[i-1]}\")"
   ]
  },
  {
   "cell_type": "code",
   "execution_count": null,
   "id": "395cae37-4934-4888-b97c-c4cf958c20e0",
   "metadata": {},
   "outputs": [],
   "source": [
    "get_five_days_later(\"Tuesday\")"
   ]
  },
  {
   "cell_type": "code",
   "execution_count": null,
   "id": "b3d70b08-771d-46ff-8144-f3ae74ec4683",
   "metadata": {},
   "outputs": [],
   "source": [
    "weekdays = [\"sunday\", \"monday\", \"tuesday\", \"wednesday\", \"thursday\", \"friday\", \"saturday\"]\n",
    "result = []\n",
    "\n",
    "today = input(\"Please enter today's date: \").lower()  # Convert input to lowercase for consistency\n",
    "\n",
    "def get_five_days_later(today):\n",
    "    # Find the index of the current day in the weekdays list\n",
    "    if today in weekdays:\n",
    "        today_index = weekdays.index(today)\n",
    "        # Calculate the index of the day 5 days later using modulo arithmetic\n",
    "        five_days_later_index = (today_index + 5) % len(weekdays)\n",
    "        return weekdays[five_days_later_index]\n",
    "    else:\n",
    "        return \"Invalid input, please enter a valid weekday.\"\n",
    "\n",
    "# Call the function and print the result\n",
    "print(get_five_days_later(today))\n"
   ]
  },
  {
   "cell_type": "code",
   "execution_count": null,
   "id": "3b21dc8c-4c28-4faf-ae44-1203fc2ea81d",
   "metadata": {},
   "outputs": [],
   "source": [
    "get_five_days_later(Tuesday)"
   ]
  },
  {
   "cell_type": "code",
   "execution_count": null,
   "id": "6fc1bc27-456d-49a0-9912-11c400432775",
   "metadata": {},
   "outputs": [],
   "source": [
    "\n"
   ]
  },
  {
   "cell_type": "code",
   "execution_count": null,
   "id": "3544488b-e763-4953-8df0-528367668fd6",
   "metadata": {},
   "outputs": [],
   "source": []
  },
  {
   "cell_type": "code",
   "execution_count": null,
   "id": "a1e90297-45f6-4408-934b-c84d86508bcc",
   "metadata": {},
   "outputs": [],
   "source": []
  },
  {
   "cell_type": "code",
   "execution_count": null,
   "id": "39d54059-12d3-417a-9d2e-5b74d43696e1",
   "metadata": {},
   "outputs": [],
   "source": []
  },
  {
   "cell_type": "code",
   "execution_count": null,
   "id": "7fef900b-5a62-4aa3-98f6-a99111c4bc11",
   "metadata": {},
   "outputs": [],
   "source": []
  },
  {
   "cell_type": "code",
   "execution_count": null,
   "id": "b5702463-fda4-44c3-8a5e-d5adb31c9efb",
   "metadata": {},
   "outputs": [],
   "source": []
  },
  {
   "cell_type": "code",
   "execution_count": null,
   "id": "1fa72fd6-acbc-4632-b717-281572831485",
   "metadata": {},
   "outputs": [],
   "source": []
  }
 ],
 "metadata": {
  "kernelspec": {
   "display_name": "Python 3 (ipykernel)",
   "language": "python",
   "name": "python3"
  },
  "language_info": {
   "codemirror_mode": {
    "name": "ipython",
    "version": 3
   },
   "file_extension": ".py",
   "mimetype": "text/x-python",
   "name": "python",
   "nbconvert_exporter": "python",
   "pygments_lexer": "ipython3",
   "version": "3.9.19"
  }
 },
 "nbformat": 4,
 "nbformat_minor": 5
}
