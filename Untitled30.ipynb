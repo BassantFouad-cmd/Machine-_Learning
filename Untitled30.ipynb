{
 "cells": [
  {
   "cell_type": "code",
   "execution_count": 150,
   "id": "161ba467-1e44-4511-8759-c40a61058543",
   "metadata": {},
   "outputs": [],
   "source": [
    "class Customer:\n",
    "    def __init__(self,name,age):\n",
    "        self.name = name \n",
    "        self.age = age \n",
    "        self.__balance = 0\n",
    "\n",
    "    def check_balance(self):\n",
    "        return self.__balance\n",
    "\n",
    "\n",
    "    def deposit(self, add_money):\n",
    "        if type(add_money) in [int, float] and add_money > 0:\n",
    "            self.__balance += add_money\n",
    "        else:\n",
    "            print(\"Invalid input\")\n",
    "\n",
    "    \n",
    "    def withdraw(self,get_money):\n",
    "        if get_money > self.__balance :\n",
    "            print(\"you don't have enough balance\")\n",
    "        elif type(get_money)  not in [int, float]:\n",
    "            print(\"Please write a number\")\n",
    "        else:\n",
    "            self.__balance == self.__balance - get_money\n",
    "\n",
    "    def setter_balance(self, new_balance):\n",
    "        if new_balance > 0 and type(new_balance) in [int, float] :\n",
    "            self.__balance = new_balance\n",
    "        else:\n",
    "            print(\"Invalid balance amount\")\n",
    "\n",
    "    def transfer(self,other,amount):\n",
    "        if amount < 0 and type(amount) in [int, float] :\n",
    "            print(\"Please entra a valied number\")\n",
    "        elif self.__balance < amount :\n",
    "            print(\"you don't have enough balance\")\n",
    "        else:\n",
    "            self.__balance = self.__balance - amount\n",
    "            other.__balance = other.__balance + amount\n",
    "            print(\"succsessful process\")\n",
    "\n",
    "        \n",
    "    \n",
    "    "
   ]
  },
  {
   "cell_type": "code",
   "execution_count": 151,
   "id": "8c511e42-7767-4eeb-9b7f-bc1ca04ac23d",
   "metadata": {},
   "outputs": [],
   "source": [
    " customer1 = Customer(\"ahmed\",20)"
   ]
  },
  {
   "cell_type": "code",
   "execution_count": 152,
   "id": "2bfbfcde-1fee-4ff9-a2fe-c0e95efb9fd4",
   "metadata": {},
   "outputs": [],
   "source": [
    "customer1.deposit(50)"
   ]
  },
  {
   "cell_type": "code",
   "execution_count": 153,
   "id": "35ad86d1-d8a2-47c8-9280-8754c3a8b586",
   "metadata": {},
   "outputs": [
    {
     "data": {
      "text/plain": [
       "50"
      ]
     },
     "execution_count": 153,
     "metadata": {},
     "output_type": "execute_result"
    }
   ],
   "source": [
    "\n",
    "\n",
    "customer1.check_balance()"
   ]
  },
  {
   "cell_type": "code",
   "execution_count": 154,
   "id": "ee890f42-2aa9-4818-9071-6311e6297f00",
   "metadata": {},
   "outputs": [
    {
     "name": "stdout",
     "output_type": "stream",
     "text": [
      "you don't have enough balance\n"
     ]
    }
   ],
   "source": [
    "customer1.withdraw(1000)"
   ]
  },
  {
   "cell_type": "code",
   "execution_count": 156,
   "id": "1ffa6264-6d18-4950-b4b1-b720e67fed3b",
   "metadata": {},
   "outputs": [],
   "source": [
    "customer1.setter_balance(2000)"
   ]
  },
  {
   "cell_type": "code",
   "execution_count": 157,
   "id": "32b0bb17-89d7-430a-9c39-c0fc388a962e",
   "metadata": {},
   "outputs": [
    {
     "data": {
      "text/plain": [
       "2000"
      ]
     },
     "execution_count": 157,
     "metadata": {},
     "output_type": "execute_result"
    }
   ],
   "source": [
    "customer1.check_balance()"
   ]
  },
  {
   "cell_type": "code",
   "execution_count": 158,
   "id": "32aa9122-0fb4-4457-aa10-217cfd3fa008",
   "metadata": {},
   "outputs": [],
   "source": [
    "customer2 = Customer(\"asser\",23)"
   ]
  },
  {
   "cell_type": "code",
   "execution_count": 159,
   "id": "2a51f2b4-7469-4663-aa8c-b10ea7aba744",
   "metadata": {},
   "outputs": [
    {
     "name": "stdout",
     "output_type": "stream",
     "text": [
      "succsessful process\n"
     ]
    }
   ],
   "source": [
    "customer1.transfer(customer2 , 200)"
   ]
  },
  {
   "cell_type": "code",
   "execution_count": 160,
   "id": "9e00853c-3062-4973-89b5-3aa5f8b1b728",
   "metadata": {},
   "outputs": [
    {
     "data": {
      "text/plain": [
       "200"
      ]
     },
     "execution_count": 160,
     "metadata": {},
     "output_type": "execute_result"
    }
   ],
   "source": [
    "customer2.check_balance()"
   ]
  },
  {
   "cell_type": "code",
   "execution_count": null,
   "id": "3f5b2dcb-7e6c-4061-ae6c-692c353c1e88",
   "metadata": {},
   "outputs": [],
   "source": []
  }
 ],
 "metadata": {
  "kernelspec": {
   "display_name": "Python 3 (ipykernel)",
   "language": "python",
   "name": "python3"
  },
  "language_info": {
   "codemirror_mode": {
    "name": "ipython",
    "version": 3
   },
   "file_extension": ".py",
   "mimetype": "text/x-python",
   "name": "python",
   "nbconvert_exporter": "python",
   "pygments_lexer": "ipython3",
   "version": "3.9.19"
  }
 },
 "nbformat": 4,
 "nbformat_minor": 5
}
