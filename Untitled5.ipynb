{
 "cells": [
  {
   "cell_type": "code",
   "execution_count": 2,
   "id": "b2eb6886-3f4f-41de-9371-c74d17b527f2",
   "metadata": {},
   "outputs": [
    {
     "name": "stdout",
     "output_type": "stream",
     "text": [
      "100\n"
     ]
    }
   ],
   "source": [
    "sample_dict = {0: 10, 1: 20, 2: 30, 3: 40}\n",
    "values= sum(sample_dict.values())\n",
    "print(values)"
   ]
  },
  {
   "cell_type": "code",
   "execution_count": 5,
   "id": "9d5e15cb-52a5-4be0-8307-2342590fe335",
   "metadata": {},
   "outputs": [
    {
     "ename": "SyntaxError",
     "evalue": "invalid syntax (1389960211.py, line 8)",
     "output_type": "error",
     "traceback": [
      "\u001b[1;36m  Cell \u001b[1;32mIn[5], line 8\u001b[1;36m\u001b[0m\n\u001b[1;33m    if e.isalpha() == True\u001b[0m\n\u001b[1;37m                          ^\u001b[0m\n\u001b[1;31mSyntaxError\u001b[0m\u001b[1;31m:\u001b[0m invalid syntax\n"
     ]
    }
   ],
   "source": [
    "name='Ahmed123^&*$#♥️♣️◘○'\n",
    "Alpha_counter = 0\n",
    "Numeric_counter = 0\n",
    "Special_counter = 0\n",
    "Alt_codes_counter = 0\n",
    "\n",
    "for e in name:\n",
    "    if e.isalpha() == True\n",
    "      Alpha_counter = Alpha_counter + 1\n",
    "    elif e.isnumeric() == True\n",
    "      Numeric_counter = Numeric_counter + 1\n",
    "    elif e.isasci()and not e.isalnum == True\n",
    "      Special_counter = Special_counter + 1\n",
    "    elif not e.isascii() == True\n",
    "       Alt_codes_counter = Alt_codes_counter + 1\n",
    "\n",
    "print (Alpha_counter,Numeric_counter,Special_counter,Alt_codes_counter)"
   ]
  },
  {
   "cell_type": "code",
   "execution_count": 7,
   "id": "de73767d-85f1-4273-ad0f-fed27bad2bfa",
   "metadata": {},
   "outputs": [
    {
     "name": "stdout",
     "output_type": "stream",
     "text": [
      "5 3 5 6\n"
     ]
    }
   ],
   "source": [
    "name = 'Ahmed123^&*$#♥️♣️◘○'\n",
    "Alpha_counter = 0\n",
    "Numeric_counter = 0\n",
    "Special_counter = 0\n",
    "Alt_codes_counter = 0\n",
    "\n",
    "for e in name:\n",
    "    if e.isalpha():\n",
    "        Alpha_counter = Alpha_counter + 1\n",
    "    elif e.isnumeric():\n",
    "        Numeric_counter = Numeric_counter + 1\n",
    "    elif e.isascii() and not e.isalnum():\n",
    "        Special_counter = Special_counter+ 1\n",
    "    else:\n",
    "        Alt_codes_counter = Alt_codes_counter + 1\n",
    "\n",
    "print(Alpha_counter, Numeric_counter, Special_counter, Alt_codes_counter)"
   ]
  },
  {
   "cell_type": "code",
   "execution_count": 15,
   "id": "64690e7f-e39d-4fb2-bbf4-826003c0e54f",
   "metadata": {},
   "outputs": [
    {
     "name": "stdout",
     "output_type": "stream",
     "text": [
      "Passant Fouad\n"
     ]
    }
   ],
   "source": [
    "name = 'Passant Fouad'\n",
    "new_name = ''\n",
    "\n",
    "for char in name:\n",
    "    if char in name ==  \"a\":\n",
    "        new_name += \"e\"\n",
    "    else:\n",
    "        new_name += char \n",
    "\n",
    "print(new_name)\n",
    "    "
   ]
  },
  {
   "cell_type": "code",
   "execution_count": 16,
   "id": "90595ffc-7529-479d-83b1-a66c9c9f13d3",
   "metadata": {},
   "outputs": [
    {
     "ename": "SyntaxError",
     "evalue": "invalid syntax (3506768920.py, line 1)",
     "output_type": "error",
     "traceback": [
      "\u001b[1;36m  Cell \u001b[1;32mIn[16], line 1\u001b[1;36m\u001b[0m\n\u001b[1;33m    Passent Foued = ''.join('e' if c == 'a' else c for c in 'Passant Fouad')\u001b[0m\n\u001b[1;37m            ^\u001b[0m\n\u001b[1;31mSyntaxError\u001b[0m\u001b[1;31m:\u001b[0m invalid syntax\n"
     ]
    }
   ],
   "source": [
    "Passent Foued = ''.join('e' if char == 'a' else c for c in 'Passant Fouad')\n"
   ]
  },
  {
   "cell_type": "code",
   "execution_count": 17,
   "id": "a1dcf79d-676f-4cd4-894d-10e18d4d3007",
   "metadata": {},
   "outputs": [
    {
     "name": "stdout",
     "output_type": "stream",
     "text": [
      "Passant Fouad\n"
     ]
    }
   ],
   "source": [
    "name = 'Passant Fouad'\n",
    "\n",
    "for char in name:\n",
    "    if char == 'a':\n",
    "        name.join('e')\n",
    "    else:\n",
    "        char == char\n",
    "\n",
    "print(name)\n",
    "\n"
   ]
  },
  {
   "cell_type": "code",
   "execution_count": 18,
   "id": "12087ad5-e3d5-4115-b7f2-4ada0dbc4ed4",
   "metadata": {},
   "outputs": [
    {
     "ename": "SyntaxError",
     "evalue": "invalid syntax (1494907601.py, line 1)",
     "output_type": "error",
     "traceback": [
      "\u001b[1;36m  Cell \u001b[1;32mIn[18], line 1\u001b[1;36m\u001b[0m\n\u001b[1;33m    Passent Foued = ''.join('e' if c == 'a' else c for c in 'Passant Fouad')\u001b[0m\n\u001b[1;37m            ^\u001b[0m\n\u001b[1;31mSyntaxError\u001b[0m\u001b[1;31m:\u001b[0m invalid syntax\n"
     ]
    }
   ],
   "source": [
    "Passent Foued = ''.join('e' if c == 'a' else c for c in 'Passant Fouad')"
   ]
  },
  {
   "cell_type": "code",
   "execution_count": 25,
   "id": "d2a3a031-3493-4d17-969f-585115eabd71",
   "metadata": {},
   "outputs": [
    {
     "ename": "IndentationError",
     "evalue": "unindent does not match any outer indentation level (<tokenize>, line 10)",
     "output_type": "error",
     "traceback": [
      "\u001b[1;36m  File \u001b[1;32m<tokenize>:10\u001b[1;36m\u001b[0m\n\u001b[1;33m    else:\u001b[0m\n\u001b[1;37m    ^\u001b[0m\n\u001b[1;31mIndentationError\u001b[0m\u001b[1;31m:\u001b[0m unindent does not match any outer indentation level\n"
     ]
    }
   ],
   "source": [
    "name = 'Passant Fouad'\n",
    "replaced_character = \"a\"\n",
    "new_character = \"e\"\n",
    "resultant_string = ''\n",
    "\n",
    "\n",
    "for char in name:\n",
    "    if character == replaced_character:\n",
    "    resultant_string += new_character\n",
    "   else:\n",
    "       resultant_string += character\n",
    "       \n",
    "print(resultant_string)\n"
   ]
  },
  {
   "cell_type": "code",
   "execution_count": 26,
   "id": "1886874a-f36b-4d65-902b-a022faaf54b4",
   "metadata": {},
   "outputs": [
    {
     "name": "stdout",
     "output_type": "stream",
     "text": [
      "Pessent Foued\n"
     ]
    }
   ],
   "source": [
    "name = 'Passant Fouad'\n",
    "replaced_character = \"a\"\n",
    "new_character = \"e\"\n",
    "resultant_string = ''\n",
    "\n",
    "for char in name:\n",
    "    if char == replaced_character:\n",
    "        resultant_string += new_character\n",
    "    else:\n",
    "        resultant_string += char\n",
    "\n",
    "print(resultant_string)"
   ]
  },
  {
   "cell_type": "code",
   "execution_count": null,
   "id": "6c8ee8b0-fefc-4e01-b0bf-f72aecb97e59",
   "metadata": {},
   "outputs": [],
   "source": []
  }
 ],
 "metadata": {
  "kernelspec": {
   "display_name": "Python 3 (ipykernel)",
   "language": "python",
   "name": "python3"
  },
  "language_info": {
   "codemirror_mode": {
    "name": "ipython",
    "version": 3
   },
   "file_extension": ".py",
   "mimetype": "text/x-python",
   "name": "python",
   "nbconvert_exporter": "python",
   "pygments_lexer": "ipython3",
   "version": "3.9.19"
  }
 },
 "nbformat": 4,
 "nbformat_minor": 5
}
