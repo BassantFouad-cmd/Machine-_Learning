{
 "cells": [
  {
   "cell_type": "code",
   "execution_count": 9,
   "id": "aeb06bee-aaea-43f8-9688-918dd26588aa",
   "metadata": {},
   "outputs": [
    {
     "name": "stdin",
     "output_type": "stream",
     "text": [
      "Please write the days 600\n"
     ]
    },
    {
     "name": "stdout",
     "output_type": "stream",
     "text": [
      "It has 1 years, 7 months, and 7 days.\n"
     ]
    }
   ],
   "source": [
    "days = int(input(\"Please write the days\"))\n",
    "years = (days // 365 )\n",
    "remaining_days = days % 365\n",
    "months = (remaining_days // 30)\n",
    "days = (months % 30)\n",
    "\n",
    "print(\"It has\", years, \"years,\", months, \"months, and\", days, \"days.\")"
   ]
  },
  {
   "cell_type": "code",
   "execution_count": 14,
   "id": "fcd2b96e-a6c3-4b75-bc10-dd6adc9c2efc",
   "metadata": {},
   "outputs": [
    {
     "name": "stdin",
     "output_type": "stream",
     "text": [
      "Please write a number 105246\n"
     ]
    },
    {
     "name": "stdout",
     "output_type": "stream",
     "text": [
      "hours are 29 minutes are 14 seconds are  6\n"
     ]
    }
   ],
   "source": [
    "seconds = int(input(\"Please write a number\"))\n",
    "hours = (seconds // 3600)\n",
    "remaining_seconds = (seconds % 3600)\n",
    "minutes =(remaining_seconds// 60)\n",
    "final_seconds = (remaining_seconds % 60)\n",
    "print(\"hours are\" ,hours, \"minutes are\" ,minutes, \"seconds are \", final_seconds)"
   ]
  },
  {
   "cell_type": "code",
   "execution_count": null,
   "id": "0e1384e3-bb41-4635-8d30-6deab081d14e",
   "metadata": {},
   "outputs": [],
   "source": []
  }
 ],
 "metadata": {
  "kernelspec": {
   "display_name": "Python 3 (ipykernel)",
   "language": "python",
   "name": "python3"
  },
  "language_info": {
   "codemirror_mode": {
    "name": "ipython",
    "version": 3
   },
   "file_extension": ".py",
   "mimetype": "text/x-python",
   "name": "python",
   "nbconvert_exporter": "python",
   "pygments_lexer": "ipython3",
   "version": "3.9.19"
  }
 },
 "nbformat": 4,
 "nbformat_minor": 5
}
