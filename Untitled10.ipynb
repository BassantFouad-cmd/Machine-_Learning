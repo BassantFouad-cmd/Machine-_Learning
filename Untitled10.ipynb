{
 "cells": [
  {
   "cell_type": "code",
   "execution_count": 9,
   "id": "aea2f83c-42ac-4ab2-b85a-d9bb8eb77906",
   "metadata": {},
   "outputs": [
    {
     "name": "stdin",
     "output_type": "stream",
     "text": [
      "Please write a number:  20\n",
      "Please write a number2:  30\n"
     ]
    },
    {
     "name": "stdout",
     "output_type": "stream",
     "text": [
      "The result is 600\n"
     ]
    }
   ],
   "source": [
    "def multiplication_or_sum(test1, test2):\n",
    "    product = test1 * test2\n",
    "\n",
    "    if product <= 1000:\n",
    "        return product\n",
    "    else:\n",
    "        return test1 + test2\n",
    "\n",
    "test1 = int(input(\"Please write a number: \"))\n",
    "test2 = int(input(\"Please write a number2: \"))\n",
    "\n",
    "result = multiplication_or_sum(test1, test2)\n",
    "print(\"The result is\", result)\n"
   ]
  },
  {
   "cell_type": "code",
   "execution_count": 34,
   "id": "71a7bddf-791a-4860-8f7f-f5215507a2ba",
   "metadata": {},
   "outputs": [
    {
     "name": "stdout",
     "output_type": "stream",
     "text": [
      "Current_element= {0} Previous_element = 0 Summation= 0\n",
      "Current_element= {1} Previous_element = 0 Summation= 1\n",
      "Current_element= {2} Previous_element = 1 Summation= 3\n",
      "Current_element= {3} Previous_element = 2 Summation= 5\n",
      "Current_element= {4} Previous_element = 3 Summation= 7\n",
      "Current_element= {5} Previous_element = 4 Summation= 9\n",
      "Current_element= {6} Previous_element = 5 Summation= 11\n",
      "Current_element= {7} Previous_element = 6 Summation= 13\n",
      "Current_element= {8} Previous_element = 7 Summation= 15\n",
      "Current_element= {9} Previous_element = 8 Summation= 17\n",
      "Current_element= {10} Previous_element = 9 Summation= 19\n"
     ]
    }
   ],
   "source": [
    "\n",
    "Previous_element = 0\n",
    "\n",
    "\n",
    "for i in range(0,11):\n",
    "    Summation = i + Previous_element\n",
    "    print ( \"Current_element=\" , {i} , \"Previous_element =\"  , Previous_element , \"Summation=\" , Summation)\n",
    "    Previous_element = i"
   ]
  },
  {
   "cell_type": "code",
   "execution_count": 33,
   "id": "464dca7a-3e14-44f8-a1ee-89a1473f096c",
   "metadata": {},
   "outputs": [
    {
     "name": "stdout",
     "output_type": "stream",
     "text": [
      "Printing current and previous number and their sum in a range(10)\n",
      "Current Number 1 Previous Number  0  Sum:  1\n",
      "Current Number 2 Previous Number  1  Sum:  3\n",
      "Current Number 3 Previous Number  2  Sum:  5\n",
      "Current Number 4 Previous Number  3  Sum:  7\n",
      "Current Number 5 Previous Number  4  Sum:  9\n",
      "Current Number 6 Previous Number  5  Sum:  11\n",
      "Current Number 7 Previous Number  6  Sum:  13\n",
      "Current Number 8 Previous Number  7  Sum:  15\n",
      "Current Number 9 Previous Number  8  Sum:  17\n",
      "Current Number 10 Previous Number  9  Sum:  19\n"
     ]
    }
   ],
   "source": [
    "print(\"Printing current and previous number and their sum in a range(10)\")\n",
    "previous_num = 0\n",
    "\n",
    "# loop from 1 to 10\n",
    "for i in range(1, 11):\n",
    "    x_sum = previous_num + i\n",
    "    print(\"Current Number\", i, \"Previous Number \", previous_num, \" Sum: \", x_sum)\n",
    "    # modify previous number\n",
    "    # set it to the current number\n",
    "    previous_num = i"
   ]
  },
  {
   "cell_type": "code",
   "execution_count": 52,
   "id": "e11f375d-3438-45ec-bc28-b15a02767e8e",
   "metadata": {},
   "outputs": [
    {
     "name": "stdout",
     "output_type": "stream",
     "text": [
      "index[ 0 ] t\n",
      "index[ 2 ] s\n",
      "index[ 4 ] w\n",
      "index[ 6 ] r\n"
     ]
    }
   ],
   "source": [
    "call=\"testword\"\n",
    "\n",
    "for i in range(0,len(call),2):\n",
    "    print(\"index[\" ,i ,\"]\", call[i])\n"
   ]
  },
  {
   "cell_type": "code",
   "execution_count": 47,
   "id": "afa31d99-237b-480a-9017-1d79488ba03e",
   "metadata": {},
   "outputs": [
    {
     "name": "stdin",
     "output_type": "stream",
     "text": [
      "Enter word  testword\n"
     ]
    },
    {
     "name": "stdout",
     "output_type": "stream",
     "text": [
      "Original String: testword\n",
      "Printing only even index chars\n",
      "index[ 0 ] t\n",
      "index[ 2 ] s\n",
      "index[ 4 ] w\n",
      "index[ 6 ] r\n"
     ]
    }
   ],
   "source": [
    "# accept input string from a user\n",
    "word = input('Enter word ')\n",
    "print(\"Original String:\", word)\n",
    "\n",
    "# get the length of a string\n",
    "size = len(word)\n",
    "\n",
    "# iterate a each character of a string\n",
    "# start: 0 to start with first character\n",
    "# stop: size-1 because index starts with 0\n",
    "# step: 2 to get the characters present at even index like 0, 2, 4\n",
    "print(\"Printing only even index chars\")\n",
    "for i in range(0, size - 1, 2):\n",
    "    print(\"index[\", i, \"]\", word[i])"
   ]
  },
  {
   "cell_type": "code",
   "execution_count": 53,
   "id": "cc96a0af-6f99-4819-9815-8718f40b734e",
   "metadata": {},
   "outputs": [
    {
     "name": "stdin",
     "output_type": "stream",
     "text": [
      "Enter word  testword\n"
     ]
    },
    {
     "name": "stdout",
     "output_type": "stream",
     "text": [
      "Original String: testword\n",
      "t\n",
      "s\n",
      "w\n",
      "r\n"
     ]
    }
   ],
   "source": [
    "word = input('Enter word ')\n",
    "print(\"Original String:\", word)\n",
    "\n",
    "# using list slicing\n",
    "# convert string to list\n",
    "# pick only even index chars\n",
    "x = list(word)\n",
    "for i in x[0::2]:\n",
    "    print(i)"
   ]
  },
  {
   "cell_type": "code",
   "execution_count": 63,
   "id": "9a97ea6c-fc7a-4d4e-8567-fb57499d846b",
   "metadata": {},
   "outputs": [
    {
     "name": "stdout",
     "output_type": "stream",
     "text": [
      "w\n",
      "h\n",
      "a\n",
      "t\n",
      "h\n",
      "a\n",
      "p\n",
      "p\n",
      "e\n",
      "n\n",
      "e\n",
      "d\n"
     ]
    }
   ],
   "source": [
    "word_text =\"whathappened\"\n",
    "\n",
    "for i in range(len(word_text)):\n",
    "    if word_text[7:: ]:\n",
    "        print(word_text[i])"
   ]
  },
  {
   "cell_type": "code",
   "execution_count": 64,
   "id": "8e628e10-ac13-45d9-a6ea-70b8c6b5821a",
   "metadata": {},
   "outputs": [
    {
     "name": "stdout",
     "output_type": "stream",
     "text": [
      "Removing characters from a string\n",
      "Original string: pynative\n",
      "tive\n",
      "Original string: pynative\n",
      "native\n"
     ]
    }
   ],
   "source": [
    "def remove_chars(word, n):\n",
    "    print('Original string:', word)\n",
    "    x = word[n:]\n",
    "    return x\n",
    "\n",
    "print(\"Removing characters from a string\")\n",
    "print(remove_chars(\"pynative\", 4))\n",
    "print(remove_chars(\"pynative\", 2))"
   ]
  },
  {
   "cell_type": "code",
   "execution_count": 74,
   "id": "9e794e54-a6fe-4662-b981-e2e8e7c14b87",
   "metadata": {},
   "outputs": [
    {
     "name": "stdout",
     "output_type": "stream",
     "text": [
      "Result is = true\n"
     ]
    }
   ],
   "source": [
    "numbers_x = [10, 20, 30, 40, 10]\n",
    "numbers_y = [75, 65, 35, 75, 30]\n",
    "\n",
    "if numbers_x[0] == numbers_x[-1]:\n",
    "        print( \"Result is = true\")\n",
    "elif numbers_y[0] == numbers_y[-1]:\n",
    "        print( \"Result is = true\")\n",
    "else:\n",
    "    print( \"Result is = false\")\n",
    "\n"
   ]
  },
  {
   "cell_type": "code",
   "execution_count": 75,
   "id": "fa80ce5a-8e91-4c60-9bc4-188008529c7e",
   "metadata": {},
   "outputs": [
    {
     "name": "stdout",
     "output_type": "stream",
     "text": [
      "Given list: [10, 20, 30, 40, 10]\n",
      "result is True\n",
      "Given list: [75, 65, 35, 75, 30]\n",
      "result is False\n"
     ]
    }
   ],
   "source": [
    "def first_last_same(numberList):\n",
    "    print(\"Given list:\", numberList)\n",
    "    \n",
    "    first_num = numberList[0]\n",
    "    last_num = numberList[-1]\n",
    "    \n",
    "    if first_num == last_num:\n",
    "        return True\n",
    "    else:\n",
    "        return False\n",
    "\n",
    "numbers_x = [10, 20, 30, 40, 10]\n",
    "print(\"result is\", first_last_same(numbers_x))\n",
    "\n",
    "numbers_y = [75, 65, 35, 75, 30]\n",
    "print(\"result is\", first_last_same(numbers_y))"
   ]
  },
  {
   "cell_type": "code",
   "execution_count": 94,
   "id": "12464ba0-b41d-44d4-9142-9c805adfa562",
   "metadata": {},
   "outputs": [
    {
     "name": "stdout",
     "output_type": "stream",
     "text": [
      "10\n",
      "20\n",
      "55\n"
     ]
    }
   ],
   "source": [
    "\n",
    "numbers_y=[10, 20, 33, 46, 55]\n",
    "for number in numbers_y:\n",
    "    if number % 5 == 0:\n",
    "        print(number)"
   ]
  },
  {
   "cell_type": "code",
   "execution_count": 103,
   "id": "e6b74453-1b66-49cb-aed7-2e98a0f82b06",
   "metadata": {},
   "outputs": [
    {
     "name": "stdout",
     "output_type": "stream",
     "text": [
      "2\n"
     ]
    }
   ],
   "source": [
    "str_x = \"Emma is good developer. Emma is a writer\"\n",
    "Emma_List =str_x.split()\n",
    "Counter_Emma = 0\n",
    "for e in Emma_List:\n",
    "    if e == \"Emma\":\n",
    "        Counter_Emma = Counter_Emma + 1\n",
    "\n",
    "print(Counter_Emma)"
   ]
  },
  {
   "cell_type": "code",
   "execution_count": 114,
   "id": "151ca5c3-065e-4d53-8227-d1ffd096a799",
   "metadata": {},
   "outputs": [
    {
     "name": "stdout",
     "output_type": "stream",
     "text": [
      "2\n"
     ]
    }
   ],
   "source": [
    "str_x = \"Emma is good developer. Emma is a writer\"\n",
    "Emma_List = str_x.split()\n",
    "Counter_Emma = 0\n",
    "\n",
    "for e in Emma_List:\n",
    "    if e == \"Emma\":\n",
    "        Counter_Emma = Counter_Emma + 1\n",
    "\n",
    "print(Counter_Emma)"
   ]
  },
  {
   "cell_type": "code",
   "execution_count": 108,
   "id": "f66f94b8-3bcd-4602-9b0b-159c187f686f",
   "metadata": {},
   "outputs": [
    {
     "ename": "SyntaxError",
     "evalue": "invalid syntax (631236686.py, line 1)",
     "output_type": "error",
     "traceback": [
      "\u001b[1;36m  Cell \u001b[1;32mIn[108], line 1\u001b[1;36m\u001b[0m\n\u001b[1;33m    def print_number_of_times(range(1:6)):\u001b[0m\n\u001b[1;37m                                   ^\u001b[0m\n\u001b[1;31mSyntaxError\u001b[0m\u001b[1;31m:\u001b[0m invalid syntax\n"
     ]
    }
   ],
   "source": [
    "def print_number_of_times(range(1:6)):\n",
    "     print(\"Given list:\", 1:6)\n",
    "for number in range(1:6):\n",
    "    print(print_number_of_times(range(1:6))\n",
    "    "
   ]
  },
  {
   "cell_type": "code",
   "execution_count": 116,
   "id": "fd5632da-edec-4d27-9fe4-cc60d86a5460",
   "metadata": {},
   "outputs": [
    {
     "name": "stdout",
     "output_type": "stream",
     "text": [
      "\n",
      "\n",
      "1 \n",
      "\n",
      "2 2 \n",
      "\n",
      "3 3 3 \n",
      "\n",
      "4 4 4 4 \n",
      "\n",
      "5 5 5 5 5 \n",
      "\n",
      "6 6 6 6 6 6 \n",
      "\n",
      "7 7 7 7 7 7 7 \n",
      "\n",
      "8 8 8 8 8 8 8 8 \n",
      "\n",
      "9 9 9 9 9 9 9 9 9 \n",
      "\n"
     ]
    }
   ],
   "source": [
    "for num in range(10):\n",
    "    for i in range(num):\n",
    "        print (num, end=\" \") #print number\n",
    "    # new line after each row to display pattern correctly\n",
    "    print(\"\\n\")"
   ]
  },
  {
   "cell_type": "code",
   "execution_count": 122,
   "id": "d58eb4de-e0ab-43bc-b9d6-c6187ddb5b84",
   "metadata": {},
   "outputs": [
    {
     "name": "stdin",
     "output_type": "stream",
     "text": [
      "give me number 155\n"
     ]
    },
    {
     "name": "stdout",
     "output_type": "stream",
     "text": [
      "original number 155\n",
      "No. given number isn't palindrome number\n"
     ]
    }
   ],
   "source": [
    "allocated = input(\"give me number\")\n",
    "Allocated_revesrse = allocated[::-1]\n",
    "\n",
    "if allocated == Allocated_revesrse:\n",
    "    print (\"original number\" , allocated )\n",
    "    print(\"Yes. given number is palindrome number\")\n",
    "\n",
    "\n",
    "else:\n",
    "    print (\"original number\", allocated )\n",
    "    print(\"No. given number isn't palindrome number\")\n"
   ]
  },
  {
   "cell_type": "code",
   "execution_count": 153,
   "id": "5e7b8ef3-d102-46fb-8062-dbbc0ddbf65f",
   "metadata": {},
   "outputs": [
    {
     "name": "stdout",
     "output_type": "stream",
     "text": [
      "[25, 35, 40, 60, 90]\n"
     ]
    }
   ],
   "source": [
    "list1 = [10, 20, 25, 30, 35]\n",
    "list2 = [40, 45, 60, 75, 90]\n",
    "list3=[ ]\n",
    "\n",
    "\n",
    "for e in list1:\n",
    "    if e % 2 == 1:\n",
    "        list3.append(e)\n",
    "        \n",
    "for i in list2:\n",
    "    if i % 2==0 :\n",
    "        list3.append(i)\n",
    "    \n",
    "    \n",
    "print(list3)"
   ]
  },
  {
   "cell_type": "code",
   "execution_count": 174,
   "id": "bffc25eb-d828-4ce9-a618-6243563b61cc",
   "metadata": {},
   "outputs": [
    {
     "name": "stdin",
     "output_type": "stream",
     "text": [
      "Please entre numbers 1575\n"
     ]
    },
    {
     "name": "stdout",
     "output_type": "stream",
     "text": [
      "['5751']\n"
     ]
    }
   ],
   "source": [
    "pasta=input(\"Please entre numbers\")\n",
    "reverse_pasta= pasta[: :-1]\n",
    "print(reverse_pasta.split())"
   ]
  },
  {
   "cell_type": "code",
   "execution_count": 175,
   "id": "71620d40-8bfb-4b6d-b60e-98c79cf25c93",
   "metadata": {},
   "outputs": [
    {
     "name": "stdout",
     "output_type": "stream",
     "text": [
      "Given number 7536\n",
      "6 3 5 7 "
     ]
    }
   ],
   "source": [
    "number = 7536\n",
    "print(\"Given number\", number)\n",
    "while number > 0:\n",
    "    # get the last digit\n",
    "    digit = number % 10\n",
    "    # remove the last digit and repeat the loop\n",
    "    number = number // 10\n",
    "    print(digit, end=\" \")"
   ]
  },
  {
   "cell_type": "code",
   "execution_count": 195,
   "id": "24c33268-3b12-4990-b14d-a10e9be65b71",
   "metadata": {},
   "outputs": [
    {
     "name": "stdin",
     "output_type": "stream",
     "text": [
      "Please enter an income 45000\n"
     ]
    },
    {
     "name": "stdout",
     "output_type": "stream",
     "text": [
      "income_tax_Calculation = 8500.0\n"
     ]
    }
   ],
   "source": [
    "income= int(input(\"Please enter an income\"))\n",
    "income_tax_Calculation_first = (income -10000)*10/100\n",
    "income_tax_Calculation_second = (income -20000)*20/100\n",
    "summation = (income_tax_Calculation_first + income_tax_Calculation_second)*income\n",
    "\n",
    "if income <= 10000:\n",
    "    income_tax_Calculation = 0\n",
    "elif income == 10000:\n",
    "    income_tax_Calculation = 0\n",
    "elif income <=  20000 :\n",
    "    income_tax_Calculation_first = (income -10000)*10/100\n",
    "elif income <= 30000:\n",
    "    income_tax_Calculation_second = (income -20000)*20/100\n",
    "print(\"income_tax_Calculation =\" , summation)\n",
    "    "
   ]
  },
  {
   "cell_type": "code",
   "execution_count": 201,
   "id": "2c693ca3-c1d4-4df8-bb70-aefd0a77b5e7",
   "metadata": {},
   "outputs": [
    {
     "name": "stdout",
     "output_type": "stream",
     "text": [
      "Given List [1, 2, 3, 4, 5, 6, 7, 8, 9, 10]\n",
      "None\n",
      "Given List [1, 2, 3, 4, 5, 6, 7, 8, 9, 10]\n",
      "None\n",
      "Given List [1, 2, 3, 4, 5, 6, 7, 8, 9, 10]\n",
      "None\n",
      "Given List [1, 2, 3, 4, 5, 6, 7, 8, 9, 10]\n",
      "None\n",
      "Given List [1, 2, 3, 4, 5, 6, 7, 8, 9, 10]\n",
      "None\n",
      "Given List [1, 2, 3, 4, 5, 6, 7, 8, 9, 10]\n",
      "None\n",
      "Given List [1, 2, 3, 4, 5, 6, 7, 8, 9, 10]\n",
      "None\n",
      "Given List [1, 2, 3, 4, 5, 6, 7, 8, 9, 10]\n",
      "None\n",
      "Given List [1, 2, 3, 4, 5, 6, 7, 8, 9, 10]\n",
      "None\n",
      "Given List [1, 2, 3, 4, 5, 6, 7, 8, 9, 10]\n",
      "None\n"
     ]
    }
   ],
   "source": [
    "def double_numbers(lista):\n",
    "    print(\"Given List\" , lista)\n",
    "\n",
    "lista = [1, 2, 3, 4 ,5, 6 ,7, 8 ,9 ,10]\n",
    "\n",
    "for e in lista:\n",
    "    print(double_numbers(lista))"
   ]
  },
  {
   "cell_type": "code",
   "execution_count": null,
   "id": "2958aa37-c625-4d6f-9bef-ec7890b357e3",
   "metadata": {},
   "outputs": [],
   "source": []
  }
 ],
 "metadata": {
  "kernelspec": {
   "display_name": "Python 3 (ipykernel)",
   "language": "python",
   "name": "python3"
  },
  "language_info": {
   "codemirror_mode": {
    "name": "ipython",
    "version": 3
   },
   "file_extension": ".py",
   "mimetype": "text/x-python",
   "name": "python",
   "nbconvert_exporter": "python",
   "pygments_lexer": "ipython3",
   "version": "3.9.19"
  }
 },
 "nbformat": 4,
 "nbformat_minor": 5
}
