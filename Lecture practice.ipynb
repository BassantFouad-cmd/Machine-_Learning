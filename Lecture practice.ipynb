{
 "cells": [
  {
   "cell_type": "code",
   "execution_count": null,
   "id": "0608ffc7-6d3e-445d-b88c-630ceae37b57",
   "metadata": {},
   "outputs": [],
   "source": [
    "name =input ( \"Please write your name\")\n",
    "age = input ( \"Please write your age\")\n",
    "print(\"Hello\" ,name,\"your age is\" , age)"
   ]
  },
  {
   "cell_type": "code",
   "execution_count": null,
   "id": "82a58fc6-301e-4cfc-a236-af7474de9ded",
   "metadata": {},
   "outputs": [],
   "source": []
  }
 ],
 "metadata": {
  "kernelspec": {
   "display_name": "Python 3 (ipykernel)",
   "language": "python",
   "name": "python3"
  },
  "language_info": {
   "codemirror_mode": {
    "name": "ipython",
    "version": 3
   },
   "file_extension": ".py",
   "mimetype": "text/x-python",
   "name": "python",
   "nbconvert_exporter": "python",
   "pygments_lexer": "ipython3",
   "version": "3.9.19"
  }
 },
 "nbformat": 4,
 "nbformat_minor": 5
}
