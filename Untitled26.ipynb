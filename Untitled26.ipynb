{
 "cells": [
  {
   "cell_type": "code",
   "execution_count": 1,
   "id": "e055a7f7-1dde-4c35-a5a6-ce2b8559c80d",
   "metadata": {},
   "outputs": [
    {
     "data": {
      "text/plain": [
       "[4, 5, 6, 8]"
      ]
     },
     "execution_count": 1,
     "metadata": {},
     "output_type": "execute_result"
    }
   ],
   "source": [
    "List3 = [ 5,4,8,6]\n",
    "\n",
    "sorted(List3)"
   ]
  },
  {
   "cell_type": "code",
   "execution_count": 6,
   "id": "cc0d3cb0-137e-40b4-ba31-3900332f53aa",
   "metadata": {},
   "outputs": [
    {
     "data": {
      "text/plain": [
       "23"
      ]
     },
     "execution_count": 6,
     "metadata": {},
     "output_type": "execute_result"
    }
   ],
   "source": [
    "sum(List3)"
   ]
  },
  {
   "cell_type": "code",
   "execution_count": 7,
   "id": "e9fc6d94-d738-4509-8a40-1a5aa98258b8",
   "metadata": {},
   "outputs": [
    {
     "data": {
      "text/plain": [
       "8"
      ]
     },
     "execution_count": 7,
     "metadata": {},
     "output_type": "execute_result"
    }
   ],
   "source": [
    "max(List3)"
   ]
  },
  {
   "cell_type": "code",
   "execution_count": 9,
   "id": "ca36b26f-a1d7-4e03-a0ed-4a1e11a34a1d",
   "metadata": {},
   "outputs": [
    {
     "data": {
      "text/plain": [
       "4"
      ]
     },
     "execution_count": 9,
     "metadata": {},
     "output_type": "execute_result"
    }
   ],
   "source": [
    "min(List3)"
   ]
  },
  {
   "cell_type": "code",
   "execution_count": 14,
   "id": "d425390b-feb6-4473-8f74-882de1bec625",
   "metadata": {},
   "outputs": [
    {
     "data": {
      "text/plain": [
       "[4, 5, 6, 8, 10]"
      ]
     },
     "execution_count": 14,
     "metadata": {},
     "output_type": "execute_result"
    }
   ],
   "source": [
    "List8= [ 5,4,8,6 , 10 ,5 ,6]\n",
    "List8 = set(List8)\n",
    "List8 = list (List8)\n",
    "List8"
   ]
  },
  {
   "cell_type": "code",
   "execution_count": 17,
   "id": "a5bc4f49-d66c-4ee6-ae8c-dab2350a2027",
   "metadata": {},
   "outputs": [],
   "source": [
    "Dicto= {\"K1\":{\"K2\":\"hello\"}}\n",
    "\n",
    "for k,v in Dicto.items():\n",
    "    if v == \"hello\":\n",
    "     print(v)"
   ]
  },
  {
   "cell_type": "code",
   "execution_count": 19,
   "id": "09192d7a-4649-4eb7-a5f6-e13868de3d28",
   "metadata": {},
   "outputs": [
    {
     "name": "stdout",
     "output_type": "stream",
     "text": [
      "hello\n"
     ]
    }
   ],
   "source": [
    "Dicto = {\"K1\": {\"K2\": \"hello\"}}\n",
    "\n",
    "for k, v in Dicto.items():\n",
    "    if \"hello\" in v.values():\n",
    "        print(\"hello\")"
   ]
  },
  {
   "cell_type": "code",
   "execution_count": 23,
   "id": "cd7a0765-fbc4-44f2-83c5-416e62a4777d",
   "metadata": {},
   "outputs": [
    {
     "data": {
      "text/plain": [
       "['hello']"
      ]
     },
     "execution_count": 23,
     "metadata": {},
     "output_type": "execute_result"
    }
   ],
   "source": [
    "## <p style=\"color:red;\">Q.13 Using keys and indexing, grab the 'hello' from the following dictionaries:</p>\n",
    "d = {'k1':[1,2,{'k2':['this is tricky',{'tough':[1,2,['hello']]}]}]}\n",
    "\n",
    "the_word = d[\"k1\"][2][\"k2\"][1]['tough'][2]\n",
    "\n",
    "the_word"
   ]
  },
  {
   "cell_type": "code",
   "execution_count": 29,
   "id": "87069af3-e8c7-4455-8adc-94d8ef97a9ed",
   "metadata": {},
   "outputs": [
    {
     "data": {
      "text/plain": [
       "{0: 10, 1: 20, 2: 30}"
      ]
     },
     "execution_count": 29,
     "metadata": {},
     "output_type": "execute_result"
    }
   ],
   "source": [
    "Sample_Dictionary ={0: 10, 1: 20}\n",
    "\n",
    "Sample_Dictionary.update({2:30})\n",
    "Sample_Dictionary"
   ]
  },
  {
   "cell_type": "code",
   "execution_count": 32,
   "id": "3f735b9f-1149-4790-a449-d154b1a029ee",
   "metadata": {},
   "outputs": [
    {
     "data": {
      "text/plain": [
       "{0: 10, 1: 20, 2: 30, 3: 40}"
      ]
     },
     "execution_count": 32,
     "metadata": {},
     "output_type": "execute_result"
    }
   ],
   "source": [
    "Sample_Dictionary [3] = 40\n",
    "Sample_Dictionary"
   ]
  },
  {
   "cell_type": "code",
   "execution_count": 44,
   "id": "11f2bd9d-e876-4fb0-a00a-92b6358b1f9d",
   "metadata": {},
   "outputs": [
    {
     "data": {
      "text/plain": [
       "106"
      ]
     },
     "execution_count": 44,
     "metadata": {},
     "output_type": "execute_result"
    }
   ],
   "source": [
    "\n",
    "Summation = sum(list(Sample_Dictionary.values())) + sum(list(Sample_Dictionary.keys()))\n",
    "Summation"
   ]
  },
  {
   "cell_type": "code",
   "execution_count": 61,
   "id": "67708216-a10a-463c-864d-5adacad13dce",
   "metadata": {},
   "outputs": [
    {
     "name": "stdout",
     "output_type": "stream",
     "text": [
      "(4, 5, 6.7, 3)\n"
     ]
    }
   ],
   "source": [
    "tested = (4,5,6.7)\n",
    "New_tested = list(tested)\n",
    "New_tested.insert(4,3)\n",
    "New_tested_tuple = tuple(New_tested)\n",
    "\n",
    "print(New_tested_tuple)"
   ]
  },
  {
   "cell_type": "code",
   "execution_count": 60,
   "id": "39f53693-6925-4f51-99b9-7a4e0c8e50a5",
   "metadata": {},
   "outputs": [
    {
     "data": {
      "text/plain": [
       "(4, 5, 6.7, 3)"
      ]
     },
     "execution_count": 60,
     "metadata": {},
     "output_type": "execute_result"
    }
   ],
   "source": [
    "tested = (4, 5, 6.7)\n",
    "New_tested = list(tested)\n",
    "New_tested.insert(4, 3)\n",
    "New_tested_tuple = tuple(New_tested)\n",
    "New_tested_tuple"
   ]
  },
  {
   "cell_type": "code",
   "execution_count": 65,
   "id": "b6578e64-fb87-4c31-91cd-882101fa907d",
   "metadata": {},
   "outputs": [
    {
     "data": {
      "text/plain": [
       "'Passant'"
      ]
     },
     "execution_count": 65,
     "metadata": {},
     "output_type": "execute_result"
    }
   ],
   "source": [
    "## <p style=\"color:green;\">Q.17 Write a Python program to convert a tuple to a string.</p>\n",
    "tell_me = (\"P\", \"a\",\"s\", \"s\" ,\"a\", \"n\", \"t\")\n",
    "New_list_tell_me = list(tell_me)\n",
    "New_String_tell_me = \"\".join(New_list_tell_me)\n",
    "New_String_tell_me"
   ]
  },
  {
   "cell_type": "code",
   "execution_count": 68,
   "id": "0dbf035b-0a9b-4de4-a808-b935a774384e",
   "metadata": {},
   "outputs": [
    {
     "data": {
      "text/plain": [
       "{2, 5}"
      ]
     },
     "execution_count": 68,
     "metadata": {},
     "output_type": "execute_result"
    }
   ],
   "source": [
    "## <p style=\"color:green;\">Q.18 Write a Python program to remove item(s) from a given set.</p>\n",
    "stted = {1,2,2,5}\n",
    "New_stted = list(stted)\n",
    "New_stted.remove(1)\n",
    "New_New = set(New_stted)\n",
    "New_New\n"
   ]
  },
  {
   "cell_type": "code",
   "execution_count": null,
   "id": "a4d0c669-662f-4a1c-b937-5eea7149edda",
   "metadata": {},
   "outputs": [],
   "source": [
    "\n",
    "Exercise 1: Calculate the multiplication and sum of two numbers\n",
    "Given two integer numbers, write a Python code to return their product only if the product is equal to or lower than 1000. Otherwise, return their sum.\n",
    "\n",
    "Given 1:\n",
    "\n",
    "number1 = 20\n",
    "number2 = 30\n",
    "Expected Output:\n",
    "\n",
    "The result is 600\n",
    "Given 2:\n",
    "\n",
    "number1 = 40\n",
    "number2 = 30"
   ]
  },
  {
   "cell_type": "code",
   "execution_count": 71,
   "id": "f9c39f5d-60f1-4029-888e-646c867b1538",
   "metadata": {},
   "outputs": [
    {
     "name": "stdin",
     "output_type": "stream",
     "text": [
      "Please entre number one 20\n",
      "Please entre number two 30\n"
     ]
    },
    {
     "name": "stdout",
     "output_type": "stream",
     "text": [
      "you can return your product as the total value is 600\n"
     ]
    }
   ],
   "source": [
    "Number_one = int(input(\"Please entre number one\"))\n",
    "Number_two = int(input(\"Please entre number two\"))\n",
    "Multiplation = 1\n",
    "\n",
    "if Number_one * Number_two <= 1000 :\n",
    "    print(f\"you can return your product as the total value is {Number_one * Number_two}\")\n",
    "\n",
    "else:\n",
    "    print(f\"you can't return your product as the total value is {Number_one + Number_two}\")"
   ]
  },
  {
   "cell_type": "code",
   "execution_count": 75,
   "id": "657e24d7-5694-4203-b3ad-624f79d4b92a",
   "metadata": {},
   "outputs": [
    {
     "name": "stdout",
     "output_type": "stream",
     "text": [
      "the current number is 1  and the pervious number is 0 and the Sum is 1\n",
      "the current number is 2  and the pervious number is 1 and the Sum is 3\n",
      "the current number is 3  and the pervious number is 2 and the Sum is 5\n",
      "the current number is 4  and the pervious number is 3 and the Sum is 7\n",
      "the current number is 5  and the pervious number is 4 and the Sum is 9\n",
      "the current number is 6  and the pervious number is 5 and the Sum is 11\n",
      "the current number is 7  and the pervious number is 6 and the Sum is 13\n",
      "the current number is 8  and the pervious number is 7 and the Sum is 15\n",
      "the current number is 9  and the pervious number is 8 and the Sum is 17\n",
      "the current number is 10  and the pervious number is 9 and the Sum is 19\n"
     ]
    }
   ],
   "source": [
    "## Exercise 2: Print the Sum of a Current Number and a Previous number\n",
    "## Write a Python code to iterate the first 10 numbers, and in each iteration, print the sum of the current and previous number.\n",
    "\n",
    "\n",
    "for i in range(1,11):\n",
    "    print(f\"the current number is {i}  and the pervious number is {i-1} and the Sum is {i+ i-1}\")"
   ]
  },
  {
   "cell_type": "code",
   "execution_count": 77,
   "id": "432948f8-8bd7-4907-be5a-b46c648d047a",
   "metadata": {},
   "outputs": [
    {
     "name": "stdout",
     "output_type": "stream",
     "text": [
      "P\n",
      "n\n",
      "t\n",
      "v\n"
     ]
    }
   ],
   "source": [
    "\n",
    "\n",
    "name= \"PYnative\"\n",
    "\n",
    "for i in range(len(name)):\n",
    "    if i % 2 == 0:\n",
    "        print(name[i])"
   ]
  },
  {
   "cell_type": "code",
   "execution_count": 99,
   "id": "ce1333b0-aaa9-4468-94e2-bd1fa1389aec",
   "metadata": {},
   "outputs": [],
   "source": [
    "def remove_char (name, number_of_char):\n",
    "    New_name = name[number_of_char : ]\n",
    "    return New_name "
   ]
  },
  {
   "cell_type": "code",
   "execution_count": 100,
   "id": "b98d3aae-e302-4e57-b4a0-8f28b10238c4",
   "metadata": {},
   "outputs": [
    {
     "data": {
      "text/plain": [
       "'amin'"
      ]
     },
     "execution_count": 100,
     "metadata": {},
     "output_type": "execute_result"
    }
   ],
   "source": [
    "name=\"Ahmedamin\"\n",
    "indices = 4\n",
    "name[5: ]"
   ]
  },
  {
   "cell_type": "code",
   "execution_count": 101,
   "id": "c0fa3311-4291-4b68-a977-3caf94426940",
   "metadata": {},
   "outputs": [
    {
     "data": {
      "text/plain": [
       "'ahim'"
      ]
     },
     "execution_count": 101,
     "metadata": {},
     "output_type": "execute_result"
    }
   ],
   "source": [
    "remove_char (\"ibrahim\", 3)"
   ]
  },
  {
   "cell_type": "code",
   "execution_count": 110,
   "id": "fe3106f1-0ea7-4115-9bbd-823b75cbe629",
   "metadata": {},
   "outputs": [
    {
     "name": "stdout",
     "output_type": "stream",
     "text": [
      "False\n"
     ]
    }
   ],
   "source": [
    "List_one = [75, 65, 35, 75, 30]\n",
    "\n",
    "if List_one[-1] == List_one[0]:\n",
    "    print(\"True\")\n",
    "else:\n",
    "    print(\"False\")\n",
    "    "
   ]
  },
  {
   "cell_type": "code",
   "execution_count": 128,
   "id": "1d73becc-7612-4b40-95a3-3bd0dea669b8",
   "metadata": {},
   "outputs": [],
   "source": [
    "##Write a Python code to display numbers from a list divisible by 5\n",
    "\n",
    "list_devisable =[]\n",
    "\n",
    "def devisible_by_5 (Numbers):\n",
    "    for i in range(len(Numbers)):\n",
    "        if Numbers[i] % 5 == 0 :\n",
    "            list_devisable.append(Numbers[i])\n",
    "    return list_devisable\n",
    "\n"
   ]
  },
  {
   "cell_type": "code",
   "execution_count": 129,
   "id": "592eae38-9e42-452c-b964-40e0eeddb150",
   "metadata": {},
   "outputs": [
    {
     "data": {
      "text/plain": [
       "[10, 20, 55]"
      ]
     },
     "execution_count": 129,
     "metadata": {},
     "output_type": "execute_result"
    }
   ],
   "source": [
    "Given_list=[10, 20, 33, 46, 55]\n",
    "devisible_by_5 (Given_list)"
   ]
  },
  {
   "cell_type": "code",
   "execution_count": 135,
   "id": "662a1fce-1cc4-40f1-8e35-e5e806e726d1",
   "metadata": {},
   "outputs": [
    {
     "name": "stdout",
     "output_type": "stream",
     "text": [
      " the Emma word appeard 2\n"
     ]
    }
   ],
   "source": [
    "##Exercise 7: Find the number of occurrences of a substring in a string\n",
    "##Write a Python code to find how often the substring “Emma” appears in the given string.\n",
    "\n",
    "str_x = \"Emma is good developer. Emma is a writer\"\n",
    "\n",
    "New_str_x = (str_x).split()\n",
    "\n",
    "Counter = 0\n",
    "\n",
    "for i in range(len(New_str_x)):\n",
    "    if New_str_x[i] == \"Emma\":\n",
    "        Counter+= 1\n",
    "\n",
    "print(f\" the Emma word appeard {Counter}\")"
   ]
  },
  {
   "cell_type": "code",
   "execution_count": 145,
   "id": "1dfa82a0-e314-450b-a33b-1191e1ed7787",
   "metadata": {},
   "outputs": [
    {
     "name": "stdout",
     "output_type": "stream",
     "text": [
      "1\n",
      "22\n",
      "333\n",
      "4444\n",
      "55555\n"
     ]
    }
   ],
   "source": [
    "## Exercise 8: Print the following pattern\n",
    "\n",
    "counter = 0\n",
    "\n",
    "for i in range(1,6):\n",
    "    string_i = str(i)\n",
    "    print(string_i * (i))"
   ]
  },
  {
   "cell_type": "code",
   "execution_count": 153,
   "id": "d83039b2-87e7-4e07-a325-c7f4ed571207",
   "metadata": {},
   "outputs": [],
   "source": [
    "def palindrome(number):\n",
    "    New_number = str(number)\n",
    "    if New_number[0] == New_number[-1]:\n",
    "        return True \n",
    "    else:\n",
    "        return False "
   ]
  },
  {
   "cell_type": "code",
   "execution_count": 157,
   "id": "84fe463b-343f-4b2d-aa4e-626172b3e287",
   "metadata": {},
   "outputs": [
    {
     "data": {
      "text/plain": [
       "False"
      ]
     },
     "execution_count": 157,
     "metadata": {},
     "output_type": "execute_result"
    }
   ],
   "source": [
    "palindrome(74565)"
   ]
  },
  {
   "cell_type": "code",
   "execution_count": null,
   "id": "115fcdcc-e421-47ce-b897-70766164b3dd",
   "metadata": {},
   "outputs": [],
   "source": [
    "## Exercise 10: Merge two lists using the following condition\n",
    "Given two lists of numbers, write a Python code to create a new list such that the latest list should contain odd numbers from the first list and even numbers from the second list"
   ]
  },
  {
   "cell_type": "code",
   "execution_count": 162,
   "id": "ef36a5c3-db63-4123-acbb-a6f3e77d9766",
   "metadata": {},
   "outputs": [
    {
     "data": {
      "text/plain": [
       "[25, 35, 40, 60, 90]"
      ]
     },
     "execution_count": 162,
     "metadata": {},
     "output_type": "execute_result"
    }
   ],
   "source": [
    "list1 = [10, 20, 25, 30, 35]\n",
    "list2 = [40, 45, 60, 75, 90]\n",
    "New_List = []\n",
    "\n",
    "for i  in range(len(list1)):\n",
    "    if list1[i] % 2 == 1 :\n",
    "        New_List.append(list1[i])\n",
    "\n",
    "for j  in range(len(list2)):\n",
    "    if list2[j] % 2 == 0:\n",
    "        New_List.append(list2[j])\n",
    "\n",
    "New_List\n",
    "        "
   ]
  },
  {
   "cell_type": "code",
   "execution_count": null,
   "id": "9b4453db-f1d3-4b92-ab39-586cb8554781",
   "metadata": {},
   "outputs": [],
   "source": [
    "###Exercise 11: Get each digit from a number in the reverse order.\n",
    "For example, If the given integer number is 7536, the output shall be “6 3 5 7“, with a space separating the digits."
   ]
  },
  {
   "cell_type": "code",
   "execution_count": 168,
   "id": "19bb77e9-69fd-46f0-bd55-f616cd02c180",
   "metadata": {},
   "outputs": [
    {
     "name": "stdin",
     "output_type": "stream",
     "text": [
      "Please entre a number 134641\n"
     ]
    },
    {
     "data": {
      "text/plain": [
       "'1 4 6 4 3 1'"
      ]
     },
     "execution_count": 168,
     "metadata": {},
     "output_type": "execute_result"
    }
   ],
   "source": [
    "Number = input(\"Please entre a number\")\n",
    "resreved_number = list(Number[::-1])\n",
    "\n",
    "New_resreved_number = \" \".join(resreved_number)\n",
    "\n",
    "New_resreved_number          "
   ]
  },
  {
   "cell_type": "code",
   "execution_count": 190,
   "id": "5e2c24bd-64c2-4a94-9022-e4bff9538a46",
   "metadata": {},
   "outputs": [
    {
     "name": "stdout",
     "output_type": "stream",
     "text": [
      "1 2 3 4 5 6 7 8 9 10 2 4 6 8 10 12 14 16 18 20 3 6 9 12 15 18 21 24 27 30 4 8 12 16 20 24 28 32 36 40 5 10 15 20 25 30 35 40 45 50 6 12 18 24 30 36 42 48 54 60 7 14 21 28 35 42 49 56 63 70 8 16 24 32 40 48 56 64 72 80 9 18 27 36 45 54 63 72 81 90 10 20 30 40 50 60 70 80 90 100 "
     ]
    }
   ],
   "source": [
    "### Exercise 13: Print multiplication table from 1 to 10\n",
    "\n",
    "\n",
    "for i in range(1,11):\n",
    "    for j in range(1,11):\n",
    "        New_item = (i * j)\n",
    "        print(New_item , end = \" \")\n",
    "        "
   ]
  },
  {
   "cell_type": "code",
   "execution_count": 192,
   "id": "a11f0a46-a80a-4af8-b119-810bc8982ef3",
   "metadata": {},
   "outputs": [
    {
     "name": "stdout",
     "output_type": "stream",
     "text": [
      "1 2 3 4 5 6 7 8 9 10 2 4 6 8 10 12 14 16 18 20 3 6 9 12 15 18 21 24 27 30 4 8 12 16 20 24 28 32 36 40 5 10 15 20 25 30 35 40 45 50 6 12 18 24 30 36 42 48 54 60 7 14 21 28 35 42 49 56 63 70 8 16 24 32 40 48 56 64 72 80 9 18 27 36 45 54 63 72 81 90 10 20 30 40 50 60 70 80 90 100 "
     ]
    }
   ],
   "source": [
    "        for i in range(1, 11):\n",
    "    for j in range(1, 11):\n",
    "        print(i * j, end=\" \")\n",
    "    print(\"\\t\\t\")"
   ]
  },
  {
   "cell_type": "code",
   "execution_count": 214,
   "id": "be7401b8-478d-4d27-862a-3125e7d624d7",
   "metadata": {},
   "outputs": [
    {
     "name": "stdout",
     "output_type": "stream",
     "text": [
      "* * * * *  \n",
      "* * * *  \n",
      "* * *  \n",
      "* *  \n",
      "*  \n",
      " \n"
     ]
    }
   ],
   "source": [
    "for i in range(6,0,-1):\n",
    "    for j in range (0, i-1):\n",
    "        print(\"*\"  , end = \" \")\n",
    "    print(\" \")"
   ]
  },
  {
   "cell_type": "code",
   "execution_count": 212,
   "id": "bec76a4e-99b7-43cf-949f-66f3ea87b3a5",
   "metadata": {},
   "outputs": [
    {
     "name": "stdout",
     "output_type": "stream",
     "text": [
      "* * * * *  \n",
      "* * * *  \n",
      "* * *  \n",
      "* *  \n",
      "*  \n",
      " \n"
     ]
    }
   ],
   "source": [
    "for i in range(6, 0, -1):\n",
    "    for j in range(0, i - 1):\n",
    "        print(\"*\", end=' ')\n",
    "    print(\" \")"
   ]
  },
  {
   "cell_type": "code",
   "execution_count": 218,
   "id": "2e1d20c9-c4e9-475b-95df-631ae4fda70b",
   "metadata": {},
   "outputs": [
    {
     "name": "stdout",
     "output_type": "stream",
     "text": [
      "start\n",
      "s\n",
      "sentence\n"
     ]
    }
   ],
   "source": [
    "st = 'Print only the words that start with s in this sentence'\n",
    "\n",
    "New_word = st.split()\n",
    "list_New = \n",
    "\n",
    "for i in range(len(New_word)):\n",
    "    if New_word[i][0].lower() == \"s\":\n",
    "        print(New_word[i])"
   ]
  },
  {
   "cell_type": "code",
   "execution_count": 220,
   "id": "097157f0-464a-4329-95a3-25e3ff9f45f5",
   "metadata": {},
   "outputs": [
    {
     "data": {
      "text/plain": [
       "[0, 3, 6, 9, 12, 15, 18, 21, 24, 27, 30, 33, 36, 39, 42, 45, 48]"
      ]
     },
     "execution_count": 220,
     "metadata": {},
     "output_type": "execute_result"
    }
   ],
   "source": [
    "##comprehension to create a list of all numbers between 1 and 50 that are divisible by 3.</p>\n",
    "List_devisble_3 = []\n",
    "for i in range(50):\n",
    "    if i % 3 == 0 :\n",
    "        List_devisble_3.append(i)\n",
    "\n",
    "List_devisble_3"
   ]
  },
  {
   "cell_type": "code",
   "execution_count": 225,
   "id": "f2c7413e-aa6f-4291-87e4-220fa51ea3f2",
   "metadata": {},
   "outputs": [
    {
     "name": "stdin",
     "output_type": "stream",
     "text": [
      "Print only the words that start with s in this sentence :  i love you ahmed\n"
     ]
    },
    {
     "name": "stdout",
     "output_type": "stream",
     "text": [
      "love\n"
     ]
    }
   ],
   "source": [
    "Word = input('Print only the words that start with s in this sentence : ')\n",
    "Word_devison = Word.split()\n",
    "for i in Word_devison:\n",
    "    if len(i) % 2 == 0 :\n",
    "        print(i)"
   ]
  },
  {
   "cell_type": "code",
   "execution_count": 231,
   "id": "d6c4ea5a-5328-407f-9a1c-9549ba8e32ef",
   "metadata": {},
   "outputs": [
    {
     "data": {
      "text/plain": [
       "[3,\n",
       " 13,\n",
       " 23,\n",
       " 30,\n",
       " 31,\n",
       " 32,\n",
       " 33,\n",
       " 34,\n",
       " 35,\n",
       " 36,\n",
       " 37,\n",
       " 38,\n",
       " 39,\n",
       " 43,\n",
       " 53,\n",
       " 63,\n",
       " 73,\n",
       " 83,\n",
       " 93,\n",
       " 103,\n",
       " 113,\n",
       " 123,\n",
       " 130,\n",
       " 131,\n",
       " 132,\n",
       " 133,\n",
       " 134,\n",
       " 135,\n",
       " 136,\n",
       " 137,\n",
       " 138,\n",
       " 139,\n",
       " 143,\n",
       " 153,\n",
       " 163,\n",
       " 173,\n",
       " 183,\n",
       " 193,\n",
       " 203,\n",
       " 213,\n",
       " 223,\n",
       " 230,\n",
       " 231,\n",
       " 232,\n",
       " 233,\n",
       " 234,\n",
       " 235,\n",
       " 236,\n",
       " 237,\n",
       " 238,\n",
       " 239,\n",
       " 243,\n",
       " 253,\n",
       " 263,\n",
       " 273,\n",
       " 283,\n",
       " 293,\n",
       " 300,\n",
       " 301,\n",
       " 302,\n",
       " 303,\n",
       " 304,\n",
       " 305,\n",
       " 306,\n",
       " 307,\n",
       " 308,\n",
       " 309,\n",
       " 310,\n",
       " 311,\n",
       " 312,\n",
       " 313,\n",
       " 314,\n",
       " 315,\n",
       " 316,\n",
       " 317,\n",
       " 318,\n",
       " 319,\n",
       " 320,\n",
       " 321,\n",
       " 322,\n",
       " 323,\n",
       " 324,\n",
       " 325,\n",
       " 326,\n",
       " 327,\n",
       " 328,\n",
       " 329,\n",
       " 330,\n",
       " 331,\n",
       " 332,\n",
       " 333,\n",
       " 334,\n",
       " 335,\n",
       " 336,\n",
       " 337,\n",
       " 338,\n",
       " 339,\n",
       " 340,\n",
       " 341,\n",
       " 342,\n",
       " 343,\n",
       " 344,\n",
       " 345,\n",
       " 346,\n",
       " 347,\n",
       " 348,\n",
       " 349,\n",
       " 350,\n",
       " 351,\n",
       " 352,\n",
       " 353,\n",
       " 354,\n",
       " 355,\n",
       " 356,\n",
       " 357,\n",
       " 358,\n",
       " 359,\n",
       " 360,\n",
       " 361,\n",
       " 362,\n",
       " 363,\n",
       " 364,\n",
       " 365,\n",
       " 366,\n",
       " 367,\n",
       " 368,\n",
       " 369,\n",
       " 370,\n",
       " 371,\n",
       " 372,\n",
       " 373,\n",
       " 374,\n",
       " 375,\n",
       " 376,\n",
       " 377,\n",
       " 378,\n",
       " 379,\n",
       " 380,\n",
       " 381,\n",
       " 382,\n",
       " 383,\n",
       " 384,\n",
       " 385,\n",
       " 386,\n",
       " 387,\n",
       " 388,\n",
       " 389,\n",
       " 390,\n",
       " 391,\n",
       " 392,\n",
       " 393,\n",
       " 394,\n",
       " 395,\n",
       " 396,\n",
       " 397,\n",
       " 398,\n",
       " 399,\n",
       " 403,\n",
       " 413,\n",
       " 423,\n",
       " 430,\n",
       " 431,\n",
       " 432,\n",
       " 433,\n",
       " 434,\n",
       " 435,\n",
       " 436,\n",
       " 437,\n",
       " 438,\n",
       " 439,\n",
       " 443,\n",
       " 453,\n",
       " 463,\n",
       " 473,\n",
       " 483,\n",
       " 493,\n",
       " 503,\n",
       " 513,\n",
       " 523,\n",
       " 530,\n",
       " 531,\n",
       " 532,\n",
       " 533,\n",
       " 534,\n",
       " 535,\n",
       " 536,\n",
       " 537,\n",
       " 538,\n",
       " 539,\n",
       " 543,\n",
       " 553,\n",
       " 563,\n",
       " 573,\n",
       " 583,\n",
       " 593,\n",
       " 603,\n",
       " 613,\n",
       " 623,\n",
       " 630,\n",
       " 631,\n",
       " 632,\n",
       " 633,\n",
       " 634,\n",
       " 635,\n",
       " 636,\n",
       " 637,\n",
       " 638,\n",
       " 639,\n",
       " 643,\n",
       " 653,\n",
       " 663,\n",
       " 673,\n",
       " 683,\n",
       " 693,\n",
       " 703,\n",
       " 713,\n",
       " 723,\n",
       " 730,\n",
       " 731,\n",
       " 732,\n",
       " 733,\n",
       " 734,\n",
       " 735,\n",
       " 736,\n",
       " 737,\n",
       " 738,\n",
       " 739,\n",
       " 743,\n",
       " 753,\n",
       " 763,\n",
       " 773,\n",
       " 783,\n",
       " 793,\n",
       " 803,\n",
       " 813,\n",
       " 823,\n",
       " 830,\n",
       " 831,\n",
       " 832,\n",
       " 833,\n",
       " 834,\n",
       " 835,\n",
       " 836,\n",
       " 837,\n",
       " 838,\n",
       " 839,\n",
       " 843,\n",
       " 853,\n",
       " 863,\n",
       " 873,\n",
       " 883,\n",
       " 893,\n",
       " 903,\n",
       " 913,\n",
       " 923,\n",
       " 930,\n",
       " 931,\n",
       " 932,\n",
       " 933,\n",
       " 934,\n",
       " 935,\n",
       " 936,\n",
       " 937,\n",
       " 938,\n",
       " 939,\n",
       " 943,\n",
       " 953,\n",
       " 963,\n",
       " 973,\n",
       " 983,\n",
       " 993]"
      ]
     },
     "execution_count": 231,
     "metadata": {},
     "output_type": "execute_result"
    }
   ],
   "source": [
    "listed = [number for number in range (1,1001) if \"3\" in str(number)]\n",
    "\n",
    "listed"
   ]
  },
  {
   "cell_type": "code",
   "execution_count": 233,
   "id": "cf1fdabf-c236-42b3-b0ab-f863d2a00939",
   "metadata": {},
   "outputs": [
    {
     "ename": "SyntaxError",
     "evalue": "invalid syntax (2769226028.py, line 5)",
     "output_type": "error",
     "traceback": [
      "\u001b[1;36m  Cell \u001b[1;32mIn[233], line 5\u001b[1;36m\u001b[0m\n\u001b[1;33m    test = [ i for i in range(len(too)) if i == \" \"  counter +=1]\u001b[0m\n\u001b[1;37m                                                     ^\u001b[0m\n\u001b[1;31mSyntaxError\u001b[0m\u001b[1;31m:\u001b[0m invalid syntax\n"
     ]
    }
   ],
   "source": [
    "##Count the number of spaces in a string\n",
    "\n",
    "Too = input(\"Count the number of spaces in a string\")\n",
    "Counter = 0\n",
    "test = [ i for i in range(len(too)) if i == \" \"  counter +=1]"
   ]
  },
  {
   "cell_type": "code",
   "execution_count": 234,
   "id": "aef07265-15c0-4fb3-bd35-0311ead51194",
   "metadata": {},
   "outputs": [
    {
     "name": "stdin",
     "output_type": "stream",
     "text": [
      "Please entre the password 16543\n"
     ]
    },
    {
     "name": "stdout",
     "output_type": "stream",
     "text": [
      "the password isn't correct\n"
     ]
    },
    {
     "name": "stdin",
     "output_type": "stream",
     "text": [
      "Please entre the password 242774\n"
     ]
    },
    {
     "name": "stdout",
     "output_type": "stream",
     "text": [
      "the password isn't correct\n"
     ]
    },
    {
     "name": "stdin",
     "output_type": "stream",
     "text": [
      "Please entre the password 1999\n"
     ]
    },
    {
     "name": "stdout",
     "output_type": "stream",
     "text": [
      "the password is correct\n"
     ]
    }
   ],
   "source": [
    "while True :\n",
    "    Password = input(\"Please entre the password\")\n",
    "    if Password == \"1999\":\n",
    "        print(\"the password is correct\")\n",
    "        break \n",
    "    else:\n",
    "        print(\"the password isn't correct\")\n",
    "    "
   ]
  },
  {
   "cell_type": "code",
   "execution_count": 245,
   "id": "62435b32-69b9-4411-b644-1c5dfea62942",
   "metadata": {},
   "outputs": [
    {
     "name": "stdin",
     "output_type": "stream",
     "text": [
      "Please entre a number 5\n"
     ]
    },
    {
     "data": {
      "text/plain": [
       "15"
      ]
     },
     "execution_count": 245,
     "metadata": {},
     "output_type": "execute_result"
    }
   ],
   "source": [
    "Given_number = int(input(\"Please entre a number\"))\n",
    "New_List = []\n",
    "Summation = 0\n",
    "for i in range(1 , Given_number+1):\n",
    "    Summation+=i\n",
    "    \n",
    "Summation    "
   ]
  },
  {
   "cell_type": "code",
   "execution_count": 252,
   "id": "d18faf68-22ad-443b-92a9-75f3331f7540",
   "metadata": {},
   "outputs": [
    {
     "data": {
      "text/plain": [
       "[1, 1, 1, 1, 2, 2, 1]"
      ]
     },
     "execution_count": 252,
     "metadata": {},
     "output_type": "execute_result"
    }
   ],
   "source": [
    "##Replace every positive number by 1, Replace every negative number by 2.</p>\n",
    "list_3 = [19, 20, 21, 10, -53, -23, 10]\n",
    "New_List = []\n",
    "\n",
    "\n",
    "for i in range(len(list_3)):\n",
    "    if list_3[i] < 0 :\n",
    "        New_List.append(2)\n",
    "    elif list_3[i] > 0 :\n",
    "        New_List.append(1)\n",
    "New_List\n"
   ]
  },
  {
   "cell_type": "code",
   "execution_count": 255,
   "id": "9b27240e-1646-4974-9909-0c86161122fc",
   "metadata": {},
   "outputs": [
    {
     "name": "stdout",
     "output_type": "stream",
     "text": [
      "1 * 1 = 1\n",
      "1 * 2 = 2\n",
      "1 * 3 = 3\n",
      "1 * 4 = 4\n",
      "1 * 5 = 5\n",
      "1 * 6 = 6\n",
      "1 * 7 = 7\n",
      "1 * 8 = 8\n",
      "1 * 9 = 9\n",
      "1 * 10 = 10\n",
      "**********\n",
      "2 * 1 = 2\n",
      "2 * 2 = 4\n",
      "2 * 3 = 6\n",
      "2 * 4 = 8\n",
      "2 * 5 = 10\n",
      "2 * 6 = 12\n",
      "2 * 7 = 14\n",
      "2 * 8 = 16\n",
      "2 * 9 = 18\n",
      "2 * 10 = 20\n",
      "**********\n",
      "3 * 1 = 3\n",
      "3 * 2 = 6\n",
      "3 * 3 = 9\n",
      "3 * 4 = 12\n",
      "3 * 5 = 15\n",
      "3 * 6 = 18\n",
      "3 * 7 = 21\n",
      "3 * 8 = 24\n",
      "3 * 9 = 27\n",
      "3 * 10 = 30\n",
      "**********\n",
      "4 * 1 = 4\n",
      "4 * 2 = 8\n",
      "4 * 3 = 12\n",
      "4 * 4 = 16\n",
      "4 * 5 = 20\n",
      "4 * 6 = 24\n",
      "4 * 7 = 28\n",
      "4 * 8 = 32\n",
      "4 * 9 = 36\n",
      "4 * 10 = 40\n",
      "**********\n",
      "5 * 1 = 5\n",
      "5 * 2 = 10\n",
      "5 * 3 = 15\n",
      "5 * 4 = 20\n",
      "5 * 5 = 25\n",
      "5 * 6 = 30\n",
      "5 * 7 = 35\n",
      "5 * 8 = 40\n",
      "5 * 9 = 45\n",
      "5 * 10 = 50\n",
      "**********\n",
      "6 * 1 = 6\n",
      "6 * 2 = 12\n",
      "6 * 3 = 18\n",
      "6 * 4 = 24\n",
      "6 * 5 = 30\n",
      "6 * 6 = 36\n",
      "6 * 7 = 42\n",
      "6 * 8 = 48\n",
      "6 * 9 = 54\n",
      "6 * 10 = 60\n",
      "**********\n",
      "7 * 1 = 7\n",
      "7 * 2 = 14\n",
      "7 * 3 = 21\n",
      "7 * 4 = 28\n",
      "7 * 5 = 35\n",
      "7 * 6 = 42\n",
      "7 * 7 = 49\n",
      "7 * 8 = 56\n",
      "7 * 9 = 63\n",
      "7 * 10 = 70\n",
      "**********\n",
      "8 * 1 = 8\n",
      "8 * 2 = 16\n",
      "8 * 3 = 24\n",
      "8 * 4 = 32\n",
      "8 * 5 = 40\n",
      "8 * 6 = 48\n",
      "8 * 7 = 56\n",
      "8 * 8 = 64\n",
      "8 * 9 = 72\n",
      "8 * 10 = 80\n",
      "**********\n",
      "9 * 1 = 9\n",
      "9 * 2 = 18\n",
      "9 * 3 = 27\n",
      "9 * 4 = 36\n",
      "9 * 5 = 45\n",
      "9 * 6 = 54\n",
      "9 * 7 = 63\n",
      "9 * 8 = 72\n",
      "9 * 9 = 81\n",
      "9 * 10 = 90\n",
      "**********\n",
      "10 * 1 = 10\n",
      "10 * 2 = 20\n",
      "10 * 3 = 30\n",
      "10 * 4 = 40\n",
      "10 * 5 = 50\n",
      "10 * 6 = 60\n",
      "10 * 7 = 70\n",
      "10 * 8 = 80\n",
      "10 * 9 = 90\n",
      "10 * 10 = 100\n",
      "**********\n"
     ]
    }
   ],
   "source": [
    "##  Write a Python program to create the multiplication table (from 1 to 10) of a number.</p>\n",
    "\n",
    "\n",
    "for i in range(1,11):\n",
    "    for j in range(1,11):\n",
    "        print(f\"{i} * {j} = { i*j}\")\n",
    "    print(\"*\" * 10)\n",
    "\n",
    "\n",
    "\n"
   ]
  },
  {
   "cell_type": "code",
   "execution_count": 262,
   "id": "1dd6c0d8-670b-44d6-8a93-92ac74c29bab",
   "metadata": {},
   "outputs": [
    {
     "name": "stdin",
     "output_type": "stream",
     "text": [
      "Please entre a number 5\n"
     ]
    },
    {
     "name": "stdout",
     "output_type": "stream",
     "text": [
      "5 * 1 = 5\n",
      "5 * 2 = 10\n",
      "5 * 3 = 15\n",
      "5 * 4 = 20\n",
      "5 * 5 = 25\n",
      "5 * 6 = 30\n",
      "5 * 7 = 35\n",
      "5 * 8 = 40\n",
      "5 * 9 = 45\n",
      "5 * 10 = 50\n",
      "**********\n"
     ]
    }
   ],
   "source": [
    "number = int(input(\"Please entre a number\"))\n",
    "\n",
    "for i in range(1,11):\n",
    "    print(f\"{number} * {i} = { number*i }\")\n",
    "print(\"*\" * 10)\n",
    "\n"
   ]
  },
  {
   "cell_type": "code",
   "execution_count": 267,
   "id": "c5ce0819-b241-46c6-8e5f-b9fb481562cd",
   "metadata": {},
   "outputs": [
    {
     "name": "stdin",
     "output_type": "stream",
     "text": [
      "Please entre a number h\n"
     ]
    },
    {
     "name": "stdout",
     "output_type": "stream",
     "text": [
      "please entre a number not letter\n",
      "you did a great job\n"
     ]
    }
   ],
   "source": [
    "\n",
    "try :\n",
    "    number_3= int(input(\"Please entre a number\"))\n",
    "    number_4= int(input(\"Please entre a number\"))\n",
    "    print(number_3/number_4)\n",
    "except ZeroDivisionError:\n",
    "    print(\"you cann't devide by 0\")\n",
    "\n",
    "except ValueError:\n",
    "    print(\"please entre a number not letter\")\n",
    "\n",
    "else:\n",
    "    print(number_3/number_4)\n",
    "\n",
    "finally:\n",
    "    print(\"you did a great job\")\n",
    "\n",
    "\n",
    "    \n"
   ]
  },
  {
   "cell_type": "code",
   "execution_count": 277,
   "id": "08c525cb-140d-4af4-84ba-54162133919d",
   "metadata": {},
   "outputs": [],
   "source": [
    "def muliplation (numbers):\n",
    "    Multiply = 1\n",
    "    for i in range(len(numbers)):\n",
    "        Multiply = Multiply * numbers[i]\n",
    "    return Multiply"
   ]
  },
  {
   "cell_type": "code",
   "execution_count": 278,
   "id": "c3f836d6-326a-493a-9c7c-70d42353348d",
   "metadata": {},
   "outputs": [
    {
     "data": {
      "text/plain": [
       "240"
      ]
     },
     "execution_count": 278,
     "metadata": {},
     "output_type": "execute_result"
    }
   ],
   "source": [
    "one_two = [5,8,6,1]\n",
    "\n",
    "muliplation(one_two)"
   ]
  },
  {
   "cell_type": "code",
   "execution_count": 286,
   "id": "ab756836-ea6c-4d3e-a6d1-2f13be33a0f5",
   "metadata": {},
   "outputs": [],
   "source": [
    "def piolderme (name):\n",
    "    if name == name[ : :-1]:\n",
    "        return (\"it is piolderme\")\n",
    "    else:\n",
    "        return (\"it isn't piolderme\")\n"
   ]
  },
  {
   "cell_type": "code",
   "execution_count": 287,
   "id": "f7a77967-052d-4b70-a9b3-1f735838b15c",
   "metadata": {},
   "outputs": [
    {
     "data": {
      "text/plain": [
       "\"it isn't piolderme\""
      ]
     },
     "execution_count": 287,
     "metadata": {},
     "output_type": "execute_result"
    }
   ],
   "source": [
    "piolderme (\"Pasta\")"
   ]
  },
  {
   "cell_type": "code",
   "execution_count": 334,
   "id": "3216bc7b-e6fa-4ca7-b4c7-43283e0d1edd",
   "metadata": {},
   "outputs": [],
   "source": [
    "\n",
    "def How_many_years (Limak_weight , Bob_weight):\n",
    "    Years_counter = 0\n",
    "    for i in range (1,100):\n",
    "        Limak_weight = Limak_weight * 3\n",
    "        Bob_weight = Bob_weight *2\n",
    "        Years_counter += 1\n",
    "        if Limak_weight >= Bob_weight:\n",
    "            return Years_counter\n",
    "            break \n"
   ]
  },
  {
   "cell_type": "code",
   "execution_count": 343,
   "id": "289cffae-0a76-4837-b8c1-d01dbf9f3216",
   "metadata": {},
   "outputs": [
    {
     "data": {
      "text/plain": [
       "5"
      ]
     },
     "execution_count": 343,
     "metadata": {},
     "output_type": "execute_result"
    }
   ],
   "source": [
    "How_many_years(3,16)"
   ]
  },
  {
   "cell_type": "code",
   "execution_count": 345,
   "id": "6412d0fd-4bad-4114-b76d-992fc01a6b3b",
   "metadata": {},
   "outputs": [
    {
     "data": {
      "text/plain": [
       "[4, 16, 36, 64]"
      ]
     },
     "execution_count": 345,
     "metadata": {},
     "output_type": "execute_result"
    }
   ],
   "source": [
    "lst = [ 2,4,6,8]\n",
    "\n",
    "def double(arg):\n",
    "    arg = arg*arg\n",
    "    return arg\n",
    "\n",
    "list(map(double , lst))"
   ]
  },
  {
   "cell_type": "code",
   "execution_count": 346,
   "id": "93e5110a-99a8-4afa-b5c2-d3a169dc7abd",
   "metadata": {},
   "outputs": [
    {
     "data": {
      "text/plain": [
       "[1, 2, 3, 4, 5, 6, 7, 8, 9]"
      ]
     },
     "execution_count": 346,
     "metadata": {},
     "output_type": "execute_result"
    }
   ],
   "source": [
    "list(range(1,10))"
   ]
  },
  {
   "cell_type": "code",
   "execution_count": 350,
   "id": "24f9fdc3-034b-45af-81ad-9babc3c7ee13",
   "metadata": {},
   "outputs": [
    {
     "data": {
      "text/plain": [
       "[1, 3, 5, 7, 9]"
      ]
     },
     "execution_count": 350,
     "metadata": {},
     "output_type": "execute_result"
    }
   ],
   "source": [
    "def is_odd (arg):\n",
    "    if arg % 2 == 1:\n",
    "      return arg\n",
    "\n",
    "Liey=[1, 2, 3, 4, 5, 6, 7, 8, 9]\n",
    "list(filter( is_odd , Liey ))"
   ]
  },
  {
   "cell_type": "code",
   "execution_count": 355,
   "id": "2d95c55b-2d9d-4351-b1de-d54171433c1e",
   "metadata": {},
   "outputs": [
    {
     "data": {
      "text/plain": [
       "[(0, 'ahmed'), (1, 'yousef'), (2, 'Asser')]"
      ]
     },
     "execution_count": 355,
     "metadata": {},
     "output_type": "execute_result"
    }
   ],
   "source": [
    "lst= [ \"ahmed\" , \"yousef\" , \"Asser\"]\n",
    "list(enumerate(lst))"
   ]
  },
  {
   "cell_type": "code",
   "execution_count": 356,
   "id": "8b0dd45a-7b42-4905-addd-413a4b1507c2",
   "metadata": {},
   "outputs": [
    {
     "data": {
      "text/plain": [
       "[6, 9, 15]"
      ]
     },
     "execution_count": 356,
     "metadata": {},
     "output_type": "execute_result"
    }
   ],
   "source": [
    "listed = [2,3,5]\n",
    "\n",
    "list(map(lambda arg : arg*3 , listed))"
   ]
  },
  {
   "cell_type": "code",
   "execution_count": 357,
   "id": "948444bb-7e34-4289-9216-5946129174f0",
   "metadata": {},
   "outputs": [
    {
     "data": {
      "text/plain": [
       "[12, 25, 40, 14, 36]"
      ]
     },
     "execution_count": 357,
     "metadata": {},
     "output_type": "execute_result"
    }
   ],
   "source": [
    "age = [ 12,25,40,0,14,0,0,36]\n",
    "\n",
    "list(filter(lambda arg: True  if arg != 0 else False , age))"
   ]
  },
  {
   "cell_type": "code",
   "execution_count": 359,
   "id": "1b7190de-7157-4b94-a3ee-cc98e78e617d",
   "metadata": {},
   "outputs": [
    {
     "data": {
      "text/plain": [
       "[('java', 14), ('Python', 5), ('Java scrip', 12)]"
      ]
     },
     "execution_count": 359,
     "metadata": {},
     "output_type": "execute_result"
    }
   ],
   "source": [
    "data = [\"java\" , \"Python\" , \"Java scrip\"]\n",
    "versions = [14,5,12]\n",
    "\n",
    "list(zip(data,versions))"
   ]
  },
  {
   "cell_type": "code",
   "execution_count": 364,
   "id": "4787af8a-5efd-411b-ba50-6432e67bd84b",
   "metadata": {},
   "outputs": [
    {
     "name": "stdin",
     "output_type": "stream",
     "text": [
      "Please entre a number 5\n"
     ]
    },
    {
     "ename": "TypeError",
     "evalue": "list expected at most 1 argument, got 2",
     "output_type": "error",
     "traceback": [
      "\u001b[1;31m---------------------------------------------------------------------------\u001b[0m",
      "\u001b[1;31mTypeError\u001b[0m                                 Traceback (most recent call last)",
      "Cell \u001b[1;32mIn[364], line 2\u001b[0m\n\u001b[0;32m      1\u001b[0m Number\u001b[38;5;241m=\u001b[39m \u001b[38;5;28mint\u001b[39m(\u001b[38;5;28minput\u001b[39m(\u001b[38;5;124m\"\u001b[39m\u001b[38;5;124mPlease entre a number\u001b[39m\u001b[38;5;124m\"\u001b[39m))\n\u001b[1;32m----> 2\u001b[0m \u001b[38;5;28;43mlist\u001b[39;49m\u001b[43m(\u001b[49m\u001b[38;5;28;43;01mlambda\u001b[39;49;00m\u001b[43m \u001b[49m\u001b[43marg\u001b[49m\u001b[43m \u001b[49m\u001b[43m:\u001b[49m\u001b[43m \u001b[49m\u001b[43marg\u001b[49m\u001b[43m \u001b[49m\u001b[38;5;241;43m+\u001b[39;49m\u001b[38;5;241;43m15\u001b[39;49m\u001b[43m \u001b[49m\u001b[43m,\u001b[49m\u001b[43mNumber\u001b[49m\u001b[43m)\u001b[49m\n",
      "\u001b[1;31mTypeError\u001b[0m: list expected at most 1 argument, got 2"
     ]
    }
   ],
   "source": [
    "Number= int(input(\"Please entre a number\"))\n",
    "list(lambda arg : arg +15 ,Number)"
   ]
  },
  {
   "cell_type": "code",
   "execution_count": 366,
   "id": "7d3e9dec-541d-477c-a8e7-11223c67a975",
   "metadata": {},
   "outputs": [
    {
     "data": {
      "text/plain": [
       "21"
      ]
     },
     "execution_count": 366,
     "metadata": {},
     "output_type": "execute_result"
    }
   ],
   "source": [
    "##Lambda function with multiple arguments\n",
    "multiply = lambda  arg1 , arg2 : arg1 * arg2 \n",
    "multiply(3,7)"
   ]
  },
  {
   "cell_type": "code",
   "execution_count": null,
   "id": "e66c7db2-ac09-497b-891a-3ad97ebe826a",
   "metadata": {},
   "outputs": [],
   "source": [
    "Original list of tuples:[('English', 88), ('Science', 90), ('Maths', 97), ('Social sciences', 82)]\n",
    "\n",
    "lambda arg"
   ]
  }
 ],
 "metadata": {
  "kernelspec": {
   "display_name": "Python 3 (ipykernel)",
   "language": "python",
   "name": "python3"
  },
  "language_info": {
   "codemirror_mode": {
    "name": "ipython",
    "version": 3
   },
   "file_extension": ".py",
   "mimetype": "text/x-python",
   "name": "python",
   "nbconvert_exporter": "python",
   "pygments_lexer": "ipython3",
   "version": "3.9.19"
  }
 },
 "nbformat": 4,
 "nbformat_minor": 5
}
