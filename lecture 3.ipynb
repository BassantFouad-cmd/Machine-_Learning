{
 "cells": [
  {
   "cell_type": "code",
   "execution_count": null,
   "id": "eed4f477-22f9-4f86-a758-8aa54327c1c2",
   "metadata": {},
   "outputs": [],
   "source": [
    "print(\"your name is ahmed\" , end = '. ')\n",
    "print(\"your age is 25\")\n"
   ]
  },
  {
   "cell_type": "code",
   "execution_count": null,
   "id": "c80a0fc9-110c-4cb2-bbf9-6290d2c4e685",
   "metadata": {},
   "outputs": [],
   "source": [
    "name = input(\"Please entre your name\")\n",
    "age =int(input(\"Please entre your age\"))\n",
    "\n",
    "print(\"your name is\", name , end = '. ')\n",
    "print(\"your age is\" , age )"
   ]
  },
  {
   "cell_type": "code",
   "execution_count": null,
   "id": "45b23d07-b376-4c05-ac6b-9f9c2b229cef",
   "metadata": {},
   "outputs": [],
   "source": [
    "number = int(input(\"Please enter a number\"))\n",
    "if (number % 2 == 0):\n",
    "    print(\"even number\")\n",
    "\n",
    "else:\n",
    "    print(\"odd number\")"
   ]
  },
  {
   "cell_type": "code",
   "execution_count": null,
   "id": "eaf10200-c4c1-4a6c-8a34-913eb0a9256c",
   "metadata": {},
   "outputs": [],
   "source": [
    "number = int(input(\"Please enter a number\"))\n",
    "if (number > 0):\n",
    "    print(\"positive number\")\n",
    "\n",
    "elif (number < 0):\n",
    "      print (\"negative number\")\n",
    "    else:\n",
    "    print(\"zero\")"
   ]
  },
  {
   "cell_type": "code",
   "execution_count": null,
   "id": "0ea9a313-2b92-4dd3-9b5b-975d6b56efd0",
   "metadata": {},
   "outputs": [],
   "source": [
    "number = int(input(\"Please enter a number\"))\n",
    "if (number > 0):\n",
    "    print(\"positive number\")\n",
    "\n",
    "elif (number < 0):\n",
    "      print (\"negative number\")\n",
    "else:\n",
    "    print(\"zero\")"
   ]
  },
  {
   "cell_type": "code",
   "execution_count": null,
   "id": "7300783c-2db8-4ef1-a4be-d2f1da6b57f0",
   "metadata": {},
   "outputs": [],
   "source": [
    "number = float(input(\"Please enter a number\"))\n",
    "if number < 0 and number % 2 == 1:\n",
    "    print(\"Negative odd\")\n",
    "\n",
    "elif number < 0 and number % 2 == 0:\n",
    "    print(\"Negative Even\")\n",
    "    \n",
    "elif number > 0 and number % 2 == 0:\n",
    "    print(\"Positive Even\")\n",
    "\n",
    "elif number > 0 and number % 2 == 1:\n",
    "    print(\"Positive odd\")\n",
    "\n",
    "else:\n",
    "    print(\"zero\")\n"
   ]
  },
  {
   "cell_type": "code",
   "execution_count": null,
   "id": "b3da3e90-ac8e-4e90-b5cf-7b48d88c5329",
   "metadata": {},
   "outputs": [],
   "source": [
    "w = float(input(\"Please enter a number\"))\n",
    "l = float(input(\"Please enter a number\"))\n",
    "area == w*l\n",
    " if (area > 50) and (area % 2 == 0):\n",
    "     print(\"large even area\")\n",
    "     \n",
    " elif (area < 50) or (area % 2 == 0):\n",
    "     print(\"small or even area\")\n",
    "\n",
    "elif (area == 0):\n",
    "    print(\"zero area, there is no rectangle\")\n"
   ]
  },
  {
   "cell_type": "code",
   "execution_count": 4,
   "id": "fce976f4-b9f7-4ab5-8b73-faba0f39d4a3",
   "metadata": {},
   "outputs": [
    {
     "ename": "IndentationError",
     "evalue": "unexpected indent (4181588112.py, line 5)",
     "output_type": "error",
     "traceback": [
      "\u001b[1;36m  Cell \u001b[1;32mIn[4], line 5\u001b[1;36m\u001b[0m\n\u001b[1;33m    if area > 50 and area % 2 == 0:\u001b[0m\n\u001b[1;37m    ^\u001b[0m\n\u001b[1;31mIndentationError\u001b[0m\u001b[1;31m:\u001b[0m unexpected indent\n"
     ]
    }
   ],
   "source": [
    "w = float(input(\"Please enter a number\"))\n",
    "l = float(input(\"Please enter a number\"))\n",
    "area = w*l\n",
    "\n",
    " if area > 50 and area % 2 == 0:\n",
    "    print(\"large even area\")\n",
    "     \n",
    " elif area < 5 or area % 2 == 0:\n",
    "    print(\"small or even area\")\n",
    "\n",
    "elif area == 0:\n",
    "    print(\"zero area, there is no rectangle\")"
   ]
  },
  {
   "cell_type": "code",
   "execution_count": 6,
   "id": "93e6831f-096c-4663-9b19-7bd2b9def3cc",
   "metadata": {},
   "outputs": [
    {
     "name": "stdin",
     "output_type": "stream",
     "text": [
      "Please enter a number 120\n",
      "Please enter a number 15\n"
     ]
    },
    {
     "name": "stdout",
     "output_type": "stream",
     "text": [
      "large even area\n"
     ]
    }
   ],
   "source": [
    "w = float(input(\"Please enter a number\"))\n",
    "l = float(input(\"Please enter a number\"))\n",
    "area = w*l\n",
    "\n",
    "if area > 50 and area % 2 == 0:\n",
    "    print(\"large even area\")\n",
    "     \n",
    "elif area < 5 or area % 2 == 0:\n",
    "    print(\"small or even area\")\n",
    "elif area == 0:\n",
    "    print(\"zero area, there is no rectangle\")"
   ]
  },
  {
   "cell_type": "code",
   "execution_count": null,
   "id": "58471e00-350d-4fa0-ba77-394321eac99b",
   "metadata": {},
   "outputs": [],
   "source": []
  }
 ],
 "metadata": {
  "kernelspec": {
   "display_name": "Python 3 (ipykernel)",
   "language": "python",
   "name": "python3"
  },
  "language_info": {
   "codemirror_mode": {
    "name": "ipython",
    "version": 3
   },
   "file_extension": ".py",
   "mimetype": "text/x-python",
   "name": "python",
   "nbconvert_exporter": "python",
   "pygments_lexer": "ipython3",
   "version": "3.9.19"
  }
 },
 "nbformat": 4,
 "nbformat_minor": 5
}
