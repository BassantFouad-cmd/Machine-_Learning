{
 "cells": [
  {
   "cell_type": "code",
   "execution_count": 67,
   "metadata": {},
   "outputs": [],
   "source": [
    "import requests\n",
    "from bs4 import BeautifulSoup\n",
    "\n",
    "BASE_URL = \"https://www.scrapethissite.com/pages/forms/?page_num=1\"\n",
    "res = requests.get(BASE_URL)\n",
    "soup = BeautifulSoup(res.text, \"html.parser\")\n",
    "\n",
    "Listed_Teams = soup.find_all(\"tr\", attrs = {\"class\": \"team\"})\n",
    "\n",
    "with open(\"Teams_List.csv\", mode=\"w\", encoding=\"utf-8\") as fd:\n",
    "    \n",
    "    fd.write(\"Team_Name, Team_Year, Team_Wins, Team_Losses ,Team_Win_Percentage,Team_GF ,Team_GA \\n\")\n",
    "    Listed_Teams = soup.find_all(\"tr\", class_=\"team\")\n",
    "    Team_Win_data = soup.find_all(\"td\", attrs = {\"class\":\"pct text-success\"})\n",
    "    \n",
    "    for Team in Listed_Teams:\n",
    "        \n",
    "        Team_Name = Team.find(\"td\", attrs = {\"class\":\"name\"}).text.strip()\n",
    "        Team_Year = Team.find(\"td\", attrs = {\"class\":\"year\"}).text.strip()\n",
    "        Team_Wins = Team.find(\"td\", attrs = {\"class\":\"wins\"}).text.strip()\n",
    "        Team_Losses = Team.find(\"td\", attrs = {\"class\":\"losses\"}).text.strip()\n",
    "        Team_Win_Percentage = Team.find(\"td\", attrs={\"class\": \"pct\"}).text.strip()\n",
    "        Team_GF = Team.find(\"td\", attrs = {\"class\":\"gf\"}).text.strip()\n",
    "        Team_GA = Team.find(\"td\", attrs = {\"class\":\"ga\"}).text.strip()\n",
    "        fd.write(f\"\\\"{Team_Name}\\\", \\\"{Team_Year}\\\", \\\"{Team_Wins}\\\", \\\"{Team_Losses}\\\",\\\"{Team_Win_Percentage}\\\" ,\\\"{Team_GF}\\\",\\\"{Team_GA}\\\" \\n\")\n"
   ]
  },
  {
   "cell_type": "code",
   "execution_count": null,
   "metadata": {},
   "outputs": [],
   "source": []
  }
 ],
 "metadata": {
  "kernelspec": {
   "display_name": "Python 3",
   "language": "python",
   "name": "python3"
  },
  "language_info": {
   "codemirror_mode": {
    "name": "ipython",
    "version": 3
   },
   "file_extension": ".py",
   "mimetype": "text/x-python",
   "name": "python",
   "nbconvert_exporter": "python",
   "pygments_lexer": "ipython3",
   "version": "3.7.6"
  }
 },
 "nbformat": 4,
 "nbformat_minor": 4
}
