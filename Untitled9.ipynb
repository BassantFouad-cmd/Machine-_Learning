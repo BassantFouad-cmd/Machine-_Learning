{
 "cells": [
  {
   "cell_type": "code",
   "execution_count": 43,
   "id": "52ea7b12-ded9-4e15-982f-d3d963caf2b0",
   "metadata": {},
   "outputs": [
    {
     "name": "stdin",
     "output_type": "stream",
     "text": [
      "Please enter number 5\n",
      "Please enter number 6\n"
     ]
    },
    {
     "name": "stdout",
     "output_type": "stream",
     "text": [
      "the number is allocated in Q2\n"
     ]
    }
   ],
   "source": [
    "X = int(input(\"Please enter number\"))\n",
    "Y = int(input(\"Please enter number\"))\n",
    "if X > 0 and Y > 0:\n",
    "    print (\"the number is allocated in Q2\")\n",
    "elif X > 0 and Y < 0:\n",
    "     print (\"the number is allocated in Q3\")\n",
    "elif X < 0 and Y > 0:\n",
    "    print (\"the number is allocated in Q1\")\n",
    "elif X < 0 and Y < 0:\n",
    "    print (\"the number is allocated in Q4\")\n"
   ]
  },
  {
   "cell_type": "code",
   "execution_count": 14,
   "id": "5531c30d-96b8-4e25-b069-13da0d335810",
   "metadata": {},
   "outputs": [
    {
     "name": "stdout",
     "output_type": "stream",
     "text": [
      "-10\n",
      "-9\n",
      "-8\n",
      "-7\n",
      "-6\n",
      "-5\n",
      "-4\n",
      "-3\n",
      "-2\n",
      "-1\n"
     ]
    }
   ],
   "source": [
    "for i in range(-10,0,1):\n",
    "    print(i)"
   ]
  },
  {
   "cell_type": "code",
   "execution_count": 19,
   "id": "3dea3ff1-4a38-46c7-a305-083dba487b33",
   "metadata": {},
   "outputs": [
    {
     "name": "stdin",
     "output_type": "stream",
     "text": [
      "please entre a number: 8\n"
     ]
    },
    {
     "name": "stdout",
     "output_type": "stream",
     "text": [
      "1\n",
      "3\n",
      "6\n",
      "10\n",
      "15\n",
      "21\n",
      "28\n",
      "36\n"
     ]
    }
   ],
   "source": [
    "num1= int(input(\"please entre a number:\"))\n",
    "summation=0 \n",
    "for i in range(1,num1+1) :\n",
    "    summation=summation+i\n",
    "    print(summation)\n"
   ]
  },
  {
   "cell_type": "code",
   "execution_count": 33,
   "id": "174c6ce8-287a-48a3-ae1a-74389b48a5ac",
   "metadata": {},
   "outputs": [
    {
     "name": "stdout",
     "output_type": "stream",
     "text": [
      "\n",
      "H\n",
      "He\n",
      "Hel\n",
      "Hell\n",
      "Hello\n",
      "Hello \n",
      "Hello W\n",
      "Hello Wo\n",
      "Hello Wor\n",
      "Hello Worl\n",
      "Hello World\n"
     ]
    }
   ],
   "source": [
    "test=\"Hello World\"\n",
    "for i in range(len(test)+1):\n",
    "        print(test[:i])"
   ]
  },
  {
   "cell_type": "code",
   "execution_count": 22,
   "id": "5b338667-9a01-44c8-9e03-49036fb39dec",
   "metadata": {},
   "outputs": [
    {
     "data": {
      "text/plain": [
       "11"
      ]
     },
     "execution_count": 22,
     "metadata": {},
     "output_type": "execute_result"
    }
   ],
   "source": [
    "test=\"Hello World\"\n",
    "len(test)"
   ]
  },
  {
   "cell_type": "code",
   "execution_count": 28,
   "id": "d777e954-3160-4e2f-afe9-b65fbd26d679",
   "metadata": {},
   "outputs": [
    {
     "name": "stdout",
     "output_type": "stream",
     "text": [
      "H\n",
      "He\n",
      "Hel\n",
      "Hell\n",
      "Hello\n",
      "Hello \n",
      "Hello w\n",
      "Hello wo\n",
      "Hello wor\n",
      "Hello worl\n",
      "Hello world\n"
     ]
    }
   ],
   "source": [
    "word = \"Hello world\"\n",
    "new_word = \"\"\n",
    "for Counter in range (len(word)):\n",
    "    new_word = new_word + word[Counter]\n",
    "    print(new_word)"
   ]
  },
  {
   "cell_type": "code",
   "execution_count": null,
   "id": "9ea45da1-4c75-49c7-b8ea-b2274ae5d072",
   "metadata": {},
   "outputs": [],
   "source": []
  },
  {
   "cell_type": "code",
   "execution_count": 31,
   "id": "5388b4bb-0ff6-488f-959c-fff612823c4c",
   "metadata": {},
   "outputs": [
    {
     "name": "stdin",
     "output_type": "stream",
     "text": [
      " test\n"
     ]
    },
    {
     "name": "stdout",
     "output_type": "stream",
     "text": [
      "\n",
      "t\n",
      "te\n",
      "tes\n",
      "test\n"
     ]
    }
   ],
   "source": [
    "word = input()\n",
    "for i in range(len(word)+1):\n",
    "    print(word[:i])"
   ]
  },
  {
   "cell_type": "code",
   "execution_count": 40,
   "id": "524f8851-f27a-4e4a-a7d9-de11ef0eae19",
   "metadata": {},
   "outputs": [
    {
     "name": "stdout",
     "output_type": "stream",
     "text": [
      " 1 * 6 = 6 \n",
      " 2 * 6 = 12 \n",
      " 3 * 6 = 18 \n",
      " 4 * 6 = 24 \n",
      " 5 * 6 = 30 \n",
      " 6 * 6 = 36 \n",
      " 7 * 6 = 42 \n",
      " 8 * 6 = 48 \n",
      " 9 * 6 = 54 \n",
      " 10 * 6 = 60 \n"
     ]
    }
   ],
   "source": [
    "num= 6\n",
    "Multiplation= 1\n",
    "for i in range (1,11):\n",
    "    New_Multiplation= i * 6\n",
    "    print(f\" {i} * {num} = {num* i} \")"
   ]
  },
  {
   "cell_type": "code",
   "execution_count": 52,
   "id": "d6acd97a-7d46-44b6-b225-7d741c675dbc",
   "metadata": {},
   "outputs": [
    {
     "name": "stdout",
     "output_type": "stream",
     "text": [
      "1\n",
      "12\n",
      "123\n",
      "1234\n",
      "12345\n"
     ]
    }
   ],
   "source": [
    "for i in range(1,6):\n",
    "    for j in range(i):\n",
    "        print(j+1 , end =\"\")\n",
    "    print()\n"
   ]
  },
  {
   "cell_type": "code",
   "execution_count": 57,
   "id": "95c1ef68-c6bf-4a21-91f7-12722d72fe7d",
   "metadata": {},
   "outputs": [
    {
     "ename": "SyntaxError",
     "evalue": "invalid syntax (609114889.py, line 2)",
     "output_type": "error",
     "traceback": [
      "\u001b[1;36m  Cell \u001b[1;32mIn[57], line 2\u001b[1;36m\u001b[0m\n\u001b[1;33m    test2=int(input(\"Please write a number2\")\u001b[0m\n\u001b[1;37m    ^\u001b[0m\n\u001b[1;31mSyntaxError\u001b[0m\u001b[1;31m:\u001b[0m invalid syntax\n"
     ]
    }
   ],
   "source": [
    "test1=int(input(\"Please write a number\")\n",
    "test2=int(input(\"Please write a number2\")\n",
    "product = number1*number2\n",
    "\n",
    "if product => 1000:\n",
    "    return product \n",
    "\n",
    "else:\n",
    "    return test1+test2\n",
    "\n",
    "result = multiplication_or_sum(f\"{test1}, {test2}\")\n",
    "print(\"The result is\", result)\n"
   ]
  },
  {
   "cell_type": "code",
   "execution_count": 58,
   "id": "7dcc3d22-8906-4b6a-8ed6-a438685fb01a",
   "metadata": {},
   "outputs": [
    {
     "name": "stdout",
     "output_type": "stream",
     "text": [
      "w\n",
      "h\n",
      "a\n",
      "t\n",
      "h\n",
      "a\n",
      "p\n",
      "p\n",
      "e\n",
      "n\n",
      "e\n",
      "d\n"
     ]
    }
   ],
   "source": [
    "word_text = \"whathappened\"\n",
    "\n",
    "if len(word_text) > 6:\n",
    "    for i in range(len(word_text)):\n",
    "        print(word_text[i])"
   ]
  },
  {
   "cell_type": "code",
   "execution_count": 59,
   "id": "8cca6ee0-fae9-447d-a599-c05658d44846",
   "metadata": {},
   "outputs": [
    {
     "name": "stdout",
     "output_type": "stream",
     "text": [
      "Index: 0, Character: w\n",
      "Index: 1, Character: h\n",
      "Index: 2, Character: a\n",
      "Index: 3, Character: t\n",
      "Index: 4, Character: h\n",
      "Index: 5, Character: a\n",
      "Index: 6, Character: p\n",
      "Index: 7, Character: p\n",
      "Index: 8, Character: e\n",
      "Index: 9, Character: n\n",
      "Index: 10, Character: e\n",
      "Index: 11, Character: d\n"
     ]
    }
   ],
   "source": [
    "word_text = \"whathappened\"\n",
    "\n",
    "if len(word_text) > 6:\n",
    "    for i in range(len(word_text)):\n",
    "        print(f\"Index: {i}, Character: {word_text[i]}\")"
   ]
  },
  {
   "cell_type": "code",
   "execution_count": null,
   "id": "eb01e6b3-9acd-488a-aac0-f1805af52b5c",
   "metadata": {},
   "outputs": [],
   "source": []
  }
 ],
 "metadata": {
  "kernelspec": {
   "display_name": "Python 3 (ipykernel)",
   "language": "python",
   "name": "python3"
  },
  "language_info": {
   "codemirror_mode": {
    "name": "ipython",
    "version": 3
   },
   "file_extension": ".py",
   "mimetype": "text/x-python",
   "name": "python",
   "nbconvert_exporter": "python",
   "pygments_lexer": "ipython3",
   "version": "3.9.19"
  }
 },
 "nbformat": 4,
 "nbformat_minor": 5
}
