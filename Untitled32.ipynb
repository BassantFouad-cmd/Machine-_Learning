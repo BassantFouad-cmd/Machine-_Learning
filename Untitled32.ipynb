{
 "cells": [
  {
   "cell_type": "code",
   "execution_count": 2,
   "id": "abc05f29-f1cd-4536-931a-a43155c09ed8",
   "metadata": {},
   "outputs": [],
   "source": [
    "class Engineer:\n",
    "    def __init__(self ,name, age): \n",
    "        self.__name = name \n",
    "        self.age = age\n",
    "\n",
    "    def sleep(self):\n",
    "        print(f\"{self.__name} is sleeping\")\n",
    "\n",
    "    def print_details(self):\n",
    "        print(f\"{self.__name} is an Engineer\")\n",
    "\n",
    "    def get_name(self):\n",
    "        return self.__name\n",
    "\n",
    "    def set_name(self, new_name):\n",
    "        if type(new_name) == str and len(new-name) > 0 :\n",
    "            self.__name = new_name  \n",
    "        \n",
    "            "
   ]
  },
  {
   "cell_type": "code",
   "execution_count": 31,
   "id": "193bdeaf-2fa1-4427-88e8-f147f48c730a",
   "metadata": {},
   "outputs": [],
   "source": [
    "class Elecrical_engineer(Engineer):\n",
    "    def __init__(self, name, age , promgrams):\n",
    "        Engineer.__init__(self ,name, age)\n",
    "        self.programs = promgrams\n",
    "    \n",
    "    def print_details(self):\n",
    "            print(f\"{self.get_name()} is an Elecrical_engineer\")"
   ]
  },
  {
   "cell_type": "code",
   "execution_count": 32,
   "id": "c061b925-e488-4c15-b4aa-7085a3a2cb23",
   "metadata": {},
   "outputs": [],
   "source": [
    "class Mechanical_engineer(Engineer):\n",
    "        def __init__(self, name, age , tools):\n",
    "            Engineer.__init__(self ,name, age)\n",
    "            self.tools = tools\n",
    "\n",
    "        def print_details(self):\n",
    "            print(f\"{self.get_name()} is a Mechanical_engineer\")\n",
    "            "
   ]
  },
  {
   "cell_type": "code",
   "execution_count": 33,
   "id": "9c90ec3a-de7b-4e05-8e62-2c06cf1c5a35",
   "metadata": {},
   "outputs": [],
   "source": [
    "Engineer1 = Elecrical_engineer(\"Ahmed\",55 , \"java\")"
   ]
  },
  {
   "cell_type": "code",
   "execution_count": 34,
   "id": "fb8c5db2-cd83-4c99-a9bf-da4cb1c098c3",
   "metadata": {},
   "outputs": [],
   "source": [
    "Engineer2 = Mechanical_engineer( \"Asser\", 10 , \"Excel\")"
   ]
  },
  {
   "cell_type": "code",
   "execution_count": 35,
   "id": "e0fca438-4491-4158-9dfe-40be9651a385",
   "metadata": {},
   "outputs": [
    {
     "name": "stdout",
     "output_type": "stream",
     "text": [
      "Asser is a Mechanical_engineer\n"
     ]
    }
   ],
   "source": [
    "Engineer2.print_details()"
   ]
  },
  {
   "cell_type": "code",
   "execution_count": 36,
   "id": "8778e0a6-cd0a-4c42-ab5e-7e80769277ac",
   "metadata": {},
   "outputs": [
    {
     "name": "stdout",
     "output_type": "stream",
     "text": [
      "Ahmed is an Elecrical_engineer\n"
     ]
    }
   ],
   "source": [
    "Engineer1.print_details()"
   ]
  },
  {
   "cell_type": "code",
   "execution_count": null,
   "id": "10680c42-c512-4215-b57e-ea296da6f2be",
   "metadata": {},
   "outputs": [],
   "source": []
  }
 ],
 "metadata": {
  "kernelspec": {
   "display_name": "Python 3 (ipykernel)",
   "language": "python",
   "name": "python3"
  },
  "language_info": {
   "codemirror_mode": {
    "name": "ipython",
    "version": 3
   },
   "file_extension": ".py",
   "mimetype": "text/x-python",
   "name": "python",
   "nbconvert_exporter": "python",
   "pygments_lexer": "ipython3",
   "version": "3.9.19"
  }
 },
 "nbformat": 4,
 "nbformat_minor": 5
}
