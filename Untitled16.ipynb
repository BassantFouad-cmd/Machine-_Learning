{
 "cells": [
  {
   "cell_type": "code",
   "execution_count": 6,
   "id": "6827d4e2-6e64-4825-96ab-d5bb5fa89c21",
   "metadata": {},
   "outputs": [
    {
     "name": "stdout",
     "output_type": "stream",
     "text": [
      "5\n"
     ]
    }
   ],
   "source": [
    "Name= \"Ahmed\"\n",
    "counter_string= 0\n",
    "\n",
    "\n",
    "for e in range(len(Name)):\n",
    "    if Name[e].isalpha() == True :\n",
    "        counter_string+= 1\n",
    "\n",
    "print(counter_string)"
   ]
  },
  {
   "cell_type": "code",
   "execution_count": 8,
   "id": "b1d74fb1-0d58-4717-8358-1fca7c7ba305",
   "metadata": {},
   "outputs": [
    {
     "name": "stdout",
     "output_type": "stream",
     "text": [
      "e\n"
     ]
    }
   ],
   "source": [
    "## <p style=\"color:green;\">Q.02 Given the string 'hello' give an index command that returns 'e'</p>\n",
    "\n",
    "\n",
    "word=\"hello\"\n",
    "\n",
    "for i in range(len(word)):\n",
    "    if word[i] == \"e\":\n",
    "        print(word[i])"
   ]
  },
  {
   "cell_type": "code",
   "execution_count": 9,
   "id": "bb20bc2f-5aae-498d-ac0b-93f37ed202e3",
   "metadata": {},
   "outputs": [
    {
     "data": {
      "text/plain": [
       "'olleh'"
      ]
     },
     "execution_count": 9,
     "metadata": {},
     "output_type": "execute_result"
    }
   ],
   "source": [
    "## <p style=\"color:green;\">Q.03 Reverse the string 'hello' using slicing</p>\n",
    "word=\"hello\"\n",
    "word = word[ : :-1]\n",
    "word"
   ]
  },
  {
   "cell_type": "code",
   "execution_count": 11,
   "id": "c6bba064-9b4c-499e-b5ba-627247931faf",
   "metadata": {},
   "outputs": [
    {
     "data": {
      "text/plain": [
       "'oellh'"
      ]
     },
     "execution_count": 11,
     "metadata": {},
     "output_type": "execute_result"
    }
   ],
   "source": [
    "## <p style=\"color:red;\">Q.04 Write a Python program to change a given string to a new string where the first and last chars have been exchanged.</p>\n",
    "\n",
    "word=\"hello\"\n",
    "word= word[-1] + word[1:4] + word [0]\n",
    "word\n"
   ]
  },
  {
   "cell_type": "code",
   "execution_count": 31,
   "id": "b6d515e4-fa65-4aca-a07e-7b1cd6ed0a13",
   "metadata": {},
   "outputs": [
    {
     "name": "stdout",
     "output_type": "stream",
     "text": [
      "[1, 2, [3, 4, 'goodbye']]\n"
     ]
    }
   ],
   "source": [
    "list3 = [1,2,[3,4,'hello']]\n",
    "\n",
    "for e in range(len(list3)):\n",
    "    if isinstance(list3[e],list):\n",
    "        for j in range(len(list3[e])):\n",
    "            if list3[e][j] == \"hello\":\n",
    "                list3[e][j] = 'goodbye'\n",
    "            \n",
    "print(list3)          "
   ]
  },
  {
   "cell_type": "code",
   "execution_count": 24,
   "id": "a6639029-06ed-4ed5-81ac-8e8e631741a3",
   "metadata": {},
   "outputs": [
    {
     "name": "stdout",
     "output_type": "stream",
     "text": [
      "[1, 2, [3, 4, 'goodbye']]\n"
     ]
    }
   ],
   "source": [
    "list3 = [1, 2, [3, 4, 'hello']]\n",
    "\n",
    "for e in range(len(list3)):\n",
    "    if isinstance(list3[e], list):\n",
    "        for j in range(len(list3[e])):\n",
    "            if list3[e][j] == \"hello\":\n",
    "                list3[e][j] = 'goodbye'\n",
    "\n",
    "print(list3)"
   ]
  },
  {
   "cell_type": "code",
   "execution_count": 36,
   "id": "b7d30f5f-cecb-4a30-99b8-bd041cb7247d",
   "metadata": {},
   "outputs": [
    {
     "data": {
      "text/plain": [
       "[1, 3, 4, 5, 6]"
      ]
     },
     "execution_count": 36,
     "metadata": {},
     "output_type": "execute_result"
    }
   ],
   "source": [
    "list4 = [5,3,4,6,1]\n",
    "\n",
    "sorted(list4)"
   ]
  },
  {
   "cell_type": "code",
   "execution_count": 37,
   "id": "eab78f39-2dbc-4a0e-93f9-c5ee5fe3c96c",
   "metadata": {},
   "outputs": [
    {
     "data": {
      "text/plain": [
       "19"
      ]
     },
     "execution_count": 37,
     "metadata": {},
     "output_type": "execute_result"
    }
   ],
   "source": [
    "## <p style=\"color:green;\">Q.07 Write a Python program to sum all the items in a list.</p>\n",
    "\n",
    "list4 = [5,3,4,6,1]\n",
    "\n",
    "sum(list4)\n",
    "\n"
   ]
  },
  {
   "cell_type": "code",
   "execution_count": 39,
   "id": "2259bca2-f2be-4aaf-a963-076204d7a3ed",
   "metadata": {},
   "outputs": [
    {
     "data": {
      "text/plain": [
       "6"
      ]
     },
     "execution_count": 39,
     "metadata": {},
     "output_type": "execute_result"
    }
   ],
   "source": [
    "max(list4)"
   ]
  },
  {
   "cell_type": "code",
   "execution_count": 40,
   "id": "d6c1da8c-0a3f-46a6-92ad-52c4e95c195b",
   "metadata": {},
   "outputs": [
    {
     "data": {
      "text/plain": [
       "1"
      ]
     },
     "execution_count": 40,
     "metadata": {},
     "output_type": "execute_result"
    }
   ],
   "source": [
    "min(list4)"
   ]
  },
  {
   "cell_type": "code",
   "execution_count": 42,
   "id": "7d7082a3-0fd5-4f7b-83b3-c0f117e4647f",
   "metadata": {},
   "outputs": [
    {
     "data": {
      "text/plain": [
       "{'a', 'b', 'c', 'd'}"
      ]
     },
     "execution_count": 42,
     "metadata": {},
     "output_type": "execute_result"
    }
   ],
   "source": [
    "mylist = [\"a\", \"b\", \"a\", \"c\", \"c\" , \"d\" , \"b\"]\n",
    "\n",
    "mylist= set(mylist)\n",
    "\n",
    "mylist"
   ]
  },
  {
   "cell_type": "code",
   "execution_count": 48,
   "id": "2b874c47-c709-44f9-8443-e8085a47211b",
   "metadata": {},
   "outputs": [
    {
     "name": "stdout",
     "output_type": "stream",
     "text": [
      "hello\n"
     ]
    }
   ],
   "source": [
    "d = {'k1':{'k2':'hello'}}\n",
    "\n",
    "for k , v in d.items():\n",
    "   if isinstance(v , dict):\n",
    "       for z, y in v.items():\n",
    "           if y == 'hello':\n",
    "               print (y)"
   ]
  },
  {
   "cell_type": "code",
   "execution_count": 58,
   "id": "17be7f0b-6c1b-487b-9bca-e624d6858c9f",
   "metadata": {},
   "outputs": [
    {
     "name": "stdout",
     "output_type": "stream",
     "text": [
      "hello\n"
     ]
    }
   ],
   "source": [
    "d = {'k1':[{'nest_key':['this is deep',['hello']]}]}\n",
    "\n",
    "\n",
    "for k , v in d.items():\n",
    "    if isinstance(v , list):\n",
    "        for e in range(len(v)):\n",
    "            if isinstance (v[e] , dict):\n",
    "                for z, y in v[e].items():\n",
    "                    if isinstance ( y, list):\n",
    "                        for i in range(len(y)):\n",
    "                            if isinstance ( y[i], list):\n",
    "                                for m in range(len(y[i])):\n",
    "                                    if y[i][m] == \"hello\":\n",
    "                                        print(y[i][m])"
   ]
  },
  {
   "cell_type": "code",
   "execution_count": 60,
   "id": "0fa1943f-5cea-4c8f-9b0b-df37ef5606f0",
   "metadata": {},
   "outputs": [
    {
     "name": "stdout",
     "output_type": "stream",
     "text": [
      "hello\n"
     ]
    }
   ],
   "source": [
    "## <p style=\"color:red;\">Q.13 Using keys and indexing, grab the 'hello' from the following dictionaries:</p>\n",
    "d = {'k1':[1,2,{'k2':['this is tricky',{'tough':[1,2,['hello']]}]}]}\n",
    "\n",
    "\n",
    "\n",
    "for k , v in d.items():\n",
    "    if isinstance (v , list):\n",
    "        for e in range(len(v)):\n",
    "             if isinstance (v[e] , dict):\n",
    "                 for i, y  in v[e].items():\n",
    "                     if isinstance (y , list):\n",
    "                         for z in range(len(y)):\n",
    "                             if isinstance (y[z] , dict):\n",
    "                                 for w , h in y[z].items():\n",
    "                                     if isinstance (h, list):\n",
    "                                         for p in range(len(h)):\n",
    "                                             if  isinstance (h[p], list):\n",
    "                                                 for s in range(len(h[p])):\n",
    "                                                     if h[p][s] == \"hello\":\n",
    "                                                         print (h[p][s])"
   ]
  },
  {
   "cell_type": "code",
   "execution_count": 67,
   "id": "ecbee223-b802-4607-9e44-866b2914439f",
   "metadata": {},
   "outputs": [
    {
     "name": "stdout",
     "output_type": "stream",
     "text": [
      "{0: 10, 1: 20, 2: 30}\n"
     ]
    }
   ],
   "source": [
    "Sample_Dictionary = {0: 10, 1: 20}\n",
    "\n",
    "Sample_Dictionary.update({2: 30})\n",
    "\n",
    "print(Sample_Dictionary)\n",
    " "
   ]
  },
  {
   "cell_type": "code",
   "execution_count": 81,
   "id": "7ea0df93-cacc-4242-9459-a54f818d348b",
   "metadata": {},
   "outputs": [
    {
     "data": {
      "text/plain": [
       "dict"
      ]
     },
     "execution_count": 81,
     "metadata": {},
     "output_type": "execute_result"
    }
   ],
   "source": [
    "Sample_Dictionary = {0: 10, 1: 20, 2: 30}\n",
    "type(Sample_Dictionary)"
   ]
  },
  {
   "cell_type": "code",
   "execution_count": 83,
   "id": "0cc5502f-4d56-40ba-81c5-fe479bcaa7ae",
   "metadata": {},
   "outputs": [
    {
     "data": {
      "text/plain": [
       "[0, 1]"
      ]
     },
     "execution_count": 83,
     "metadata": {},
     "output_type": "execute_result"
    }
   ],
   "source": [
    "new_list = list (Sample_Dictionary)\n",
    "new_list"
   ]
  },
  {
   "cell_type": "code",
   "execution_count": 94,
   "id": "0c7e20c9-a219-4272-824e-0e94e336b675",
   "metadata": {},
   "outputs": [
    {
     "data": {
      "text/plain": [
       "63"
      ]
     },
     "execution_count": 94,
     "metadata": {},
     "output_type": "execute_result"
    }
   ],
   "source": [
    "Sample_Dictionary = {0: 10, 1: 20, 2: 30}\n",
    "\n",
    "list_first= list(Sample_Dictionary.keys())\n",
    "list_second=list(Sample_Dictionary.values())\n",
    "Compined = list_first +list_second\n",
    "\n",
    "Summation = sum(Compined)\n",
    "Summation"
   ]
  },
  {
   "cell_type": "code",
   "execution_count": 95,
   "id": "ad9ad3dc-7b60-43b3-842c-ef732f130307",
   "metadata": {},
   "outputs": [
    {
     "data": {
      "text/plain": [
       "('Salma', 'Mohamed', 'ibrahim', 'Dalia', ' HEsham')"
      ]
     },
     "execution_count": 95,
     "metadata": {},
     "output_type": "execute_result"
    }
   ],
   "source": [
    "## <p style=\"color:green;\">Q.17 Write a Python program to convert a tuple to a string.</p>\n"
   ]
  },
  {
   "cell_type": "code",
   "execution_count": 100,
   "id": "c6fe8f1e-3963-44ab-876e-2eaa6bdd4c06",
   "metadata": {},
   "outputs": [
    {
     "data": {
      "text/plain": [
       "str"
      ]
     },
     "execution_count": 100,
     "metadata": {},
     "output_type": "execute_result"
    }
   ],
   "source": [
    "## <p style=\"color:green;\">Q.17 Write a Python program to convert a tuple to a string.</p>\n",
    "test= (\"Salma\" , \"Mohamed\", \"ibrahim\", \"Dalia\")\n",
    "test= str(test)\n",
    "\n",
    "type(test)"
   ]
  },
  {
   "cell_type": "code",
   "execution_count": 101,
   "id": "9f64a921-139b-466a-be80-ccf633c8dad0",
   "metadata": {},
   "outputs": [
    {
     "data": {
      "text/plain": [
       "{1, 2, 6, 8}"
      ]
     },
     "execution_count": 101,
     "metadata": {},
     "output_type": "execute_result"
    }
   ],
   "source": [
    "set_example = { 1 , 2, 4 ,8 , 6}\n",
    "\n",
    "set_example.remove( 4)\n",
    "set_example"
   ]
  },
  {
   "cell_type": "code",
   "execution_count": 103,
   "id": "62191bfa-c4eb-48a0-a183-dd5faa280522",
   "metadata": {},
   "outputs": [
    {
     "data": {
      "text/plain": [
       "{4, 6, 9}"
      ]
     },
     "execution_count": 103,
     "metadata": {},
     "output_type": "execute_result"
    }
   ],
   "source": [
    "set_first = { 2,4,5, 6, 8, 9}\n",
    "set_second = { 1,4, 6, 3, 9}\n",
    "\n",
    "intersection= set_first.intersection(set_second)\n",
    "\n",
    "intersection"
   ]
  },
  {
   "cell_type": "code",
   "execution_count": 105,
   "id": "6f2c10a9-c3f2-43b5-bc9e-86e0a04a168f",
   "metadata": {},
   "outputs": [
    {
     "data": {
      "text/plain": [
       "{1, 2, 3, 4, 5, 6, 8, 9}"
      ]
     },
     "execution_count": 105,
     "metadata": {},
     "output_type": "execute_result"
    }
   ],
   "source": [
    "union= set_first.union(set_second)\n",
    "union"
   ]
  },
  {
   "cell_type": "code",
   "execution_count": 119,
   "id": "d8e78af5-3096-446b-9438-753ca6082a96",
   "metadata": {},
   "outputs": [
    {
     "name": "stdout",
     "output_type": "stream",
     "text": [
      "start\n",
      "s\n",
      "sentence\n"
     ]
    }
   ],
   "source": [
    "st = 'Print only the words that start with s in this sentence'\n",
    "\n",
    "words=st.split()\n",
    "\n",
    "for word in words:\n",
    "    if word[0].lower() == \"s\":\n",
    "        print(word)"
   ]
  },
  {
   "cell_type": "code",
   "execution_count": 129,
   "id": "632d53a0-a4d6-40c3-9a96-600f6dfa9cd4",
   "metadata": {},
   "outputs": [
    {
     "data": {
      "text/plain": [
       "[3, 6, 9, 12, 15, 18, 21, 24, 27, 30, 33, 36, 39, 42, 45, 48]"
      ]
     },
     "execution_count": 129,
     "metadata": {},
     "output_type": "execute_result"
    }
   ],
   "source": [
    "List_numbers= list(range(1,51))\n",
    "result_numbers=[]\n",
    "for e in range(len(List_numbers)):\n",
    "    if List_numbers[e] % 3 == 0 :\n",
    "        result_numbers.append(List_numbers[e])\n",
    "\n",
    "result_numbers"
   ]
  },
  {
   "cell_type": "code",
   "execution_count": 134,
   "id": "b624925a-7302-4aac-bb45-6f055f8b42a5",
   "metadata": {},
   "outputs": [
    {
     "name": "stdout",
     "output_type": "stream",
     "text": [
      "sentence\n"
     ]
    }
   ],
   "source": [
    "st = 'Print only the words that start with s in this sentence'\n",
    "words = st.split()\n",
    "for word in words:\n",
    "    if len(word) == 7 :\n",
    "        print(word)\n",
    "\n",
    "print(word)"
   ]
  },
  {
   "cell_type": "code",
   "execution_count": 149,
   "id": "ae711707-b6f7-4a6e-8d07-9d3a99ed8860",
   "metadata": {},
   "outputs": [
    {
     "name": "stdin",
     "output_type": "stream",
     "text": [
      "Please write a password:  1999\n"
     ]
    },
    {
     "name": "stdout",
     "output_type": "stream",
     "text": [
      "your password is correct\n"
     ]
    }
   ],
   "source": [
    "Password= input(\"Please write a password: \")\n",
    "Correct_Password= \"1999\"\n",
    "\n",
    "while True:\n",
    "    if  Password == Correct_Password : \n",
    "        print(\"your password is correct\")\n",
    "        break\n",
    "    else:\n",
    "        Password= input(\"Please write a password: \")\n"
   ]
  },
  {
   "cell_type": "code",
   "execution_count": 147,
   "id": "a0596efd-f6e0-47cc-8888-94e3b80dbc13",
   "metadata": {},
   "outputs": [
    {
     "name": "stdin",
     "output_type": "stream",
     "text": [
      "Please write a password:  15343\n"
     ]
    },
    {
     "name": "stdout",
     "output_type": "stream",
     "text": [
      "Incorrect password. Please try again.\n"
     ]
    },
    {
     "name": "stdin",
     "output_type": "stream",
     "text": [
      "Please write a password:  5256\n"
     ]
    },
    {
     "name": "stdout",
     "output_type": "stream",
     "text": [
      "Incorrect password. Please try again.\n"
     ]
    },
    {
     "name": "stdin",
     "output_type": "stream",
     "text": [
      "Please write a password:  1999\n"
     ]
    },
    {
     "name": "stdout",
     "output_type": "stream",
     "text": [
      "Your password is correct\n"
     ]
    }
   ],
   "source": [
    "Correct_Password = \"1999\"\n",
    "\n",
    "while True:\n",
    "    Password = input(\"Please write a password: \")\n",
    "    if Password == Correct_Password:\n",
    "        print(\"Your password is correct\")\n",
    "        break\n",
    "    else:\n",
    "        print(\"Incorrect password. Please try again.\")"
   ]
  },
  {
   "cell_type": "code",
   "execution_count": 155,
   "id": "9c8e0603-9312-4b15-ba9f-19dca5a62eb0",
   "metadata": {},
   "outputs": [
    {
     "ename": "SyntaxError",
     "evalue": "invalid syntax (583340235.py, line 5)",
     "output_type": "error",
     "traceback": [
      "\u001b[1;36m  Cell \u001b[1;32mIn[155], line 5\u001b[1;36m\u001b[0m\n\u001b[1;33m    summation = sum( range(1,e)):\u001b[0m\n\u001b[1;37m                                ^\u001b[0m\n\u001b[1;31mSyntaxError\u001b[0m\u001b[1;31m:\u001b[0m invalid syntax\n"
     ]
    }
   ],
   "source": [
    "list4 = [5,3,4,6,1]\n",
    "summation == 0\n",
    "\n",
    "for e in range(len(list4)):\n",
    "    summation = sum( range(1,e)):\n",
    "    print(summation)\n",
    "    \n",
    "    \n",
    "    \n"
   ]
  },
  {
   "cell_type": "code",
   "execution_count": 157,
   "id": "0e0d9568-2aa1-46c0-a3fe-02fe271b9ca1",
   "metadata": {},
   "outputs": [
    {
     "name": "stdout",
     "output_type": "stream",
     "text": [
      "* \n",
      "* * \n",
      "* * * \n",
      "* * * * \n",
      "* * * * * \n",
      "* * * * * * \n",
      "* * * * * * * \n",
      "* * * * * * * * \n"
     ]
    }
   ],
   "source": [
    "for i in range(8):\n",
    "    print('* ' * (i+1))"
   ]
  },
  {
   "cell_type": "code",
   "execution_count": 158,
   "id": "da1e1506-99d4-4b5e-aa8c-9b759ae0ad4e",
   "metadata": {},
   "outputs": [
    {
     "name": "stdout",
     "output_type": "stream",
     "text": [
      " 1 x 1 = 1\n",
      " 1 x 2 = 2\n",
      " 1 x 3 = 3\n",
      " 1 x 4 = 4\n",
      " 1 x 5 = 5\n",
      " 1 x 6 = 6\n",
      " 1 x 7 = 7\n",
      " 1 x 8 = 8\n",
      " 1 x 9 = 9\n",
      " 1 x 10 = 10\n",
      " --------------------------------------------------\n",
      " 2 x 1 = 2\n",
      " 2 x 2 = 4\n",
      " 2 x 3 = 6\n",
      " 2 x 4 = 8\n",
      " 2 x 5 = 10\n",
      " 2 x 6 = 12\n",
      " 2 x 7 = 14\n",
      " 2 x 8 = 16\n",
      " 2 x 9 = 18\n",
      " 2 x 10 = 20\n",
      " --------------------------------------------------\n",
      " 3 x 1 = 3\n",
      " 3 x 2 = 6\n",
      " 3 x 3 = 9\n",
      " 3 x 4 = 12\n",
      " 3 x 5 = 15\n",
      " 3 x 6 = 18\n",
      " 3 x 7 = 21\n",
      " 3 x 8 = 24\n",
      " 3 x 9 = 27\n",
      " 3 x 10 = 30\n",
      " --------------------------------------------------\n",
      " 4 x 1 = 4\n",
      " 4 x 2 = 8\n",
      " 4 x 3 = 12\n",
      " 4 x 4 = 16\n",
      " 4 x 5 = 20\n",
      " 4 x 6 = 24\n",
      " 4 x 7 = 28\n",
      " 4 x 8 = 32\n",
      " 4 x 9 = 36\n",
      " 4 x 10 = 40\n",
      " --------------------------------------------------\n",
      " 5 x 1 = 5\n",
      " 5 x 2 = 10\n",
      " 5 x 3 = 15\n",
      " 5 x 4 = 20\n",
      " 5 x 5 = 25\n",
      " 5 x 6 = 30\n",
      " 5 x 7 = 35\n",
      " 5 x 8 = 40\n",
      " 5 x 9 = 45\n",
      " 5 x 10 = 50\n",
      " --------------------------------------------------\n",
      " 6 x 1 = 6\n",
      " 6 x 2 = 12\n",
      " 6 x 3 = 18\n",
      " 6 x 4 = 24\n",
      " 6 x 5 = 30\n",
      " 6 x 6 = 36\n",
      " 6 x 7 = 42\n",
      " 6 x 8 = 48\n",
      " 6 x 9 = 54\n",
      " 6 x 10 = 60\n",
      " --------------------------------------------------\n",
      " 7 x 1 = 7\n",
      " 7 x 2 = 14\n",
      " 7 x 3 = 21\n",
      " 7 x 4 = 28\n",
      " 7 x 5 = 35\n",
      " 7 x 6 = 42\n",
      " 7 x 7 = 49\n",
      " 7 x 8 = 56\n",
      " 7 x 9 = 63\n",
      " 7 x 10 = 70\n",
      " --------------------------------------------------\n",
      " 8 x 1 = 8\n",
      " 8 x 2 = 16\n",
      " 8 x 3 = 24\n",
      " 8 x 4 = 32\n",
      " 8 x 5 = 40\n",
      " 8 x 6 = 48\n",
      " 8 x 7 = 56\n",
      " 8 x 8 = 64\n",
      " 8 x 9 = 72\n",
      " 8 x 10 = 80\n",
      " --------------------------------------------------\n",
      " 9 x 1 = 9\n",
      " 9 x 2 = 18\n",
      " 9 x 3 = 27\n",
      " 9 x 4 = 36\n",
      " 9 x 5 = 45\n",
      " 9 x 6 = 54\n",
      " 9 x 7 = 63\n",
      " 9 x 8 = 72\n",
      " 9 x 9 = 81\n",
      " 9 x 10 = 90\n",
      " --------------------------------------------------\n"
     ]
    }
   ],
   "source": [
    "for n in range(1, 10):\n",
    "    for i in range(1, 11):\n",
    "        print(f\" {n} x {i} = {n * i}\")\n",
    "    print(\"\", \"-\" * 50)"
   ]
  },
  {
   "cell_type": "code",
   "execution_count": null,
   "id": "3787879c-f4c1-4ea7-8a79-b1dac295d6ed",
   "metadata": {},
   "outputs": [],
   "source": []
  }
 ],
 "metadata": {
  "kernelspec": {
   "display_name": "Python 3 (ipykernel)",
   "language": "python",
   "name": "python3"
  },
  "language_info": {
   "codemirror_mode": {
    "name": "ipython",
    "version": 3
   },
   "file_extension": ".py",
   "mimetype": "text/x-python",
   "name": "python",
   "nbconvert_exporter": "python",
   "pygments_lexer": "ipython3",
   "version": "3.9.19"
  }
 },
 "nbformat": 4,
 "nbformat_minor": 5
}
