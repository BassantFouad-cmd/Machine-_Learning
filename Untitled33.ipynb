{
 "cells": [
  {
   "cell_type": "code",
   "execution_count": 3,
   "id": "81e88217-fef5-4620-931d-ba2ba68b1a3e",
   "metadata": {},
   "outputs": [],
   "source": [
    "import math\n",
    "\n",
    "class Line:\n",
    "    \n",
    "    def __init__(self,coor1,coor2):\n",
    "        self.coor1 = coor1\n",
    "        self.coor2 = coor2\n",
    "        \n",
    "        \n",
    "    def distance(self):\n",
    "        x1, y1 = self.coor1\n",
    "        x2, y2 = self.coor2\n",
    "        return math.sqrt((x2 - x1)**2 + (y2 - y1)**2)\n",
    "\n",
    "    def slope(self):\n",
    "        x1, y1 = self.coor1\n",
    "        x2, y2 = self.coor2\n",
    "        if x2 - x1 == 0:\n",
    "            return float('inf')  \n",
    "\n",
    "        return (y2 - y1) / (x2 - x1)"
   ]
  },
  {
   "cell_type": "code",
   "execution_count": 4,
   "id": "aa6c87ab-2092-41e2-a58c-a0938552a33d",
   "metadata": {},
   "outputs": [
    {
     "name": "stdout",
     "output_type": "stream",
     "text": [
      "Distance: 9.433981132056603\n",
      "Slope: 1.6\n"
     ]
    }
   ],
   "source": [
    "line = Line((3, 2), (8, 10))\n",
    "print(\"Distance:\", line.distance())\n",
    "print(\"Slope:\", line.slope())"
   ]
  },
  {
   "cell_type": "code",
   "execution_count": 5,
   "id": "4c49c3cf-c294-4693-8608-213ec2091a8b",
   "metadata": {},
   "outputs": [],
   "source": [
    "import math\n",
    "\n",
    "class Cylinder:\n",
    "\n",
    "    def __init__(self, height, radius):\n",
    "        self.height = height\n",
    "        self.radius = radius\n",
    "\n",
    "    def volume(self):\n",
    "        return math.pi * self.radius**2 * self.height\n",
    "\n",
    "    def surface_area(self):\n",
    "        return 2 * math.pi * self.radius * self.height + 2 * math.pi * self.radius**2"
   ]
  },
  {
   "cell_type": "code",
   "execution_count": 6,
   "id": "c1979ea5-c038-4f10-85d0-493460eb865a",
   "metadata": {},
   "outputs": [
    {
     "name": "stdout",
     "output_type": "stream",
     "text": [
      "Volume: 141.3716694115407\n",
      "Surface Area: 150.79644737231007\n"
     ]
    }
   ],
   "source": [
    "cylinder = Cylinder(5, 3)\n",
    "print(\"Volume:\", cylinder.volume())\n",
    "print(\"Surface Area:\", cylinder.surface_area())\n"
   ]
  },
  {
   "cell_type": "code",
   "execution_count": 7,
   "id": "b22889d4-c4bf-42d2-95c5-80b8616689d4",
   "metadata": {},
   "outputs": [],
   "source": [
    "class Vehicle:\n",
    "\n",
    "    def __init__(self, name, max_speed, mileage):\n",
    "        self.name = name\n",
    "        self.max_speed = max_speed\n",
    "        self.mileage = mileage"
   ]
  },
  {
   "cell_type": "code",
   "execution_count": 10,
   "id": "715948aa-afa3-4f01-a79a-79e45175c5a0",
   "metadata": {},
   "outputs": [],
   "source": [
    "class Bus(Vehicle):\n",
    "\n",
    "    def __init__(self, name, max_speed, mileage ,color):\n",
    "        Vehicle.__init__(self, name, max_speed, mileage)\n",
    "        self.__color = color \n",
    "\n",
    "    def get_color(self):\n",
    "        return self.__color\n",
    "    \n",
    "    def set_color(self, new_color):\n",
    "        self.__color = new_color\n",
    "            \n",
    "        \n",
    "    "
   ]
  },
  {
   "cell_type": "code",
   "execution_count": 11,
   "id": "ea754e64-37d3-4686-9bca-8cad505b2e20",
   "metadata": {},
   "outputs": [],
   "source": [
    "Bus1= Bus(\"kia\" , \"30/h\" , 3000 , \"red\")"
   ]
  },
  {
   "cell_type": "code",
   "execution_count": 12,
   "id": "ebc575b9-ab31-4ac3-9f80-2bad38d231f7",
   "metadata": {},
   "outputs": [
    {
     "data": {
      "text/plain": [
       "'kia'"
      ]
     },
     "execution_count": 12,
     "metadata": {},
     "output_type": "execute_result"
    }
   ],
   "source": [
    "Bus1.name"
   ]
  },
  {
   "cell_type": "code",
   "execution_count": 13,
   "id": "f95d7dc8-e10d-432c-bf22-0614209f0284",
   "metadata": {},
   "outputs": [
    {
     "data": {
      "text/plain": [
       "3000"
      ]
     },
     "execution_count": 13,
     "metadata": {},
     "output_type": "execute_result"
    }
   ],
   "source": [
    "Bus1.mileage"
   ]
  },
  {
   "cell_type": "code",
   "execution_count": 14,
   "id": "56e4a4bd-33aa-4233-a210-e5d0f1d77605",
   "metadata": {},
   "outputs": [
    {
     "data": {
      "text/plain": [
       "'red'"
      ]
     },
     "execution_count": 14,
     "metadata": {},
     "output_type": "execute_result"
    }
   ],
   "source": [
    "Bus1.get_color()"
   ]
  },
  {
   "cell_type": "code",
   "execution_count": null,
   "id": "18c64864-fc52-458c-9d49-6d4f040c797b",
   "metadata": {},
   "outputs": [],
   "source": []
  }
 ],
 "metadata": {
  "kernelspec": {
   "display_name": "Python 3 (ipykernel)",
   "language": "python",
   "name": "python3"
  },
  "language_info": {
   "codemirror_mode": {
    "name": "ipython",
    "version": 3
   },
   "file_extension": ".py",
   "mimetype": "text/x-python",
   "name": "python",
   "nbconvert_exporter": "python",
   "pygments_lexer": "ipython3",
   "version": "3.9.19"
  }
 },
 "nbformat": 4,
 "nbformat_minor": 5
}
