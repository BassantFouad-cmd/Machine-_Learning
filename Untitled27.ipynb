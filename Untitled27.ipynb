{
 "cells": [
  {
   "cell_type": "code",
   "execution_count": 7,
   "id": "512efc25-04b7-445b-953b-feb742dd71e5",
   "metadata": {},
   "outputs": [],
   "source": [
    "class Rectangle:\n",
    "    \n",
    "    def __init__ (self, length , width ):\n",
    "        self.length = length\n",
    "        self.width = width\n",
    "\n",
    "    def Calc_area(self):\n",
    "        return self.length * self.width\n",
    "    \n",
    "    def Calc_circum(self):\n",
    "        return 2 * (self.width + self.length)\n",
    "    "
   ]
  },
  {
   "cell_type": "code",
   "execution_count": 12,
   "id": "37473ac4-d83d-4a27-b1e2-419bf2332b75",
   "metadata": {},
   "outputs": [
    {
     "data": {
      "text/plain": [
       "15"
      ]
     },
     "execution_count": 12,
     "metadata": {},
     "output_type": "execute_result"
    }
   ],
   "source": [
    "rect = Rectangle(5, 3)\n",
    "Area = rect.Calc_area()\n",
    "Area"
   ]
  },
  {
   "cell_type": "code",
   "execution_count": null,
   "id": "ddf7e2ca-e3a0-46c0-904f-ecd5ce644c56",
   "metadata": {},
   "outputs": [],
   "source": []
  }
 ],
 "metadata": {
  "kernelspec": {
   "display_name": "Python 3 (ipykernel)",
   "language": "python",
   "name": "python3"
  },
  "language_info": {
   "codemirror_mode": {
    "name": "ipython",
    "version": 3
   },
   "file_extension": ".py",
   "mimetype": "text/x-python",
   "name": "python",
   "nbconvert_exporter": "python",
   "pygments_lexer": "ipython3",
   "version": "3.9.19"
  }
 },
 "nbformat": 4,
 "nbformat_minor": 5
}
