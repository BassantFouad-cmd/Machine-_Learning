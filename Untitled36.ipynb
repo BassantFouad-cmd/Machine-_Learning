{
 "cells": [
  {
   "cell_type": "code",
   "execution_count": 7,
   "id": "c0fe772e-18c0-4014-a33c-c95fa9db386e",
   "metadata": {},
   "outputs": [],
   "source": [
    "import requests\n",
    "base_Url = \"https://catfact.ninja\"\n",
    "endpoint = \"/breeds\"\n",
    "number_parameter = 20\n",
    "\n",
    "res = requests.get(base_Url+endpoint+f\"?limit={number_parameter}\")\n",
    "result = res.json()"
   ]
  },
  {
   "cell_type": "code",
   "execution_count": 8,
   "id": "1bc17147-11c2-4fbc-88fb-fa942703fc02",
   "metadata": {},
   "outputs": [
    {
     "data": {
      "text/plain": [
       "{'breed': 'Abyssinian',\n",
       " 'country': 'Ethiopia',\n",
       " 'origin': 'Natural/Standard',\n",
       " 'coat': 'Short',\n",
       " 'pattern': 'Ticked'}"
      ]
     },
     "execution_count": 8,
     "metadata": {},
     "output_type": "execute_result"
    }
   ],
   "source": [
    "result['data'][0]"
   ]
  },
  {
   "cell_type": "code",
   "execution_count": null,
   "id": "df6d5ebc-68ed-4565-a9b1-1472de4ce477",
   "metadata": {},
   "outputs": [],
   "source": []
  }
 ],
 "metadata": {
  "kernelspec": {
   "display_name": "Python 3 (ipykernel)",
   "language": "python",
   "name": "python3"
  },
  "language_info": {
   "codemirror_mode": {
    "name": "ipython",
    "version": 3
   },
   "file_extension": ".py",
   "mimetype": "text/x-python",
   "name": "python",
   "nbconvert_exporter": "python",
   "pygments_lexer": "ipython3",
   "version": "3.9.19"
  }
 },
 "nbformat": 4,
 "nbformat_minor": 5
}
