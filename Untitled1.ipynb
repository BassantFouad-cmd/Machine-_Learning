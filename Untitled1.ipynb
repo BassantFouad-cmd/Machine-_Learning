{
 "cells": [
  {
   "cell_type": "code",
   "execution_count": null,
   "id": "44eeab2f-33a6-4365-b749-2eb6a26ea433",
   "metadata": {},
   "outputs": [],
   "source": [
    "name =input(\"Please enter your name\")\n",
    "age = int(input(\"Please enter your age\"))\n",
    "salary= int(input(\"Please enter your salary\"))\n",
    "print(\"Hello\", name, \"your age is\", age , \"and your salary is\", salary)\n"
   ]
  },
  {
   "cell_type": "code",
   "execution_count": null,
   "id": "8565bd2c-532f-4c24-8df2-cb8dd0cd6c99",
   "metadata": {},
   "outputs": [],
   "source": [
    "r = float(input(\"Please write the circle Radius\"))\n",
    "area = float(input(\"r\"**2*\"3.14\"))\n"
   ]
  },
  {
   "cell_type": "code",
   "execution_count": null,
   "id": "a0592570-c2a9-4d77-8516-1b4f2e7d223c",
   "metadata": {},
   "outputs": [],
   "source": [
    "r = float(input(\"Please write the circle Radius\"))\n",
    "r2= r**2\n",
    "area = float(input(\"r2\"*\"3.14\")"
   ]
  },
  {
   "cell_type": "code",
   "execution_count": null,
   "id": "d9f15cbf-db76-4698-8e39-0c4d2acbf892",
   "metadata": {},
   "outputs": [],
   "source": [
    "r = float(input(\"Please write the circle Radius\"))\n",
    "\n"
   ]
  },
  {
   "cell_type": "code",
   "execution_count": null,
   "id": "42463907-2042-492e-b937-a4cefcf1b66c",
   "metadata": {},
   "outputs": [],
   "source": [
    "r2= r**2\n",
    "A = float(input(\"r2\"*\"3.14\")"
   ]
  },
  {
   "cell_type": "code",
   "execution_count": null,
   "id": "a132a468-830a-49d4-9a4d-39b1936be688",
   "metadata": {},
   "outputs": [],
   "source": [
    "r = float(input(\"Please write the circle Radius\"))"
   ]
  },
  {
   "cell_type": "code",
   "execution_count": null,
   "id": "acc431ab-99e9-4d28-bdaa-7fa7ec5a751d",
   "metadata": {},
   "outputs": [],
   "source": [
    "r2= r**2\n",
    "A = float(input(\"r2\"*\"3.14\")"
   ]
  },
  {
   "cell_type": "code",
   "execution_count": null,
   "id": "a6889357-4665-4893-84c1-0486e6fd2c98",
   "metadata": {},
   "outputs": [],
   "source": [
    "r = float(input(\"Please write the circle Radius\"))\n",
    "r2= r**2"
   ]
  },
  {
   "cell_type": "code",
   "execution_count": null,
   "id": "782f54f8-c484-4ae0-b7fd-538fdf2d2a29",
   "metadata": {},
   "outputs": [],
   "source": [
    "A = float(\"r2\"*\"3.14\")"
   ]
  },
  {
   "cell_type": "code",
   "execution_count": null,
   "id": "3223feb0-73f4-465c-87c7-9972545b66e5",
   "metadata": {},
   "outputs": [],
   "source": [
    "A = float(\"r2\"*\"3.14\")"
   ]
  },
  {
   "cell_type": "code",
   "execution_count": null,
   "id": "58329133-125c-410d-9854-6fb735d3611c",
   "metadata": {},
   "outputs": [],
   "source": [
    "circumfrance = 2*r*3.14\n",
    "print(\"circumfrance\")"
   ]
  },
  {
   "cell_type": "code",
   "execution_count": null,
   "id": "338117e6-f198-4ad3-b5a7-c59a6c595aad",
   "metadata": {},
   "outputs": [],
   "source": []
  },
  {
   "cell_type": "code",
   "execution_count": null,
   "id": "55f6266e-09b3-482d-819b-298e9127fdb6",
   "metadata": {},
   "outputs": [],
   "source": [
    "r = float(input(\"Please write the circle Radius\"))\n",
    "r2= r**2\n",
    "area = float(\"r2\"*\"3.14\")\n",
    "print(\"area\")\n",
    "circumfrance = 2*r*3.14\n",
    "print(\"circumfrance\")"
   ]
  },
  {
   "cell_type": "code",
   "execution_count": null,
   "id": "bb101284-726f-45de-af1d-e85f604c55c7",
   "metadata": {},
   "outputs": [],
   "source": [
    "r = float(input(\"Please write the circle Radius\"))\n",
    "r2= float(r**2)\n",
    "area = float(\"r2\"*\"3.14\")\n",
    "print(\"area\")\n",
    "circumfrance = float(2*r*3.14)\n",
    "print(\"circumfrance\")"
   ]
  },
  {
   "cell_type": "code",
   "execution_count": 1,
   "id": "cdd2039c-2afa-439d-96ec-9ecc129bd4cf",
   "metadata": {},
   "outputs": [
    {
     "name": "stdin",
     "output_type": "stream",
     "text": [
      "Please write the circle Radius 15.5\n"
     ]
    },
    {
     "ename": "TypeError",
     "evalue": "can't multiply sequence by non-int of type 'str'",
     "output_type": "error",
     "traceback": [
      "\u001b[1;31m---------------------------------------------------------------------------\u001b[0m",
      "\u001b[1;31mTypeError\u001b[0m                                 Traceback (most recent call last)",
      "Cell \u001b[1;32mIn[1], line 3\u001b[0m\n\u001b[0;32m      1\u001b[0m r \u001b[38;5;241m=\u001b[39m \u001b[38;5;28mfloat\u001b[39m(\u001b[38;5;28minput\u001b[39m(\u001b[38;5;124m\"\u001b[39m\u001b[38;5;124mPlease write the circle Radius\u001b[39m\u001b[38;5;124m\"\u001b[39m))\n\u001b[0;32m      2\u001b[0m r2\u001b[38;5;241m=\u001b[39m \u001b[38;5;28mfloat\u001b[39m(r\u001b[38;5;241m*\u001b[39m\u001b[38;5;241m*\u001b[39m\u001b[38;5;241m2\u001b[39m)\n\u001b[1;32m----> 3\u001b[0m area \u001b[38;5;241m=\u001b[39m \u001b[38;5;28mfloat\u001b[39m(\u001b[38;5;124;43m\"\u001b[39;49m\u001b[38;5;124;43mr2\u001b[39;49m\u001b[38;5;124;43m\"\u001b[39;49m\u001b[38;5;241;43m*\u001b[39;49m\u001b[38;5;124;43m\"\u001b[39;49m\u001b[38;5;124;43m3.14\u001b[39;49m\u001b[38;5;124;43m\"\u001b[39;49m)\n\u001b[0;32m      4\u001b[0m \u001b[38;5;28mprint\u001b[39m(\u001b[38;5;124m\"\u001b[39m\u001b[38;5;124marea\u001b[39m\u001b[38;5;124m\"\u001b[39m)\n\u001b[0;32m      5\u001b[0m circumfrance \u001b[38;5;241m=\u001b[39m \u001b[38;5;28mfloat\u001b[39m(\u001b[38;5;241m2\u001b[39m\u001b[38;5;241m*\u001b[39mr\u001b[38;5;241m*\u001b[39m\u001b[38;5;241m3.14\u001b[39m)\n",
      "\u001b[1;31mTypeError\u001b[0m: can't multiply sequence by non-int of type 'str'"
     ]
    }
   ],
   "source": [
    "r = float(input(\"Please write the circle Radius\"))\n",
    "r2= float(r**2)\n",
    "area = float(\"r2\"*\"3.14\")\n",
    "print(\"area\")\n",
    "circumfrance = float(2*r*3.14)\n",
    "print(\"circumfrance\")"
   ]
  },
  {
   "cell_type": "code",
   "execution_count": 2,
   "id": "38cb98b4-da91-4d2d-bae6-9bd47a5e21b2",
   "metadata": {},
   "outputs": [
    {
     "name": "stdin",
     "output_type": "stream",
     "text": [
      "Please write the circle Radius 12.30\n"
     ]
    },
    {
     "name": "stdout",
     "output_type": "stream",
     "text": [
      "area\n",
      "circumfrance\n"
     ]
    }
   ],
   "source": [
    "r = float(input(\"Please write the circle Radius\"))\n",
    "r2= float(r**2)\n",
    "area = float(r2*3.14)\n",
    "print(\"area\")\n",
    "circumfrance = float(2*r*3.14)\n",
    "print(\"circumfrance\")"
   ]
  },
  {
   "cell_type": "code",
   "execution_count": 3,
   "id": "d8d2e394-847a-4891-80bc-6254f9b4782f",
   "metadata": {},
   "outputs": [
    {
     "name": "stdin",
     "output_type": "stream",
     "text": [
      "Please write the circle Radius 15.5\n"
     ]
    },
    {
     "name": "stdout",
     "output_type": "stream",
     "text": [
      "754.385\n",
      "97.34\n"
     ]
    }
   ],
   "source": [
    "r = float(input(\"Please write the circle Radius\"))\n",
    "r2= float(r**2)\n",
    "area = float(r2*3.14)\n",
    "print(area)\n",
    "circumfrance = float(2*r*3.14)\n",
    "print(circumfrance)"
   ]
  },
  {
   "cell_type": "code",
   "execution_count": 4,
   "id": "983adff0-e3e0-451e-bb34-fa25b1a1b61f",
   "metadata": {},
   "outputs": [
    {
     "name": "stdin",
     "output_type": "stream",
     "text": [
      "Please write the circle Radius 18.84\n"
     ]
    },
    {
     "name": "stdout",
     "output_type": "stream",
     "text": [
      "1114.529184\n",
      "118.3152\n"
     ]
    }
   ],
   "source": [
    "r = float(input(\"Please write the circle Radius\"))\n",
    "r2= float(r**2)\n",
    "area = float(r2*3.14)\n",
    "print(area)\n",
    "circumfrance = float(2*r*3.14)\n",
    "print(circumfrance)"
   ]
  },
  {
   "cell_type": "code",
   "execution_count": 7,
   "id": "d3fadc8f-06a2-470d-9428-064979ea3b75",
   "metadata": {},
   "outputs": [
    {
     "ename": "SyntaxError",
     "evalue": "invalid syntax (651590183.py, line 5)",
     "output_type": "error",
     "traceback": [
      "\u001b[1;36m  Cell \u001b[1;32mIn[7], line 5\u001b[1;36m\u001b[0m\n\u001b[1;33m    print(\" the area of the circle with radius\",r, is , area, \"and the circumference of the Circle is\", circumfrance )\u001b[0m\n\u001b[1;37m                                                   ^\u001b[0m\n\u001b[1;31mSyntaxError\u001b[0m\u001b[1;31m:\u001b[0m invalid syntax\n"
     ]
    }
   ],
   "source": [
    "r = float(input(\"Please write the circle Radius\"))\n",
    "r2= float(r**2)\n",
    "area = float(r2*3.14)\n",
    "circumfrance = float(2*r*3.14)\n",
    "print(\" the area of the circle with radius\",r, is , area, \"and the circumference of the Circle is\", circumfrance )\n"
   ]
  },
  {
   "cell_type": "code",
   "execution_count": 8,
   "id": "b168f7b8-0d4b-4b02-8329-c6ea0b273f2e",
   "metadata": {},
   "outputs": [
    {
     "ename": "SyntaxError",
     "evalue": "invalid syntax (3010865469.py, line 5)",
     "output_type": "error",
     "traceback": [
      "\u001b[1;36m  Cell \u001b[1;32mIn[8], line 5\u001b[1;36m\u001b[0m\n\u001b[1;33m    print(\" the area of the circle with radius\",r, is , area, \"and the circumference of the Circle is\", circumfrance )\u001b[0m\n\u001b[1;37m                                                   ^\u001b[0m\n\u001b[1;31mSyntaxError\u001b[0m\u001b[1;31m:\u001b[0m invalid syntax\n"
     ]
    }
   ],
   "source": [
    "r = float(input(\"Please write the circle Radius\"))\n",
    "r2= float(r**2)\n",
    "area = float(r2*3.14)\n",
    "circumfrance = float(2*r*3.14)\n",
    "print(\" the area of the circle with radius\",r, \"is\" , area, \"and the circumference of the Circle is\", circumfrance)"
   ]
  },
  {
   "cell_type": "code",
   "execution_count": 9,
   "id": "fe54d89d-c0c5-42be-bb62-c888775db405",
   "metadata": {},
   "outputs": [
    {
     "name": "stdin",
     "output_type": "stream",
     "text": [
      "Please write the circle Radius 15.5\n"
     ]
    },
    {
     "name": "stdout",
     "output_type": "stream",
     "text": [
      " the area of the circle with radius 15.5 is 754.385 and the circumference of the Circle is 97.34\n"
     ]
    }
   ],
   "source": [
    "r = float(input(\"Please write the circle Radius\"))\n",
    "r2= float(r**2)\n",
    "area = float(r2*3.14)\n",
    "circumfrance = float(2*r*3.14)\n",
    "print(\" the area of the circle with radius\",r, \"is\" , area, \"and the circumference of the Circle is\", circumfrance)"
   ]
  },
  {
   "cell_type": "code",
   "execution_count": 10,
   "id": "af1a449d-24ba-4fbe-9916-f1ed7fd15ea0",
   "metadata": {},
   "outputs": [
    {
     "name": "stdin",
     "output_type": "stream",
     "text": [
      "Please write the circle Radius 18.84\n"
     ]
    },
    {
     "name": "stdout",
     "output_type": "stream",
     "text": [
      " the area of the circle with radius 18.84 is 1114.529184 and the circumference of the Circle is 118.3152\n"
     ]
    }
   ],
   "source": [
    "r = float(input(\"Please write the circle Radius\"))\n",
    "r2= float(r**2)\n",
    "area = float(r2*3.14)\n",
    "circumfrance = float(2*r*3.14)\n",
    "print(\" the area of the circle with radius\",r, \"is\" , area, \"and the circumference of the Circle is\", circumfrance)"
   ]
  },
  {
   "cell_type": "code",
   "execution_count": 11,
   "id": "85ded0d1-bd40-425f-b220-1dba44c81502",
   "metadata": {},
   "outputs": [
    {
     "name": "stdin",
     "output_type": "stream",
     "text": [
      "Please write the circle Radius 15.60\n"
     ]
    },
    {
     "name": "stdout",
     "output_type": "stream",
     "text": [
      " the area of the circle with radius 15.6 is 764.1504 and the circumference of the Circle is 97.968\n"
     ]
    }
   ],
   "source": [
    "r = float(input(\"Please write the circle Radius\"))\n",
    "r2= float(r**2)\n",
    "area = float(r2*3.14)\n",
    "circumfrance = float(2*r*3.14)\n",
    "print(\" the area of the circle with radius\",r, \"is\" , area, \"and the circumference of the Circle is\", circumfrance)"
   ]
  },
  {
   "cell_type": "code",
   "execution_count": 12,
   "id": "e6c978be-5ba1-4914-836f-6c8093d24d7d",
   "metadata": {},
   "outputs": [
    {
     "name": "stdout",
     "output_type": "stream",
     "text": [
      "Parameiter= 29.8\n",
      "area= 39.1\n"
     ]
    }
   ],
   "source": [
    "l= float(11.5)\n",
    "w= float(3.4)\n",
    "d= float(2*(l+w))\n",
    "print(\"Parameiter=\" , d)\n",
    "area=float(l*w)\n",
    "print(\"area=\", area)"
   ]
  },
  {
   "cell_type": "code",
   "execution_count": 13,
   "id": "bd04cb37-b13f-4d36-a63d-7b2f52e4815e",
   "metadata": {},
   "outputs": [
    {
     "name": "stdout",
     "output_type": "stream",
     "text": [
      "Parameiter= 29.8 area= 39.1\n"
     ]
    }
   ],
   "source": [
    "l= float(11.5)\n",
    "w= float(3.4)\n",
    "d= float(2*(l+w))\n",
    "area=float(l*w)\n",
    "print(\"Parameiter=\" , d,\"area=\", area)"
   ]
  },
  {
   "cell_type": "code",
   "execution_count": null,
   "id": "18ea4bcd-7ef9-432e-a66a-244c5f48b9f5",
   "metadata": {},
   "outputs": [],
   "source": []
  }
 ],
 "metadata": {
  "kernelspec": {
   "display_name": "Python 3 (ipykernel)",
   "language": "python",
   "name": "python3"
  },
  "language_info": {
   "codemirror_mode": {
    "name": "ipython",
    "version": 3
   },
   "file_extension": ".py",
   "mimetype": "text/x-python",
   "name": "python",
   "nbconvert_exporter": "python",
   "pygments_lexer": "ipython3",
   "version": "3.9.19"
  }
 },
 "nbformat": 4,
 "nbformat_minor": 5
}
