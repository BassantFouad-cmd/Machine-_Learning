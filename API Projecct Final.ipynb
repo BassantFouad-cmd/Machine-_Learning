{
 "cells": [
  {
   "cell_type": "code",
   "execution_count": 1,
   "id": "6b953320-91c8-4131-a3b3-02fb6016c12c",
   "metadata": {},
   "outputs": [
    {
     "data": {
      "text/plain": [
       "[{'id': 'J2PmlIizw',\n",
       "  'url': 'https://cdn2.thecatapi.com/images/J2PmlIizw.jpg',\n",
       "  'width': 1080,\n",
       "  'height': 1350},\n",
       " {'id': 'LSaDk6OjY',\n",
       "  'url': 'https://cdn2.thecatapi.com/images/LSaDk6OjY.jpg',\n",
       "  'width': 1080,\n",
       "  'height': 1080},\n",
       " {'id': 'IFXsxmXLm',\n",
       "  'url': 'https://cdn2.thecatapi.com/images/IFXsxmXLm.jpg',\n",
       "  'width': 973,\n",
       "  'height': 973},\n",
       " {'id': 'VZ3qFLIe3',\n",
       "  'url': 'https://cdn2.thecatapi.com/images/VZ3qFLIe3.jpg',\n",
       "  'width': 750,\n",
       "  'height': 937},\n",
       " {'id': 'GAmy2bg8G',\n",
       "  'url': 'https://cdn2.thecatapi.com/images/GAmy2bg8G.jpg',\n",
       "  'width': 750,\n",
       "  'height': 750},\n",
       " {'id': 'Rl39SPjDO',\n",
       "  'url': 'https://cdn2.thecatapi.com/images/Rl39SPjDO.png',\n",
       "  'width': 1198,\n",
       "  'height': 1379},\n",
       " {'id': '8RsP7Xt3h',\n",
       "  'url': 'https://cdn2.thecatapi.com/images/8RsP7Xt3h.jpg',\n",
       "  'width': 1024,\n",
       "  'height': 817},\n",
       " {'id': 'byQhFO7iV',\n",
       "  'url': 'https://cdn2.thecatapi.com/images/byQhFO7iV.jpg',\n",
       "  'width': 1795,\n",
       "  'height': 2397},\n",
       " {'id': 'H_UWbOfra',\n",
       "  'url': 'https://cdn2.thecatapi.com/images/H_UWbOfra.jpg',\n",
       "  'width': 1200,\n",
       "  'height': 1200},\n",
       " {'id': '4-5SzDNIL',\n",
       "  'url': 'https://cdn2.thecatapi.com/images/4-5SzDNIL.jpg',\n",
       "  'width': 880,\n",
       "  'height': 1100}]"
      ]
     },
     "execution_count": 1,
     "metadata": {},
     "output_type": "execute_result"
    }
   ],
   "source": [
    "import requests\n",
    "url = \"https://api.thecatapi.com/v1/images/search?limit=10&breed_ids=beng\"\n",
    "headers = {\n",
    "    \"x-api-key\": \"live_Ubrev1RKv3I8ZKtOH2zV2QcFU3figzZbsHGq36YqrF3h0JhazzXJ6azS5MMDWcfz\"\n",
    "}\n",
    "\n",
    "response = requests.get(url, headers=headers)\n",
    "result = response.json()\n",
    "result"
   ]
  },
  {
   "cell_type": "code",
   "execution_count": 3,
   "id": "ac54feb1-b991-4310-bdda-4b357f4cd856",
   "metadata": {},
   "outputs": [],
   "source": [
    "with open(\"The_Cats.csv\",mode=\"w\",encoding = \"utf-8\") as fd:\n",
    "    fd.write(\"ids,url,width,height\\n\")\n",
    "    \n",
    "    for i, item in enumerate(result):\n",
    "        ids = item.get('id', '')\n",
    "        url = item.get('url', '')\n",
    "        width = item.get('width', '')\n",
    "        height = item.get('height', '')\n",
    "        fd.write(f\"{ids},{url},{width},{height}\\n\")"
   ]
  },
  {
   "cell_type": "code",
   "execution_count": 4,
   "id": "a319638f-1d4a-4a71-8c9f-eab08336ca93",
   "metadata": {},
   "outputs": [
    {
     "name": "stdout",
     "output_type": "stream",
     "text": [
      "         ids                                              url  width  height\n",
      "0  J2PmlIizw  https://cdn2.thecatapi.com/images/J2PmlIizw.jpg   1080    1350\n",
      "1  LSaDk6OjY  https://cdn2.thecatapi.com/images/LSaDk6OjY.jpg   1080    1080\n",
      "2  IFXsxmXLm  https://cdn2.thecatapi.com/images/IFXsxmXLm.jpg    973     973\n",
      "3  VZ3qFLIe3  https://cdn2.thecatapi.com/images/VZ3qFLIe3.jpg    750     937\n",
      "4  GAmy2bg8G  https://cdn2.thecatapi.com/images/GAmy2bg8G.jpg    750     750\n",
      "5  Rl39SPjDO  https://cdn2.thecatapi.com/images/Rl39SPjDO.png   1198    1379\n",
      "6  8RsP7Xt3h  https://cdn2.thecatapi.com/images/8RsP7Xt3h.jpg   1024     817\n",
      "7  byQhFO7iV  https://cdn2.thecatapi.com/images/byQhFO7iV.jpg   1795    2397\n",
      "8  H_UWbOfra  https://cdn2.thecatapi.com/images/H_UWbOfra.jpg   1200    1200\n",
      "9  4-5SzDNIL  https://cdn2.thecatapi.com/images/4-5SzDNIL.jpg    880    1100\n"
     ]
    }
   ],
   "source": [
    "import pandas as pd\n",
    "The_cats_df = pd.read_csv(\"The_Cats.csv\")\n",
    "print(The_cats_df)"
   ]
  },
  {
   "cell_type": "code",
   "execution_count": null,
   "id": "22002821-cf69-4d22-959b-4c5da5129ec9",
   "metadata": {},
   "outputs": [],
   "source": []
  },
  {
   "cell_type": "code",
   "execution_count": null,
   "id": "2c7f4224-4eb8-49b5-9ae9-b87197064384",
   "metadata": {},
   "outputs": [],
   "source": []
  }
 ],
 "metadata": {
  "kernelspec": {
   "display_name": "Python 3 (ipykernel)",
   "language": "python",
   "name": "python3"
  },
  "language_info": {
   "codemirror_mode": {
    "name": "ipython",
    "version": 3
   },
   "file_extension": ".py",
   "mimetype": "text/x-python",
   "name": "python",
   "nbconvert_exporter": "python",
   "pygments_lexer": "ipython3",
   "version": "3.9.19"
  }
 },
 "nbformat": 4,
 "nbformat_minor": 5
}
