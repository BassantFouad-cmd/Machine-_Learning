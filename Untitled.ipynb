{
 "cells": [
  {
   "cell_type": "code",
   "execution_count": 24,
   "id": "01ffd8e3-7e5a-43fc-9103-07a4d96983ef",
   "metadata": {},
   "outputs": [
    {
     "ename": "TypeError",
     "evalue": "'>' not supported between instances of 'str' and 'int'",
     "output_type": "error",
     "traceback": [
      "\u001b[1;31m---------------------------------------------------------------------------\u001b[0m",
      "\u001b[1;31mTypeError\u001b[0m                                 Traceback (most recent call last)",
      "Cell \u001b[1;32mIn[24], line 13\u001b[0m\n\u001b[0;32m     10\u001b[0m lines\u001b[38;5;241m=\u001b[39m content\u001b[38;5;241m.\u001b[39msplit(\u001b[38;5;124m\"\u001b[39m\u001b[38;5;130;01m\\n\u001b[39;00m\u001b[38;5;124m\"\u001b[39m)\n\u001b[0;32m     12\u001b[0m \u001b[38;5;28;01mfor\u001b[39;00m e \u001b[38;5;129;01min\u001b[39;00m (lines):\n\u001b[1;32m---> 13\u001b[0m     \u001b[38;5;28;01mif\u001b[39;00m \u001b[43me\u001b[49m\u001b[43m \u001b[49m\u001b[38;5;241;43m>\u001b[39;49m\u001b[43m \u001b[49m\u001b[38;5;241;43m0\u001b[39;49m:\n\u001b[0;32m     14\u001b[0m        lines[e]\u001b[38;5;241m=\u001b[39m lines[i]\u001b[38;5;241m.\u001b[39mlower() \n\u001b[0;32m     16\u001b[0m New_modified \u001b[38;5;241m=\u001b[39m \u001b[38;5;124m\"\u001b[39m\u001b[38;5;130;01m\\n\u001b[39;00m\u001b[38;5;124m\"\u001b[39m\u001b[38;5;241m.\u001b[39mjoin(lines)\n",
      "\u001b[1;31mTypeError\u001b[0m: '>' not supported between instances of 'str' and 'int'"
     ]
    }
   ],
   "source": [
    "fd  = open(\"listed_data.txt\" , mode = 'w')\n",
    "\n",
    "fd.write(\"my students are\\n \\n ahmed\\n Mohamed \\n asser\")\n",
    "\n",
    "fd.close()\n",
    "\n",
    "fd = open(\"listed_data.txt\" , mode = 'r')\n",
    "content = fd.read()\n",
    "\n",
    "lines= content.split(\"\\n\")\n",
    "\n",
    "for e in (lines):\n",
    "    if e > 0:\n",
    "       lines[e]= lines[i].lower() \n",
    "\n",
    "New_modified = \"\\n\".join(lines)\n",
    "\n",
    "fd.close()\n",
    "\n",
    "New_fd =open (\"ldiste_data.txt\" , mode = 'w')\n",
    "\n",
    "New_fd.write(New_modified)\n",
    "New_fd.close()"
   ]
  },
  {
   "cell_type": "code",
   "execution_count": null,
   "id": "e4f409ea-d82b-490b-acfb-a37c3683aab0",
   "metadata": {},
   "outputs": [],
   "source": []
  },
  {
   "cell_type": "code",
   "execution_count": null,
   "id": "26b9aaf5-c11d-4ff5-89be-1ca622161d31",
   "metadata": {},
   "outputs": [],
   "source": []
  },
  {
   "cell_type": "code",
   "execution_count": null,
   "id": "a17f060c-194f-4ea2-898d-8387e6c52bf4",
   "metadata": {},
   "outputs": [],
   "source": []
  }
 ],
 "metadata": {
  "kernelspec": {
   "display_name": "Python 3 (ipykernel)",
   "language": "python",
   "name": "python3"
  },
  "language_info": {
   "codemirror_mode": {
    "name": "ipython",
    "version": 3
   },
   "file_extension": ".py",
   "mimetype": "text/x-python",
   "name": "python",
   "nbconvert_exporter": "python",
   "pygments_lexer": "ipython3",
   "version": "3.9.19"
  }
 },
 "nbformat": 4,
 "nbformat_minor": 5
}
