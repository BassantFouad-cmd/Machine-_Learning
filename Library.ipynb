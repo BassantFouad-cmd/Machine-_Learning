{
 "cells": [
  {
   "cell_type": "code",
   "execution_count": 5,
   "id": "5b5bbb9a-89d3-4fd5-9e72-a88d71a39017",
   "metadata": {},
   "outputs": [
    {
     "name": "stdout",
     "output_type": "stream",
     "text": [
      "<mysql.connector.connection_cext.CMySQLConnection object at 0x0000021D561F5E20>\n"
     ]
    }
   ],
   "source": [
    "import mysql.connector\n",
    "mydb_conn = mysql.connector.connect(\n",
    "    user='root',\n",
    "    password='Passant@01005500317//',\n",
    "    port = '3306',\n",
    "    host='127.0.0.1',\n",
    "    database='library')\n",
    "\n",
    "print (mydb_conn)"
   ]
  },
  {
   "cell_type": "code",
   "execution_count": 6,
   "id": "97a67706-a0c9-4bb4-80b4-3c56e866d413",
   "metadata": {},
   "outputs": [
    {
     "data": {
      "text/plain": [
       "<mysql.connector.cursor_cext.CMySQLCursor at 0x21d561f58e0>"
      ]
     },
     "execution_count": 6,
     "metadata": {},
     "output_type": "execute_result"
    }
   ],
   "source": [
    "cursor = mydb_conn.cursor()\n",
    "cursor"
   ]
  },
  {
   "cell_type": "code",
   "execution_count": 23,
   "id": "89c62676-c3f3-4e40-b318-dc024ce3b5a1",
   "metadata": {},
   "outputs": [
    {
     "data": {
      "text/plain": [
       "[(2,)]"
      ]
     },
     "execution_count": 23,
     "metadata": {},
     "output_type": "execute_result"
    }
   ],
   "source": [
    "## - 1- find the number of availalbe copies of the book (Dracula)\n",
    "\n",
    "cursor.execute(\"\"\"\n",
    "SELECT count( DISTINCT l.bookid ) as Availablecopies FROM loans AS l\n",
    "INNER JOIN books AS b ON l.bookid = b.bookid  \n",
    "WHERE b.title = \"Dracula\"\n",
    "AND l.bookid NOT IN (\n",
    "    SELECT DISTINCT bookid \n",
    "    FROM loans \n",
    "    WHERE returneddate IS NULL)\n",
    "    \"\"\")\n",
    "result = cursor.fetchall()\n",
    "result"
   ]
  },
  {
   "cell_type": "code",
   "execution_count": 24,
   "id": "eff11b03-dd4c-4dae-a377-94bbcf9ed4af",
   "metadata": {},
   "outputs": [
    {
     "data": {
      "text/plain": [
       "[(12, 'Dracula', 'Bram Stoker', 1897, 8232533734),\n",
       " (60, 'Dracula', 'Bram Stoker', 1897, 4274716715),\n",
       " (73, 'Dracula', 'Bram Stoker', 1897, 8730298424)]"
      ]
     },
     "execution_count": 24,
     "metadata": {},
     "output_type": "execute_result"
    }
   ],
   "source": [
    "\n",
    "## -- 2- check total copies of the book */\n",
    "cursor.execute(\"\"\"\n",
    " Select * from books\n",
    "WHERE title = 'Dracula'\n",
    "    \"\"\")\n",
    "result = cursor.fetchall()\n",
    "result"
   ]
  },
  {
   "cell_type": "code",
   "execution_count": 25,
   "id": "b545e645-eaa3-4994-ae9e-a5550988d0f5",
   "metadata": {},
   "outputs": [
    {
     "data": {
      "text/plain": [
       "[(1,)]"
      ]
     },
     "execution_count": 25,
     "metadata": {},
     "output_type": "execute_result"
    }
   ],
   "source": [
    "## -- 3- current total loans of the book */\n",
    "\n",
    "cursor.execute(\"\"\"\n",
    "select Count(loanID) as Current_total_Loan from books as b\n",
    "inner join loans as l on b.bookid = l.bookID\n",
    "where b.title = \"Dracula\" \n",
    "and l.returneddate is null\n",
    "\n",
    "    \"\"\")\n",
    "result = cursor.fetchall()\n",
    "result"
   ]
  },
  {
   "cell_type": "code",
   "execution_count": 15,
   "id": "e4cd7ed6-0b9d-4f38-9a00-bded48b54682",
   "metadata": {},
   "outputs": [
    {
     "data": {
      "text/plain": [
       "[(60,), (12,)]"
      ]
     },
     "execution_count": 15,
     "metadata": {},
     "output_type": "execute_result"
    }
   ],
   "source": [
    "## -- 4- total available books of dracula */\n",
    "\n",
    "cursor.execute(\"\"\"\n",
    "SELECT DISTINCT l.bookid  as totalAvailablecopies FROM loans AS l\n",
    "INNER JOIN books AS b ON l.bookid = b.bookid  \n",
    "WHERE b.title = \"Dracula\"\n",
    "AND l.bookid NOT IN (\n",
    "    SELECT DISTINCT bookid \n",
    "    FROM loans \n",
    "    WHERE returneddate IS NULL\n",
    ")\n",
    "\n",
    "    \"\"\")\n",
    "result = cursor.fetchall()\n",
    "result"
   ]
  },
  {
   "cell_type": "code",
   "execution_count": 18,
   "id": "20d6af23-c5b7-4168-9766-35b052975726",
   "metadata": {},
   "outputs": [
    {
     "data": {
      "text/plain": [
       "[]"
      ]
     },
     "execution_count": 18,
     "metadata": {},
     "output_type": "execute_result"
    }
   ],
   "source": [
    "##-- 5- Add new books to the library  \n",
    "\n",
    "cursor.execute(\"\"\"\n",
    "INSERT INTO Books (BookID,Title,Author,Published,Barcode) VALUES(210, \"Microfinanace\" , \"victor Hugo\" , 2000 , 2722805558),\n",
    "(230 , \"Economics\" , \"Jules Verne\" , 1994 , 27112386879)\n",
    "\n",
    "    \"\"\")\n",
    "result = cursor.fetchall()\n",
    "result"
   ]
  },
  {
   "cell_type": "code",
   "execution_count": 19,
   "id": "56fb23ad-6726-4365-8269-98e1410b1403",
   "metadata": {},
   "outputs": [
    {
     "data": {
      "text/plain": [
       "[]"
      ]
     },
     "execution_count": 19,
     "metadata": {},
     "output_type": "execute_result"
    }
   ],
   "source": [
    "## -- 6- Check out Books: books(4043822646, 2855934983) whose patron_email(jvaan@wisdompets.com), loandate=2020-08-25, duedate=2020-09-08, loanid=by_your_choice*/\n",
    "\n",
    "cursor.execute(\"\"\"\n",
    "SELECT \n",
    "    bo.bookid, \n",
    "    bo.title, \n",
    "    bo.barcode, \n",
    "    lo.loanid, \n",
    "    lo.loandate, \n",
    "    lo.duedate, \n",
    "    lo.returneddate, \n",
    "    p.patronID, \n",
    "    p.firstname, \n",
    "    p.lastname, \n",
    "    p.email\n",
    "FROM books AS bo \n",
    "INNER JOIN loans AS lo ON bo.bookid = lo.bookid\n",
    "INNER JOIN patrons AS p ON lo.patronID = p.patronID\n",
    "WHERE bo.barcode IN (4043822646, 2855934983)\n",
    "AND p.email = \"jvaan@wisdompets.com\"\n",
    "AND DATE(lo.loandate) = '2020-08-25' \n",
    "AND DATE(lo.duedate) = '2020-09-08'\n",
    "    \"\"\")\n",
    "result = cursor.fetchall()\n",
    "result"
   ]
  },
  {
   "cell_type": "code",
   "execution_count": null,
   "id": "2f16b75a-b437-47c0-8f30-162e18fc9f15",
   "metadata": {},
   "outputs": [],
   "source": [
    "## -- 7- Check books for Due back    \n",
    "\n",
    "cursor.execute(\"\"\"\n",
    "\n",
    "\n",
    "    \"\"\")\n",
    "result = cursor.fetchall()\n",
    "result"
   ]
  },
  {
   "cell_type": "code",
   "execution_count": 20,
   "id": "545617a4-7361-4eba-bc67-9ba9159bb998",
   "metadata": {},
   "outputs": [
    {
     "data": {
      "text/plain": [
       "[]"
      ]
     },
     "execution_count": 20,
     "metadata": {},
     "output_type": "execute_result"
    }
   ],
   "source": [
    "\n",
    "##-- 8 Return books to the library (which have barcode=6435968624) and return this book at this date(2020-07-05)\n",
    "\n",
    "cursor.execute(\"\"\"\n",
    "UPDATE loans \n",
    "SET ReturnedDate = '2020-07-01'\n",
    "WHERE bookid = (SELECT bookid FROM books WHERE barcode = 6435968624);\n",
    "\n",
    "    \"\"\")\n",
    "result = cursor.fetchall()\n",
    "result"
   ]
  },
  {
   "cell_type": "code",
   "execution_count": 21,
   "id": "e45430be-afdd-41f7-b88c-e38b9aed6f3b",
   "metadata": {},
   "outputs": [
    {
     "data": {
      "text/plain": [
       "[('Caril', 'Matejic', 9),\n",
       " ('Alaster', 'Ruggles', 9),\n",
       " ('Merle', 'Sukbhans', 11),\n",
       " ('Norby', 'Sleight', 12),\n",
       " ('Curr', 'Fittall', 12),\n",
       " ('Jack', 'Vaan', 13),\n",
       " ('Cammi', 'Kynett', 14),\n",
       " ('Orton', 'Stavers', 14),\n",
       " ('Carla', 'Swinfen', 14),\n",
       " ('Aleen', 'Fasey', 14)]"
      ]
     },
     "execution_count": 21,
     "metadata": {},
     "output_type": "execute_result"
    }
   ],
   "source": [
    "\n",
    "##-- 9-  Encourage Patrons to check out books ( generate a report of showing 10 patrons who have checked out the fewest books. )   \n",
    "\n",
    "cursor.execute(\"\"\"\n",
    "SELECT \n",
    "    p.firstname, \n",
    "    p.lastname, \n",
    "    COUNT(*) AS num_books \n",
    "FROM patrons AS p \n",
    "INNER JOIN loans AS l ON p.patronid = l.patronid\n",
    "GROUP BY p.patronid, p.firstname, p.lastname  \n",
    "ORDER BY num_books asc \n",
    "LIMIT 10;\n",
    "\n",
    "    \"\"\")\n",
    "result = cursor.fetchall()\n",
    "result"
   ]
  },
  {
   "cell_type": "code",
   "execution_count": 22,
   "id": "a73605ea-ed2f-4a67-95a9-e57a896d2ed9",
   "metadata": {},
   "outputs": [
    {
     "data": {
      "text/plain": [
       "[(1, 'Walden, and On The Duty Of Civil Disobedience', 'Henry David Thoreau'),\n",
       " (2, 'The Scarlet Letter', 'Nathaniel Hawthorne'),\n",
       " (4, 'The Adventures of Tom Sawyer', 'Mark Twain'),\n",
       " (5, 'David Copperfield', 'Charles Dickens'),\n",
       " (6, 'A Modest Proposal', 'Jonathan Swift'),\n",
       " (9, \"Uncle Tom's Cabin\", 'Harriet Beecher Stowe'),\n",
       " (10, 'The Count of Monte Cristo', 'Alexandre Dumas'),\n",
       " (13, 'Oliver Twist', 'Charles Dickens'),\n",
       " (20, 'Treasure Island', 'Robert Louis Stevenson'),\n",
       " (21, 'The Prince', 'Niccolò Machiavelli'),\n",
       " (22, 'Adventures of Huckleberry Finn', 'Mark Twain'),\n",
       " (23, 'Great Expectations', 'Charles Dickens'),\n",
       " (24, 'Candide', 'Voltaire'),\n",
       " (25, 'The Life and Adventures of Robinson Crusoe', 'Daniel Defoe'),\n",
       " (27, 'Wuthering Heights', 'Emily Brontë'),\n",
       " (29, 'A Modest Proposal', 'Jonathan Swift'),\n",
       " (30, 'On the origin of species', 'Charles Darwin'),\n",
       " (31,\n",
       "  \"Gulliver's Travels into Several Remote Nations of the World\",\n",
       "  'Jonathan Swift'),\n",
       " (35, 'The Brothers Karamazov', 'Fyodor Dostoyevsky'),\n",
       " (36, 'Great Expectations', 'Charles Dickens'),\n",
       " (37, \"A Doll's House\", 'Henrik Ibsen'),\n",
       " (39, 'The Adventures of Tom Sawyer', 'Mark Twain'),\n",
       " (40, 'Three Men in a Boat (To Say Nothing of the Dog)', 'Jerome K. Jerome'),\n",
       " (41, 'The Scarlet Letter', 'Nathaniel Hawthorne'),\n",
       " (42, 'The Prince', 'Niccolò Machiavelli'),\n",
       " (46, 'Sense and Sensibility', 'Jane Austen'),\n",
       " (49, \"Alice's Adventures in Wonderland\", 'Lewis Carroll'),\n",
       " (50, 'Jane Eyre: An Autobiography', 'Charlotte Brontë'),\n",
       " (52, 'David Copperfield', 'Charles Dickens'),\n",
       " (53, \"Uncle Tom's Cabin\", 'Harriet Beecher Stowe'),\n",
       " (57, 'The Brothers Karamazov', 'Fyodor Dostoyevsky'),\n",
       " (58, \"Grimms' Fairy Tales\", 'Jacob Grimm and Wilhelm Grimm'),\n",
       " (62, 'Oliver Twist', 'Charles Dickens'),\n",
       " (63, 'Treasure Island', 'Robert Louis Stevenson'),\n",
       " (64, 'A Study in Scarlet', 'Arthur Conan Doyle'),\n",
       " (65, 'The Scarlet Letter', 'Nathaniel Hawthorne'),\n",
       " (66, 'The Count of Monte Cristo', 'Alexandre Dumas'),\n",
       " (68, 'The Count of Monte Cristo', 'Alexandre Dumas'),\n",
       " (71, 'A Tale of Two Cities', 'Charles Dickens'),\n",
       " (74, 'The Strange Case of Dr. Jekyll and Mr. Hyde', 'Robert Louis Stevenson'),\n",
       " (75, 'Moby Dick; Or, The Whale', 'Herman Melville'),\n",
       " (76, 'Jane Eyre: An Autobiography', 'Charlotte Brontë'),\n",
       " (79, 'A Study in Scarlet', 'Arthur Conan Doyle'),\n",
       " (80, 'Jane Eyre: An Autobiography', 'Charlotte Brontë'),\n",
       " (81, \"Grimms' Fairy Tales\", 'Jacob Grimm and Wilhelm Grimm'),\n",
       " (82, 'Sense and Sensibility', 'Jane Austen'),\n",
       " (83, 'Emma', 'Jane Austen'),\n",
       " (87,\n",
       "  'Frankenstein; Or, The Modern Prometheus',\n",
       "  'Mary Wollstonecraft Shelley'),\n",
       " (89, 'Walden, and On The Duty Of Civil Disobedience', 'Henry David Thoreau'),\n",
       " (92, \"Alice's Adventures in Wonderland\", 'Lewis Carroll'),\n",
       " (93, 'Great Expectations', 'Charles Dickens'),\n",
       " (94, 'Walden, and On The Duty Of Civil Disobedience', 'Henry David Thoreau'),\n",
       " (96, 'A Study in Scarlet', 'Arthur Conan Doyle'),\n",
       " (97, 'The Life and Adventures of Robinson Crusoe', 'Daniel Defoe'),\n",
       " (99, 'Little Women', 'Louisa May Alcott'),\n",
       " (101, 'Anna Karenina', 'graf Leo Tolstoy'),\n",
       " (102, 'Hard Times', 'Charles Dickens'),\n",
       " (103, 'Moby Dick; Or, The Whale', 'Herman Melville'),\n",
       " (104, 'On the origin of species', 'Charles Darwin'),\n",
       " (106, 'Wuthering Heights', 'Emily Brontë'),\n",
       " (107, 'Little Women', 'Louisa May Alcott'),\n",
       " (108, \"Pascal's Pensées\", 'Blaise Pascal'),\n",
       " (109, 'Emma', 'Jane Austen'),\n",
       " (110,\n",
       "  'The Strange Case of Dr. Jekyll and Mr. Hyde',\n",
       "  'Robert Louis Stevenson'),\n",
       " (111, 'The Decameron of Giovanni Boccaccio', 'Giovanni Boccaccio'),\n",
       " (113, 'On the origin of species', 'Charles Darwin'),\n",
       " (115, 'Hard Times', 'Charles Dickens'),\n",
       " (116, 'The Brothers Karamazov', 'Fyodor Dostoyevsky'),\n",
       " (118, 'Adventures of Huckleberry Finn', 'Mark Twain'),\n",
       " (125, 'Candide', 'Voltaire'),\n",
       " (127, 'David Copperfield', 'Charles Dickens'),\n",
       " (131, 'War and Peace', 'graf Leo Tolstoy'),\n",
       " (132, 'War and Peace', 'graf Leo Tolstoy'),\n",
       " (133, 'Treasure Island', 'Robert Louis Stevenson'),\n",
       " (135, 'A Tale of Two Cities', 'Charles Dickens'),\n",
       " (137, \"Alice's Adventures in Wonderland\", 'Lewis Carroll'),\n",
       " (140,\n",
       "  \"Gulliver's Travels into Several Remote Nations of the World\",\n",
       "  'Jonathan Swift'),\n",
       " (141, 'Three Men in a Boat (To Say Nothing of the Dog)', 'Jerome K. Jerome'),\n",
       " (142, 'The Decameron of Giovanni Boccaccio', 'Giovanni Boccaccio'),\n",
       " (143,\n",
       "  \"Gulliver's Travels into Several Remote Nations of the World\",\n",
       "  'Jonathan Swift'),\n",
       " (144, 'Pride and Prejudice', 'Jane Austen'),\n",
       " (145, 'Oliver Twist', 'Charles Dickens'),\n",
       " (147, 'The Adventures of Tom Sawyer', 'Mark Twain'),\n",
       " (148, 'War and Peace', 'graf Leo Tolstoy'),\n",
       " (151, 'Second Treatise of Government', 'John Locke'),\n",
       " (153,\n",
       "  'Frankenstein; Or, The Modern Prometheus',\n",
       "  'Mary Wollstonecraft Shelley'),\n",
       " (156, 'The Life and Adventures of Robinson Crusoe', 'Daniel Defoe'),\n",
       " (158, 'Moby Dick; Or, The Whale', 'Herman Melville'),\n",
       " (159, 'Three Men in a Boat (To Say Nothing of the Dog)', 'Jerome K. Jerome'),\n",
       " (161, 'The Prince', 'Niccolò Machiavelli'),\n",
       " (162, 'Pride and Prejudice', 'Jane Austen'),\n",
       " (166,\n",
       "  'The Strange Case of Dr. Jekyll and Mr. Hyde',\n",
       "  'Robert Louis Stevenson'),\n",
       " (168, \"Pascal's Pensées\", 'Blaise Pascal'),\n",
       " (169, 'Second Treatise of Government', 'John Locke'),\n",
       " (170, 'A Tale of Two Cities', 'Charles Dickens'),\n",
       " (172, \"Uncle Tom's Cabin\", 'Harriet Beecher Stowe'),\n",
       " (173, 'Wuthering Heights', 'Emily Brontë'),\n",
       " (174, 'A Modest Proposal', 'Jonathan Swift'),\n",
       " (179, 'Anna Karenina', 'graf Leo Tolstoy'),\n",
       " (180,\n",
       "  'Frankenstein; Or, The Modern Prometheus',\n",
       "  'Mary Wollstonecraft Shelley'),\n",
       " (181, 'Sense and Sensibility', 'Jane Austen'),\n",
       " (182, \"Grimms' Fairy Tales\", 'Jacob Grimm and Wilhelm Grimm'),\n",
       " (183, 'Little Women', 'Louisa May Alcott'),\n",
       " (185, 'Don Quixote', 'Miguel de Cervantes Saavedra'),\n",
       " (186, 'Pride and Prejudice', 'Jane Austen'),\n",
       " (187, 'Don Quixote', 'Miguel de Cervantes Saavedra'),\n",
       " (190, 'Adventures of Huckleberry Finn', 'Mark Twain'),\n",
       " (191, 'Emma', 'Jane Austen'),\n",
       " (193, 'Candide', 'Voltaire'),\n",
       " (197, 'Hard Times', 'Charles Dickens'),\n",
       " (198, \"A Doll's House\", 'Henrik Ibsen'),\n",
       " (199, 'Anna Karenina', 'graf Leo Tolstoy'),\n",
       " (200, \"A Doll's House\", 'Henrik Ibsen')]"
      ]
     },
     "execution_count": 22,
     "metadata": {},
     "output_type": "execute_result"
    }
   ],
   "source": [
    "##--  10 Find books to feature for an event (create a list of books from 1890s that are currently available)\n",
    "\n",
    "cursor.execute(\"\"\"\n",
    "select  distinct b.bookID , b.title , b.author from books as b \n",
    "inner join loans as l on b.bookid = l.bookid \n",
    "where b.published < 1890\n",
    "AND l.returneddate IS not NULL\n",
    "order by b.bookID asc\n",
    "    \"\"\")\n",
    "result = cursor.fetchall()\n",
    "result"
   ]
  },
  {
   "cell_type": "code",
   "execution_count": 26,
   "id": "1021ca87-e44c-48ea-809b-a9826547cfdf",
   "metadata": {},
   "outputs": [
    {
     "data": {
      "text/plain": [
       "[(1895, 9),\n",
       " (1890, 9),\n",
       " (1847, 6),\n",
       " (1850, 6),\n",
       " (1892, 6),\n",
       " (1859, 6),\n",
       " (1884, 6),\n",
       " (1869, 6),\n",
       " (1898, 6),\n",
       " (1911, 6),\n",
       " (1899, 5),\n",
       " (1922, 5),\n",
       " (1791, 3),\n",
       " (1811, 3),\n",
       " (1813, 3),\n",
       " (1815, 3),\n",
       " (1818, 3),\n",
       " (1839, 3),\n",
       " (1849, 3),\n",
       " (1851, 3),\n",
       " (1852, 3),\n",
       " (1854, 3),\n",
       " (1858, 3),\n",
       " (1861, 3),\n",
       " (1865, 3),\n",
       " (1876, 3),\n",
       " (1878, 3),\n",
       " (1879, 3),\n",
       " (1880, 3),\n",
       " (1883, 3),\n",
       " (1886, 3),\n",
       " (1887, 3),\n",
       " (1889, 3),\n",
       " (1894, 3),\n",
       " (1896, 3),\n",
       " (1897, 3),\n",
       " (1532, 3),\n",
       " (1726, 3),\n",
       " (1900, 3),\n",
       " (1901, 3),\n",
       " (1905, 3),\n",
       " (1908, 3),\n",
       " (1729, 3),\n",
       " (1914, 3),\n",
       " (1915, 3),\n",
       " (1920, 3),\n",
       " (1759, 3),\n",
       " (1923, 3),\n",
       " (1689, 2),\n",
       " (1913, 2),\n",
       " (1670, 2),\n",
       " (1902, 2),\n",
       " (1375, 2),\n",
       " (1921, 2),\n",
       " (1906, 2),\n",
       " (1605, 2),\n",
       " (1994, 2),\n",
       " (2000, 2)]"
      ]
     },
     "execution_count": 26,
     "metadata": {},
     "output_type": "execute_result"
    }
   ],
   "source": [
    "## -- 11 /* Book Statistics (create a report to show how many books were published each year)\n",
    "cursor.execute(\"\"\"\n",
    "SELECT Published, COUNT(DISTINCT(bookid)) AS TotalNumberOfPublishedBooks FROM Books\n",
    "GROUP BY Published\n",
    "ORDER BY TotalNumberOfPublishedBooks DESC\n",
    "\"\"\")\n",
    "result = cursor.fetchall()\n",
    "result"
   ]
  },
  {
   "cell_type": "code",
   "execution_count": 27,
   "id": "18d6c6c1-8549-4bd6-971c-130521042764",
   "metadata": {},
   "outputs": [
    {
     "data": {
      "text/plain": [
       "[('Frankenstein; Or, The Modern Prometheus',\n",
       "  'Mary Wollstonecraft Shelley',\n",
       "  1818,\n",
       "  53),\n",
       " ('The War of the Worlds', 'H. G. Wells', 1898, 43),\n",
       " ('The Awakening, and Selected Short Stories', 'Kate Chopin', 1899, 43),\n",
       " ('The Scarlet Letter', 'Nathaniel Hawthorne', 1850, 42),\n",
       " ('The Picture of Dorian Gray', 'Oscar Wilde', 1890, 39)]"
      ]
     },
     "execution_count": 27,
     "metadata": {},
     "output_type": "execute_result"
    }
   ],
   "source": [
    "## -- 12 Book Statistics (create a report to show 5 most popular Books to check out )\n",
    "cursor.execute(\"\"\"\n",
    "SELECT b.Title, b.Author, b.Published, COUNT(b.Title) AS TotalTimesOfLoans FROM Books b\n",
    "inner JOIN Loans l ON b.BookID = l.BookID\n",
    "GROUP BY b.Title, b.Author, b.Published \n",
    "ORDER BY TotalTimesOfLoans DESC\n",
    "LIMIT 5\n",
    "\"\"\")\n",
    "result = cursor.fetchall()\n",
    "result"
   ]
  },
  {
   "cell_type": "code",
   "execution_count": null,
   "id": "3a9cbf5c-4e4c-47a2-97bd-6fc2b309c714",
   "metadata": {},
   "outputs": [],
   "source": []
  }
 ],
 "metadata": {
  "kernelspec": {
   "display_name": "Python 3 (ipykernel)",
   "language": "python",
   "name": "python3"
  },
  "language_info": {
   "codemirror_mode": {
    "name": "ipython",
    "version": 3
   },
   "file_extension": ".py",
   "mimetype": "text/x-python",
   "name": "python",
   "nbconvert_exporter": "python",
   "pygments_lexer": "ipython3",
   "version": "3.9.19"
  }
 },
 "nbformat": 4,
 "nbformat_minor": 5
}
