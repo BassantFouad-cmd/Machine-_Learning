{
 "cells": [
  {
   "cell_type": "code",
   "execution_count": 355,
   "id": "dfe0c3f2-20f8-4915-be94-c7bf25f3c1b2",
   "metadata": {},
   "outputs": [],
   "source": [
    "class Library:\n",
    "  \n",
    "    def __init__(self, library_name, booklist):\n",
    "        self.library_name = library_name\n",
    "        self.booklist = booklist\n",
    "        self.__lent_books_dictionary = { }\n",
    "    \n",
    "    def lend_books(self,book_name,duration,customer_name):\n",
    "        self.book_name = book_name\n",
    "        self.customer_name = customer_name\n",
    "        self.duration = duration\n",
    "\n",
    "        if book_name in self.__lent_books_dictionary:\n",
    "            print(f\"the book {book_name} is already lended to {self.__lent_books_dictionary[book_name]}\")\n",
    "        elif book_name in self.booklist:\n",
    "            self.__lent_books_dictionary[book_name] = customer_name \n",
    "            print(f\"The book '{book_name}' has been lent successfully to {customer_name} for {duration}\")\n",
    "        else:\n",
    "            print(f\"The book '{book_name}' is not available in the library.\")\n",
    "    \n",
    "\n",
    "    def get_lent_books_dictionary(self):\n",
    "        self.get_lent_books_dictionary = self.__lent_books_dictionary\n",
    "        print(f\"the lent books dictionary is {self.__lent_books_dictionary}\")\n",
    "    \n",
    "    def available_books(self):\n",
    "        self.lend_books = set(self.__lent_books_dictionary.keys())\n",
    "        self.booklist = set(self.booklist)\n",
    "        available_books = self.booklist.difference(self.lend_books)\n",
    "        print(f\"available books are { available_books}\")\n",
    "        \n",
    "    \n",
    "    def return_books(returned_books,customer_name):\n",
    "            try:\n",
    "                if returned_books in self.lend_books and self.__lent_books_dictionary[returned_books].lower()== customer_name.lower():\n",
    "                    del self.__lent_books_dictionary[returned_books]\n",
    "                    print(f\"the {self.return_books} has been returned successfully\")\n",
    "                else:\n",
    "                    print(f\"The book '{returned_books}' was not borrowed by {customer_name} or is not in the lent books list.\")\n",
    "            except KeyError:\n",
    "                print(\"Please write a valid Customer name\")\n",
    "        "
   ]
  },
  {
   "cell_type": "code",
   "execution_count": 356,
   "id": "036245e1-4014-4290-a4b8-dd7c8c542b94",
   "metadata": {},
   "outputs": [],
   "source": [
    "library1= Library(\"Asser\",[\"english\" ,\"arabic\",\"math\"])"
   ]
  },
  {
   "cell_type": "code",
   "execution_count": 357,
   "id": "2e086c87-6e9d-46cd-9542-28e3bb75e3a5",
   "metadata": {},
   "outputs": [
    {
     "name": "stdout",
     "output_type": "stream",
     "text": [
      "The book 'math' has been lent successfully to Passant for 2day\n"
     ]
    }
   ],
   "source": [
    "library1.lend_books(\"math\" , \"2day\" ,\"Passant\")"
   ]
  },
  {
   "cell_type": "code",
   "execution_count": 358,
   "id": "d249e4ff-8d91-4ad2-b643-13daa797db09",
   "metadata": {},
   "outputs": [
    {
     "name": "stdout",
     "output_type": "stream",
     "text": [
      "the book math is already lended to Passant\n"
     ]
    }
   ],
   "source": [
    "library1.lend_books(\"math\" , \"3day\" ,\"Ahmed\")"
   ]
  },
  {
   "cell_type": "code",
   "execution_count": 359,
   "id": "4cebeae4-7fc1-4858-96ce-4426764c46f2",
   "metadata": {},
   "outputs": [
    {
     "name": "stdout",
     "output_type": "stream",
     "text": [
      "The book 'arabic' has been lent successfully to Ahmed for 3 days\n"
     ]
    }
   ],
   "source": [
    "library1.lend_books(\"arabic\" , \"3 days\" ,\"Ahmed\")"
   ]
  },
  {
   "cell_type": "code",
   "execution_count": 360,
   "id": "7f14dfdc-2ed5-4cfa-9c7d-39f7b96b66aa",
   "metadata": {},
   "outputs": [
    {
     "name": "stdout",
     "output_type": "stream",
     "text": [
      "the lent books dictionary is {'math': 'Passant', 'arabic': 'Ahmed'}\n"
     ]
    }
   ],
   "source": [
    "library1. get_lent_books_dictionary()"
   ]
  },
  {
   "cell_type": "code",
   "execution_count": 362,
   "id": "ece29bdf-8535-4b64-9692-9a9b63c35d28",
   "metadata": {},
   "outputs": [
    {
     "ename": "TypeError",
     "evalue": "return_books() takes 2 positional arguments but 3 were given",
     "output_type": "error",
     "traceback": [
      "\u001b[1;31m---------------------------------------------------------------------------\u001b[0m",
      "\u001b[1;31mTypeError\u001b[0m                                 Traceback (most recent call last)",
      "Cell \u001b[1;32mIn[362], line 1\u001b[0m\n\u001b[1;32m----> 1\u001b[0m \u001b[43mlibrary1\u001b[49m\u001b[38;5;241;43m.\u001b[39;49m\u001b[43mreturn_books\u001b[49m\u001b[43m(\u001b[49m\u001b[38;5;124;43m\"\u001b[39;49m\u001b[38;5;124;43mmath\u001b[39;49m\u001b[38;5;124;43m\"\u001b[39;49m\u001b[43m,\u001b[49m\u001b[38;5;124;43m\"\u001b[39;49m\u001b[38;5;124;43mPassant\u001b[39;49m\u001b[38;5;124;43m\"\u001b[39;49m\u001b[43m)\u001b[49m\n",
      "\u001b[1;31mTypeError\u001b[0m: return_books() takes 2 positional arguments but 3 were given"
     ]
    }
   ],
   "source": [
    "library1.return_books(\"math\",\"Passant\")"
   ]
  },
  {
   "cell_type": "code",
   "execution_count": null,
   "id": "ae23e9c5-ad42-423c-8a32-5040f797d661",
   "metadata": {},
   "outputs": [],
   "source": []
  }
 ],
 "metadata": {
  "kernelspec": {
   "display_name": "Python 3 (ipykernel)",
   "language": "python",
   "name": "python3"
  },
  "language_info": {
   "codemirror_mode": {
    "name": "ipython",
    "version": 3
   },
   "file_extension": ".py",
   "mimetype": "text/x-python",
   "name": "python",
   "nbconvert_exporter": "python",
   "pygments_lexer": "ipython3",
   "version": "3.9.19"
  }
 },
 "nbformat": 4,
 "nbformat_minor": 5
}
