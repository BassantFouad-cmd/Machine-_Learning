{
 "cells": [
  {
   "cell_type": "code",
   "execution_count": null,
   "id": "7a68591b-4407-4b77-9f7e-3b31edf8e7d0",
   "metadata": {},
   "outputs": [],
   "source": [
    "name = \"Passant\"\n",
    "\n",
    "name = name[6] + name[1:6] + name[0] \n",
    "\n",
    "print(name)"
   ]
  },
  {
   "cell_type": "code",
   "execution_count": null,
   "id": "92e113ae-ba24-4705-88e9-fa8c810af628",
   "metadata": {},
   "outputs": [],
   "source": [
    "list3 = str( [1,2,[3,4,'hello']])\n",
    "list3 = list3.replace('hello', 'goodbye')\n",
    "print(list3)"
   ]
  },
  {
   "cell_type": "code",
   "execution_count": null,
   "id": "e542f6a7-45f8-42be-8b7a-67e4c7b3e040",
   "metadata": {},
   "outputs": [],
   "source": [
    "list4 = [5,3,4,6,1]\n",
    "max(list4)"
   ]
  },
  {
   "cell_type": "code",
   "execution_count": null,
   "id": "6943c964-007d-42a6-bf60-d88c4f39462a",
   "metadata": {},
   "outputs": [],
   "source": [
    "list4 = [5,3,4,6,1]\n",
    "min(list4)"
   ]
  },
  {
   "cell_type": "code",
   "execution_count": null,
   "id": "a9b0af61-1988-4e1e-8b62-686e20058e39",
   "metadata": {},
   "outputs": [],
   "source": [
    "sum(list4)"
   ]
  },
  {
   "cell_type": "code",
   "execution_count": null,
   "id": "ee5fb46c-ab19-4f3c-b0b5-5496e75cf59e",
   "metadata": {},
   "outputs": [],
   "source": [
    "list4 = [5,3,4,6,1]\n",
    "sorted(list4)"
   ]
  },
  {
   "cell_type": "code",
   "execution_count": null,
   "id": "f7a96406-f6f5-4bcf-8f31-56cfffe115d8",
   "metadata": {},
   "outputs": [],
   "source": [
    "first_list = [\"a\", \"b\", \"a\", \"c\", \"c\"]\n",
    "final_list = list(set(first_list))\n",
    "print(final_list)\n",
    "\n"
   ]
  },
  {
   "cell_type": "code",
   "execution_count": null,
   "id": "d8c7766c-d069-4994-9b2e-35366bb151fb",
   "metadata": {},
   "outputs": [],
   "source": [
    "d = \"{'k1':{'k2':'hello'}}\"\n",
    "\n",
    "d = d.replace(\"}\",\"\")\n",
    "d = d.replace(\"{\",\"\")\n",
    "d = d.replace(\":\",\"\")\n",
    "d = d.replace(\"'\",\"\")\n",
    "d = d.replace(\"k\",\"\")\n",
    "d = d.replace(\"1\",\"\")\n",
    "d = d.replace(\"2\",\"\")\n",
    "d = d.strip()\n",
    "print(d)\n"
   ]
  },
  {
   "cell_type": "code",
   "execution_count": null,
   "id": "3d3a2a7f-8ea7-4410-ab19-4bd26f1ee1f1",
   "metadata": {},
   "outputs": [],
   "source": [
    "d = {'k1': {'k2': 'hello'}}\n",
    "value = d['k1']['k2']\n",
    "print(value)\n"
   ]
  },
  {
   "cell_type": "code",
   "execution_count": null,
   "id": "cac59128-1fa0-43b9-9441-ca2f9c0c737a",
   "metadata": {},
   "outputs": [],
   "source": [
    "car = {\n",
    "  \"brand\": \"Ford\",\n",
    "  \"model\": \"Mustang\",\n",
    "  \"year\": 1964\n",
    "}\n",
    "\n",
    "x = car.keys()\n",
    "\n",
    "car[\"color\"] = \"white\"\n",
    "\n",
    "print(x)"
   ]
  },
  {
   "cell_type": "code",
   "execution_count": null,
   "id": "6eb82ff5-3512-4c1f-804f-614601990fb5",
   "metadata": {},
   "outputs": [],
   "source": [
    " d = {'k1':[{'nest_key':['this is deep',['hello']]}]}\n",
    "value = d['k1']['nest_Key']['this is deep']\n",
    "print(value)"
   ]
  },
  {
   "cell_type": "code",
   "execution_count": null,
   "id": "b905aa50-4688-4acb-9d35-b819902349dc",
   "metadata": {},
   "outputs": [],
   "source": [
    "d = {'k1':[1,2,{'k2':['this is tricky',{'tough':[1,2,['hello']]}]}]}\n",
    "value = d['k1'][2]['k2'][1]['tough'][2][0]\n",
    "print(value)"
   ]
  },
  {
   "cell_type": "code",
   "execution_count": null,
   "id": "91ed0769-128e-4ed4-bde0-68865bb7afd8",
   "metadata": {},
   "outputs": [],
   "source": [
    "sample_dict = {0: 10, 1: 20}\n",
    "\n",
    "sample_dict[2] = 30\n",
    "print(sample_dict)"
   ]
  },
  {
   "cell_type": "code",
   "execution_count": null,
   "id": "ecd46011-476a-4822-ba05-8a77bbfdbc9e",
   "metadata": {},
   "outputs": [],
   "source": [
    "values= sum(sample_dict.values())\n",
    "print(values)\n"
   ]
  },
  {
   "cell_type": "code",
   "execution_count": null,
   "id": "d2f7a3ab-c909-4aa8-a99f-9a0ad2aca623",
   "metadata": {},
   "outputs": [],
   "source": [
    "values= sum(sample_dict.values())\n",
    "print(values)"
   ]
  },
  {
   "cell_type": "code",
   "execution_count": 1,
   "id": "00af12d7-8e46-47be-91fb-9222762d12c2",
   "metadata": {},
   "outputs": [
    {
     "name": "stdout",
     "output_type": "stream",
     "text": [
      "<class 'builtin_function_or_method'>\n"
     ]
    }
   ],
   "source": [
    "print(type(sum))"
   ]
  },
  {
   "cell_type": "code",
   "execution_count": null,
   "id": "88c30291-e440-4168-89b2-cac6f5b2a976",
   "metadata": {},
   "outputs": [],
   "source": []
  }
 ],
 "metadata": {
  "kernelspec": {
   "display_name": "Python 3 (ipykernel)",
   "language": "python",
   "name": "python3"
  },
  "language_info": {
   "codemirror_mode": {
    "name": "ipython",
    "version": 3
   },
   "file_extension": ".py",
   "mimetype": "text/x-python",
   "name": "python",
   "nbconvert_exporter": "python",
   "pygments_lexer": "ipython3",
   "version": "3.9.19"
  }
 },
 "nbformat": 4,
 "nbformat_minor": 5
}
