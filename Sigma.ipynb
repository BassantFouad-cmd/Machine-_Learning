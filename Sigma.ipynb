{
 "cells": [
  {
   "cell_type": "code",
   "execution_count": 3,
   "id": "ee211efa-8333-45d2-bd79-f532b4fe6a8c",
   "metadata": {},
   "outputs": [
    {
     "data": {
      "text/plain": [
       "<Response [200]>"
      ]
     },
     "execution_count": 3,
     "metadata": {},
     "output_type": "execute_result"
    }
   ],
   "source": [
    "import requests\n",
    "res = requests.get(\"https://www.sigma-computer.com/search?search=laptop&submit_search=&route=product%2Fsearch\")\n",
    "res"
   ]
  },
  {
   "cell_type": "code",
   "execution_count": 4,
   "id": "343d1bba-2a90-482d-87eb-3a31538c8ea6",
   "metadata": {},
   "outputs": [],
   "source": [
    "from bs4 import BeautifulSoup\n",
    "import requests\n",
    "\n",
    "soup = BeautifulSoup(res.text, \"html.parser\")\n",
    "\n",
    "Product_list_tags = soup.find_all(\"div\", attrs={\"class\": \"product-layout col-lg-15 col-md-4 col-sm-6 col-xs-12\"})\n"
   ]
  },
  {
   "cell_type": "code",
   "execution_count": 5,
   "id": "da94f7a4-5b6c-436b-ac62-7bde036bcf14",
   "metadata": {},
   "outputs": [
    {
     "data": {
      "text/plain": [
       "739"
      ]
     },
     "execution_count": 5,
     "metadata": {},
     "output_type": "execute_result"
    }
   ],
   "source": [
    "len(Product_list_tags)"
   ]
  },
  {
   "cell_type": "code",
   "execution_count": 58,
   "id": "c59e2c96-aa43-4ba5-a0fa-bb89a658193b",
   "metadata": {},
   "outputs": [],
   "source": [
    "with open(\"Products.csv\", mode=\"w\", encoding=\"utf-8\") as fd:\n",
    "    fd.write(\"item_name,stock_status,price_new,price_old,Product_Link_Final,product_specifications\\n\")\n",
    "    \n",
    "    for i in range(len(Product_list_tags)):\n",
    "        try:\n",
    "            product_tag = Product_list_tags[i]\n",
    "            item_name = product_tag.find(\"h4\").text.replace('\"', '\"\"')\n",
    "            price_new = product_tag.find(\"span\", attrs={\"class\": \"price-new\"}).text\n",
    "            price_old_tag = product_tag.find(\"span\", attrs={\"class\": \"price-old\"})\n",
    "            price_old = price_old_tag.text if price_old_tag else \"N/A\"\n",
    "            product_link_tag = product_tag.find(\"a\")\n",
    "            product_link_partial = product_link_tag.attrs['href'] if product_link_tag else \"#\"\n",
    "            product_link_final = product_link_partial if product_link_partial.startswith(\"http\") else f\"https://www.sigma-computer.com/{product_link_partial}\"\n",
    "            product_specifications_tag = product_tag.find(\"div\", attrs={\"class\": \"description item-desc\"})\n",
    "            product_specifications = product_specifications_tag.text.replace(\"\\n\", \" \").replace(\"\\r\", \" \").replace(\"\\t\", \" \").strip() if product_specifications_tag else \"N/A\"\n",
    "            stock_status = \"Unknown\"\n",
    "            stock_tag_instock = product_tag.find(\"span\", attrs={\"class\": \"stock\"})\n",
    "            stock_tag_outstock = product_tag.find(\"span\", attrs={\"class\": \"stock_N\"})\n",
    "            \n",
    "            if stock_tag_instock and stock_tag_instock.text.strip() == \"In Stock\":\n",
    "                stock_status = \"In Stock\"\n",
    "            elif stock_tag_outstock and stock_tag_outstock.text.strip() == \"Out Of Stock\":\n",
    "                stock_status = \"Out Of Stock\"\n",
    "                \n",
    "            fd.write(f\"\\\"{item_name}\\\",\\\"{stock_status}\\\",\\\"{price_new}\\\",\\\"{price_old}\\\",\\\"{product_link_final}\\\",\\\"{product_specifications}\\\"\\n\")\n",
    "        except Exception as e:\n",
    "            print(f\"Error processing product: {e}\")\n"
   ]
  },
  {
   "cell_type": "code",
   "execution_count": null,
   "id": "5d34aa1c-e9a3-45bd-9e1e-96f59cf54a15",
   "metadata": {},
   "outputs": [],
   "source": []
  }
 ],
 "metadata": {
  "kernelspec": {
   "display_name": "Python 3 (ipykernel)",
   "language": "python",
   "name": "python3"
  },
  "language_info": {
   "codemirror_mode": {
    "name": "ipython",
    "version": 3
   },
   "file_extension": ".py",
   "mimetype": "text/x-python",
   "name": "python",
   "nbconvert_exporter": "python",
   "pygments_lexer": "ipython3",
   "version": "3.9.19"
  }
 },
 "nbformat": 4,
 "nbformat_minor": 5
}
