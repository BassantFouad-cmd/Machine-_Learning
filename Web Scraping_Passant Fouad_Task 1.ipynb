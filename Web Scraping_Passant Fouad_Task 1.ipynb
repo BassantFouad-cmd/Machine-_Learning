{
 "cells": [
  {
   "cell_type": "code",
   "execution_count": 2,
   "id": "93b0b161-9e2d-4a3e-a5db-75a3ce044db1",
   "metadata": {},
   "outputs": [
    {
     "data": {
      "text/plain": [
       "<Response [200]>"
      ]
     },
     "execution_count": 2,
     "metadata": {},
     "output_type": "execute_result"
    }
   ],
   "source": [
    "import requests \n",
    "res= requests.get(\"https://www.xe.com/currencyconverter/convert/?Amount=1&From=USD&To=EGP\")\n",
    "res"
   ]
  },
  {
   "cell_type": "code",
   "execution_count": 11,
   "id": "86117a3b-027c-47aa-879e-18308fdcccb6",
   "metadata": {},
   "outputs": [
    {
     "data": {
      "text/plain": [
       "'50.867055 Egyptian Pounds'"
      ]
     },
     "execution_count": 11,
     "metadata": {},
     "output_type": "execute_result"
    }
   ],
   "source": [
    "from bs4 import BeautifulSoup\n",
    "soup = BeautifulSoup(res.text, \"html.parser\")\n",
    "\n",
    "exchange_rate = soup.find(\"p\" , attrs ={\"class\" :\"sc-b5d1d4ba-1 bPeOTN\"}).text\n",
    "exchange_rate"
   ]
  },
  {
   "cell_type": "code",
   "execution_count": 16,
   "id": "e62c0256-77a9-4f5a-9ff7-561d7034e877",
   "metadata": {},
   "outputs": [
    {
     "name": "stdout",
     "output_type": "stream",
     "text": [
      "HTML file generated successfully!\n"
     ]
    }
   ],
   "source": [
    "from jinja2 import Environment, FileSystemLoader\n",
    "\n",
    "# Set up the Jinja2 environment\n",
    "env = Environment(loader=FileSystemLoader('.'))\n",
    "\n",
    "# Load the template\n",
    "template = env.get_template('Web Scraping_Passant Fouad_Task 1')\n",
    "\n",
    "# Example data\n",
    "exchange_rate = soup.find(\"p\" , attrs ={\"class\" :\"sc-b5d1d4ba-1 bPeOTN\"}).text\n",
    "\n",
    "# Render the template with the data\n",
    "html_output = template.render(exchange_rate=exchange_rate)\n",
    "\n",
    "# Write the rendered HTML to a file\n",
    "with open('Web Scraping_Passant Fouad_Task 1', 'w') as file:\n",
    "    file.write(html_output)\n",
    "\n",
    "print(\"HTML file generated successfully!\")"
   ]
  },
  {
   "cell_type": "code",
   "execution_count": null,
   "id": "e55de8d6-a493-4cb5-8781-6402a575457c",
   "metadata": {},
   "outputs": [],
   "source": []
  }
 ],
 "metadata": {
  "kernelspec": {
   "display_name": "Python 3 (ipykernel)",
   "language": "python",
   "name": "python3"
  },
  "language_info": {
   "codemirror_mode": {
    "name": "ipython",
    "version": 3
   },
   "file_extension": ".py",
   "mimetype": "text/x-python",
   "name": "python",
   "nbconvert_exporter": "python",
   "pygments_lexer": "ipython3",
   "version": "3.9.19"
  }
 },
 "nbformat": 4,
 "nbformat_minor": 5
}
