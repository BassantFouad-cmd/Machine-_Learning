{
 "cells": [
  {
   "cell_type": "code",
   "execution_count": 6,
   "id": "16913b7c-89a9-403e-84a8-71ba7e0cc594",
   "metadata": {},
   "outputs": [
    {
     "name": "stdin",
     "output_type": "stream",
     "text": [
      "Please entre a number:  5\n",
      "Please entre a number:  3\n"
     ]
    },
    {
     "name": "stdout",
     "output_type": "stream",
     "text": [
      "the result is 0\n"
     ]
    }
   ],
   "source": [
    "## <p style=\"color:green;\">Q.09 Timon has a candies and his friend, Pumbaa, has b candies, so Pumbaa asked Timon to tell him the value of a−b. However, Timon will tell him the value of a−b if the value is ≥0; otherwise, he will lie and say 0. Since it was a hard task for Timon, he's asking for your help.</p>\n",
    "\n",
    "b = int(input(\"Please entre a number: \"))\n",
    "a = int(input(\"Please entre a number: \"))\n",
    "\n",
    "if a - b >= 0 :\n",
    "    print( f\"tell the result\" is {a - b})\n",
    "else:\n",
    "    print(\"the result is 0\")"
   ]
  },
  {
   "cell_type": "code",
   "execution_count": 8,
   "id": "6aabcc71-9e28-4400-a19b-90bb54f356d0",
   "metadata": {},
   "outputs": [
    {
     "data": {
      "text/plain": [
       "[1, 1, 1, 1, 2, 2, 1]"
      ]
     },
     "execution_count": 8,
     "metadata": {},
     "output_type": "execute_result"
    }
   ],
   "source": [
    "New_data = [19, 20, 21, 10, -53, -23, 10]\n",
    "\n",
    "list_above =[]\n",
    "for e in New_data:\n",
    "    if e > 0:\n",
    "        list_above.append(1)\n",
    "    else:\n",
    "        list_above.append(2)\n",
    "\n",
    "list_above\n",
    "        \n",
    "\n",
    "\n"
   ]
  },
  {
   "cell_type": "code",
   "execution_count": 12,
   "id": "84942b2c-0350-4de9-b738-ebb7e9896367",
   "metadata": {},
   "outputs": [
    {
     "ename": "SyntaxError",
     "evalue": "invalid syntax (2688801625.py, line 4)",
     "output_type": "error",
     "traceback": [
      "\u001b[1;36m  Cell \u001b[1;32mIn[12], line 4\u001b[1;36m\u001b[0m\n\u001b[1;33m    print(f{e} , \"*\" ,{e} * {e+1})\u001b[0m\n\u001b[1;37m           ^\u001b[0m\n\u001b[1;31mSyntaxError\u001b[0m\u001b[1;31m:\u001b[0m invalid syntax\n"
     ]
    }
   ],
   "source": [
    "## <p style=\"color:orange;\">Q.12 Write a Python program to create the multiplication table (from 1 to 10) of a number.</p>\n",
    "\n",
    "for e in range(1,11):\n",
    "    print(f{e} , \"*\" ,{e} * {e+1})\n"
   ]
  },
  {
   "cell_type": "code",
   "execution_count": 21,
   "id": "352dfb7e-11ae-4b63-ac9a-a1d411a1a2fd",
   "metadata": {},
   "outputs": [
    {
     "ename": "TypeError",
     "evalue": "can't multiply sequence by non-int of type 'str'",
     "output_type": "error",
     "traceback": [
      "\u001b[1;31m---------------------------------------------------------------------------\u001b[0m",
      "\u001b[1;31mTypeError\u001b[0m                                 Traceback (most recent call last)",
      "Cell \u001b[1;32mIn[21], line 2\u001b[0m\n\u001b[0;32m      1\u001b[0m \u001b[38;5;28;01mfor\u001b[39;00m e \u001b[38;5;129;01min\u001b[39;00m \u001b[38;5;28mrange\u001b[39m(\u001b[38;5;241m1\u001b[39m, \u001b[38;5;241m11\u001b[39m):\n\u001b[1;32m----> 2\u001b[0m     \u001b[38;5;28mprint\u001b[39m(\u001b[38;5;124;43mf\u001b[39;49m\u001b[38;5;124;43m\"\u001b[39;49m\u001b[38;5;132;43;01m{\u001b[39;49;00m\u001b[43me\u001b[49m\u001b[38;5;132;43;01m}\u001b[39;49;00m\u001b[38;5;124;43m + \u001b[39;49m\u001b[38;5;124;43m\"\u001b[39;49m\u001b[38;5;241;43m*\u001b[39;49m\u001b[38;5;124;43m\"\u001b[39;49m\u001b[38;5;124;43m \u001b[39;49m\u001b[38;5;132;43;01m{e}\u001b[39;49;00m\u001b[38;5;124;43m \u001b[39;49m\u001b[38;5;124;43m\"\u001b[39;49m)\n",
      "\u001b[1;31mTypeError\u001b[0m: can't multiply sequence by non-int of type 'str'"
     ]
    }
   ],
   "source": [
    "for e in range(1, 11):\n",
    "    print(f\"{e} + \"*\" {e} \")"
   ]
  },
  {
   "cell_type": "code",
   "execution_count": 23,
   "id": "117e59e4-e17e-46c7-af40-a8bc920e77e6",
   "metadata": {},
   "outputs": [
    {
     "name": "stdout",
     "output_type": "stream",
     "text": [
      "8 x 1 = 8\n",
      "8 x 2 = 16\n",
      "8 x 3 = 24\n",
      "8 x 4 = 32\n",
      "8 x 5 = 40\n",
      "8 x 6 = 48\n",
      "8 x 7 = 56\n",
      "8 x 8 = 64\n",
      "8 x 9 = 72\n",
      "8 x 10 = 80\n"
     ]
    }
   ],
   "source": [
    "for i in range(1, 11):\n",
    "    \n",
    "    print(f\"8 x {i} = {8 * i}\")"
   ]
  },
  {
   "cell_type": "code",
   "execution_count": null,
   "id": "ceb420db-5729-4b83-bc34-35dcbb7e5435",
   "metadata": {},
   "outputs": [],
   "source": []
  }
 ],
 "metadata": {
  "kernelspec": {
   "display_name": "Python 3 (ipykernel)",
   "language": "python",
   "name": "python3"
  },
  "language_info": {
   "codemirror_mode": {
    "name": "ipython",
    "version": 3
   },
   "file_extension": ".py",
   "mimetype": "text/x-python",
   "name": "python",
   "nbconvert_exporter": "python",
   "pygments_lexer": "ipython3",
   "version": "3.9.19"
  }
 },
 "nbformat": 4,
 "nbformat_minor": 5
}
