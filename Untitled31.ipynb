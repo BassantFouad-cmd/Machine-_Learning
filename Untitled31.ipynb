{
 "cells": [
  {
   "cell_type": "code",
   "execution_count": 3,
   "id": "2e628cfa-7117-48dd-a2b6-f6751f30dab2",
   "metadata": {},
   "outputs": [
    {
     "name": "stdin",
     "output_type": "stream",
     "text": [
      "Please write how many rounds you want to play:  ,hkh\n"
     ]
    },
    {
     "name": "stdout",
     "output_type": "stream",
     "text": [
      "Please write a number\n"
     ]
    },
    {
     "name": "stdin",
     "output_type": "stream",
     "text": [
      "Please write how many rounds you want to play:  3\n",
      "Please enter a choice from Paper, Rock, or Scissor:  kgjkfg\n"
     ]
    },
    {
     "name": "stdout",
     "output_type": "stream",
     "text": [
      "Please enter one of the available choices: Paper, Rock, or Scissor\n"
     ]
    },
    {
     "name": "stdin",
     "output_type": "stream",
     "text": [
      "Please enter a choice from Paper, Rock, or Scissor:  rock\n"
     ]
    },
    {
     "name": "stdout",
     "output_type": "stream",
     "text": [
      "Computer_Choice = scissor\n",
      "rock is the winning choice for this round so Rock wins\n"
     ]
    },
    {
     "name": "stdin",
     "output_type": "stream",
     "text": [
      "Please enter a choice from Paper, Rock, or Scissor:  khkg\n"
     ]
    },
    {
     "name": "stdout",
     "output_type": "stream",
     "text": [
      "Please enter one of the available choices: Paper, Rock, or Scissor\n"
     ]
    },
    {
     "name": "stdin",
     "output_type": "stream",
     "text": [
      "Please enter a choice from Paper, Rock, or Scissor:  rock\n"
     ]
    },
    {
     "name": "stdout",
     "output_type": "stream",
     "text": [
      "Computer_Choice = paper\n",
      "paper is the winning choice for this round so Paper wins\n"
     ]
    },
    {
     "name": "stdin",
     "output_type": "stream",
     "text": [
      "Please enter a choice from Paper, Rock, or Scissor:  rock\n"
     ]
    },
    {
     "name": "stdout",
     "output_type": "stream",
     "text": [
      "Computer_Choice = paper\n",
      "paper is the winning choice for this round so Paper wins\n",
      "{'Computer result': 2, 'User result': 1}\n",
      "Computer is the winner\n"
     ]
    },
    {
     "name": "stdin",
     "output_type": "stream",
     "text": [
      "Please enter Yes or No:  no\n"
     ]
    }
   ],
   "source": [
    "import random\n",
    "\n",
    "def paper_game():\n",
    "    Computer_Counter = 0\n",
    "    User_counter = 0\n",
    "\n",
    "    while True:\n",
    "        How_many_rounds = input(\"Please write how many rounds you want to play: \")\n",
    "        if How_many_rounds.isnumeric():\n",
    "            times_of_rounds = int(How_many_rounds)\n",
    "            break\n",
    "        else:\n",
    "            print(\"Please write a number\")\n",
    "\n",
    "    for i in range(times_of_rounds):\n",
    "        while True:\n",
    "            User_Choice = input(\"Please enter a choice from Paper, Rock, or Scissor: \")\n",
    "            if User_Choice.lower() in [\"paper\", \"scissor\", \"rock\"]:\n",
    "                break\n",
    "            print(\"Please enter one of the available choices: Paper, Rock, or Scissor\")\n",
    "\n",
    "        list_of_Choices = [\"paper\", \"rock\", \"scissor\"]\n",
    "        Remaining_Choices = [choice for choice in list_of_Choices if choice != User_Choice.lower()]\n",
    "\n",
    "        Computer_Choice = random.choice(Remaining_Choices)\n",
    "        print(f\"Computer_Choice = {Computer_Choice}\")\n",
    "        Final_Choices = [Computer_Choice, User_Choice.lower()]\n",
    "        set_of_Final_Choices = set(Final_Choices)\n",
    "\n",
    "        if set_of_Final_Choices == {\"rock\", \"paper\"}:\n",
    "            Winning_choice = \"paper\"\n",
    "            print(f\"{Winning_choice} is the winning choice for this round so Paper wins\")\n",
    "            if Computer_Choice == \"paper\":\n",
    "                Computer_Counter += 1\n",
    "            else:\n",
    "                User_counter += 1\n",
    "\n",
    "        elif set_of_Final_Choices == {\"rock\", \"scissor\"}:\n",
    "            Winning_choice = \"rock\"\n",
    "            print(f\"{Winning_choice} is the winning choice for this round so Rock wins\")\n",
    "            if Computer_Choice == \"rock\":\n",
    "                Computer_Counter += 1\n",
    "            else:\n",
    "                User_counter += 1\n",
    "\n",
    "        elif set_of_Final_Choices == {\"paper\", \"scissor\"}:\n",
    "            Winning_choice = \"scissor\"\n",
    "            print(f\"{Winning_choice} is the winning choice for this round so Scissor wins\")\n",
    "            if Computer_Choice == \"scissor\":\n",
    "                Computer_Counter += 1\n",
    "            else:\n",
    "                User_counter += 1\n",
    "\n",
    "    Results_dictionary = {\"Computer result\": Computer_Counter, \"User result\": User_counter}\n",
    "    print(Results_dictionary)\n",
    "\n",
    "    def who_is_the_winner(User_counter, Computer_Counter):\n",
    "        if Computer_Counter > User_counter:\n",
    "            print(\"Computer is the winner\")\n",
    "        elif Computer_Counter == User_counter:\n",
    "            print(\"It is a tie!\")\n",
    "        else:\n",
    "            print(\"User is the winner\")\n",
    "\n",
    "    who_is_the_winner(User_counter, Computer_Counter)\n",
    "\n",
    "    Do_you_want_to_play_again = input(\"Please enter Yes or No: \")\n",
    "\n",
    "    while Do_you_want_to_play_again.lower() not in [\"yes\", \"no\"]:\n",
    "        print(\"Please enter yes or no only\")\n",
    "        Do_you_want_to_play_again = input(\"Please enter Yes or No: \")\n",
    "\n",
    "    if Do_you_want_to_play_again.lower() == \"yes\":\n",
    "        paper_game()\n",
    "\n",
    "paper_game()\n",
    "\n",
    "\n",
    "\n",
    "\n"
   ]
  },
  {
   "cell_type": "code",
   "execution_count": null,
   "id": "68f68373-c1aa-4521-a216-5959da3faead",
   "metadata": {},
   "outputs": [],
   "source": []
  },
  {
   "cell_type": "code",
   "execution_count": null,
   "id": "19be5e0f-e838-4cac-b6b0-aced73144d85",
   "metadata": {},
   "outputs": [],
   "source": []
  }
 ],
 "metadata": {
  "kernelspec": {
   "display_name": "Python 3 (ipykernel)",
   "language": "python",
   "name": "python3"
  },
  "language_info": {
   "codemirror_mode": {
    "name": "ipython",
    "version": 3
   },
   "file_extension": ".py",
   "mimetype": "text/x-python",
   "name": "python",
   "nbconvert_exporter": "python",
   "pygments_lexer": "ipython3",
   "version": "3.9.19"
  }
 },
 "nbformat": 4,
 "nbformat_minor": 5
}
