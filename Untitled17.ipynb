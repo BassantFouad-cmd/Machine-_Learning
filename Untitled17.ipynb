{
 "cells": [
  {
   "cell_type": "code",
   "execution_count": null,
   "id": "5aeb9b53-daa3-4976-8942-e0ed2cf1a4e0",
   "metadata": {},
   "outputs": [],
   "source": [
    " st = 'Print only the words that start with s in this sentence'\n",
    "\n",
    "\n",
    "words= st.split()\n",
    "\n",
    "for e in words:\n",
    "    if e[0].lower() == \"s\":\n",
    "        print(e)"
   ]
  },
  {
   "cell_type": "code",
   "execution_count": null,
   "id": "8140585a-9925-43c1-ac4a-36cb101159a3",
   "metadata": {},
   "outputs": [],
   "source": [
    "## <p style=\"color:orange;\">Q.02 Use List comprehension to create a list of all numbers between 1 and 50 that are divisible by 3.</p>\n",
    "\n",
    "\n",
    "list_first= list(range(1,51))\n",
    "\n",
    "list_divisable_by3=[]\n",
    "\n",
    "for e in range(len(list_first)):\n",
    "    if e % 3 == 0:\n",
    "        list_divisable_by3.append(e)\n",
    "list_divisable_by3    "
   ]
  },
  {
   "cell_type": "code",
   "execution_count": null,
   "id": "b1aa450f-893f-45b9-af0c-d03e85e74eb3",
   "metadata": {},
   "outputs": [],
   "source": [
    "st = 'Print only the words that start with s in this sentence'\n",
    "\n",
    "words= st.split()\n",
    "\n",
    "for e in words:\n",
    "    if len(e) % 2 == 0 :\n",
    "        print(e)\n",
    "\n"
   ]
  },
  {
   "cell_type": "code",
   "execution_count": null,
   "id": "78b9d7b9-1e0b-4851-94dc-01cb8287b67f",
   "metadata": {},
   "outputs": [],
   "source": [
    "st = 'Print only the words that start with s in this sentence'\n",
    "\n",
    "words= st.split()\n",
    "\n",
    "for i in words:\n",
    "    if len(i)  == 7 :\n",
    "        print(i)\n",
    "\n",
    "print(i)"
   ]
  },
  {
   "cell_type": "code",
   "execution_count": 12,
   "id": "92c241e3-ece1-4966-8226-e774f67d9b18",
   "metadata": {},
   "outputs": [
    {
     "ename": "SyntaxError",
     "evalue": "invalid syntax (2382139812.py, line 2)",
     "output_type": "error",
     "traceback": [
      "\u001b[1;36m  Cell \u001b[1;32mIn[12], line 2\u001b[1;36m\u001b[0m\n\u001b[1;33m    numbers_range = range(1, N+1)\u001b[0m\n\u001b[1;37m    ^\u001b[0m\n\u001b[1;31mSyntaxError\u001b[0m\u001b[1;31m:\u001b[0m invalid syntax\n"
     ]
    }
   ],
   "source": [
    "N =int(input(\"Please enter an integar postitive  number\")\n",
    "numbers_range = range(1, N+1)\n",
    "Factorial_list= []\n",
    "for e in numbers_range:\n",
    "    if e > 0 and type(e) == int :\n",
    "        Factorial_list.append(e)\n",
    "    \n",
    "Factorial_list"
   ]
  },
  {
   "cell_type": "code",
   "execution_count": null,
   "id": "9b94dd47-b8db-42d4-8e23-42a0aba94c3a",
   "metadata": {},
   "outputs": [],
   "source": []
  }
 ],
 "metadata": {
  "kernelspec": {
   "display_name": "Python 3 (ipykernel)",
   "language": "python",
   "name": "python3"
  },
  "language_info": {
   "codemirror_mode": {
    "name": "ipython",
    "version": 3
   },
   "file_extension": ".py",
   "mimetype": "text/x-python",
   "name": "python",
   "nbconvert_exporter": "python",
   "pygments_lexer": "ipython3",
   "version": "3.9.19"
  }
 },
 "nbformat": 4,
 "nbformat_minor": 5
}
